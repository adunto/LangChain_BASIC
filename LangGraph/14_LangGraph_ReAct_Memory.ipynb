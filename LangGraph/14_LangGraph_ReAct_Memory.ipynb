{
 "cells": [
  {
   "cell_type": "markdown",
   "metadata": {},
   "source": [
    "## 1. 환경 설정"
   ]
  },
  {
   "cell_type": "markdown",
   "metadata": {},
   "source": [
    "`(1) Env 환경변수`"
   ]
  },
  {
   "cell_type": "code",
   "execution_count": 1,
   "metadata": {},
   "outputs": [
    {
     "data": {
      "text/plain": [
       "True"
      ]
     },
     "execution_count": 1,
     "metadata": {},
     "output_type": "execute_result"
    }
   ],
   "source": [
    "from dotenv import load_dotenv\n",
    "load_dotenv()"
   ]
  },
  {
   "cell_type": "code",
   "execution_count": 2,
   "metadata": {},
   "outputs": [],
   "source": [
    "from langchain_google_genai import ChatGoogleGenerativeAI\n",
    "\n",
    "# Google Gemini\n",
    "llm = ChatGoogleGenerativeAI(\n",
    "    model=\"gemini-2.0-flash\",\n",
    ")"
   ]
  },
  {
   "cell_type": "markdown",
   "metadata": {},
   "source": [
    "`(2) 기본 라이브러리`"
   ]
  },
  {
   "cell_type": "code",
   "execution_count": 3,
   "metadata": {},
   "outputs": [],
   "source": [
    "import re\n",
    "import os, json\n",
    "\n",
    "from textwrap import dedent\n",
    "from pprint import pprint\n",
    "\n",
    "import uuid\n",
    "\n",
    "import warnings\n",
    "warnings.filterwarnings(\"ignore\")"
   ]
  },
  {
   "cell_type": "markdown",
   "metadata": {},
   "source": [
    "## 2. Tool 정의"
   ]
  },
  {
   "cell_type": "markdown",
   "metadata": {},
   "source": [
    "`(1) 사용자 정의 - @tool decorator`\n",
    "- 메뉴 검색을 위한 벡터저장소를 초기화 (기존 저장소를 로드)"
   ]
  },
  {
   "cell_type": "code",
   "execution_count": 4,
   "metadata": {},
   "outputs": [],
   "source": [
    "from langchain_community.vectorstores import FAISS\n",
    "from langchain_ollama  import OllamaEmbeddings\n",
    "from langchain_core.tools import tool\n",
    "from typing import List\n",
    "\n",
    "embeddings_model = OllamaEmbeddings(model=\"qwen2.5:1.5b\") \n",
    "\n",
    "# menu db 벡터 저장소 로드\n",
    "menu_db = FAISS.load_local(\n",
    "    \"./db/menu_db\", \n",
    "    embeddings_model,\n",
    "    allow_dangerous_deserialization=True\n",
    ")\n",
    "\n",
    "# Tool 정의 \n",
    "@tool\n",
    "def search_menu(query: str) -> List[str]:\n",
    "    \"\"\"레스토랑 메뉴에서 정보를 검색합니다.\"\"\"\n",
    "    docs = menu_db.similarity_search(query, k=6)\n",
    "\n",
    "    formatted_docs = \"---\\n\\n\".join(\n",
    "        [\n",
    "            f'<Document source=\"{doc.metadata[\"source\"]}\"/>\\n{doc.page_content}\\n</Document>'\n",
    "            for doc in docs\n",
    "        ]\n",
    "    )\n",
    "\n",
    "    if len(docs) > 0:\n",
    "        return formatted_docs\n",
    "    \n",
    "    return \"관련 메뉴 정보를 찾을 수 없습니다.\""
   ]
  },
  {
   "cell_type": "markdown",
   "metadata": {},
   "source": [
    "`(2) LangChain 내장 도구`\n",
    "- 일반 웹 검색을 위한 Tavily 초기화"
   ]
  },
  {
   "cell_type": "code",
   "execution_count": 5,
   "metadata": {},
   "outputs": [],
   "source": [
    "from langchain_community.tools import TavilySearchResults\n",
    "\n",
    "\n",
    "# Tool 정의 \n",
    "@tool\n",
    "def search_web(query: str) -> List[str]:\n",
    "    \"\"\"데이터베이스에 존재하지 않는 정보 또는 최신 정보를 인터넷에서 검색합니다.\"\"\"\n",
    "\n",
    "    tavily_search = TavilySearchResults(max_results=3)\n",
    "    docs = tavily_search.invoke(query)\n",
    "\n",
    "    formatted_docs = \"\\n\\n---\\n\\n\".join(\n",
    "        [\n",
    "            f'<Document href=\"{doc[\"url\"]}\"/>\\n{doc[\"content\"]}\\n</Document>'\n",
    "            for doc in docs\n",
    "        ]\n",
    "    )\n",
    "\n",
    "    if len(docs) > 0:\n",
    "        return formatted_docs\n",
    "    \n",
    "    return \"관련 정보를 찾을 수 없습니다.\""
   ]
  },
  {
   "cell_type": "markdown",
   "metadata": {},
   "source": [
    "### 2-1. bind_tools() 함수로 LLM과 Tool 연결하기"
   ]
  },
  {
   "cell_type": "code",
   "execution_count": 6,
   "metadata": {},
   "outputs": [
    {
     "name": "stdout",
     "output_type": "stream",
     "text": [
      "bound=ChatGoogleGenerativeAI(model='models/gemini-2.0-flash', google_api_key=SecretStr('**********'), client=<google.ai.generativelanguage_v1beta.services.generative_service.client.GenerativeServiceClient object at 0x00000264BEDADAC0>, default_metadata=(), model_kwargs={}) kwargs={'tools': [{'type': 'function', 'function': {'name': 'search_menu', 'description': '레스토랑 메뉴에서 정보를 검색합니다.', 'parameters': {'properties': {'query': {'type': 'string'}}, 'required': ['query'], 'type': 'object'}}}, {'type': 'function', 'function': {'name': 'search_web', 'description': '데이터베이스에 존재하지 않는 정보 또는 최신 정보를 인터넷에서 검색합니다.', 'parameters': {'properties': {'query': {'type': 'string'}}, 'required': ['query'], 'type': 'object'}}}]} config={} config_factories=[]\n"
     ]
    }
   ],
   "source": [
    "from langchain_openai import ChatOpenAI\n",
    "\n",
    "# LLM 모델 \n",
    "# llm = ChatOpenAI(model=\"gpt-4o-mini\", streaming=True)\n",
    "\n",
    "# 도구 목록\n",
    "tools = [search_menu, search_web]\n",
    "\n",
    "# 모델에 도구를 바인딩\n",
    "llm_with_tools = llm.bind_tools(tools=tools)\n",
    "print(llm_with_tools)"
   ]
  },
  {
   "cell_type": "code",
   "execution_count": 7,
   "metadata": {},
   "outputs": [
    {
     "name": "stdout",
     "output_type": "stream",
     "text": [
      "{}\n"
     ]
    }
   ],
   "source": [
    "from langchain_core.messages import HumanMessage\n",
    "\n",
    "# 도구 호출 ( Vector DB )\n",
    "tool_call = llm_with_tools.invoke([HumanMessage(content=f\"스테이크 메뉴의 가격은 얼마인가요?\")])\n",
    "\n",
    "# 결과 출력\n",
    "pprint(tool_call.additional_kwargs)"
   ]
  },
  {
   "cell_type": "code",
   "execution_count": 8,
   "metadata": {},
   "outputs": [
    {
     "name": "stdout",
     "output_type": "stream",
     "text": [
      "{}\n"
     ]
    }
   ],
   "source": [
    "# 도구 호출 ( Tavily )\n",
    "tool_call = llm_with_tools.invoke([HumanMessage(content=f\"LangGraph는 무엇인가요?\")])\n",
    "\n",
    "# 결과 출력\n",
    "pprint(tool_call.additional_kwargs)"
   ]
  },
  {
   "cell_type": "code",
   "execution_count": 9,
   "metadata": {},
   "outputs": [
    {
     "name": "stdout",
     "output_type": "stream",
     "text": [
      "{}\n"
     ]
    }
   ],
   "source": [
    "# 도구 호출 \n",
    "tool_call = llm_with_tools.invoke([HumanMessage(content=f\"3+3은 얼마인가요?\")])\n",
    "\n",
    "# 결과 출력\n",
    "pprint(tool_call.additional_kwargs)"
   ]
  },
  {
   "cell_type": "code",
   "execution_count": 10,
   "metadata": {},
   "outputs": [
    {
     "name": "stdout",
     "output_type": "stream",
     "text": [
      "AIMessage(content='3+3은 6입니다.', additional_kwargs={}, response_metadata={'prompt_feedback': {'block_reason': 0, 'safety_ratings': []}, 'finish_reason': 'STOP', 'model_name': 'gemini-2.0-flash', 'safety_ratings': []}, id='run--150caf7f-d315-4bc8-8b5f-476a187a70f6-0', usage_metadata={'input_tokens': 56, 'output_tokens': 9, 'total_tokens': 65, 'input_token_details': {'cache_read': 0}})\n"
     ]
    }
   ],
   "source": [
    "pprint(tool_call)"
   ]
  },
  {
   "cell_type": "markdown",
   "metadata": {},
   "source": [
    "### 2-2. 도구 노드(ToolNode) \n",
    "- AI 모델이 요청한 도구(tool) 호출을 실행하는 역할을 처리하는 LangGraph 콤포넌트\n",
    "- 작동 방식:\n",
    "    - 가장 최근의 AIMessage에서 도구 호출 요청을 추출 (반드시, AIMessage는 반드시 tool_calls가 채워져 있어야 함)\n",
    "    - 요청된 도구들을 병렬로 실행\n",
    "    - 각 도구 호출에 대해 ToolMessage를 생성하여 반환"
   ]
  },
  {
   "cell_type": "markdown",
   "metadata": {},
   "source": [
    "`(1) 도구 노드(Tool Node) 정의`\n",
    "\n"
   ]
  },
  {
   "cell_type": "code",
   "execution_count": 11,
   "metadata": {},
   "outputs": [],
   "source": [
    "from langgraph.prebuilt import ToolNode\n",
    "\n",
    "# 도구 노드 정의 \n",
    "tools = [search_menu, search_web]\n",
    "tool_node = ToolNode(tools=tools)"
   ]
  },
  {
   "cell_type": "code",
   "execution_count": 12,
   "metadata": {},
   "outputs": [
    {
     "name": "stdout",
     "output_type": "stream",
     "text": [
      "{}\n"
     ]
    }
   ],
   "source": [
    "# 도구 호출 \n",
    "tool_call = llm_with_tools.invoke([HumanMessage(content=f\"스테이크 메뉴의 가격은 얼마인가요?\")])\n",
    "\n",
    "pprint(tool_call.additional_kwargs)"
   ]
  },
  {
   "cell_type": "markdown",
   "metadata": {},
   "source": [
    "`(2) 도구 노드(Tool Node) 실행`\n"
   ]
  },
  {
   "cell_type": "code",
   "execution_count": 13,
   "metadata": {},
   "outputs": [],
   "source": [
    "# 도구 호출 결과를 메시지로 추가하여 실행 \n",
    "results = tool_node.invoke({\"messages\": [tool_call]})\n",
    "\n",
    "# 실행 결과 출력하여 확인 \n",
    "for result in results['messages']:\n",
    "    print(result.content)\n",
    "    print('**** --------------------------- ****')"
   ]
  },
  {
   "cell_type": "code",
   "execution_count": 14,
   "metadata": {},
   "outputs": [],
   "source": [
    "# LLM 모델을 이용하여 도구를 호출하여 실행 \n",
    "results = tool_node.invoke({\"messages\": [llm_with_tools.invoke(\"LangGraph는 무엇인가요?\")]})\n",
    "\n",
    "# 실행 결과 출력하여 확인 \n",
    "for result in results['messages']:\n",
    "    print(result.content)\n",
    "    print()"
   ]
  },
  {
   "cell_type": "markdown",
   "metadata": {},
   "source": [
    "## 3. ReAct Agent\n",
    "- ReAct(Reasoning and Acting) : 가장 일반적인 에이전트\n",
    "- 동작 방식:\n",
    "    - 행동 (act): 모델이 특정 도구를 호출\n",
    "    - 관찰 (observe): 도구의 출력을 모델에 다시 전달\n",
    "    - 추론 (reason): 모델이 도구 출력을 바탕으로 다음 행동을 결정 (예: 또 다른 도구를 호출하거나 직접 응답을 생성)\n",
    "\n",
    "- 논문: https://arxiv.org/abs/2210.03629"
   ]
  },
  {
   "cell_type": "markdown",
   "metadata": {},
   "source": [
    "### create_react_agent() 쉽게 이해하기\n",
    "* 1. 에이전트의 두뇌 역할\n",
    "    * llm(언어모델)이 \"생각\"을 담당\n",
    "    * 예시: 날씨 정보가 필요하니 날씨 API를 사용해야겠다\n",
    "* 2. 도구 사용 자동화\n",
    "    * tools 리스트에 등록된 기능들을 필요시 자동 호출\n",
    "    * 예시: 날씨 API 호출 → 결과 받아옴\n",
    "* 3. 자체 점검 과정\n",
    "    * 한 번에 해결되지 않으면 반복 실행\n",
    "    * 예시:\n",
    "        * 1차: 위치가 필요하니 위치 API 먼저 호출\n",
    "        * 2차: 받은 위치로 날씨 조회\n",
    "* 4. 최종 응답 생성\n",
    "    * 모든 과정 종료 후 사용자에게 친절한 답변 구성\n",
    "    * 예시: 오늘 서울은 맑고 25도입니다"
   ]
  },
  {
   "cell_type": "markdown",
   "metadata": {},
   "source": [
    "`(1) 랭그래프 내장 ReAct 에이전트 사용`"
   ]
  },
  {
   "cell_type": "code",
   "execution_count": 15,
   "metadata": {},
   "outputs": [
    {
     "name": "stdout",
     "output_type": "stream",
     "text": [
      "<class 'langgraph.graph.state.CompiledStateGraph'>\n"
     ]
    },
    {
     "data": {
      "image/png": "[encoded data removed]",
      "text/plain": [
       "<IPython.core.display.Image object>"
      ]
     },
     "metadata": {},
     "output_type": "display_data"
    }
   ],
   "source": [
    "from IPython.display import Image, display\n",
    "from langgraph.prebuilt import create_react_agent\n",
    "\n",
    "graph = create_react_agent(\n",
    "    llm, \n",
    "    tools=tools, \n",
    ")\n",
    "\n",
    "print(type(graph))\n",
    "\n",
    "# 그래프 출력\n",
    "display(Image(graph.get_graph().draw_mermaid_png()))"
   ]
  },
  {
   "cell_type": "code",
   "execution_count": 16,
   "metadata": {},
   "outputs": [
    {
     "name": "stdout",
     "output_type": "stream",
     "text": [
      "================================\u001b[1m Human Message \u001b[0m=================================\n",
      "\n",
      "스테이크 메뉴의 가격은 얼마인가요?\n",
      "==================================\u001b[1m Ai Message \u001b[0m==================================\n",
      "\n",
      "어떤 레스토랑의 스테이크 메뉴 가격을 알고 싶으신가요?\n"
     ]
    }
   ],
   "source": [
    "# 그래프 실행\n",
    "inputs = {\"messages\": [HumanMessage(content=\"스테이크 메뉴의 가격은 얼마인가요?\")]}\n",
    "messages = graph.invoke(inputs)\n",
    "\n",
    "for m in messages['messages']:\n",
    "    m.pretty_print()"
   ]
  },
  {
   "cell_type": "code",
   "execution_count": 17,
   "metadata": {},
   "outputs": [
    {
     "data": {
      "image/png": "[encoded data removed]",
      "text/plain": [
       "<IPython.core.display.Image object>"
      ]
     },
     "metadata": {},
     "output_type": "display_data"
    }
   ],
   "source": [
    "from langgraph.prebuilt import create_react_agent\n",
    "from IPython.display import Image, display\n",
    "from langchain_core.messages import SystemMessage\n",
    "\n",
    "# 시스템 프롬프트\n",
    "system_prompt = dedent(\"\"\"\n",
    "You are an AI assistant designed to answer human questions. \n",
    "You can use the provided tools to help generate your responses.\n",
    "\n",
    "Follow these steps to answer questions:\n",
    "    1. Carefully read and understand the question.\n",
    "    2. Use the provided tools to obtain necessary information.\n",
    "    3. Immediately after using a tool, cite the source using the format below.\n",
    "    4. Construct an accurate and helpful answer using the tool outputs and citations.\n",
    "    5. Provide the final answer when you determine it's complete.\n",
    "\n",
    "When using tools, follow this format:\n",
    "    Action: tool_name\n",
    "    Action Input: input for the tool\n",
    "\n",
    "Immediately after receiving tool output, cite the source as follows:\n",
    "    [Source: tool_name | document_title/item_name | url/file_path]\n",
    "\n",
    "For example:\n",
    "    Action: search_menu\n",
    "    Action Input: 스테이크\n",
    "    \n",
    "    (After receiving tool output)\n",
    "    [Source: search_menu | 스테이크 | ./data/data.txt]\n",
    "    스테이크에 대한 정보는 다음과 같습니다...\n",
    "\n",
    "    Action: search_web\n",
    "    Action Input: History of AI\n",
    "\n",
    "    (After receiving tool output)\n",
    "    [Source: search_web | AI History | https://en.wikipedia.org/wiki/History_of_artificial_intelligence]\n",
    "    AI의 역사는 다음과 같이 요약됩니다...\n",
    "\n",
    "If tool use is not necessary, answer directly.\n",
    "\n",
    "Your final answer should be clear, concise, and directly related to the user's question. \n",
    "Ensure that every piece of factual information in your response is accompanied by a citation.\n",
    "\n",
    "Remember: ALWAYS include these citations for all factual information, tool outputs, and referenced documents in your response. \n",
    "Do not provide any information without a corresponding citation.\n",
    "\"\"\")\n",
    "\n",
    "# 그래프 생성 \n",
    "graph = create_react_agent(\n",
    "    llm, \n",
    "    tools=tools, \n",
    "    #state_modifier=system_prompt,\n",
    "    #system_message=SystemMessage(content=system_prompt),\n",
    "    )\n",
    "\n",
    "# 그래프 출력\n",
    "display(Image(graph.get_graph().draw_mermaid_png()))\n"
   ]
  },
  {
   "cell_type": "code",
   "execution_count": 18,
   "metadata": {},
   "outputs": [
    {
     "name": "stdout",
     "output_type": "stream",
     "text": [
      "================================\u001b[1m System Message \u001b[0m================================\n",
      "\n",
      "\n",
      "You are an AI assistant designed to answer human questions. \n",
      "You can use the provided tools to help generate your responses.\n",
      "\n",
      "Follow these steps to answer questions:\n",
      "    1. Carefully read and understand the question.\n",
      "    2. Use the provided tools to obtain necessary information.\n",
      "    3. Immediately after using a tool, cite the source using the format below.\n",
      "    4. Construct an accurate and helpful answer using the tool outputs and citations.\n",
      "    5. Provide the final answer when you determine it's complete.\n",
      "\n",
      "When using tools, follow this format:\n",
      "    Action: tool_name\n",
      "    Action Input: input for the tool\n",
      "\n",
      "Immediately after receiving tool output, cite the source as follows:\n",
      "    [Source: tool_name | document_title/item_name | url/file_path]\n",
      "\n",
      "For example:\n",
      "    Action: search_menu\n",
      "    Action Input: 스테이크\n",
      "\n",
      "    (After receiving tool output)\n",
      "    [Source: search_menu | 스테이크 | ./data/data.txt]\n",
      "    스테이크에 대한 정보는 다음과 같습니다...\n",
      "\n",
      "    Action: search_web\n",
      "    Action Input: History of AI\n",
      "\n",
      "    (After receiving tool output)\n",
      "    [Source: search_web | AI History | https://en.wikipedia.org/wiki/History_of_artificial_intelligence]\n",
      "    AI의 역사는 다음과 같이 요약됩니다...\n",
      "\n",
      "If tool use is not necessary, answer directly.\n",
      "\n",
      "Your final answer should be clear, concise, and directly related to the user's question. \n",
      "Ensure that every piece of factual information in your response is accompanied by a citation.\n",
      "\n",
      "Remember: ALWAYS include these citations for all factual information, tool outputs, and referenced documents in your response. \n",
      "Do not provide any information without a corresponding citation.\n",
      "\n",
      "================================\u001b[1m Human Message \u001b[0m=================================\n",
      "\n",
      "스테이크 메뉴의 가격은 얼마인가요?\n",
      "==================================\u001b[1m Ai Message \u001b[0m==================================\n",
      "\n",
      "Action: search_menu\n",
      "Action Input: 스테이크 가격\n"
     ]
    }
   ],
   "source": [
    "# 그래프 실행\n",
    "messages = [\n",
    "        SystemMessage(content=system_prompt),\n",
    "        HumanMessage(content=\"스테이크 메뉴의 가격은 얼마인가요?\")\n",
    "    ]\n",
    "#inputs = {\"messages\": [HumanMessage(content=\"스테이크 메뉴의 가격은 얼마인가요?\")]}\n",
    "#messages = graph.invoke(inputs)\n",
    "\n",
    "messages = graph.invoke({\"messages\": messages})\n",
    "for m in messages['messages']:\n",
    "    m.pretty_print()"
   ]
  },
  {
   "cell_type": "markdown",
   "metadata": {},
   "source": [
    "`(2) 조건부 엣지 함수를 사용자 정의`\n",
    "- `should_continue` 함수에서 도구 호출 여부에 따라 종료 여부를 결정\n",
    "- 도구 실행이 필요한 경우에는 그래프가 종료되지 않고 계속 실행 "
   ]
  },
  {
   "cell_type": "code",
   "execution_count": 19,
   "metadata": {},
   "outputs": [
    {
     "name": "stdout",
     "output_type": "stream",
     "text": [
      "<class 'langgraph.graph.state.CompiledStateGraph'>\n"
     ]
    },
    {
     "data": {
      "image/png": "[encoded data removed]",
      "text/plain": [
       "<IPython.core.display.Image object>"
      ]
     },
     "metadata": {},
     "output_type": "display_data"
    }
   ],
   "source": [
    "from langgraph.graph import MessagesState, StateGraph, START, END\n",
    "from langchain_core.messages import HumanMessage, SystemMessage\n",
    "from langgraph.prebuilt import ToolNode\n",
    "from IPython.display import Image, display\n",
    "\n",
    "# LangGraph MessagesState 사용\n",
    "class GraphState(MessagesState):\n",
    "    pass\n",
    "\n",
    "# 노드 구성 \n",
    "def call_model(state: GraphState):\n",
    "    system_message = SystemMessage(content=system_prompt)\n",
    "    messages = [system_message] + state['messages']\n",
    "    response = llm_with_tools.invoke(messages)\n",
    "    return {\"messages\": [response]}\n",
    "\n",
    "def should_continue(state: GraphState):\n",
    "    last_message = state[\"messages\"][-1]\n",
    "    # 도구 호출이 있으면 도구 실행 노드로 이동\n",
    "    if last_message.tool_calls:\n",
    "        return \"execute_tools\"\n",
    "    # 도구 호출이 없으면 답변 생성하고 종료 \n",
    "    return END\n",
    "\n",
    "# 그래프 구성\n",
    "builder = StateGraph(GraphState)\n",
    "builder.add_node(\"call_model\", call_model)\n",
    "builder.add_node(\"execute_tools\", ToolNode(tools))\n",
    "\n",
    "builder.add_edge(START, \"call_model\")\n",
    "builder.add_conditional_edges(\n",
    "    \"call_model\", \n",
    "    should_continue,\n",
    "    {\n",
    "        \"execute_tools\": \"execute_tools\",\n",
    "        END: END\n",
    "    }\n",
    ")\n",
    "builder.add_edge(\"execute_tools\", \"call_model\")\n",
    "\n",
    "graph = builder.compile()\n",
    "print(type(graph))\n",
    "\n",
    "# 그래프 출력 \n",
    "display(Image(graph.get_graph().draw_mermaid_png()))"
   ]
  },
  {
   "cell_type": "code",
   "execution_count": 20,
   "metadata": {},
   "outputs": [
    {
     "name": "stdout",
     "output_type": "stream",
     "text": [
      "================================\u001b[1m Human Message \u001b[0m=================================\n",
      "\n",
      "스테이크 메뉴의 가격은 얼마인가요?\n",
      "==================================\u001b[1m Ai Message \u001b[0m==================================\n",
      "\n",
      "어떤 레스토랑의 스테이크 메뉴 가격을 알고 싶으신가요? 레스토랑 이름을 알려주시면 메뉴에서 스테이크 가격을 찾아보겠습니다.\n"
     ]
    }
   ],
   "source": [
    "# 그래프 실행\n",
    "inputs = {\"messages\": [HumanMessage(content=\"스테이크 메뉴의 가격은 얼마인가요?\")]}\n",
    "messages = graph.invoke(inputs)\n",
    "\n",
    "for m in messages['messages']:\n",
    "    m.pretty_print()"
   ]
  },
  {
   "cell_type": "markdown",
   "metadata": {},
   "source": [
    "`(3) tools_condition 활용`\n",
    "- LangGraph에서 제공하는 도구 사용을 위한 조건부 엣지 함수\n",
    "- 최신 메시지(결과)가 도구 호출이면 -> `tools_condition`이 도구로 라우팅\n",
    "- 최신 메시지(결과)가 도구 호출이 아니면 -> `tools_condition`이 `END`로 라우팅"
   ]
  },
  {
   "cell_type": "code",
   "execution_count": 21,
   "metadata": {},
   "outputs": [
    {
     "data": {
      "image/png": "[encoded data removed]",
      "text/plain": [
       "<IPython.core.display.Image object>"
      ]
     },
     "metadata": {},
     "output_type": "display_data"
    }
   ],
   "source": [
    "from langgraph.prebuilt import tools_condition\n",
    "\n",
    "# 노드 함수 정의\n",
    "def call_model(state: GraphState):\n",
    "    system_message = SystemMessage(content=system_prompt)\n",
    "    messages = [system_message] + state['messages']\n",
    "    response = llm_with_tools.invoke(messages)\n",
    "    return {\"messages\": [response]}\n",
    "\n",
    "# 그래프 구성\n",
    "builder = StateGraph(GraphState)\n",
    "\n",
    "builder.add_node(\"agent\", call_model)\n",
    "builder.add_node(\"tools\", ToolNode(tools))\n",
    "\n",
    "builder.add_edge(START, \"agent\")\n",
    "\n",
    "# tools_condition을 사용한 조건부 엣지 추가\n",
    "builder.add_conditional_edges(\n",
    "    \"agent\",\n",
    "    tools_condition,\n",
    ")\n",
    "\n",
    "builder.add_edge(\"tools\", \"agent\")\n",
    "\n",
    "graph = builder.compile()\n",
    "\n",
    "# 그래프 출력\n",
    "display(Image(graph.get_graph().draw_mermaid_png()))"
   ]
  },
  {
   "cell_type": "code",
   "execution_count": 22,
   "metadata": {},
   "outputs": [
    {
     "name": "stdout",
     "output_type": "stream",
     "text": [
      "================================\u001b[1m Human Message \u001b[0m=================================\n",
      "\n",
      "파스타에 어울리는 음료는 무엇인가요?\n",
      "==================================\u001b[1m Ai Message \u001b[0m==================================\n",
      "\n",
      "파스타와 잘 어울리는 음료에 대한 몇 가지 제안을 제공해 드리겠습니다. 파스타의 종류에 따라 어울리는 음료가 다를 수 있으므로, 몇 가지 일반적인 조합을 알려드리겠습니다. 더 자세한 정보가 필요하면 파스타 종류를 알려주세요.\n",
      "\n",
      "Action: search_web\n",
      "Action Input: 파스타와 어울리는 음료\n"
     ]
    }
   ],
   "source": [
    "# 그래프 실행\n",
    "inputs = {\"messages\": [HumanMessage(content=\"파스타에 어울리는 음료는 무엇인가요?\")]}\n",
    "messages = graph.invoke(inputs)\n",
    "\n",
    "for m in messages['messages']:\n",
    "    m.pretty_print()"
   ]
  },
  {
   "cell_type": "markdown",
   "metadata": {},
   "source": [
    "## 4. MemorySaver\n",
    "\n",
    "1. 상태의 일시성 문제:\n",
    "   - 기본적으로 그래프 실행 시 상태는 일시적 (stateless)\n",
    "   - 그래프를 재실행하는 경우 상태가 초기화되는 문제가 있음 \n",
    "   - 따라서, 중단이 있는 다중 턴 대화가 어려움 \n",
    "\n",
    "2. MemorySaver 기능:\n",
    "   - 가장 쉽게 사용할 수 있는 체크포인터 (각 단계 후 그래프 상태를 자동으로 저장)\n",
    "   - 그래프 상태를 위한 인메모리 키-값 저장소\n",
    "   - 지속성(persistence) 있는 메모리 기능을 제공하여 그래프 객체가 체크포인터부터 이어서 실행 가능 \n",
    "\n",
    "3. 메모리의 필요성:\n",
    "   - 대화의 연속성: 여러 턴에 걸친 대화를 유지 \n",
    "   - 중단 허용: 대화 중 중단이 있어도 이전 상태를 복원\n",
    "   - 유연한 상태 관리: 다양한 대화 스레드를 독립적으로 관리"
   ]
  },
  {
   "cell_type": "markdown",
   "metadata": {},
   "source": [
    "### 4-1. 사용자 정의 그래프"
   ]
  },
  {
   "cell_type": "code",
   "execution_count": 23,
   "metadata": {},
   "outputs": [
    {
     "name": "stdout",
     "output_type": "stream",
     "text": [
      "================================\u001b[1m Human Message \u001b[0m=================================\n",
      "\n",
      "이 중에 하나만 추천해주세요.\n",
      "==================================\u001b[1m Ai Message \u001b[0m==================================\n",
      "\n",
      "어떤 옵션 중에서 추천해 드릴까요?\n"
     ]
    }
   ],
   "source": [
    "# 그래프 실행 - 이전 대화 내용을 기억하는지 못하는 문제가 있음 \n",
    "inputs = {\"messages\": [HumanMessage(content=\"이 중에 하나만 추천해주세요.\")]}\n",
    "messages = graph.invoke(inputs)\n",
    "\n",
    "for m in messages['messages']:\n",
    "    m.pretty_print()"
   ]
  },
  {
   "cell_type": "markdown",
   "metadata": {},
   "source": [
    "`(1) 체크포인터 지정`\n",
    "- 그래프를 컴파일할 때 체크포인터를 지정"
   ]
  },
  {
   "cell_type": "code",
   "execution_count": null,
   "metadata": {},
   "outputs": [],
   "source": [
    "from langgraph.checkpoint.memory import MemorySaver\n",
    "\n",
    "# 메모리 초기화 \n",
    "memory = MemorySaver()\n",
    "\n",
    "\"\"\"\n",
    "[MemorySaver 설명]\n",
    "1. 역할:\n",
    "   - 그래프 실행 상태를 메모리(RAM)에 저장하는 체크포인트 시스템\n",
    "   - 실행 중단/재개 시 상태 복원 가능\n",
    "\n",
    "2. 특징:\n",
    "   - 휘발성 저장소 (프로세스 종료 시 데이터 소멸)\n",
    "   - 개발/테스트 환경에 적합 (간편한 사용)\n",
    "   - 작은 규모의 상태 관리에 최적화\n",
    "\n",
    "3. 저장 내용 예시:\n",
    "   - 각 노드의 출력 결과\n",
    "   - 메시지 기록\n",
    "   - 사용자 정의 상태 데이터\n",
    "\"\"\"\n",
    "\n",
    "\"\"\"\n",
    "[체크포인트 적용 효과]\n",
    "1. 실행 상태 추적:\n",
    "   - graph_memory.get_state()로 현재 상태 조회 가능\n",
    "   - 예: 특정 노드 실패 시 실패 지점부터 재개\n",
    "\n",
    "2. 주요 사용 사례:\n",
    "   - 장시간 실행 작업의 중간 저장\n",
    "   - 디버깅 시 특정 단계 상태 검사\n",
    "   - 사용자 세션 관리 (예: 채팅 기록 유지)\n",
    "\n",
    "3. 저장 메커니즘:\n",
    "   - 각 노드 실행 후 자동 상태 저장\n",
    "   - key 기반으로 상태 검색 (기본값: 세션 ID)\n",
    "\"\"\"\n",
    "\n",
    "# 체크포인터 지정하여 그래프 컴파일 \n",
    "graph_memory = builder.compile(checkpointer=memory)\n",
    "\n",
    "\"\"\"\n",
    "[MemorySaver vs 영구 저장소]\n",
    "1. MemorySaver (메모리):\n",
    "   - 장점: 설정 간편, 빠른 접근\n",
    "   - 단점: 서버 재시작 시 데이터 손실\n",
    "\n",
    "2. FileSaver/DB 저장소:\n",
    "   - 장점: 영구 보존\n",
    "   - 단점: 추가 설정 필요\n",
    "\"\"\""
   ]
  },
  {
   "cell_type": "markdown",
   "metadata": {},
   "source": [
    "`(2) 체크포인터 사용`\n",
    "- 메모리 사용 시 `thread_id`를 지정 \n",
    "- 체크포인터는 그래프의 각 단계에서 상태를 기록 (그래프 각 단계의 모든 상태를 컬렉션으로 저장)\n",
    "- 나중에 `thread_id`를 사용하여 이 스레드에 접근 가능 "
   ]
  },
  {
   "cell_type": "code",
   "execution_count": 25,
   "metadata": {},
   "outputs": [
    {
     "name": "stdout",
     "output_type": "stream",
     "text": [
      "================================\u001b[1m Human Message \u001b[0m=================================\n",
      "\n",
      "스테이크 메뉴의 가격은 얼마인가요?\n",
      "==================================\u001b[1m Ai Message \u001b[0m==================================\n",
      "\n",
      "Action: search_menu\n",
      "Action Input: 스테이크 가격\n"
     ]
    }
   ],
   "source": [
    "config = {\"configurable\": {\"thread_id\": \"1\"}}\n",
    "messages = [HumanMessage(content=\"스테이크 메뉴의 가격은 얼마인가요?\")]\n",
    "messages = graph_memory.invoke({\"messages\": messages}, config)\n",
    "\n",
    "for m in messages['messages']:\n",
    "    m.pretty_print()"
   ]
  },
  {
   "cell_type": "code",
   "execution_count": 26,
   "metadata": {},
   "outputs": [
    {
     "name": "stdout",
     "output_type": "stream",
     "text": [
      "================================\u001b[1m Human Message \u001b[0m=================================\n",
      "\n",
      "스테이크 메뉴의 가격은 얼마인가요?\n",
      "==================================\u001b[1m Ai Message \u001b[0m==================================\n",
      "\n",
      "Action: search_menu\n",
      "Action Input: 스테이크 가격\n",
      "================================\u001b[1m Human Message \u001b[0m=================================\n",
      "\n",
      "둘 중에 더 저렴한 메뉴는 무엇인가요?\n",
      "==================================\u001b[1m Ai Message \u001b[0m==================================\n",
      "\n",
      "어떤 두 메뉴를 비교하고 싶으신가요? 두 메뉴를 알려주시면 가격을 비교해 드리겠습니다.\n"
     ]
    }
   ],
   "source": [
    "config = {\"configurable\": {\"thread_id\": \"1\"}}\n",
    "messages = [HumanMessage(content=\"둘 중에 더 저렴한 메뉴는 무엇인가요?\")]\n",
    "messages = graph_memory.invoke({\"messages\": messages}, config)\n",
    "\n",
    "for m in messages['messages']:\n",
    "    m.pretty_print()"
   ]
  },
  {
   "cell_type": "markdown",
   "metadata": {},
   "source": [
    "### 4-2. 내장 ReAct "
   ]
  },
  {
   "cell_type": "code",
   "execution_count": 27,
   "metadata": {},
   "outputs": [
    {
     "data": {
      "image/png": "[encoded data removed]",
      "text/plain": [
       "<IPython.core.display.Image object>"
      ]
     },
     "metadata": {},
     "output_type": "display_data"
    }
   ],
   "source": [
    "from langgraph.prebuilt import create_react_agent\n",
    "from langgraph.checkpoint.memory import MemorySaver\n",
    "from IPython.display import Image, display\n",
    "from langchain_core.messages import SystemMessage\n",
    "\n",
    "# 메모리 초기화 \n",
    "memory = MemorySaver()\n",
    "\n",
    "# 그래프 생성 \n",
    "graph = create_react_agent(\n",
    "    llm, \n",
    "    tools=tools, \n",
    "    #state_modifier=system_prompt,\n",
    "    checkpointer=memory,\n",
    "    )\n",
    "\n",
    "# 그래프 출력\n",
    "display(Image(graph.get_graph().draw_mermaid_png()))"
   ]
  },
  {
   "cell_type": "code",
   "execution_count": 28,
   "metadata": {},
   "outputs": [
    {
     "name": "stdout",
     "output_type": "stream",
     "text": [
      "================================\u001b[1m System Message \u001b[0m================================\n",
      "\n",
      "\n",
      "You are an AI assistant designed to answer human questions. \n",
      "You can use the provided tools to help generate your responses.\n",
      "\n",
      "Follow these steps to answer questions:\n",
      "    1. Carefully read and understand the question.\n",
      "    2. Use the provided tools to obtain necessary information.\n",
      "    3. Immediately after using a tool, cite the source using the format below.\n",
      "    4. Construct an accurate and helpful answer using the tool outputs and citations.\n",
      "    5. Provide the final answer when you determine it's complete.\n",
      "\n",
      "When using tools, follow this format:\n",
      "    Action: tool_name\n",
      "    Action Input: input for the tool\n",
      "\n",
      "Immediately after receiving tool output, cite the source as follows:\n",
      "    [Source: tool_name | document_title/item_name | url/file_path]\n",
      "\n",
      "For example:\n",
      "    Action: search_menu\n",
      "    Action Input: 스테이크\n",
      "\n",
      "    (After receiving tool output)\n",
      "    [Source: search_menu | 스테이크 | ./data/data.txt]\n",
      "    스테이크에 대한 정보는 다음과 같습니다...\n",
      "\n",
      "    Action: search_web\n",
      "    Action Input: History of AI\n",
      "\n",
      "    (After receiving tool output)\n",
      "    [Source: search_web | AI History | https://en.wikipedia.org/wiki/History_of_artificial_intelligence]\n",
      "    AI의 역사는 다음과 같이 요약됩니다...\n",
      "\n",
      "If tool use is not necessary, answer directly.\n",
      "\n",
      "Your final answer should be clear, concise, and directly related to the user's question. \n",
      "Ensure that every piece of factual information in your response is accompanied by a citation.\n",
      "\n",
      "Remember: ALWAYS include these citations for all factual information, tool outputs, and referenced documents in your response. \n",
      "Do not provide any information without a corresponding citation.\n",
      "\n",
      "================================\u001b[1m Human Message \u001b[0m=================================\n",
      "\n",
      "채식주의자를 위한 메뉴가 있나요?\n",
      "==================================\u001b[1m Ai Message \u001b[0m==================================\n",
      "\n",
      "어떤 종류의 메뉴를 찾으시는지 알려주시면 검색해 드릴 수 있습니다. 예를 들어, \"채식 피자\" 또는 \"채식 파스타\"와 같이 구체적으로 말씀해 주세요.\n"
     ]
    }
   ],
   "source": [
    "config = {\"configurable\": {\"thread_id\": \"2\"}}\n",
    "\n",
    "#messages = [HumanMessage(content=\"채식주의자를 위한 메뉴가 있나요?\")]\n",
    "messages = [\n",
    "        SystemMessage(content=system_prompt),\n",
    "        HumanMessage(content=\"채식주의자를 위한 메뉴가 있나요?\")\n",
    "    ]\n",
    "\n",
    "messages = graph.invoke({\"messages\": messages}, config)\n",
    "for m in messages['messages']:\n",
    "    m.pretty_print()"
   ]
  },
  {
   "cell_type": "code",
   "execution_count": 29,
   "metadata": {},
   "outputs": [
    {
     "name": "stdout",
     "output_type": "stream",
     "text": [
      "================================\u001b[1m System Message \u001b[0m================================\n",
      "\n",
      "\n",
      "You are an AI assistant designed to answer human questions. \n",
      "You can use the provided tools to help generate your responses.\n",
      "\n",
      "Follow these steps to answer questions:\n",
      "    1. Carefully read and understand the question.\n",
      "    2. Use the provided tools to obtain necessary information.\n",
      "    3. Immediately after using a tool, cite the source using the format below.\n",
      "    4. Construct an accurate and helpful answer using the tool outputs and citations.\n",
      "    5. Provide the final answer when you determine it's complete.\n",
      "\n",
      "When using tools, follow this format:\n",
      "    Action: tool_name\n",
      "    Action Input: input for the tool\n",
      "\n",
      "Immediately after receiving tool output, cite the source as follows:\n",
      "    [Source: tool_name | document_title/item_name | url/file_path]\n",
      "\n",
      "For example:\n",
      "    Action: search_menu\n",
      "    Action Input: 스테이크\n",
      "\n",
      "    (After receiving tool output)\n",
      "    [Source: search_menu | 스테이크 | ./data/data.txt]\n",
      "    스테이크에 대한 정보는 다음과 같습니다...\n",
      "\n",
      "    Action: search_web\n",
      "    Action Input: History of AI\n",
      "\n",
      "    (After receiving tool output)\n",
      "    [Source: search_web | AI History | https://en.wikipedia.org/wiki/History_of_artificial_intelligence]\n",
      "    AI의 역사는 다음과 같이 요약됩니다...\n",
      "\n",
      "If tool use is not necessary, answer directly.\n",
      "\n",
      "Your final answer should be clear, concise, and directly related to the user's question. \n",
      "Ensure that every piece of factual information in your response is accompanied by a citation.\n",
      "\n",
      "Remember: ALWAYS include these citations for all factual information, tool outputs, and referenced documents in your response. \n",
      "Do not provide any information without a corresponding citation.\n",
      "\n",
      "================================\u001b[1m Human Message \u001b[0m=================================\n",
      "\n",
      "채식주의자를 위한 메뉴가 있나요?\n",
      "==================================\u001b[1m Ai Message \u001b[0m==================================\n",
      "\n",
      "어떤 종류의 메뉴를 찾으시는지 알려주시면 검색해 드릴 수 있습니다. 예를 들어, \"채식 피자\" 또는 \"채식 파스타\"와 같이 구체적으로 말씀해 주세요.\n",
      "================================\u001b[1m Human Message \u001b[0m=================================\n",
      "\n",
      "방금 답변에 대한 출처가 있나요?\n",
      "==================================\u001b[1m Ai Message \u001b[0m==================================\n",
      "\n",
      "제가 응답하기 위해 어떤 도구를 사용해야 하는지 알려주지 않으셨기 때문에 도구를 사용하지 않았습니다. 따라서 인용할 출처가 없습니다.\n"
     ]
    }
   ],
   "source": [
    "config = {\"configurable\": {\"thread_id\": \"2\"}}\n",
    "messages = [HumanMessage(content=\"방금 답변에 대한 출처가 있나요?\")]\n",
    "messages = graph.invoke({\"messages\": messages}, config)\n",
    "\n",
    "for m in messages['messages']:\n",
    "    m.pretty_print()"
   ]
  },
  {
   "cell_type": "markdown",
   "metadata": {},
   "source": [
    "## 5. Gradio 챗봇"
   ]
  },
  {
   "cell_type": "code",
   "execution_count": 30,
   "metadata": {},
   "outputs": [
    {
     "name": "stdout",
     "output_type": "stream",
     "text": [
      "* Running on local URL:  http://127.0.0.1:7860\n",
      "* To create a public link, set `share=True` in `launch()`.\n"
     ]
    },
    {
     "data": {
      "text/html": [
       "<div><iframe src=\"http://127.0.0.1:7860/\" width=\"100%\" height=\"500\" allow=\"autoplay; camera; microphone; clipboard-read; clipboard-write;\" frameborder=\"0\" allowfullscreen></iframe></div>"
      ],
      "text/plain": [
       "<IPython.core.display.HTML object>"
      ]
     },
     "metadata": {},
     "output_type": "display_data"
    },
    {
     "data": {
      "text/plain": []
     },
     "execution_count": 30,
     "metadata": {},
     "output_type": "execute_result"
    }
   ],
   "source": [
    "import gradio as gr\n",
    "from typing import List, Tuple\n",
    "from langchain_core.messages import HumanMessage, AIMessage\n",
    "from langgraph.checkpoint.memory import MemorySaver\n",
    "\n",
    "# 메모리 사용 준비\n",
    "memory = MemorySaver()\n",
    "graph_memory = builder.compile(checkpointer=memory)\n",
    "\n",
    "# 예시 질문들\n",
    "example_questions = [\n",
    "    \"채식주의자를 위한 메뉴를 추천해주세요.\",\n",
    "    \"오늘의 스페셜 메뉴는 무엇인가요?\",\n",
    "    \"파스타에 어울리는 음료는 무엇인가요?\"\n",
    "]\n",
    "\n",
    "# 답변 메시지 처리를 위한 함수\n",
    "def process_message(message: str, history: List[Tuple[str, str]], thread_id: str) -> str:\n",
    "    try:\n",
    "        config = {\"configurable\": {\"thread_id\": thread_id}}\n",
    "        inputs = {\"messages\": [HumanMessage(content=message)]}\n",
    "        \n",
    "        result = graph_memory.invoke(inputs, config=config)\n",
    "        \n",
    "        if \"messages\" in result:\n",
    "            # 메시지 로깅 (선택사항)\n",
    "            print(f\"스레드 ID: {thread_id}\")\n",
    "            for msg in result[\"messages\"]:\n",
    "                msg.pretty_print()\n",
    "\n",
    "            last_message = result[\"messages\"][-1]\n",
    "            if isinstance(last_message, AIMessage):\n",
    "                return last_message.content\n",
    "\n",
    "        return \"응답을 생성하지 못했습니다.\"\n",
    "\n",
    "    except Exception as e:\n",
    "        print(f\"Error occurred: {str(e)}\")\n",
    "        return \"죄송합니다. 응답을 생성하는 동안 오류가 발생했습니다. 다시 시도해 주세요.\"\n",
    "\n",
    "\n",
    "# 챗봇 클래스 생성\n",
    "class ChatBot:\n",
    "    def __init__(self):\n",
    "        self.thread_id = str(uuid.uuid4())\n",
    "\n",
    "    def chat(self, message: str, history: List[Tuple[str, str]]) -> str:\n",
    "        print(f\"Thread ID: {self.thread_id}\")\n",
    "        response = process_message(message, history, self.thread_id)\n",
    "        return response\n",
    "\n",
    "chatbot = ChatBot()\n",
    "\n",
    "\n",
    "# ChatInterface 생성\n",
    "demo = gr.ChatInterface(\n",
    "    fn=chatbot.chat,\n",
    "    title=\"레스토랑 메뉴 AI 어시스턴트\",\n",
    "    description=\"메뉴 정보, 추천, 음식 관련 질문에 답변해 드립니다. 정보의 출처를 함께 제공합니다.\",\n",
    "    examples=example_questions,\n",
    "    theme=gr.themes.Soft()\n",
    ")\n",
    "\n",
    "# Gradio 앱 실행\n",
    "demo.launch()"
   ]
  },
  {
   "cell_type": "code",
   "execution_count": 31,
   "metadata": {},
   "outputs": [
    {
     "name": "stdout",
     "output_type": "stream",
     "text": [
      "Closing server running on port: 7860\n"
     ]
    }
   ],
   "source": [
    "# 데모 종료\n",
    "demo.close()"
   ]
  }
 ],
 "metadata": {
  "kernelspec": {
   "display_name": "langchain-basic-farQSE-J-py3.12",
   "language": "python",
   "name": "python3"
  },
  "language_info": {
   "codemirror_mode": {
    "name": "ipython",
    "version": 3
   },
   "file_extension": ".py",
   "mimetype": "text/x-python",
   "name": "python",
   "nbconvert_exporter": "python",
   "pygments_lexer": "ipython3",
   "version": "3.12.7"
  }
 },
 "nbformat": 4,
 "nbformat_minor": 2
}
