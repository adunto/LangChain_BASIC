{
 "cells": [
  {
   "cell_type": "markdown",
   "id": "bf1cf819",
   "metadata": {},
   "source": [
    "## 1. 환경 설정"
   ]
  },
  {
   "cell_type": "markdown",
   "id": "bc0cb932",
   "metadata": {},
   "source": [
    "`(1) Env 환경변수`"
   ]
  },
  {
   "cell_type": "code",
   "execution_count": 25,
   "id": "423dec5b",
   "metadata": {},
   "outputs": [],
   "source": [
    "from dotenv import load_dotenv\n",
    "import os\n",
    "load_dotenv()\n",
    "OPENAI_API_KEY = os.getenv(\"OPENAI_API_KEY\")"
   ]
  },
  {
   "cell_type": "markdown",
   "id": "b00b09cb",
   "metadata": {},
   "source": [
    "`(2) 라이브러리`"
   ]
  },
  {
   "cell_type": "code",
   "execution_count": 26,
   "id": "54412ba6",
   "metadata": {},
   "outputs": [],
   "source": [
    "import re\n",
    "import os, json\n",
    "\n",
    "from textwrap import dedent\n",
    "from pprint import pprint\n",
    "\n",
    "import warnings\n",
    "warnings.filterwarnings(\"ignore\")"
   ]
  },
  {
   "cell_type": "markdown",
   "id": "50e67655",
   "metadata": {},
   "source": [
    "## 2. 도구 호출 (Tool Calling)\n",
    "- 도구 호출은 LLM이 특정 작업을 수행하기 위해 외부 기능을 호출하는 기능\n",
    "- 이를 통해 LLM은 외부 API 통합 등 더 복잡한 작업을 수행할 수 있음 "
   ]
  },
  {
   "cell_type": "markdown",
   "id": "7bdccc6b",
   "metadata": {},
   "source": [
    "### 2-1. 랭체인 내장 도구\n",
    "- Tavily 웹 검색 도구 (예시)"
   ]
  },
  {
   "cell_type": "markdown",
   "id": "a6f7e257",
   "metadata": {},
   "source": [
    "`(1) 도구(tool) 정의하기`"
   ]
  },
  {
   "cell_type": "markdown",
   "id": "3108b4e5",
   "metadata": {},
   "source": [
    "**Tavily란?**\n",
    "> LLM이 인터넷에서 '똑똑하게' 정보를 찾아와서 답변의 질을 높이거나 특정 작업을 더 잘 수행할 수 있도록 돕는 전문 검색 도구"
   ]
  },
  {
   "cell_type": "code",
   "execution_count": 27,
   "id": "7c85ed38",
   "metadata": {},
   "outputs": [
    {
     "name": "stdout",
     "output_type": "stream",
     "text": [
      "{'title': '등심 스테이크에는 이 와인 드셔보세요! 소고기 부위별 레드와인 추천 ...', 'url': 'https://m.blog.naver.com/wineislikeacat/223096696241', 'content': '중간에서 높음 사이의 적당한 탄닌과 산도를 가진 와인을 선택하면\\n\\n씹는 맛의 긴 여운 속 느끼함을 잡아줄 수 있습니다.\\n\\n\\u200b\\n\\n이에 맞는 레드와인으로는\\n\\n카베르네 소비뇽(Carbernet Sauvignon), 시라(Syrah) 품종을 추천드려요!\\n\\n\\u200b\\n\\n![Image 7](https://mblogthumb-phinf.pstatic.net/MjAyMzA1MDhfMTEw/MDAxNjgzNTQ1MDQ3NDI0.v4ZHSvlETicMdag0DaoWGFsrTMFezoiZD_41J0Htwhsg.mPiLhr9soLZMXEOb_GJatpnqVUUNFZkrcmQRn9omaewg.JPEG.wineislikeacat/clark-douglas-7WJV-SDSj6c-unsplash.jpg?type=w80_blur)\\n\\n안심 스테이크와 어울리는 와인\\n\\n> **안심 스테이크와 어울리는 와인 품종은? 산지오베제!**\\n\\n고기 본연의 맛을 즐기기 가장 좋은 부위로 꼽히는 안심은 [...] ![Image 6](https://mblogthumb-phinf.pstatic.net/MjAyMzA1MDhfMTQ4/MDAxNjgzNTQ0MjY4OTc2.FasX2MpcBaCDnf0qjWA_PcbLTIlySdPLi7FFnJlTboog.AQwrp1etohVQ3fiIHA0ga9lD45uGexCOZzB_1C12eGQg.JPEG.wineislikeacat/paul-einerhand-dwtt3noJG2k-unsplash.jpg?type=w800)\\n\\n등심 & 채끝 스테이크와 어울리는 와인\\n\\n> **등심 스테이크, 채끝 스테이크와 어울리는 와인 품종은? 카베르네 소비뇽, 시라 등!**\\n\\n등심은 소의 등뼈를 둘러싸고 있는 부위입니다.\\n\\n육질이 연하고 지방이 많아서 두꺼운 스테이크 구이용으로 최적이죠.\\n\\n채끝은 등뼈에서 허리를 감싸는 뼈로 내려오는 쪽의 살인데요,\\n\\n마블링 러버들의 선택을 쉽사리 받는 부위입니다.\\n\\n\\u200b\\n\\n등심과 채끝 스테이크는 모두 풍미가 진하고 지방맛이 강하게 느껴지기에,', 'score': 0.90633047}\n",
      "----------------------------------------------------------------------------------------------------\n",
      "{'title': '티본(T-bone) 스테이크 좋아하시나요? - 와인뜨루 - 스티비', 'url': 'https://winethru.stibee.com/p/54/', 'content': '향에 송로 버섯, 가죽, 흙과 같은 아로마를 지녀요. 이처럼 풍미는 아주 섬세한 편이지만, 의외로 바디는 무거운 편이며, 산도와 탄닌의 정도도 높은 편이랍니다.    이런 스타일의 와인은 다양한 부위의 스테이크와 잘 어울릴 수 있고, 포터하우스부터 엘본 스테이크까지도 예외는 아니죠! 😎 아주 굿 초이스가 될 와인이니 기억해 두세요!    3. 샤또 딸보 (Ch. Talbot)   * 산지: 프랑스 > 보르도 > 생-쥘리앙 * 품종: 보르도 블렌딩 (까베르네 소비뇽 & 메를로 & 쁘띠 베르도) \\\\*빈티지 별로 블렌딩 비율은 상이함     샤또 딸보. 와인을 잘 모르는 사람도 한 번쯤을 들어 봤을 와인이죠!? 보르도 와인 하면 굉장히 강하고 거친 와인이라는 편견이 있기도 한데 그건 사실이 아니에요. 사실, 보르도 와인은 굉장히 복합적이면서 섬세한 아로마를 가진다는 것이 가장 큰 장점인 와인이거든요. 그리고 이런 특징을 지닌 와인들이 포터하우스와도 굉장히 좋은 궁합을 보인다는 것이죠. [...] 봐야 하는 음식과 와인이 있다면 추천해 주세요!  💁\\u200d♂️: 와~! 그러시면, 티본(T-bone) 스테이크와 함께 끼안티 클라시코(Chianti Classico) 혹은 브루넬로 디 몬탈치노(Brunello di Montalcino)를 드시고 오세요~!  🙋\\u200d♀️: ...티본 스테이크가 뭐죠...? 😅  💁\\u200d♂️: ...😂 (저 와인 강사입니다만...)    이처럼, 와인과 음식의 페어링에 관해 얘기하다 보면 음식에 대해서 설명하는 경우도 종종 있는데요! 그래서 오늘은 티본 스테이크에 대해서 간략하게 설명해 드리면서 이에 어울릴 수 있는 와인 스타일도 함께 소개해 드릴까 합니다~    \"포터하우스, 티본, 엘본 스테이크..이게 다 뭐람..?\"🤔 | | |  |  |  |  | | --- | --- | --- | | |  |  | | --- | --- | | |  | | --- | |  | | |  |  |  |  | | --- | --- | --- | | |  |  | | --- | [...] 원칙이 있어요. 그러나 이에 앞서 더 중요한 것은 개인의 취향이라는 것입니다. 스파클링 와인을 좋아하시는 분들에게는 스파클링 와인도 좋은 대안이 될 수 있으며, 화이트 와인 중에서도 좋은 대안은 얼마든지 있을 수 있거든요. 그렇기 때문에 포터하우스 스테이크와 어울릴 수 있는 와인의 스타일은 위에 언급한 것만이 답이 아니라는 점을 잊지 말아 주세요.    와인과 음식의 페어링엔 언제나 다양한 가능성이 열려 있답니다! 🤗 | |', 'score': 0.8851659}\n",
      "----------------------------------------------------------------------------------------------------\n"
     ]
    }
   ],
   "source": [
    "from langchain_community.tools import TavilySearchResults\n",
    "from langchain_tavily.tavily_search import TavilySearch\n",
    "\n",
    "# 검색할 쿼리 설정\n",
    "query = \"스테이크와 어울리는 와인을 추천해주세요.\"\n",
    "\n",
    "# Tavily 검색 도구 초기화 (최대 2개의 결과 반환)\n",
    "web_search = TavilySearchResults(max_results=2)\n",
    "\n",
    "# 웹 검색 실행\n",
    "search_results = web_search.invoke(query)\n",
    "\n",
    "# 검색 결과 출력\n",
    "for result in search_results:\n",
    "    print(result)  \n",
    "    print(\"-\" * 100)  "
   ]
  },
  {
   "cell_type": "code",
   "execution_count": 28,
   "id": "b6791575",
   "metadata": {},
   "outputs": [
    {
     "name": "stdout",
     "output_type": "stream",
     "text": [
      "자료형: \n",
      "<class 'langchain_community.tools.tavily_search.tool.TavilySearchResults'>\n",
      "----------------------------------------------------------------------------------------------------\n",
      "name: \n",
      "tavily_search_results_json\n",
      "----------------------------------------------------------------------------------------------------\n",
      "description: \n",
      "('A search engine optimized for comprehensive, accurate, and trusted results. '\n",
      " 'Useful for when you need to answer questions about current events. Input '\n",
      " 'should be a search query.')\n",
      "----------------------------------------------------------------------------------------------------\n",
      "schema: \n",
      "{'description': 'Input for the Tavily tool.',\n",
      " 'properties': {'query': {'description': 'search query to look up',\n",
      "                          'title': 'Query',\n",
      "                          'type': 'string'}},\n",
      " 'required': ['query'],\n",
      " 'title': 'TavilyInput',\n",
      " 'type': 'object'}\n",
      "----------------------------------------------------------------------------------------------------\n"
     ]
    }
   ],
   "source": [
    "# 도구 속성\n",
    "print(\"자료형: \")\n",
    "print(type(web_search))\n",
    "print(\"-\"*100)\n",
    "\n",
    "print(\"name: \")\n",
    "print(web_search.name)\n",
    "print(\"-\"*100)\n",
    "\n",
    "print(\"description: \")\n",
    "pprint(web_search.description)\n",
    "print(\"-\"*100)\n",
    "\n",
    "print(\"schema: \")\n",
    "pprint(web_search.args_schema.schema())\n",
    "print(\"-\"*100)"
   ]
  },
  {
   "cell_type": "markdown",
   "id": "88b600d9",
   "metadata": {},
   "source": [
    "`(2) 도구(tool) 호출하기`"
   ]
  },
  {
   "cell_type": "code",
   "execution_count": 29,
   "id": "51a3633c",
   "metadata": {},
   "outputs": [],
   "source": [
    "from langchain_openai import ChatOpenAI\n",
    "\n",
    "# ChatOpenAI 모델 초기화\n",
    "# Groq API를 사용하는 ChatOpenAI 인스턴스 생성\n",
    "llm = ChatOpenAI(\n",
    "    api_key=OPENAI_API_KEY,\n",
    "    base_url=\"https://api.groq.com/openai/v1\",  # Groq API 엔드포인트\n",
    "    model=\"meta-llama/llama-4-scout-17b-16e-instruct\",\n",
    "    temperature=0.3\n",
    ")\n",
    "\n",
    "# 웹 검색 도구를 직접 LLM에 바인딩 가능\n",
    "llm_with_tools = llm.bind_tools(tools=[web_search])"
   ]
  },
  {
   "cell_type": "code",
   "execution_count": 30,
   "id": "17d2468d",
   "metadata": {},
   "outputs": [
    {
     "name": "stdout",
     "output_type": "stream",
     "text": [
      "<class 'langchain_core.messages.ai.AIMessage'>\n",
      "AIMessage(content='안녕하세요. 어떻게 도와드릴까요?', additional_kwargs={'refusal': None}, response_metadata={'token_usage': {'completion_tokens': 10, 'prompt_tokens': 261, 'total_tokens': 271, 'completion_tokens_details': None, 'prompt_tokens_details': None, 'queue_time': 0.221979037, 'prompt_time': 0.008821192, 'completion_time': 0.020139784, 'total_time': 0.028960976}, 'model_name': 'meta-llama/llama-4-scout-17b-16e-instruct', 'system_fingerprint': 'fp_79da0e0073', 'id': 'chatcmpl-453da75e-3ddc-4c63-b00f-5f5271df06ec', 'service_tier': None, 'finish_reason': 'stop', 'logprobs': None}, id='run--fbd60cc6-01ae-41b8-96f4-4696b5b107c9-0', usage_metadata={'input_tokens': 261, 'output_tokens': 10, 'total_tokens': 271, 'input_token_details': {}, 'output_token_details': {}})\n",
      "----------------------------------------------------------------------------------------------------\n",
      "'안녕하세요. 어떻게 도와드릴까요?'\n",
      "----------------------------------------------------------------------------------------------------\n",
      "[]\n",
      "----------------------------------------------------------------------------------------------------\n"
     ]
    }
   ],
   "source": [
    "# 도구 호출이 필요 없는 LLM 호출을 수행\n",
    "query = \"안녕하세요.\"\n",
    "ai_msg = llm_with_tools.invoke(query)\n",
    "print(type(ai_msg))\n",
    "\n",
    "# LLM의 전체 출력 결과 출력\n",
    "pprint(ai_msg)\n",
    "print(\"-\" * 100)\n",
    "\n",
    "# 메시지 content 속성 (텍스트 출력)\n",
    "pprint(ai_msg.content)\n",
    "print(\"-\" * 100)\n",
    "\n",
    "# LLM이 호출한 도구 정보 출력\n",
    "pprint(ai_msg.tool_calls)\n",
    "print(\"-\" * 100)"
   ]
  },
  {
   "cell_type": "code",
   "execution_count": 31,
   "id": "dd8df009",
   "metadata": {},
   "outputs": [
    {
     "name": "stdout",
     "output_type": "stream",
     "text": [
      "{'additional_kwargs': {'refusal': None,\n",
      "                       'tool_calls': [{'function': {'arguments': '{\"query\":\"스테이크와 '\n",
      "                                                                 '어울력는 와인 추안\"}',\n",
      "                                                    'name': 'tavily_search_results_json'},\n",
      "                                       'id': '7cjpbjdbv',\n",
      "                                       'type': 'function'}]},\n",
      " 'content': '',\n",
      " 'example': False,\n",
      " 'id': 'run--c2be152a-d1b3-4da5-bf0a-34ddcdb13d5c-0',\n",
      " 'invalid_tool_calls': [],\n",
      " 'name': None,\n",
      " 'response_metadata': {'finish_reason': 'tool_calls',\n",
      "                       'id': 'chatcmpl-d69f3ea7-7a24-47aa-be51-80069d935888',\n",
      "                       'logprobs': None,\n",
      "                       'model_name': 'meta-llama/llama-4-scout-17b-16e-instruct',\n",
      "                       'service_tier': None,\n",
      "                       'system_fingerprint': 'fp_37da608fc1',\n",
      "                       'token_usage': {'completion_time': 0.129746076,\n",
      "                                       'completion_tokens': 64,\n",
      "                                       'completion_tokens_details': None,\n",
      "                                       'prompt_time': 0.013391176,\n",
      "                                       'prompt_tokens': 270,\n",
      "                                       'prompt_tokens_details': None,\n",
      "                                       'queue_time': 0.9667425260000001,\n",
      "                                       'total_time': 0.143137252,\n",
      "                                       'total_tokens': 334}},\n",
      " 'tool_calls': [{'args': {'query': '스테이크와 어울력는 와인 추안'},\n",
      "                 'id': '7cjpbjdbv',\n",
      "                 'name': 'tavily_search_results_json',\n",
      "                 'type': 'tool_call'}],\n",
      " 'type': 'ai',\n",
      " 'usage_metadata': {'input_token_details': {},\n",
      "                    'input_tokens': 270,\n",
      "                    'output_token_details': {},\n",
      "                    'output_tokens': 64,\n",
      "                    'total_tokens': 334}}\n"
     ]
    }
   ],
   "source": [
    "from pprint import pprint\n",
    "\n",
    "# 도구 호출이 필요한 LLM 호출을 수행\n",
    "query = \"스테이크와 어울리는 와인을 추천해주세요.\"\n",
    "ai_msg = llm_with_tools.invoke(query)\n",
    "\n",
    "# AIMessage의 속성 확인\n",
    "pprint(vars(ai_msg))\n"
   ]
  },
  {
   "cell_type": "code",
   "execution_count": 32,
   "id": "2dcc0f63",
   "metadata": {},
   "outputs": [
    {
     "name": "stdout",
     "output_type": "stream",
     "text": [
      "AIMessage(content='', additional_kwargs={'tool_calls': [{'id': '7cjpbjdbv', 'function': {'arguments': '{\"query\":\"스테이크와 어울력는 와인 추안\"}', 'name': 'tavily_search_results_json'}, 'type': 'function'}], 'refusal': None}, response_metadata={'token_usage': {'completion_tokens': 64, 'prompt_tokens': 270, 'total_tokens': 334, 'completion_tokens_details': None, 'prompt_tokens_details': None, 'queue_time': 0.9667425260000001, 'prompt_time': 0.013391176, 'completion_time': 0.129746076, 'total_time': 0.143137252}, 'model_name': 'meta-llama/llama-4-scout-17b-16e-instruct', 'system_fingerprint': 'fp_37da608fc1', 'id': 'chatcmpl-d69f3ea7-7a24-47aa-be51-80069d935888', 'service_tier': None, 'finish_reason': 'tool_calls', 'logprobs': None}, id='run--c2be152a-d1b3-4da5-bf0a-34ddcdb13d5c-0', tool_calls=[{'name': 'tavily_search_results_json', 'args': {'query': '스테이크와 어울력는 와인 추안'}, 'id': '7cjpbjdbv', 'type': 'tool_call'}], usage_metadata={'input_tokens': 270, 'output_tokens': 64, 'total_tokens': 334, 'input_token_details': {}, 'output_token_details': {}})\n",
      "####################################################################################################\n",
      "''\n",
      "****************************************************************************************************\n",
      "[{'args': {'query': '스테이크와 어울력는 와인 추안'},\n",
      "  'id': '7cjpbjdbv',\n",
      "  'name': 'tavily_search_results_json',\n",
      "  'type': 'tool_call'}]\n",
      "----------------------------------------------------------------------------------------------------\n"
     ]
    }
   ],
   "source": [
    "\n",
    "pprint(ai_msg)\n",
    "print(\"#\" * 100)\n",
    "\n",
    "# 메시지 content 속성 (텍스트 출력)\n",
    "pprint(ai_msg.content)\n",
    "print(\"*\" * 100)\n",
    "\n",
    "# LLM이 호출한 도구 정보 출력\n",
    "pprint(ai_msg.tool_calls)\n",
    "print(\"-\" * 100)"
   ]
  },
  {
   "cell_type": "code",
   "execution_count": 33,
   "id": "84d0d45d",
   "metadata": {},
   "outputs": [
    {
     "name": "stdout",
     "output_type": "stream",
     "text": [
      "{'name': 'tavily_search_results_json', 'args': {'query': '스테이크와 어울력는 와인 추안'}, 'id': '7cjpbjdbv', 'type': 'tool_call'}\n"
     ]
    }
   ],
   "source": [
    "tool_call = ai_msg.tool_calls[0]\n",
    "\n",
    "print(tool_call)"
   ]
  },
  {
   "cell_type": "markdown",
   "id": "86835305",
   "metadata": {},
   "source": [
    "`(3) 도구(tool) 실행하기`\n",
    "\n",
    "#### 방법 1: 직접 도구 호출 처리한 결과로 ToolMessage 객체 생성\n",
    "\n",
    "* 이 방법은 AI 메시지에서 첫 번째 도구 호출을 가져와 직접 처리한다.\n",
    "* 'args'를 사용하여 도구를 호출하고 결과를 얻는다.\n",
    "* 도구 호출 결과를 사용하여 ToolMessage 객체를 생성한다.\n",
    "* 도구 호출의 ID와 이름을 포함하여 더 구조화된 ToolMessage 메시지를 만든다."
   ]
  },
  {
   "cell_type": "code",
   "execution_count": 34,
   "id": "a3eb0c7e",
   "metadata": {},
   "outputs": [
    {
     "name": "stdout",
     "output_type": "stream",
     "text": [
      "tavily_search_results_json 호출 결과:\n",
      "----------------------------------------------------------------------------------------------------\n",
      "[{'content': '1. 카베르네 소비뇽 (Cabernet Sauvignon) – 스테이크 와인의 대표주자\\n'\n",
      "             '------------------------------------------------\\n'\n",
      "             '\\n'\n",
      "             '![Image '\n",
      "             '3](https://blog.kakaocdn.net/dn/xWKr4/btsL30NJ5Zo/7JzT5nGQ6CXB4sTxlpdxf1/img.png)![Image '\n",
      "             '4](https://blog.kakaocdn.net/dn/R0nXK/btsL4WXUW0Y/eQYYP6Pj1WKewJVFnM5ycK/img.png)\\n'\n",
      "             '\\n'\n",
      "             '**추천 이유:**\\n'\n",
      "             '\\n'\n",
      "             '카베르네 소비뇽은 강한 탄닌과 풍부한 바디감이 특징인 레드 와인입니다. 이는 스테이크의 기름진 육즙과 균형을 '\n",
      "             '이루며, 고기의 감칠맛을 더욱 살려줍니다.\\n'\n",
      "             '\\n'\n",
      "             '**어울리는 스테이크:**\\n'\n",
      "             '\\n'\n",
      "             '*   리브아이 스테이크\\n'\n",
      "             '*   뉴욕 스트립\\n'\n",
      "             '*   티본 스테이크\\n'\n",
      "             '\\n'\n",
      "             '**추천 와인:**\\n'\n",
      "             '\\n'\n",
      "             '*   나파 밸리 카베르네 소비뇽\\n'\n",
      "             '*   샤또 마고 (Château Margaux) [...] ![Image '\n",
      "             '10](https://blog.kakaocdn.net/dn/dnoiCg/btsL5OybTaE/91vDmwi70ApQ1FZK6DFRQ0/img.png)![Image '\n",
      "             '11](https://blog.kakaocdn.net/dn/bX2dCB/btsL48cPEez/PDKprxC9mea7bnWY9Y65bk/img.webp)![Image '\n",
      "             '12](https://blog.kakaocdn.net/dn/bsBLqB/btsL3qswgyp/rmmMrpesqBZSmy2jGjbzd0/img.png)\\n'\n",
      "             '\\n'\n",
      "             '**추천 이유:**\\n'\n",
      "             '\\n'\n",
      "             '메를로는 탄닌이 상대적으로 적고 부드러운 질감을 가지고 있어 **고기의 풍미를 자연스럽게 살려주는 와인**입니다. '\n",
      "             '무겁지 않으면서도 적절한 바디감을 가지고 있어 누구나 부담 없이 즐길 수 있습니다.\\n'\n",
      "             '\\n'\n",
      "             '**어울리는 스테이크:**\\n'\n",
      "             '\\n'\n",
      "             '*   등심 스테이크\\n'\n",
      "             '*   미디엄 레어 스테이크\\n'\n",
      "             '\\n'\n",
      "             '**추천 와인:**\\n'\n",
      "             '\\n'\n",
      "             '*   보르도 우안 (생테밀리옹, 뽀므롤)\\n'\n",
      "             '*   캘리포니아 메를로 [...] 반응형\\n'\n",
      "             '\\n'\n",
      "             '[• 1. 카베르네 소비뇽 (Cabernet Sauvignon) – 스테이크 와인의 '\n",
      "             '대표주자](https://alcohol.hobby-tech.com/entry/%EC%8A%A4%ED%85%8C%EC%9D%B4%ED%81%AC%EC%99%80-%EC%B0%B0%EB%96%A1%EA%B6%81%ED%95%A9-%EC%8A%A4%ED%85%8C%EC%9D%B4%ED%81%AC%EC%97%90-%EC%96%B4%EC%9A%B8%EB%A6%AC%EB%8A%94-%EC%99%80%EC%9D%B8-5%EA%B0%80%EC%A7%80#toc0)',\n",
      "  'score': 0.70531887,\n",
      "  'title': '스테이크와 찰떡궁합! 스테이크에 어울리는 와인 5가지 - 술의 모든 것',\n",
      "  'url': 'https://alcohol.hobby-tech.com/entry/%EC%8A%A4%ED%85%8C%EC%9D%B4%ED%81%AC%EC%99%80-%EC%B0%B0%EB%96%A1%EA%B6%81%ED%95%A9-%EC%8A%A4%ED%85%8C%EC%9D%B4%ED%81%AC%EC%97%90-%EC%96%B4%EC%9A%B8%EB%A6%AC%EB%8A%94-%EC%99%80%EC%9D%B8-5%EA%B0%80%EC%A7%80'},\n",
      " {'content': '유명 스테이크하우스 레스토랑의 와인 디렉터인 마크 퀵(Mark Quick)에 따르면 와인과 소고기를 페어링하는 가장 '\n",
      "             '쉬운 방법은 와인 풍미의 강도를 스테이크와 맞추는 것이라고 한다. 예를 들어 지방이 많은 스테이크는 풍미가 강하니 '\n",
      "             '맛이 묵직한 와인을, 지방이 적은 스테이크는 비교적 가벼운 와인을 매칭하는 것이 바람직하다고 말한다. 또한 피터 '\n",
      "             '리처드 MW는 “크리미한 소스는 오크향이 강한 와인과 잘 어울리며 소금과 후추만 곁들일 땐 시라 와인을 추천한다”고 '\n",
      "             '전했다.\\n'\n",
      "             '\\n'\n",
      "             '**고****정관념을 깨는 스테이크와 화이트 와인 페어링** [...] 품종의 특성상 대부분의 피노 누아 와인은 '\n",
      "             '비교적 가볍기 때문에 맛이 묵직한 스테이크에 섬세한 향이 묻힌다고 생각하기 쉽다. 그러나 피노 누아의 산미와 밝은 '\n",
      "             '레드베리 풍미는 상황에 따라 스테이크와 훌륭한 궁합을 보여준다. 피노 누아와 스테이크를 페어링할 경우, 일반적으로 '\n",
      "             '레어에서 미디엄 레어로 익힌 안심을 선택하길 추천한다. 음식 및 와인 전문가 피오나 베켓(Fiona Becket)은 '\n",
      "             '“나는 일반적으로 피노 누아를 스테이크와 잘 어울린다고 생각하지 않지만, 고기를 레어로 익혔을 경우 지금까지 최고의 '\n",
      "             '페어링은 부드럽고 매혹적인 다니엘 리옹(Daniel Rion)의 본 로마네(Vosne-Romanée) '\n",
      "             '2001이었다”고 말했다.\\n'\n",
      "             '\\n'\n",
      "             '**지방의 정도와 소스도 중요하다고?**',\n",
      "  'score': 0.69024646,\n",
      "  'title': '스테이크를 더 맛있게 만들어줄 와인 페어링 - 와인21닷컴',\n",
      "  'url': 'https://www.wine21.com/11_news/news_view.html?Idx=19051'}]\n"
     ]
    }
   ],
   "source": [
    "tool_output = web_search.invoke(tool_call[\"args\"])\n",
    "print(f\"{tool_call['name']} 호출 결과:\")\n",
    "print(\"-\" * 100)\n",
    "\n",
    "pprint(tool_output)"
   ]
  },
  {
   "cell_type": "code",
   "execution_count": 35,
   "id": "df88bfcb",
   "metadata": {},
   "outputs": [
    {
     "name": "stdout",
     "output_type": "stream",
     "text": [
      "[{'content': '1. 카베르네 소비뇽 (Cabernet Sauvignon) – 스테이크 와인의 대표주자\\n'\n",
      "             '------------------------------------------------\\n'\n",
      "             '\\n'\n",
      "             '![Image '\n",
      "             '3](https://blog.kakaocdn.net/dn/xWKr4/btsL30NJ5Zo/7JzT5nGQ6CXB4sTxlpdxf1/img.png)![Image '\n",
      "             '4](https://blog.kakaocdn.net/dn/R0nXK/btsL4WXUW0Y/eQYYP6Pj1WKewJVFnM5ycK/img.png)\\n'\n",
      "             '\\n'\n",
      "             '**추천 이유:**\\n'\n",
      "             '\\n'\n",
      "             '카베르네 소비뇽은 강한 탄닌과 풍부한 바디감이 특징인 레드 와인입니다. 이는 스테이크의 기름진 육즙과 균형을 '\n",
      "             '이루며, 고기의 감칠맛을 더욱 살려줍니다.\\n'\n",
      "             '\\n'\n",
      "             '**어울리는 스테이크:**\\n'\n",
      "             '\\n'\n",
      "             '*   리브아이 스테이크\\n'\n",
      "             '*   뉴욕 스트립\\n'\n",
      "             '*   티본 스테이크\\n'\n",
      "             '\\n'\n",
      "             '**추천 와인:**\\n'\n",
      "             '\\n'\n",
      "             '*   나파 밸리 카베르네 소비뇽\\n'\n",
      "             '*   샤또 마고 (Château Margaux) [...] ![Image '\n",
      "             '10](https://blog.kakaocdn.net/dn/dnoiCg/btsL5OybTaE/91vDmwi70ApQ1FZK6DFRQ0/img.png)![Image '\n",
      "             '11](https://blog.kakaocdn.net/dn/bX2dCB/btsL48cPEez/PDKprxC9mea7bnWY9Y65bk/img.webp)![Image '\n",
      "             '12](https://blog.kakaocdn.net/dn/bsBLqB/btsL3qswgyp/rmmMrpesqBZSmy2jGjbzd0/img.png)\\n'\n",
      "             '\\n'\n",
      "             '**추천 이유:**\\n'\n",
      "             '\\n'\n",
      "             '메를로는 탄닌이 상대적으로 적고 부드러운 질감을 가지고 있어 **고기의 풍미를 자연스럽게 살려주는 와인**입니다. '\n",
      "             '무겁지 않으면서도 적절한 바디감을 가지고 있어 누구나 부담 없이 즐길 수 있습니다.\\n'\n",
      "             '\\n'\n",
      "             '**어울리는 스테이크:**\\n'\n",
      "             '\\n'\n",
      "             '*   등심 스테이크\\n'\n",
      "             '*   미디엄 레어 스테이크\\n'\n",
      "             '\\n'\n",
      "             '**추천 와인:**\\n'\n",
      "             '\\n'\n",
      "             '*   보르도 우안 (생테밀리옹, 뽀므롤)\\n'\n",
      "             '*   캘리포니아 메를로 [...] 반응형\\n'\n",
      "             '\\n'\n",
      "             '[• 1. 카베르네 소비뇽 (Cabernet Sauvignon) – 스테이크 와인의 '\n",
      "             '대표주자](https://alcohol.hobby-tech.com/entry/%EC%8A%A4%ED%85%8C%EC%9D%B4%ED%81%AC%EC%99%80-%EC%B0%B0%EB%96%A1%EA%B6%81%ED%95%A9-%EC%8A%A4%ED%85%8C%EC%9D%B4%ED%81%AC%EC%97%90-%EC%96%B4%EC%9A%B8%EB%A6%AC%EB%8A%94-%EC%99%80%EC%9D%B8-5%EA%B0%80%EC%A7%80#toc0)',\n",
      "  'score': 0.70531887,\n",
      "  'title': '스테이크와 찰떡궁합! 스테이크에 어울리는 와인 5가지 - 술의 모든 것',\n",
      "  'url': 'https://alcohol.hobby-tech.com/entry/%EC%8A%A4%ED%85%8C%EC%9D%B4%ED%81%AC%EC%99%80-%EC%B0%B0%EB%96%A1%EA%B6%81%ED%95%A9-%EC%8A%A4%ED%85%8C%EC%9D%B4%ED%81%AC%EC%97%90-%EC%96%B4%EC%9A%B8%EB%A6%AC%EB%8A%94-%EC%99%80%EC%9D%B8-5%EA%B0%80%EC%A7%80'},\n",
      " {'content': '유명 스테이크하우스 레스토랑의 와인 디렉터인 마크 퀵(Mark Quick)에 따르면 와인과 소고기를 페어링하는 가장 '\n",
      "             '쉬운 방법은 와인 풍미의 강도를 스테이크와 맞추는 것이라고 한다. 예를 들어 지방이 많은 스테이크는 풍미가 강하니 '\n",
      "             '맛이 묵직한 와인을, 지방이 적은 스테이크는 비교적 가벼운 와인을 매칭하는 것이 바람직하다고 말한다. 또한 피터 '\n",
      "             '리처드 MW는 “크리미한 소스는 오크향이 강한 와인과 잘 어울리며 소금과 후추만 곁들일 땐 시라 와인을 추천한다”고 '\n",
      "             '전했다.\\n'\n",
      "             '\\n'\n",
      "             '**고****정관념을 깨는 스테이크와 화이트 와인 페어링** [...] 품종의 특성상 대부분의 피노 누아 와인은 '\n",
      "             '비교적 가볍기 때문에 맛이 묵직한 스테이크에 섬세한 향이 묻힌다고 생각하기 쉽다. 그러나 피노 누아의 산미와 밝은 '\n",
      "             '레드베리 풍미는 상황에 따라 스테이크와 훌륭한 궁합을 보여준다. 피노 누아와 스테이크를 페어링할 경우, 일반적으로 '\n",
      "             '레어에서 미디엄 레어로 익힌 안심을 선택하길 추천한다. 음식 및 와인 전문가 피오나 베켓(Fiona Becket)은 '\n",
      "             '“나는 일반적으로 피노 누아를 스테이크와 잘 어울린다고 생각하지 않지만, 고기를 레어로 익혔을 경우 지금까지 최고의 '\n",
      "             '페어링은 부드럽고 매혹적인 다니엘 리옹(Daniel Rion)의 본 로마네(Vosne-Romanée) '\n",
      "             '2001이었다”고 말했다.\\n'\n",
      "             '\\n'\n",
      "             '**지방의 정도와 소스도 중요하다고?**',\n",
      "  'score': 0.69024646,\n",
      "  'title': '스테이크를 더 맛있게 만들어줄 와인 페어링 - 와인21닷컴',\n",
      "  'url': 'https://www.wine21.com/11_news/news_view.html?Idx=19051'}]\n"
     ]
    }
   ],
   "source": [
    "\n",
    "from langchain_core.messages import ToolMessage\n",
    "\n",
    "# [{'args': {'query': '스테이크와 어울리는 와인 추천', 'search_depth': 'advanced'},\n",
    "#   'id': 'call_j3TZ15VKG15fIxIpvqM4h4Dz',\n",
    "#   'name': 'tavily_search',\n",
    "#   'type': 'tool_call'}]\n",
    "\n",
    "tool_message = ToolMessage(\n",
    "    content=tool_output,\n",
    "    tool_call_id=tool_call[\"id\"],\n",
    "    name=tool_call[\"name\"]\n",
    ")\n",
    "\n",
    "pprint(tool_message.content)"
   ]
  },
  {
   "cell_type": "markdown",
   "id": "1b75bf7f",
   "metadata": {},
   "source": [
    "#### 방법 2: 도구 직접 호출하여 바로 ToolMessage 객체 생성\n",
    "\n",
    "* 이 방법은 도구를 직접 호출하여 ToolMessage 객체를 생성한다.\n",
    "* 가장 간단하고 직관적인 방법으로, LangChain의 추상화를 활용한다."
   ]
  },
  {
   "cell_type": "code",
   "execution_count": 36,
   "id": "29c159ee",
   "metadata": {},
   "outputs": [],
   "source": [
    "# 도구 호출이 필요한 LLM 호출을 수행\n",
    "query = \"스테이크와 어울리는 와인을 추천해주세요.\"\n",
    "ai_msg = llm_with_tools.invoke(query)"
   ]
  },
  {
   "cell_type": "code",
   "execution_count": 37,
   "id": "091ddad4",
   "metadata": {},
   "outputs": [
    {
     "name": "stdout",
     "output_type": "stream",
     "text": [
      "{'name': 'tavily_search_results_json', 'args': {'query': '스테이크와 어울력는 와인 추안'}, 'id': '3gdxrv2qj', 'type': 'tool_call'}\n"
     ]
    }
   ],
   "source": [
    "tool_call = ai_msg.tool_calls[0]\n",
    "\n",
    "print(tool_call)"
   ]
  },
  {
   "cell_type": "code",
   "execution_count": 38,
   "id": "0f39f32b",
   "metadata": {},
   "outputs": [
    {
     "name": "stdout",
     "output_type": "stream",
     "text": [
      "<class 'langchain_core.messages.tool.ToolMessage'>\n",
      "\n",
      "=== 주요 속성들 ===\n",
      "content: [{\"title\": \"스테이크와 찰떡궁합! 스테이크에 어울리는 와인 5가지 - 술의 모든 것\", \"url\": \"https://alcohol.hobby-tech.com/entry/%EC%8A%A4%ED%85%8C%EC%9D%B4%ED%81%AC%EC%99%80-%EC%B0%B0%EB%96%A1%EA%B6%81%ED%95%A9-%EC%8A%A4%ED%85%8C%EC%9D%B4%ED%81%AC%EC%97%90-%EC%96%B4%EC%9A%B8%EB%A6%AC%EB%8A%94-%EC%99%80%EC%9D%B8-5%EA%B0%80%EC%A7%80\", \"content\": \"1. 카베르네 소비뇽 (Cabernet Sauvignon) – 스테이크 와인의 대표주자\\n------------------------------------------------\\n\\n![Image 3](https://blog.kakaocdn.net/dn/xWKr4/btsL30NJ5Zo/7JzT5nGQ6CXB4sTxlpdxf1/img.png)![Image 4](https://blog.kakaocdn.net/dn/R0nXK/btsL4WXUW0Y/eQYYP6Pj1WKewJVFnM5ycK/img.png)\\n\\n**추천 이유:**\\n\\n카베르네 소비뇽은 강한 탄닌과 풍부한 바디감이 특징인 레드 와인입니다. 이는 스테이크의 기름진 육즙과 균형을 이루며, 고기의 감칠맛을 더욱 살려줍니다.\\n\\n**어울리는 스테이크:**\\n\\n*   리브아이 스테이크\\n*   뉴욕 스트립\\n*   티본 스테이크\\n\\n**추천 와인:**\\n\\n*   나파 밸리 카베르네 소비뇽\\n*   샤또 마고 (Château Margaux) [...] ![Image 10](https://blog.kakaocdn.net/dn/dnoiCg/btsL5OybTaE/91vDmwi70ApQ1FZK6DFRQ0/img.png)![Image 11](https://blog.kakaocdn.net/dn/bX2dCB/btsL48cPEez/PDKprxC9mea7bnWY9Y65bk/img.webp)![Image 12](https://blog.kakaocdn.net/dn/bsBLqB/btsL3qswgyp/rmmMrpesqBZSmy2jGjbzd0/img.png)\\n\\n**추천 이유:**\\n\\n메를로는 탄닌이 상대적으로 적고 부드러운 질감을 가지고 있어 **고기의 풍미를 자연스럽게 살려주는 와인**입니다. 무겁지 않으면서도 적절한 바디감을 가지고 있어 누구나 부담 없이 즐길 수 있습니다.\\n\\n**어울리는 스테이크:**\\n\\n*   등심 스테이크\\n*   미디엄 레어 스테이크\\n\\n**추천 와인:**\\n\\n*   보르도 우안 (생테밀리옹, 뽀므롤)\\n*   캘리포니아 메를로 [...] 반응형\\n\\n[• 1. 카베르네 소비뇽 (Cabernet Sauvignon) – 스테이크 와인의 대표주자](https://alcohol.hobby-tech.com/entry/%EC%8A%A4%ED%85%8C%EC%9D%B4%ED%81%AC%EC%99%80-%EC%B0%B0%EB%96%A1%EA%B6%81%ED%95%A9-%EC%8A%A4%ED%85%8C%EC%9D%B4%ED%81%AC%EC%97%90-%EC%96%B4%EC%9A%B8%EB%A6%AC%EB%8A%94-%EC%99%80%EC%9D%B8-5%EA%B0%80%EC%A7%80#toc0)\", \"score\": 0.70531887}, {\"title\": \"스테이크를 더 맛있게 만들어줄 와인 페어링 - 와인21닷컴\", \"url\": \"https://www.wine21.com/11_news/news_view.html?Idx=19051\", \"content\": \"유명 스테이크하우스 레스토랑의 와인 디렉터인 마크 퀵(Mark Quick)에 따르면 와인과 소고기를 페어링하는 가장 쉬운 방법은 와인 풍미의 강도를 스테이크와 맞추는 것이라고 한다. 예를 들어 지방이 많은 스테이크는 풍미가 강하니 맛이 묵직한 와인을, 지방이 적은 스테이크는 비교적 가벼운 와인을 매칭하는 것이 바람직하다고 말한다. 또한 피터 리처드 MW는 “크리미한 소스는 오크향이 강한 와인과 잘 어울리며 소금과 후추만 곁들일 땐 시라 와인을 추천한다”고 전했다.\\n\\n**고****정관념을 깨는 스테이크와 화이트 와인 페어링** [...] 품종의 특성상 대부분의 피노 누아 와인은 비교적 가볍기 때문에 맛이 묵직한 스테이크에 섬세한 향이 묻힌다고 생각하기 쉽다. 그러나 피노 누아의 산미와 밝은 레드베리 풍미는 상황에 따라 스테이크와 훌륭한 궁합을 보여준다. 피노 누아와 스테이크를 페어링할 경우, 일반적으로 레어에서 미디엄 레어로 익힌 안심을 선택하길 추천한다. 음식 및 와인 전문가 피오나 베켓(Fiona Becket)은 “나는 일반적으로 피노 누아를 스테이크와 잘 어울린다고 생각하지 않지만, 고기를 레어로 익혔을 경우 지금까지 최고의 페어링은 부드럽고 매혹적인 다니엘 리옹(Daniel Rion)의 본 로마네(Vosne-Romanée) 2001이었다”고 말했다.\\n\\n**지방의 정도와 소스도 중요하다고?**\", \"score\": 0.69024646}]\n",
      "tool_call_id: 3gdxrv2qj\n",
      "name: tavily_search_results_json\n",
      "type: tool\n",
      "additional_kwargs: {}\n"
     ]
    }
   ],
   "source": [
    "# tool_call  {'name': 'tavily_search_results_json', 'args': {'query': 'wine pairing with steak'}, 'id': 'call_LrHyxTadqHDjW7J6LOWEaoSi', 'type': 'tool_call'}\n",
    "tool_message = web_search.invoke(tool_call)\n",
    "print(type(tool_message))\n",
    "\n",
    "# 특정 속성들만 확인\n",
    "print(\"\\n=== 주요 속성들 ===\")\n",
    "attributes = ['content', 'tool_call_id', 'name', 'type', 'additional_kwargs']\n",
    "for attr in attributes:\n",
    "    if hasattr(tool_message, attr):\n",
    "        print(f\"{attr}: {getattr(tool_message, attr)}\")\n"
   ]
  },
  {
   "cell_type": "code",
   "execution_count": 39,
   "id": "03d47ea5",
   "metadata": {},
   "outputs": [
    {
     "name": "stdout",
     "output_type": "stream",
     "text": [
      "('[{\"title\": \"스테이크와 찰떡궁합! 스테이크에 어울리는 와인 5가지 - 술의 모든 것\", \"url\": '\n",
      " '\"https://alcohol.hobby-tech.com/entry/%EC%8A%A4%ED%85%8C%EC%9D%B4%ED%81%AC%EC%99%80-%EC%B0%B0%EB%96%A1%EA%B6%81%ED%95%A9-%EC%8A%A4%ED%85%8C%EC%9D%B4%ED%81%AC%EC%97%90-%EC%96%B4%EC%9A%B8%EB%A6%AC%EB%8A%94-%EC%99%80%EC%9D%B8-5%EA%B0%80%EC%A7%80\", '\n",
      " '\"content\": \"1. 카베르네 소비뇽 (Cabernet Sauvignon) – 스테이크 와인의 '\n",
      " '대표주자\\\\n------------------------------------------------\\\\n\\\\n![Image '\n",
      " '3](https://blog.kakaocdn.net/dn/xWKr4/btsL30NJ5Zo/7JzT5nGQ6CXB4sTxlpdxf1/img.png)![Image '\n",
      " '4](https://blog.kakaocdn.net/dn/R0nXK/btsL4WXUW0Y/eQYYP6Pj1WKewJVFnM5ycK/img.png)\\\\n\\\\n**추천 '\n",
      " '이유:**\\\\n\\\\n카베르네 소비뇽은 강한 탄닌과 풍부한 바디감이 특징인 레드 와인입니다. 이는 스테이크의 기름진 육즙과 균형을 이루며, '\n",
      " '고기의 감칠맛을 더욱 살려줍니다.\\\\n\\\\n**어울리는 스테이크:**\\\\n\\\\n*   리브아이 스테이크\\\\n*   뉴욕 스트립\\\\n*   '\n",
      " '티본 스테이크\\\\n\\\\n**추천 와인:**\\\\n\\\\n*   나파 밸리 카베르네 소비뇽\\\\n*   샤또 마고 (Château '\n",
      " 'Margaux) [...] ![Image '\n",
      " '10](https://blog.kakaocdn.net/dn/dnoiCg/btsL5OybTaE/91vDmwi70ApQ1FZK6DFRQ0/img.png)![Image '\n",
      " '11](https://blog.kakaocdn.net/dn/bX2dCB/btsL48cPEez/PDKprxC9mea7bnWY9Y65bk/img.webp)![Image '\n",
      " '12](https://blog.kakaocdn.net/dn/bsBLqB/btsL3qswgyp/rmmMrpesqBZSmy2jGjbzd0/img.png)\\\\n\\\\n**추천 '\n",
      " '이유:**\\\\n\\\\n메를로는 탄닌이 상대적으로 적고 부드러운 질감을 가지고 있어 **고기의 풍미를 자연스럽게 살려주는 와인**입니다. '\n",
      " '무겁지 않으면서도 적절한 바디감을 가지고 있어 누구나 부담 없이 즐길 수 있습니다.\\\\n\\\\n**어울리는 스테이크:**\\\\n\\\\n*   '\n",
      " '등심 스테이크\\\\n*   미디엄 레어 스테이크\\\\n\\\\n**추천 와인:**\\\\n\\\\n*   보르도 우안 (생테밀리옹, 뽀므롤)\\\\n*   '\n",
      " '캘리포니아 메를로 [...] 반응형\\\\n\\\\n[• 1. 카베르네 소비뇽 (Cabernet Sauvignon) – 스테이크 와인의 '\n",
      " '대표주자](https://alcohol.hobby-tech.com/entry/%EC%8A%A4%ED%85%8C%EC%9D%B4%ED%81%AC%EC%99%80-%EC%B0%B0%EB%96%A1%EA%B6%81%ED%95%A9-%EC%8A%A4%ED%85%8C%EC%9D%B4%ED%81%AC%EC%97%90-%EC%96%B4%EC%9A%B8%EB%A6%AC%EB%8A%94-%EC%99%80%EC%9D%B8-5%EA%B0%80%EC%A7%80#toc0)\", '\n",
      " '\"score\": 0.70531887}, {\"title\": \"스테이크를 더 맛있게 만들어줄 와인 페어링 - 와인21닷컴\", \"url\": '\n",
      " '\"https://www.wine21.com/11_news/news_view.html?Idx=19051\", \"content\": \"유명 '\n",
      " '스테이크하우스 레스토랑의 와인 디렉터인 마크 퀵(Mark Quick)에 따르면 와인과 소고기를 페어링하는 가장 쉬운 방법은 와인 풍미의 '\n",
      " '강도를 스테이크와 맞추는 것이라고 한다. 예를 들어 지방이 많은 스테이크는 풍미가 강하니 맛이 묵직한 와인을, 지방이 적은 스테이크는 '\n",
      " '비교적 가벼운 와인을 매칭하는 것이 바람직하다고 말한다. 또한 피터 리처드 MW는 “크리미한 소스는 오크향이 강한 와인과 잘 어울리며 '\n",
      " '소금과 후추만 곁들일 땐 시라 와인을 추천한다”고 전했다.\\\\n\\\\n**고****정관념을 깨는 스테이크와 화이트 와인 페어링** '\n",
      " '[...] 품종의 특성상 대부분의 피노 누아 와인은 비교적 가볍기 때문에 맛이 묵직한 스테이크에 섬세한 향이 묻힌다고 생각하기 쉽다. '\n",
      " '그러나 피노 누아의 산미와 밝은 레드베리 풍미는 상황에 따라 스테이크와 훌륭한 궁합을 보여준다. 피노 누아와 스테이크를 페어링할 경우, '\n",
      " '일반적으로 레어에서 미디엄 레어로 익힌 안심을 선택하길 추천한다. 음식 및 와인 전문가 피오나 베켓(Fiona Becket)은 “나는 '\n",
      " '일반적으로 피노 누아를 스테이크와 잘 어울린다고 생각하지 않지만, 고기를 레어로 익혔을 경우 지금까지 최고의 페어링은 부드럽고 매혹적인 '\n",
      " '다니엘 리옹(Daniel Rion)의 본 로마네(Vosne-Romanée) 2001이었다”고 말했다.\\\\n\\\\n**지방의 정도와 소스도 '\n",
      " '중요하다고?**\", \"score\": 0.69024646}]')\n"
     ]
    }
   ],
   "source": [
    "pprint(tool_message.content)"
   ]
  },
  {
   "cell_type": "code",
   "execution_count": 40,
   "id": "aeeb5890",
   "metadata": {},
   "outputs": [
    {
     "name": "stdout",
     "output_type": "stream",
     "text": [
      "'3gdxrv2qj'\n"
     ]
    }
   ],
   "source": [
    "pprint(tool_message.tool_call_id)"
   ]
  },
  {
   "cell_type": "code",
   "execution_count": 41,
   "id": "01309400",
   "metadata": {},
   "outputs": [
    {
     "name": "stdout",
     "output_type": "stream",
     "text": [
      "'tavily_search_results_json'\n"
     ]
    }
   ],
   "source": [
    "pprint(tool_message.name)"
   ]
  },
  {
   "cell_type": "code",
   "execution_count": 42,
   "id": "f3e71c37",
   "metadata": {},
   "outputs": [
    {
     "data": {
      "text/plain": [
       "[{'name': 'tavily_search_results_json',\n",
       "  'args': {'query': '스테이크와 어울력는 와인 추안'},\n",
       "  'id': '3gdxrv2qj',\n",
       "  'type': 'tool_call'}]"
      ]
     },
     "execution_count": 42,
     "metadata": {},
     "output_type": "execute_result"
    }
   ],
   "source": [
    "ai_msg.tool_calls"
   ]
  },
  {
   "cell_type": "code",
   "execution_count": 43,
   "id": "35a3ad18",
   "metadata": {},
   "outputs": [
    {
     "name": "stdout",
     "output_type": "stream",
     "text": [
      "[ToolMessage(content='[{\"title\": \"스테이크와 찰떡궁합! 스테이크에 어울리는 와인 5가지 - 술의 모든 것\", \"url\": \"https://alcohol.hobby-tech.com/entry/%EC%8A%A4%ED%85%8C%EC%9D%B4%ED%81%AC%EC%99%80-%EC%B0%B0%EB%96%A1%EA%B6%81%ED%95%A9-%EC%8A%A4%ED%85%8C%EC%9D%B4%ED%81%AC%EC%97%90-%EC%96%B4%EC%9A%B8%EB%A6%AC%EB%8A%94-%EC%99%80%EC%9D%B8-5%EA%B0%80%EC%A7%80\", \"content\": \"1. 카베르네 소비뇽 (Cabernet Sauvignon) – 스테이크 와인의 대표주자\\\\n------------------------------------------------\\\\n\\\\n![Image 3](https://blog.kakaocdn.net/dn/xWKr4/btsL30NJ5Zo/7JzT5nGQ6CXB4sTxlpdxf1/img.png)![Image 4](https://blog.kakaocdn.net/dn/R0nXK/btsL4WXUW0Y/eQYYP6Pj1WKewJVFnM5ycK/img.png)\\\\n\\\\n**추천 이유:**\\\\n\\\\n카베르네 소비뇽은 강한 탄닌과 풍부한 바디감이 특징인 레드 와인입니다. 이는 스테이크의 기름진 육즙과 균형을 이루며, 고기의 감칠맛을 더욱 살려줍니다.\\\\n\\\\n**어울리는 스테이크:**\\\\n\\\\n*   리브아이 스테이크\\\\n*   뉴욕 스트립\\\\n*   티본 스테이크\\\\n\\\\n**추천 와인:**\\\\n\\\\n*   나파 밸리 카베르네 소비뇽\\\\n*   샤또 마고 (Château Margaux) [...] ![Image 10](https://blog.kakaocdn.net/dn/dnoiCg/btsL5OybTaE/91vDmwi70ApQ1FZK6DFRQ0/img.png)![Image 11](https://blog.kakaocdn.net/dn/bX2dCB/btsL48cPEez/PDKprxC9mea7bnWY9Y65bk/img.webp)![Image 12](https://blog.kakaocdn.net/dn/bsBLqB/btsL3qswgyp/rmmMrpesqBZSmy2jGjbzd0/img.png)\\\\n\\\\n**추천 이유:**\\\\n\\\\n메를로는 탄닌이 상대적으로 적고 부드러운 질감을 가지고 있어 **고기의 풍미를 자연스럽게 살려주는 와인**입니다. 무겁지 않으면서도 적절한 바디감을 가지고 있어 누구나 부담 없이 즐길 수 있습니다.\\\\n\\\\n**어울리는 스테이크:**\\\\n\\\\n*   등심 스테이크\\\\n*   미디엄 레어 스테이크\\\\n\\\\n**추천 와인:**\\\\n\\\\n*   보르도 우안 (생테밀리옹, 뽀므롤)\\\\n*   캘리포니아 메를로 [...] 반응형\\\\n\\\\n[• 1. 카베르네 소비뇽 (Cabernet Sauvignon) – 스테이크 와인의 대표주자](https://alcohol.hobby-tech.com/entry/%EC%8A%A4%ED%85%8C%EC%9D%B4%ED%81%AC%EC%99%80-%EC%B0%B0%EB%96%A1%EA%B6%81%ED%95%A9-%EC%8A%A4%ED%85%8C%EC%9D%B4%ED%81%AC%EC%97%90-%EC%96%B4%EC%9A%B8%EB%A6%AC%EB%8A%94-%EC%99%80%EC%9D%B8-5%EA%B0%80%EC%A7%80#toc0)\", \"score\": 0.70531887}, {\"title\": \"스테이크를 더 맛있게 만들어줄 와인 페어링 - 와인21닷컴\", \"url\": \"https://www.wine21.com/11_news/news_view.html?Idx=19051\", \"content\": \"유명 스테이크하우스 레스토랑의 와인 디렉터인 마크 퀵(Mark Quick)에 따르면 와인과 소고기를 페어링하는 가장 쉬운 방법은 와인 풍미의 강도를 스테이크와 맞추는 것이라고 한다. 예를 들어 지방이 많은 스테이크는 풍미가 강하니 맛이 묵직한 와인을, 지방이 적은 스테이크는 비교적 가벼운 와인을 매칭하는 것이 바람직하다고 말한다. 또한 피터 리처드 MW는 “크리미한 소스는 오크향이 강한 와인과 잘 어울리며 소금과 후추만 곁들일 땐 시라 와인을 추천한다”고 전했다.\\\\n\\\\n**고****정관념을 깨는 스테이크와 화이트 와인 페어링** [...] 품종의 특성상 대부분의 피노 누아 와인은 비교적 가볍기 때문에 맛이 묵직한 스테이크에 섬세한 향이 묻힌다고 생각하기 쉽다. 그러나 피노 누아의 산미와 밝은 레드베리 풍미는 상황에 따라 스테이크와 훌륭한 궁합을 보여준다. 피노 누아와 스테이크를 페어링할 경우, 일반적으로 레어에서 미디엄 레어로 익힌 안심을 선택하길 추천한다. 음식 및 와인 전문가 피오나 베켓(Fiona Becket)은 “나는 일반적으로 피노 누아를 스테이크와 잘 어울린다고 생각하지 않지만, 고기를 레어로 익혔을 경우 지금까지 최고의 페어링은 부드럽고 매혹적인 다니엘 리옹(Daniel Rion)의 본 로마네(Vosne-Romanée) 2001이었다”고 말했다.\\\\n\\\\n**지방의 정도와 소스도 중요하다고?**\", \"score\": 0.69024646}]', name='tavily_search_results_json', tool_call_id='3gdxrv2qj', artifact={'query': '스테이크와 어울력는 와인 추안', 'follow_up_questions': None, 'answer': None, 'images': [], 'results': [{'url': 'https://alcohol.hobby-tech.com/entry/%EC%8A%A4%ED%85%8C%EC%9D%B4%ED%81%AC%EC%99%80-%EC%B0%B0%EB%96%A1%EA%B6%81%ED%95%A9-%EC%8A%A4%ED%85%8C%EC%9D%B4%ED%81%AC%EC%97%90-%EC%96%B4%EC%9A%B8%EB%A6%AC%EB%8A%94-%EC%99%80%EC%9D%B8-5%EA%B0%80%EC%A7%80', 'title': '스테이크와 찰떡궁합! 스테이크에 어울리는 와인 5가지 - 술의 모든 것', 'content': '1. 카베르네 소비뇽 (Cabernet Sauvignon) – 스테이크 와인의 대표주자\\n------------------------------------------------\\n\\n![Image 3](https://blog.kakaocdn.net/dn/xWKr4/btsL30NJ5Zo/7JzT5nGQ6CXB4sTxlpdxf1/img.png)![Image 4](https://blog.kakaocdn.net/dn/R0nXK/btsL4WXUW0Y/eQYYP6Pj1WKewJVFnM5ycK/img.png)\\n\\n**추천 이유:**\\n\\n카베르네 소비뇽은 강한 탄닌과 풍부한 바디감이 특징인 레드 와인입니다. 이는 스테이크의 기름진 육즙과 균형을 이루며, 고기의 감칠맛을 더욱 살려줍니다.\\n\\n**어울리는 스테이크:**\\n\\n*   리브아이 스테이크\\n*   뉴욕 스트립\\n*   티본 스테이크\\n\\n**추천 와인:**\\n\\n*   나파 밸리 카베르네 소비뇽\\n*   샤또 마고 (Château Margaux) [...] ![Image 10](https://blog.kakaocdn.net/dn/dnoiCg/btsL5OybTaE/91vDmwi70ApQ1FZK6DFRQ0/img.png)![Image 11](https://blog.kakaocdn.net/dn/bX2dCB/btsL48cPEez/PDKprxC9mea7bnWY9Y65bk/img.webp)![Image 12](https://blog.kakaocdn.net/dn/bsBLqB/btsL3qswgyp/rmmMrpesqBZSmy2jGjbzd0/img.png)\\n\\n**추천 이유:**\\n\\n메를로는 탄닌이 상대적으로 적고 부드러운 질감을 가지고 있어 **고기의 풍미를 자연스럽게 살려주는 와인**입니다. 무겁지 않으면서도 적절한 바디감을 가지고 있어 누구나 부담 없이 즐길 수 있습니다.\\n\\n**어울리는 스테이크:**\\n\\n*   등심 스테이크\\n*   미디엄 레어 스테이크\\n\\n**추천 와인:**\\n\\n*   보르도 우안 (생테밀리옹, 뽀므롤)\\n*   캘리포니아 메를로 [...] 반응형\\n\\n[• 1. 카베르네 소비뇽 (Cabernet Sauvignon) – 스테이크 와인의 대표주자](https://alcohol.hobby-tech.com/entry/%EC%8A%A4%ED%85%8C%EC%9D%B4%ED%81%AC%EC%99%80-%EC%B0%B0%EB%96%A1%EA%B6%81%ED%95%A9-%EC%8A%A4%ED%85%8C%EC%9D%B4%ED%81%AC%EC%97%90-%EC%96%B4%EC%9A%B8%EB%A6%AC%EB%8A%94-%EC%99%80%EC%9D%B8-5%EA%B0%80%EC%A7%80#toc0)', 'score': 0.70531887, 'raw_content': None}, {'url': 'https://www.wine21.com/11_news/news_view.html?Idx=19051', 'title': '스테이크를 더 맛있게 만들어줄 와인 페어링 - 와인21닷컴', 'content': '유명 스테이크하우스 레스토랑의 와인 디렉터인 마크 퀵(Mark Quick)에 따르면 와인과 소고기를 페어링하는 가장 쉬운 방법은 와인 풍미의 강도를 스테이크와 맞추는 것이라고 한다. 예를 들어 지방이 많은 스테이크는 풍미가 강하니 맛이 묵직한 와인을, 지방이 적은 스테이크는 비교적 가벼운 와인을 매칭하는 것이 바람직하다고 말한다. 또한 피터 리처드 MW는 “크리미한 소스는 오크향이 강한 와인과 잘 어울리며 소금과 후추만 곁들일 땐 시라 와인을 추천한다”고 전했다.\\n\\n**고****정관념을 깨는 스테이크와 화이트 와인 페어링** [...] 품종의 특성상 대부분의 피노 누아 와인은 비교적 가볍기 때문에 맛이 묵직한 스테이크에 섬세한 향이 묻힌다고 생각하기 쉽다. 그러나 피노 누아의 산미와 밝은 레드베리 풍미는 상황에 따라 스테이크와 훌륭한 궁합을 보여준다. 피노 누아와 스테이크를 페어링할 경우, 일반적으로 레어에서 미디엄 레어로 익힌 안심을 선택하길 추천한다. 음식 및 와인 전문가 피오나 베켓(Fiona Becket)은 “나는 일반적으로 피노 누아를 스테이크와 잘 어울린다고 생각하지 않지만, 고기를 레어로 익혔을 경우 지금까지 최고의 페어링은 부드럽고 매혹적인 다니엘 리옹(Daniel Rion)의 본 로마네(Vosne-Romanée) 2001이었다”고 말했다.\\n\\n**지방의 정도와 소스도 중요하다고?**', 'score': 0.69024646, 'raw_content': None}], 'response_time': 1.36})]\n",
      "----------------------------------------------------------------------------------------------------\n",
      "('[{\"title\": \"스테이크와 찰떡궁합! 스테이크에 어울리는 와인 5가지 - 술의 모든 것\", \"url\": '\n",
      " '\"https://alcohol.hobby-tech.com/entry/%EC%8A%A4%ED%85%8C%EC%9D%B4%ED%81%AC%EC%99%80-%EC%B0%B0%EB%96%A1%EA%B6%81%ED%95%A9-%EC%8A%A4%ED%85%8C%EC%9D%B4%ED%81%AC%EC%97%90-%EC%96%B4%EC%9A%B8%EB%A6%AC%EB%8A%94-%EC%99%80%EC%9D%B8-5%EA%B0%80%EC%A7%80\", '\n",
      " '\"content\": \"1. 카베르네 소비뇽 (Cabernet Sauvignon) – 스테이크 와인의 '\n",
      " '대표주자\\\\n------------------------------------------------\\\\n\\\\n![Image '\n",
      " '3](https://blog.kakaocdn.net/dn/xWKr4/btsL30NJ5Zo/7JzT5nGQ6CXB4sTxlpdxf1/img.png)![Image '\n",
      " '4](https://blog.kakaocdn.net/dn/R0nXK/btsL4WXUW0Y/eQYYP6Pj1WKewJVFnM5ycK/img.png)\\\\n\\\\n**추천 '\n",
      " '이유:**\\\\n\\\\n카베르네 소비뇽은 강한 탄닌과 풍부한 바디감이 특징인 레드 와인입니다. 이는 스테이크의 기름진 육즙과 균형을 이루며, '\n",
      " '고기의 감칠맛을 더욱 살려줍니다.\\\\n\\\\n**어울리는 스테이크:**\\\\n\\\\n*   리브아이 스테이크\\\\n*   뉴욕 스트립\\\\n*   '\n",
      " '티본 스테이크\\\\n\\\\n**추천 와인:**\\\\n\\\\n*   나파 밸리 카베르네 소비뇽\\\\n*   샤또 마고 (Château '\n",
      " 'Margaux) [...] ![Image '\n",
      " '10](https://blog.kakaocdn.net/dn/dnoiCg/btsL5OybTaE/91vDmwi70ApQ1FZK6DFRQ0/img.png)![Image '\n",
      " '11](https://blog.kakaocdn.net/dn/bX2dCB/btsL48cPEez/PDKprxC9mea7bnWY9Y65bk/img.webp)![Image '\n",
      " '12](https://blog.kakaocdn.net/dn/bsBLqB/btsL3qswgyp/rmmMrpesqBZSmy2jGjbzd0/img.png)\\\\n\\\\n**추천 '\n",
      " '이유:**\\\\n\\\\n메를로는 탄닌이 상대적으로 적고 부드러운 질감을 가지고 있어 **고기의 풍미를 자연스럽게 살려주는 와인**입니다. '\n",
      " '무겁지 않으면서도 적절한 바디감을 가지고 있어 누구나 부담 없이 즐길 수 있습니다.\\\\n\\\\n**어울리는 스테이크:**\\\\n\\\\n*   '\n",
      " '등심 스테이크\\\\n*   미디엄 레어 스테이크\\\\n\\\\n**추천 와인:**\\\\n\\\\n*   보르도 우안 (생테밀리옹, 뽀므롤)\\\\n*   '\n",
      " '캘리포니아 메를로 [...] 반응형\\\\n\\\\n[• 1. 카베르네 소비뇽 (Cabernet Sauvignon) – 스테이크 와인의 '\n",
      " '대표주자](https://alcohol.hobby-tech.com/entry/%EC%8A%A4%ED%85%8C%EC%9D%B4%ED%81%AC%EC%99%80-%EC%B0%B0%EB%96%A1%EA%B6%81%ED%95%A9-%EC%8A%A4%ED%85%8C%EC%9D%B4%ED%81%AC%EC%97%90-%EC%96%B4%EC%9A%B8%EB%A6%AC%EB%8A%94-%EC%99%80%EC%9D%B8-5%EA%B0%80%EC%A7%80#toc0)\", '\n",
      " '\"score\": 0.70531887}, {\"title\": \"스테이크를 더 맛있게 만들어줄 와인 페어링 - 와인21닷컴\", \"url\": '\n",
      " '\"https://www.wine21.com/11_news/news_view.html?Idx=19051\", \"content\": \"유명 '\n",
      " '스테이크하우스 레스토랑의 와인 디렉터인 마크 퀵(Mark Quick)에 따르면 와인과 소고기를 페어링하는 가장 쉬운 방법은 와인 풍미의 '\n",
      " '강도를 스테이크와 맞추는 것이라고 한다. 예를 들어 지방이 많은 스테이크는 풍미가 강하니 맛이 묵직한 와인을, 지방이 적은 스테이크는 '\n",
      " '비교적 가벼운 와인을 매칭하는 것이 바람직하다고 말한다. 또한 피터 리처드 MW는 “크리미한 소스는 오크향이 강한 와인과 잘 어울리며 '\n",
      " '소금과 후추만 곁들일 땐 시라 와인을 추천한다”고 전했다.\\\\n\\\\n**고****정관념을 깨는 스테이크와 화이트 와인 페어링** '\n",
      " '[...] 품종의 특성상 대부분의 피노 누아 와인은 비교적 가볍기 때문에 맛이 묵직한 스테이크에 섬세한 향이 묻힌다고 생각하기 쉽다. '\n",
      " '그러나 피노 누아의 산미와 밝은 레드베리 풍미는 상황에 따라 스테이크와 훌륭한 궁합을 보여준다. 피노 누아와 스테이크를 페어링할 경우, '\n",
      " '일반적으로 레어에서 미디엄 레어로 익힌 안심을 선택하길 추천한다. 음식 및 와인 전문가 피오나 베켓(Fiona Becket)은 “나는 '\n",
      " '일반적으로 피노 누아를 스테이크와 잘 어울린다고 생각하지 않지만, 고기를 레어로 익혔을 경우 지금까지 최고의 페어링은 부드럽고 매혹적인 '\n",
      " '다니엘 리옹(Daniel Rion)의 본 로마네(Vosne-Romanée) 2001이었다”고 말했다.\\\\n\\\\n**지방의 정도와 소스도 '\n",
      " '중요하다고?**\", \"score\": 0.69024646}]')\n"
     ]
    }
   ],
   "source": [
    "# batch 실행 - 도구 호출이 여러 개인 경우\n",
    "\n",
    "# tool_messages = web_search.batch([tool_call])\n",
    "\n",
    "tool_messages = web_search.batch(ai_msg.tool_calls)\n",
    "\n",
    "print(tool_messages)\n",
    "print(\"-\" * 100)\n",
    "pprint(tool_messages[0].content)"
   ]
  },
  {
   "cell_type": "markdown",
   "id": "a20257ba",
   "metadata": {},
   "source": [
    "`(4) ToolMessage를 LLM에 전달하여 답변을 생성하기`\n",
    "\n",
    "* 파라미터 이름이 config여야 하는 이유: @chain 데코레이터가 config라는 이름만 특별히 인식하도록 설계되었습니다.\n",
    "* config 생략 가능한 이유: @chain이 자동으로 기본 RunnableConfig()를 생성해서 전달하기 때문입니다."
   ]
  },
  {
   "cell_type": "code",
   "execution_count": 46,
   "id": "1c5de654",
   "metadata": {},
   "outputs": [
    {
     "ename": "AuthenticationError",
     "evalue": "Error code: 401 - {'error': {'message': 'Incorrect API key provided: gsk_sfJa********************************************8nq0. You can find your API key at https://platform.openai.com/account/api-keys.', 'type': 'invalid_request_error', 'param': None, 'code': 'invalid_api_key'}}",
     "output_type": "error",
     "traceback": [
      "\u001b[31m---------------------------------------------------------------------------\u001b[39m",
      "\u001b[31mAuthenticationError\u001b[39m                       Traceback (most recent call last)",
      "\u001b[36mCell\u001b[39m\u001b[36m \u001b[39m\u001b[32mIn[46]\u001b[39m\u001b[32m, line 44\u001b[39m\n\u001b[32m     42\u001b[39m \u001b[38;5;66;03m# 체인 실행\u001b[39;00m\n\u001b[32m     43\u001b[39m query = \u001b[33m\"\u001b[39m\u001b[33m스테이크와 어울리는 와인을 추천해주세요.\u001b[39m\u001b[33m\"\u001b[39m\n\u001b[32m---> \u001b[39m\u001b[32m44\u001b[39m response = \u001b[43mweb_search_chain\u001b[49m\u001b[43m.\u001b[49m\u001b[43minvoke\u001b[49m\u001b[43m(\u001b[49m\u001b[43mquery\u001b[49m\u001b[43m)\u001b[49m\n\u001b[32m     46\u001b[39m \u001b[38;5;66;03m# 응답 출력 \u001b[39;00m\n\u001b[32m     47\u001b[39m pprint(response.content)\n",
      "\u001b[36mFile \u001b[39m\u001b[32mc:\\Users\\sogno\\AppData\\Local\\pypoetry\\Cache\\virtualenvs\\langchain-basic-farQSE-J-py3.12\\Lib\\site-packages\\langchain_core\\runnables\\base.py:4772\u001b[39m, in \u001b[36mRunnableLambda.invoke\u001b[39m\u001b[34m(self, input, config, **kwargs)\u001b[39m\n\u001b[32m   4758\u001b[39m \u001b[38;5;250m\u001b[39m\u001b[33;03m\"\"\"Invoke this Runnable synchronously.\u001b[39;00m\n\u001b[32m   4759\u001b[39m \n\u001b[32m   4760\u001b[39m \u001b[33;03mArgs:\u001b[39;00m\n\u001b[32m   (...)\u001b[39m\u001b[32m   4769\u001b[39m \u001b[33;03m    TypeError: If the Runnable is a coroutine function.\u001b[39;00m\n\u001b[32m   4770\u001b[39m \u001b[33;03m\"\"\"\u001b[39;00m\n\u001b[32m   4771\u001b[39m \u001b[38;5;28;01mif\u001b[39;00m \u001b[38;5;28mhasattr\u001b[39m(\u001b[38;5;28mself\u001b[39m, \u001b[33m\"\u001b[39m\u001b[33mfunc\u001b[39m\u001b[33m\"\u001b[39m):\n\u001b[32m-> \u001b[39m\u001b[32m4772\u001b[39m     \u001b[38;5;28;01mreturn\u001b[39;00m \u001b[38;5;28;43mself\u001b[39;49m\u001b[43m.\u001b[49m\u001b[43m_call_with_config\u001b[49m\u001b[43m(\u001b[49m\n\u001b[32m   4773\u001b[39m \u001b[43m        \u001b[49m\u001b[38;5;28;43mself\u001b[39;49m\u001b[43m.\u001b[49m\u001b[43m_invoke\u001b[49m\u001b[43m,\u001b[49m\n\u001b[32m   4774\u001b[39m \u001b[43m        \u001b[49m\u001b[38;5;28;43minput\u001b[39;49m\u001b[43m,\u001b[49m\n\u001b[32m   4775\u001b[39m \u001b[43m        \u001b[49m\u001b[43mensure_config\u001b[49m\u001b[43m(\u001b[49m\u001b[43mconfig\u001b[49m\u001b[43m)\u001b[49m\u001b[43m,\u001b[49m\n\u001b[32m   4776\u001b[39m \u001b[43m        \u001b[49m\u001b[43m*\u001b[49m\u001b[43m*\u001b[49m\u001b[43mkwargs\u001b[49m\u001b[43m,\u001b[49m\n\u001b[32m   4777\u001b[39m \u001b[43m    \u001b[49m\u001b[43m)\u001b[49m\n\u001b[32m   4778\u001b[39m msg = \u001b[33m\"\u001b[39m\u001b[33mCannot invoke a coroutine function synchronously.Use `ainvoke` instead.\u001b[39m\u001b[33m\"\u001b[39m\n\u001b[32m   4779\u001b[39m \u001b[38;5;28;01mraise\u001b[39;00m \u001b[38;5;167;01mTypeError\u001b[39;00m(msg)\n",
      "\u001b[36mFile \u001b[39m\u001b[32mc:\\Users\\sogno\\AppData\\Local\\pypoetry\\Cache\\virtualenvs\\langchain-basic-farQSE-J-py3.12\\Lib\\site-packages\\langchain_core\\runnables\\base.py:1940\u001b[39m, in \u001b[36mRunnable._call_with_config\u001b[39m\u001b[34m(self, func, input_, config, run_type, serialized, **kwargs)\u001b[39m\n\u001b[32m   1936\u001b[39m     child_config = patch_config(config, callbacks=run_manager.get_child())\n\u001b[32m   1937\u001b[39m     \u001b[38;5;28;01mwith\u001b[39;00m set_config_context(child_config) \u001b[38;5;28;01mas\u001b[39;00m context:\n\u001b[32m   1938\u001b[39m         output = cast(\n\u001b[32m   1939\u001b[39m             \u001b[33m\"\u001b[39m\u001b[33mOutput\u001b[39m\u001b[33m\"\u001b[39m,\n\u001b[32m-> \u001b[39m\u001b[32m1940\u001b[39m             \u001b[43mcontext\u001b[49m\u001b[43m.\u001b[49m\u001b[43mrun\u001b[49m\u001b[43m(\u001b[49m\n\u001b[32m   1941\u001b[39m \u001b[43m                \u001b[49m\u001b[43mcall_func_with_variable_args\u001b[49m\u001b[43m,\u001b[49m\u001b[43m  \u001b[49m\u001b[38;5;66;43;03m# type: ignore[arg-type]\u001b[39;49;00m\n\u001b[32m   1942\u001b[39m \u001b[43m                \u001b[49m\u001b[43mfunc\u001b[49m\u001b[43m,\u001b[49m\n\u001b[32m   1943\u001b[39m \u001b[43m                \u001b[49m\u001b[43minput_\u001b[49m\u001b[43m,\u001b[49m\n\u001b[32m   1944\u001b[39m \u001b[43m                \u001b[49m\u001b[43mconfig\u001b[49m\u001b[43m,\u001b[49m\n\u001b[32m   1945\u001b[39m \u001b[43m                \u001b[49m\u001b[43mrun_manager\u001b[49m\u001b[43m,\u001b[49m\n\u001b[32m   1946\u001b[39m \u001b[43m                \u001b[49m\u001b[43m*\u001b[49m\u001b[43m*\u001b[49m\u001b[43mkwargs\u001b[49m\u001b[43m,\u001b[49m\n\u001b[32m   1947\u001b[39m \u001b[43m            \u001b[49m\u001b[43m)\u001b[49m,\n\u001b[32m   1948\u001b[39m         )\n\u001b[32m   1949\u001b[39m \u001b[38;5;28;01mexcept\u001b[39;00m \u001b[38;5;167;01mBaseException\u001b[39;00m \u001b[38;5;28;01mas\u001b[39;00m e:\n\u001b[32m   1950\u001b[39m     run_manager.on_chain_error(e)\n",
      "\u001b[36mFile \u001b[39m\u001b[32mc:\\Users\\sogno\\AppData\\Local\\pypoetry\\Cache\\virtualenvs\\langchain-basic-farQSE-J-py3.12\\Lib\\site-packages\\langchain_core\\runnables\\config.py:428\u001b[39m, in \u001b[36mcall_func_with_variable_args\u001b[39m\u001b[34m(func, input, config, run_manager, **kwargs)\u001b[39m\n\u001b[32m    426\u001b[39m \u001b[38;5;28;01mif\u001b[39;00m run_manager \u001b[38;5;129;01mis\u001b[39;00m \u001b[38;5;129;01mnot\u001b[39;00m \u001b[38;5;28;01mNone\u001b[39;00m \u001b[38;5;129;01mand\u001b[39;00m accepts_run_manager(func):\n\u001b[32m    427\u001b[39m     kwargs[\u001b[33m\"\u001b[39m\u001b[33mrun_manager\u001b[39m\u001b[33m\"\u001b[39m] = run_manager\n\u001b[32m--> \u001b[39m\u001b[32m428\u001b[39m \u001b[38;5;28;01mreturn\u001b[39;00m \u001b[43mfunc\u001b[49m\u001b[43m(\u001b[49m\u001b[38;5;28;43minput\u001b[39;49m\u001b[43m,\u001b[49m\u001b[43m \u001b[49m\u001b[43m*\u001b[49m\u001b[43m*\u001b[49m\u001b[43mkwargs\u001b[49m\u001b[43m)\u001b[49m\n",
      "\u001b[36mFile \u001b[39m\u001b[32mc:\\Users\\sogno\\AppData\\Local\\pypoetry\\Cache\\virtualenvs\\langchain-basic-farQSE-J-py3.12\\Lib\\site-packages\\langchain_core\\runnables\\base.py:4630\u001b[39m, in \u001b[36mRunnableLambda._invoke\u001b[39m\u001b[34m(self, input_, run_manager, config, **kwargs)\u001b[39m\n\u001b[32m   4628\u001b[39m                 output = chunk\n\u001b[32m   4629\u001b[39m \u001b[38;5;28;01melse\u001b[39;00m:\n\u001b[32m-> \u001b[39m\u001b[32m4630\u001b[39m     output = \u001b[43mcall_func_with_variable_args\u001b[49m\u001b[43m(\u001b[49m\n\u001b[32m   4631\u001b[39m \u001b[43m        \u001b[49m\u001b[38;5;28;43mself\u001b[39;49m\u001b[43m.\u001b[49m\u001b[43mfunc\u001b[49m\u001b[43m,\u001b[49m\u001b[43m \u001b[49m\u001b[43minput_\u001b[49m\u001b[43m,\u001b[49m\u001b[43m \u001b[49m\u001b[43mconfig\u001b[49m\u001b[43m,\u001b[49m\u001b[43m \u001b[49m\u001b[43mrun_manager\u001b[49m\u001b[43m,\u001b[49m\u001b[43m \u001b[49m\u001b[43m*\u001b[49m\u001b[43m*\u001b[49m\u001b[43mkwargs\u001b[49m\n\u001b[32m   4632\u001b[39m \u001b[43m    \u001b[49m\u001b[43m)\u001b[49m\n\u001b[32m   4633\u001b[39m \u001b[38;5;66;03m# If the output is a Runnable, invoke it\u001b[39;00m\n\u001b[32m   4634\u001b[39m \u001b[38;5;28;01mif\u001b[39;00m \u001b[38;5;28misinstance\u001b[39m(output, Runnable):\n",
      "\u001b[36mFile \u001b[39m\u001b[32mc:\\Users\\sogno\\AppData\\Local\\pypoetry\\Cache\\virtualenvs\\langchain-basic-farQSE-J-py3.12\\Lib\\site-packages\\langchain_core\\runnables\\config.py:428\u001b[39m, in \u001b[36mcall_func_with_variable_args\u001b[39m\u001b[34m(func, input, config, run_manager, **kwargs)\u001b[39m\n\u001b[32m    426\u001b[39m \u001b[38;5;28;01mif\u001b[39;00m run_manager \u001b[38;5;129;01mis\u001b[39;00m \u001b[38;5;129;01mnot\u001b[39;00m \u001b[38;5;28;01mNone\u001b[39;00m \u001b[38;5;129;01mand\u001b[39;00m accepts_run_manager(func):\n\u001b[32m    427\u001b[39m     kwargs[\u001b[33m\"\u001b[39m\u001b[33mrun_manager\u001b[39m\u001b[33m\"\u001b[39m] = run_manager\n\u001b[32m--> \u001b[39m\u001b[32m428\u001b[39m \u001b[38;5;28;01mreturn\u001b[39;00m \u001b[43mfunc\u001b[49m\u001b[43m(\u001b[49m\u001b[38;5;28;43minput\u001b[39;49m\u001b[43m,\u001b[49m\u001b[43m \u001b[49m\u001b[43m*\u001b[49m\u001b[43m*\u001b[49m\u001b[43mkwargs\u001b[49m\u001b[43m)\u001b[49m\n",
      "\u001b[36mCell\u001b[39m\u001b[36m \u001b[39m\u001b[32mIn[46]\u001b[39m\u001b[32m, line 32\u001b[39m, in \u001b[36mweb_search_chain\u001b[39m\u001b[34m(user_input, config)\u001b[39m\n\u001b[32m     29\u001b[39m \u001b[38;5;129m@chain\u001b[39m\n\u001b[32m     30\u001b[39m \u001b[38;5;28;01mdef\u001b[39;00m\u001b[38;5;250m \u001b[39m\u001b[34mweb_search_chain\u001b[39m(user_input: \u001b[38;5;28mstr\u001b[39m, config: RunnableConfig):\n\u001b[32m     31\u001b[39m     input_ = {\u001b[33m\"\u001b[39m\u001b[33muser_input\u001b[39m\u001b[33m\"\u001b[39m: user_input}\n\u001b[32m---> \u001b[39m\u001b[32m32\u001b[39m     ai_msg = \u001b[43mllm_chain\u001b[49m\u001b[43m.\u001b[49m\u001b[43minvoke\u001b[49m\u001b[43m(\u001b[49m\u001b[43minput_\u001b[49m\u001b[43m,\u001b[49m\u001b[43m \u001b[49m\u001b[43mconfig\u001b[49m\u001b[43m=\u001b[49m\u001b[43mconfig\u001b[49m\u001b[43m)\u001b[49m\n\u001b[32m     33\u001b[39m     \u001b[38;5;28mprint\u001b[39m(\u001b[33m\"\u001b[39m\u001b[33mai_msg: \u001b[39m\u001b[38;5;130;01m\\n\u001b[39;00m\u001b[33m\"\u001b[39m, ai_msg)\n\u001b[32m     34\u001b[39m     \u001b[38;5;28mprint\u001b[39m(\u001b[33m\"\u001b[39m\u001b[33m-\u001b[39m\u001b[33m\"\u001b[39m*\u001b[32m100\u001b[39m)\n",
      "\u001b[36mFile \u001b[39m\u001b[32mc:\\Users\\sogno\\AppData\\Local\\pypoetry\\Cache\\virtualenvs\\langchain-basic-farQSE-J-py3.12\\Lib\\site-packages\\langchain_core\\runnables\\base.py:3047\u001b[39m, in \u001b[36mRunnableSequence.invoke\u001b[39m\u001b[34m(self, input, config, **kwargs)\u001b[39m\n\u001b[32m   3045\u001b[39m                 input_ = context.run(step.invoke, input_, config, **kwargs)\n\u001b[32m   3046\u001b[39m             \u001b[38;5;28;01melse\u001b[39;00m:\n\u001b[32m-> \u001b[39m\u001b[32m3047\u001b[39m                 input_ = \u001b[43mcontext\u001b[49m\u001b[43m.\u001b[49m\u001b[43mrun\u001b[49m\u001b[43m(\u001b[49m\u001b[43mstep\u001b[49m\u001b[43m.\u001b[49m\u001b[43minvoke\u001b[49m\u001b[43m,\u001b[49m\u001b[43m \u001b[49m\u001b[43minput_\u001b[49m\u001b[43m,\u001b[49m\u001b[43m \u001b[49m\u001b[43mconfig\u001b[49m\u001b[43m)\u001b[49m\n\u001b[32m   3048\u001b[39m \u001b[38;5;66;03m# finish the root run\u001b[39;00m\n\u001b[32m   3049\u001b[39m \u001b[38;5;28;01mexcept\u001b[39;00m \u001b[38;5;167;01mBaseException\u001b[39;00m \u001b[38;5;28;01mas\u001b[39;00m e:\n",
      "\u001b[36mFile \u001b[39m\u001b[32mc:\\Users\\sogno\\AppData\\Local\\pypoetry\\Cache\\virtualenvs\\langchain-basic-farQSE-J-py3.12\\Lib\\site-packages\\langchain_core\\runnables\\base.py:5431\u001b[39m, in \u001b[36mRunnableBindingBase.invoke\u001b[39m\u001b[34m(self, input, config, **kwargs)\u001b[39m\n\u001b[32m   5424\u001b[39m \u001b[38;5;129m@override\u001b[39m\n\u001b[32m   5425\u001b[39m \u001b[38;5;28;01mdef\u001b[39;00m\u001b[38;5;250m \u001b[39m\u001b[34minvoke\u001b[39m(\n\u001b[32m   5426\u001b[39m     \u001b[38;5;28mself\u001b[39m,\n\u001b[32m   (...)\u001b[39m\u001b[32m   5429\u001b[39m     **kwargs: Optional[Any],\n\u001b[32m   5430\u001b[39m ) -> Output:\n\u001b[32m-> \u001b[39m\u001b[32m5431\u001b[39m     \u001b[38;5;28;01mreturn\u001b[39;00m \u001b[38;5;28;43mself\u001b[39;49m\u001b[43m.\u001b[49m\u001b[43mbound\u001b[49m\u001b[43m.\u001b[49m\u001b[43minvoke\u001b[49m\u001b[43m(\u001b[49m\n\u001b[32m   5432\u001b[39m \u001b[43m        \u001b[49m\u001b[38;5;28;43minput\u001b[39;49m\u001b[43m,\u001b[49m\n\u001b[32m   5433\u001b[39m \u001b[43m        \u001b[49m\u001b[38;5;28;43mself\u001b[39;49m\u001b[43m.\u001b[49m\u001b[43m_merge_configs\u001b[49m\u001b[43m(\u001b[49m\u001b[43mconfig\u001b[49m\u001b[43m)\u001b[49m\u001b[43m,\u001b[49m\n\u001b[32m   5434\u001b[39m \u001b[43m        \u001b[49m\u001b[43m*\u001b[49m\u001b[43m*\u001b[49m\u001b[43m{\u001b[49m\u001b[43m*\u001b[49m\u001b[43m*\u001b[49m\u001b[38;5;28;43mself\u001b[39;49m\u001b[43m.\u001b[49m\u001b[43mkwargs\u001b[49m\u001b[43m,\u001b[49m\u001b[43m \u001b[49m\u001b[43m*\u001b[49m\u001b[43m*\u001b[49m\u001b[43mkwargs\u001b[49m\u001b[43m}\u001b[49m\u001b[43m,\u001b[49m\n\u001b[32m   5435\u001b[39m \u001b[43m    \u001b[49m\u001b[43m)\u001b[49m\n",
      "\u001b[36mFile \u001b[39m\u001b[32mc:\\Users\\sogno\\AppData\\Local\\pypoetry\\Cache\\virtualenvs\\langchain-basic-farQSE-J-py3.12\\Lib\\site-packages\\langchain_core\\language_models\\chat_models.py:372\u001b[39m, in \u001b[36mBaseChatModel.invoke\u001b[39m\u001b[34m(self, input, config, stop, **kwargs)\u001b[39m\n\u001b[32m    360\u001b[39m \u001b[38;5;129m@override\u001b[39m\n\u001b[32m    361\u001b[39m \u001b[38;5;28;01mdef\u001b[39;00m\u001b[38;5;250m \u001b[39m\u001b[34minvoke\u001b[39m(\n\u001b[32m    362\u001b[39m     \u001b[38;5;28mself\u001b[39m,\n\u001b[32m   (...)\u001b[39m\u001b[32m    367\u001b[39m     **kwargs: Any,\n\u001b[32m    368\u001b[39m ) -> BaseMessage:\n\u001b[32m    369\u001b[39m     config = ensure_config(config)\n\u001b[32m    370\u001b[39m     \u001b[38;5;28;01mreturn\u001b[39;00m cast(\n\u001b[32m    371\u001b[39m         \u001b[33m\"\u001b[39m\u001b[33mChatGeneration\u001b[39m\u001b[33m\"\u001b[39m,\n\u001b[32m--> \u001b[39m\u001b[32m372\u001b[39m         \u001b[38;5;28;43mself\u001b[39;49m\u001b[43m.\u001b[49m\u001b[43mgenerate_prompt\u001b[49m\u001b[43m(\u001b[49m\n\u001b[32m    373\u001b[39m \u001b[43m            \u001b[49m\u001b[43m[\u001b[49m\u001b[38;5;28;43mself\u001b[39;49m\u001b[43m.\u001b[49m\u001b[43m_convert_input\u001b[49m\u001b[43m(\u001b[49m\u001b[38;5;28;43minput\u001b[39;49m\u001b[43m)\u001b[49m\u001b[43m]\u001b[49m\u001b[43m,\u001b[49m\n\u001b[32m    374\u001b[39m \u001b[43m            \u001b[49m\u001b[43mstop\u001b[49m\u001b[43m=\u001b[49m\u001b[43mstop\u001b[49m\u001b[43m,\u001b[49m\n\u001b[32m    375\u001b[39m \u001b[43m            \u001b[49m\u001b[43mcallbacks\u001b[49m\u001b[43m=\u001b[49m\u001b[43mconfig\u001b[49m\u001b[43m.\u001b[49m\u001b[43mget\u001b[49m\u001b[43m(\u001b[49m\u001b[33;43m\"\u001b[39;49m\u001b[33;43mcallbacks\u001b[39;49m\u001b[33;43m\"\u001b[39;49m\u001b[43m)\u001b[49m\u001b[43m,\u001b[49m\n\u001b[32m    376\u001b[39m \u001b[43m            \u001b[49m\u001b[43mtags\u001b[49m\u001b[43m=\u001b[49m\u001b[43mconfig\u001b[49m\u001b[43m.\u001b[49m\u001b[43mget\u001b[49m\u001b[43m(\u001b[49m\u001b[33;43m\"\u001b[39;49m\u001b[33;43mtags\u001b[39;49m\u001b[33;43m\"\u001b[39;49m\u001b[43m)\u001b[49m\u001b[43m,\u001b[49m\n\u001b[32m    377\u001b[39m \u001b[43m            \u001b[49m\u001b[43mmetadata\u001b[49m\u001b[43m=\u001b[49m\u001b[43mconfig\u001b[49m\u001b[43m.\u001b[49m\u001b[43mget\u001b[49m\u001b[43m(\u001b[49m\u001b[33;43m\"\u001b[39;49m\u001b[33;43mmetadata\u001b[39;49m\u001b[33;43m\"\u001b[39;49m\u001b[43m)\u001b[49m\u001b[43m,\u001b[49m\n\u001b[32m    378\u001b[39m \u001b[43m            \u001b[49m\u001b[43mrun_name\u001b[49m\u001b[43m=\u001b[49m\u001b[43mconfig\u001b[49m\u001b[43m.\u001b[49m\u001b[43mget\u001b[49m\u001b[43m(\u001b[49m\u001b[33;43m\"\u001b[39;49m\u001b[33;43mrun_name\u001b[39;49m\u001b[33;43m\"\u001b[39;49m\u001b[43m)\u001b[49m\u001b[43m,\u001b[49m\n\u001b[32m    379\u001b[39m \u001b[43m            \u001b[49m\u001b[43mrun_id\u001b[49m\u001b[43m=\u001b[49m\u001b[43mconfig\u001b[49m\u001b[43m.\u001b[49m\u001b[43mpop\u001b[49m\u001b[43m(\u001b[49m\u001b[33;43m\"\u001b[39;49m\u001b[33;43mrun_id\u001b[39;49m\u001b[33;43m\"\u001b[39;49m\u001b[43m,\u001b[49m\u001b[43m \u001b[49m\u001b[38;5;28;43;01mNone\u001b[39;49;00m\u001b[43m)\u001b[49m\u001b[43m,\u001b[49m\n\u001b[32m    380\u001b[39m \u001b[43m            \u001b[49m\u001b[43m*\u001b[49m\u001b[43m*\u001b[49m\u001b[43mkwargs\u001b[49m\u001b[43m,\u001b[49m\n\u001b[32m    381\u001b[39m \u001b[43m        \u001b[49m\u001b[43m)\u001b[49m.generations[\u001b[32m0\u001b[39m][\u001b[32m0\u001b[39m],\n\u001b[32m    382\u001b[39m     ).message\n",
      "\u001b[36mFile \u001b[39m\u001b[32mc:\\Users\\sogno\\AppData\\Local\\pypoetry\\Cache\\virtualenvs\\langchain-basic-farQSE-J-py3.12\\Lib\\site-packages\\langchain_core\\language_models\\chat_models.py:957\u001b[39m, in \u001b[36mBaseChatModel.generate_prompt\u001b[39m\u001b[34m(self, prompts, stop, callbacks, **kwargs)\u001b[39m\n\u001b[32m    948\u001b[39m \u001b[38;5;129m@override\u001b[39m\n\u001b[32m    949\u001b[39m \u001b[38;5;28;01mdef\u001b[39;00m\u001b[38;5;250m \u001b[39m\u001b[34mgenerate_prompt\u001b[39m(\n\u001b[32m    950\u001b[39m     \u001b[38;5;28mself\u001b[39m,\n\u001b[32m   (...)\u001b[39m\u001b[32m    954\u001b[39m     **kwargs: Any,\n\u001b[32m    955\u001b[39m ) -> LLMResult:\n\u001b[32m    956\u001b[39m     prompt_messages = [p.to_messages() \u001b[38;5;28;01mfor\u001b[39;00m p \u001b[38;5;129;01min\u001b[39;00m prompts]\n\u001b[32m--> \u001b[39m\u001b[32m957\u001b[39m     \u001b[38;5;28;01mreturn\u001b[39;00m \u001b[38;5;28;43mself\u001b[39;49m\u001b[43m.\u001b[49m\u001b[43mgenerate\u001b[49m\u001b[43m(\u001b[49m\u001b[43mprompt_messages\u001b[49m\u001b[43m,\u001b[49m\u001b[43m \u001b[49m\u001b[43mstop\u001b[49m\u001b[43m=\u001b[49m\u001b[43mstop\u001b[49m\u001b[43m,\u001b[49m\u001b[43m \u001b[49m\u001b[43mcallbacks\u001b[49m\u001b[43m=\u001b[49m\u001b[43mcallbacks\u001b[49m\u001b[43m,\u001b[49m\u001b[43m \u001b[49m\u001b[43m*\u001b[49m\u001b[43m*\u001b[49m\u001b[43mkwargs\u001b[49m\u001b[43m)\u001b[49m\n",
      "\u001b[36mFile \u001b[39m\u001b[32mc:\\Users\\sogno\\AppData\\Local\\pypoetry\\Cache\\virtualenvs\\langchain-basic-farQSE-J-py3.12\\Lib\\site-packages\\langchain_core\\language_models\\chat_models.py:776\u001b[39m, in \u001b[36mBaseChatModel.generate\u001b[39m\u001b[34m(self, messages, stop, callbacks, tags, metadata, run_name, run_id, **kwargs)\u001b[39m\n\u001b[32m    773\u001b[39m \u001b[38;5;28;01mfor\u001b[39;00m i, m \u001b[38;5;129;01min\u001b[39;00m \u001b[38;5;28menumerate\u001b[39m(input_messages):\n\u001b[32m    774\u001b[39m     \u001b[38;5;28;01mtry\u001b[39;00m:\n\u001b[32m    775\u001b[39m         results.append(\n\u001b[32m--> \u001b[39m\u001b[32m776\u001b[39m             \u001b[38;5;28;43mself\u001b[39;49m\u001b[43m.\u001b[49m\u001b[43m_generate_with_cache\u001b[49m\u001b[43m(\u001b[49m\n\u001b[32m    777\u001b[39m \u001b[43m                \u001b[49m\u001b[43mm\u001b[49m\u001b[43m,\u001b[49m\n\u001b[32m    778\u001b[39m \u001b[43m                \u001b[49m\u001b[43mstop\u001b[49m\u001b[43m=\u001b[49m\u001b[43mstop\u001b[49m\u001b[43m,\u001b[49m\n\u001b[32m    779\u001b[39m \u001b[43m                \u001b[49m\u001b[43mrun_manager\u001b[49m\u001b[43m=\u001b[49m\u001b[43mrun_managers\u001b[49m\u001b[43m[\u001b[49m\u001b[43mi\u001b[49m\u001b[43m]\u001b[49m\u001b[43m \u001b[49m\u001b[38;5;28;43;01mif\u001b[39;49;00m\u001b[43m \u001b[49m\u001b[43mrun_managers\u001b[49m\u001b[43m \u001b[49m\u001b[38;5;28;43;01melse\u001b[39;49;00m\u001b[43m \u001b[49m\u001b[38;5;28;43;01mNone\u001b[39;49;00m\u001b[43m,\u001b[49m\n\u001b[32m    780\u001b[39m \u001b[43m                \u001b[49m\u001b[43m*\u001b[49m\u001b[43m*\u001b[49m\u001b[43mkwargs\u001b[49m\u001b[43m,\u001b[49m\n\u001b[32m    781\u001b[39m \u001b[43m            \u001b[49m\u001b[43m)\u001b[49m\n\u001b[32m    782\u001b[39m         )\n\u001b[32m    783\u001b[39m     \u001b[38;5;28;01mexcept\u001b[39;00m \u001b[38;5;167;01mBaseException\u001b[39;00m \u001b[38;5;28;01mas\u001b[39;00m e:\n\u001b[32m    784\u001b[39m         \u001b[38;5;28;01mif\u001b[39;00m run_managers:\n",
      "\u001b[36mFile \u001b[39m\u001b[32mc:\\Users\\sogno\\AppData\\Local\\pypoetry\\Cache\\virtualenvs\\langchain-basic-farQSE-J-py3.12\\Lib\\site-packages\\langchain_core\\language_models\\chat_models.py:1022\u001b[39m, in \u001b[36mBaseChatModel._generate_with_cache\u001b[39m\u001b[34m(self, messages, stop, run_manager, **kwargs)\u001b[39m\n\u001b[32m   1020\u001b[39m     result = generate_from_stream(\u001b[38;5;28miter\u001b[39m(chunks))\n\u001b[32m   1021\u001b[39m \u001b[38;5;28;01melif\u001b[39;00m inspect.signature(\u001b[38;5;28mself\u001b[39m._generate).parameters.get(\u001b[33m\"\u001b[39m\u001b[33mrun_manager\u001b[39m\u001b[33m\"\u001b[39m):\n\u001b[32m-> \u001b[39m\u001b[32m1022\u001b[39m     result = \u001b[38;5;28;43mself\u001b[39;49m\u001b[43m.\u001b[49m\u001b[43m_generate\u001b[49m\u001b[43m(\u001b[49m\n\u001b[32m   1023\u001b[39m \u001b[43m        \u001b[49m\u001b[43mmessages\u001b[49m\u001b[43m,\u001b[49m\u001b[43m \u001b[49m\u001b[43mstop\u001b[49m\u001b[43m=\u001b[49m\u001b[43mstop\u001b[49m\u001b[43m,\u001b[49m\u001b[43m \u001b[49m\u001b[43mrun_manager\u001b[49m\u001b[43m=\u001b[49m\u001b[43mrun_manager\u001b[49m\u001b[43m,\u001b[49m\u001b[43m \u001b[49m\u001b[43m*\u001b[49m\u001b[43m*\u001b[49m\u001b[43mkwargs\u001b[49m\n\u001b[32m   1024\u001b[39m \u001b[43m    \u001b[49m\u001b[43m)\u001b[49m\n\u001b[32m   1025\u001b[39m \u001b[38;5;28;01melse\u001b[39;00m:\n\u001b[32m   1026\u001b[39m     result = \u001b[38;5;28mself\u001b[39m._generate(messages, stop=stop, **kwargs)\n",
      "\u001b[36mFile \u001b[39m\u001b[32mc:\\Users\\sogno\\AppData\\Local\\pypoetry\\Cache\\virtualenvs\\langchain-basic-farQSE-J-py3.12\\Lib\\site-packages\\langchain_openai\\chat_models\\base.py:995\u001b[39m, in \u001b[36mBaseChatOpenAI._generate\u001b[39m\u001b[34m(self, messages, stop, run_manager, **kwargs)\u001b[39m\n\u001b[32m    993\u001b[39m     generation_info = {\u001b[33m\"\u001b[39m\u001b[33mheaders\u001b[39m\u001b[33m\"\u001b[39m: \u001b[38;5;28mdict\u001b[39m(raw_response.headers)}\n\u001b[32m    994\u001b[39m \u001b[38;5;28;01melse\u001b[39;00m:\n\u001b[32m--> \u001b[39m\u001b[32m995\u001b[39m     response = \u001b[38;5;28;43mself\u001b[39;49m\u001b[43m.\u001b[49m\u001b[43mclient\u001b[49m\u001b[43m.\u001b[49m\u001b[43mcreate\u001b[49m\u001b[43m(\u001b[49m\u001b[43m*\u001b[49m\u001b[43m*\u001b[49m\u001b[43mpayload\u001b[49m\u001b[43m)\u001b[49m\n\u001b[32m    996\u001b[39m \u001b[38;5;28;01mreturn\u001b[39;00m \u001b[38;5;28mself\u001b[39m._create_chat_result(response, generation_info)\n",
      "\u001b[36mFile \u001b[39m\u001b[32mc:\\Users\\sogno\\AppData\\Local\\pypoetry\\Cache\\virtualenvs\\langchain-basic-farQSE-J-py3.12\\Lib\\site-packages\\openai\\_utils\\_utils.py:287\u001b[39m, in \u001b[36mrequired_args.<locals>.inner.<locals>.wrapper\u001b[39m\u001b[34m(*args, **kwargs)\u001b[39m\n\u001b[32m    285\u001b[39m             msg = \u001b[33mf\u001b[39m\u001b[33m\"\u001b[39m\u001b[33mMissing required argument: \u001b[39m\u001b[38;5;132;01m{\u001b[39;00mquote(missing[\u001b[32m0\u001b[39m])\u001b[38;5;132;01m}\u001b[39;00m\u001b[33m\"\u001b[39m\n\u001b[32m    286\u001b[39m     \u001b[38;5;28;01mraise\u001b[39;00m \u001b[38;5;167;01mTypeError\u001b[39;00m(msg)\n\u001b[32m--> \u001b[39m\u001b[32m287\u001b[39m \u001b[38;5;28;01mreturn\u001b[39;00m \u001b[43mfunc\u001b[49m\u001b[43m(\u001b[49m\u001b[43m*\u001b[49m\u001b[43margs\u001b[49m\u001b[43m,\u001b[49m\u001b[43m \u001b[49m\u001b[43m*\u001b[49m\u001b[43m*\u001b[49m\u001b[43mkwargs\u001b[49m\u001b[43m)\u001b[49m\n",
      "\u001b[36mFile \u001b[39m\u001b[32mc:\\Users\\sogno\\AppData\\Local\\pypoetry\\Cache\\virtualenvs\\langchain-basic-farQSE-J-py3.12\\Lib\\site-packages\\openai\\resources\\chat\\completions\\completions.py:925\u001b[39m, in \u001b[36mCompletions.create\u001b[39m\u001b[34m(self, messages, model, audio, frequency_penalty, function_call, functions, logit_bias, logprobs, max_completion_tokens, max_tokens, metadata, modalities, n, parallel_tool_calls, prediction, presence_penalty, reasoning_effort, response_format, seed, service_tier, stop, store, stream, stream_options, temperature, tool_choice, tools, top_logprobs, top_p, user, web_search_options, extra_headers, extra_query, extra_body, timeout)\u001b[39m\n\u001b[32m    882\u001b[39m \u001b[38;5;129m@required_args\u001b[39m([\u001b[33m\"\u001b[39m\u001b[33mmessages\u001b[39m\u001b[33m\"\u001b[39m, \u001b[33m\"\u001b[39m\u001b[33mmodel\u001b[39m\u001b[33m\"\u001b[39m], [\u001b[33m\"\u001b[39m\u001b[33mmessages\u001b[39m\u001b[33m\"\u001b[39m, \u001b[33m\"\u001b[39m\u001b[33mmodel\u001b[39m\u001b[33m\"\u001b[39m, \u001b[33m\"\u001b[39m\u001b[33mstream\u001b[39m\u001b[33m\"\u001b[39m])\n\u001b[32m    883\u001b[39m \u001b[38;5;28;01mdef\u001b[39;00m\u001b[38;5;250m \u001b[39m\u001b[34mcreate\u001b[39m(\n\u001b[32m    884\u001b[39m     \u001b[38;5;28mself\u001b[39m,\n\u001b[32m   (...)\u001b[39m\u001b[32m    922\u001b[39m     timeout: \u001b[38;5;28mfloat\u001b[39m | httpx.Timeout | \u001b[38;5;28;01mNone\u001b[39;00m | NotGiven = NOT_GIVEN,\n\u001b[32m    923\u001b[39m ) -> ChatCompletion | Stream[ChatCompletionChunk]:\n\u001b[32m    924\u001b[39m     validate_response_format(response_format)\n\u001b[32m--> \u001b[39m\u001b[32m925\u001b[39m     \u001b[38;5;28;01mreturn\u001b[39;00m \u001b[38;5;28;43mself\u001b[39;49m\u001b[43m.\u001b[49m\u001b[43m_post\u001b[49m\u001b[43m(\u001b[49m\n\u001b[32m    926\u001b[39m \u001b[43m        \u001b[49m\u001b[33;43m\"\u001b[39;49m\u001b[33;43m/chat/completions\u001b[39;49m\u001b[33;43m\"\u001b[39;49m\u001b[43m,\u001b[49m\n\u001b[32m    927\u001b[39m \u001b[43m        \u001b[49m\u001b[43mbody\u001b[49m\u001b[43m=\u001b[49m\u001b[43mmaybe_transform\u001b[49m\u001b[43m(\u001b[49m\n\u001b[32m    928\u001b[39m \u001b[43m            \u001b[49m\u001b[43m{\u001b[49m\n\u001b[32m    929\u001b[39m \u001b[43m                \u001b[49m\u001b[33;43m\"\u001b[39;49m\u001b[33;43mmessages\u001b[39;49m\u001b[33;43m\"\u001b[39;49m\u001b[43m:\u001b[49m\u001b[43m \u001b[49m\u001b[43mmessages\u001b[49m\u001b[43m,\u001b[49m\n\u001b[32m    930\u001b[39m \u001b[43m                \u001b[49m\u001b[33;43m\"\u001b[39;49m\u001b[33;43mmodel\u001b[39;49m\u001b[33;43m\"\u001b[39;49m\u001b[43m:\u001b[49m\u001b[43m \u001b[49m\u001b[43mmodel\u001b[49m\u001b[43m,\u001b[49m\n\u001b[32m    931\u001b[39m \u001b[43m                \u001b[49m\u001b[33;43m\"\u001b[39;49m\u001b[33;43maudio\u001b[39;49m\u001b[33;43m\"\u001b[39;49m\u001b[43m:\u001b[49m\u001b[43m \u001b[49m\u001b[43maudio\u001b[49m\u001b[43m,\u001b[49m\n\u001b[32m    932\u001b[39m \u001b[43m                \u001b[49m\u001b[33;43m\"\u001b[39;49m\u001b[33;43mfrequency_penalty\u001b[39;49m\u001b[33;43m\"\u001b[39;49m\u001b[43m:\u001b[49m\u001b[43m \u001b[49m\u001b[43mfrequency_penalty\u001b[49m\u001b[43m,\u001b[49m\n\u001b[32m    933\u001b[39m \u001b[43m                \u001b[49m\u001b[33;43m\"\u001b[39;49m\u001b[33;43mfunction_call\u001b[39;49m\u001b[33;43m\"\u001b[39;49m\u001b[43m:\u001b[49m\u001b[43m \u001b[49m\u001b[43mfunction_call\u001b[49m\u001b[43m,\u001b[49m\n\u001b[32m    934\u001b[39m \u001b[43m                \u001b[49m\u001b[33;43m\"\u001b[39;49m\u001b[33;43mfunctions\u001b[39;49m\u001b[33;43m\"\u001b[39;49m\u001b[43m:\u001b[49m\u001b[43m \u001b[49m\u001b[43mfunctions\u001b[49m\u001b[43m,\u001b[49m\n\u001b[32m    935\u001b[39m \u001b[43m                \u001b[49m\u001b[33;43m\"\u001b[39;49m\u001b[33;43mlogit_bias\u001b[39;49m\u001b[33;43m\"\u001b[39;49m\u001b[43m:\u001b[49m\u001b[43m \u001b[49m\u001b[43mlogit_bias\u001b[49m\u001b[43m,\u001b[49m\n\u001b[32m    936\u001b[39m \u001b[43m                \u001b[49m\u001b[33;43m\"\u001b[39;49m\u001b[33;43mlogprobs\u001b[39;49m\u001b[33;43m\"\u001b[39;49m\u001b[43m:\u001b[49m\u001b[43m \u001b[49m\u001b[43mlogprobs\u001b[49m\u001b[43m,\u001b[49m\n\u001b[32m    937\u001b[39m \u001b[43m                \u001b[49m\u001b[33;43m\"\u001b[39;49m\u001b[33;43mmax_completion_tokens\u001b[39;49m\u001b[33;43m\"\u001b[39;49m\u001b[43m:\u001b[49m\u001b[43m \u001b[49m\u001b[43mmax_completion_tokens\u001b[49m\u001b[43m,\u001b[49m\n\u001b[32m    938\u001b[39m \u001b[43m                \u001b[49m\u001b[33;43m\"\u001b[39;49m\u001b[33;43mmax_tokens\u001b[39;49m\u001b[33;43m\"\u001b[39;49m\u001b[43m:\u001b[49m\u001b[43m \u001b[49m\u001b[43mmax_tokens\u001b[49m\u001b[43m,\u001b[49m\n\u001b[32m    939\u001b[39m \u001b[43m                \u001b[49m\u001b[33;43m\"\u001b[39;49m\u001b[33;43mmetadata\u001b[39;49m\u001b[33;43m\"\u001b[39;49m\u001b[43m:\u001b[49m\u001b[43m \u001b[49m\u001b[43mmetadata\u001b[49m\u001b[43m,\u001b[49m\n\u001b[32m    940\u001b[39m \u001b[43m                \u001b[49m\u001b[33;43m\"\u001b[39;49m\u001b[33;43mmodalities\u001b[39;49m\u001b[33;43m\"\u001b[39;49m\u001b[43m:\u001b[49m\u001b[43m \u001b[49m\u001b[43mmodalities\u001b[49m\u001b[43m,\u001b[49m\n\u001b[32m    941\u001b[39m \u001b[43m                \u001b[49m\u001b[33;43m\"\u001b[39;49m\u001b[33;43mn\u001b[39;49m\u001b[33;43m\"\u001b[39;49m\u001b[43m:\u001b[49m\u001b[43m \u001b[49m\u001b[43mn\u001b[49m\u001b[43m,\u001b[49m\n\u001b[32m    942\u001b[39m \u001b[43m                \u001b[49m\u001b[33;43m\"\u001b[39;49m\u001b[33;43mparallel_tool_calls\u001b[39;49m\u001b[33;43m\"\u001b[39;49m\u001b[43m:\u001b[49m\u001b[43m \u001b[49m\u001b[43mparallel_tool_calls\u001b[49m\u001b[43m,\u001b[49m\n\u001b[32m    943\u001b[39m \u001b[43m                \u001b[49m\u001b[33;43m\"\u001b[39;49m\u001b[33;43mprediction\u001b[39;49m\u001b[33;43m\"\u001b[39;49m\u001b[43m:\u001b[49m\u001b[43m \u001b[49m\u001b[43mprediction\u001b[49m\u001b[43m,\u001b[49m\n\u001b[32m    944\u001b[39m \u001b[43m                \u001b[49m\u001b[33;43m\"\u001b[39;49m\u001b[33;43mpresence_penalty\u001b[39;49m\u001b[33;43m\"\u001b[39;49m\u001b[43m:\u001b[49m\u001b[43m \u001b[49m\u001b[43mpresence_penalty\u001b[49m\u001b[43m,\u001b[49m\n\u001b[32m    945\u001b[39m \u001b[43m                \u001b[49m\u001b[33;43m\"\u001b[39;49m\u001b[33;43mreasoning_effort\u001b[39;49m\u001b[33;43m\"\u001b[39;49m\u001b[43m:\u001b[49m\u001b[43m \u001b[49m\u001b[43mreasoning_effort\u001b[49m\u001b[43m,\u001b[49m\n\u001b[32m    946\u001b[39m \u001b[43m                \u001b[49m\u001b[33;43m\"\u001b[39;49m\u001b[33;43mresponse_format\u001b[39;49m\u001b[33;43m\"\u001b[39;49m\u001b[43m:\u001b[49m\u001b[43m \u001b[49m\u001b[43mresponse_format\u001b[49m\u001b[43m,\u001b[49m\n\u001b[32m    947\u001b[39m \u001b[43m                \u001b[49m\u001b[33;43m\"\u001b[39;49m\u001b[33;43mseed\u001b[39;49m\u001b[33;43m\"\u001b[39;49m\u001b[43m:\u001b[49m\u001b[43m \u001b[49m\u001b[43mseed\u001b[49m\u001b[43m,\u001b[49m\n\u001b[32m    948\u001b[39m \u001b[43m                \u001b[49m\u001b[33;43m\"\u001b[39;49m\u001b[33;43mservice_tier\u001b[39;49m\u001b[33;43m\"\u001b[39;49m\u001b[43m:\u001b[49m\u001b[43m \u001b[49m\u001b[43mservice_tier\u001b[49m\u001b[43m,\u001b[49m\n\u001b[32m    949\u001b[39m \u001b[43m                \u001b[49m\u001b[33;43m\"\u001b[39;49m\u001b[33;43mstop\u001b[39;49m\u001b[33;43m\"\u001b[39;49m\u001b[43m:\u001b[49m\u001b[43m \u001b[49m\u001b[43mstop\u001b[49m\u001b[43m,\u001b[49m\n\u001b[32m    950\u001b[39m \u001b[43m                \u001b[49m\u001b[33;43m\"\u001b[39;49m\u001b[33;43mstore\u001b[39;49m\u001b[33;43m\"\u001b[39;49m\u001b[43m:\u001b[49m\u001b[43m \u001b[49m\u001b[43mstore\u001b[49m\u001b[43m,\u001b[49m\n\u001b[32m    951\u001b[39m \u001b[43m                \u001b[49m\u001b[33;43m\"\u001b[39;49m\u001b[33;43mstream\u001b[39;49m\u001b[33;43m\"\u001b[39;49m\u001b[43m:\u001b[49m\u001b[43m \u001b[49m\u001b[43mstream\u001b[49m\u001b[43m,\u001b[49m\n\u001b[32m    952\u001b[39m \u001b[43m                \u001b[49m\u001b[33;43m\"\u001b[39;49m\u001b[33;43mstream_options\u001b[39;49m\u001b[33;43m\"\u001b[39;49m\u001b[43m:\u001b[49m\u001b[43m \u001b[49m\u001b[43mstream_options\u001b[49m\u001b[43m,\u001b[49m\n\u001b[32m    953\u001b[39m \u001b[43m                \u001b[49m\u001b[33;43m\"\u001b[39;49m\u001b[33;43mtemperature\u001b[39;49m\u001b[33;43m\"\u001b[39;49m\u001b[43m:\u001b[49m\u001b[43m \u001b[49m\u001b[43mtemperature\u001b[49m\u001b[43m,\u001b[49m\n\u001b[32m    954\u001b[39m \u001b[43m                \u001b[49m\u001b[33;43m\"\u001b[39;49m\u001b[33;43mtool_choice\u001b[39;49m\u001b[33;43m\"\u001b[39;49m\u001b[43m:\u001b[49m\u001b[43m \u001b[49m\u001b[43mtool_choice\u001b[49m\u001b[43m,\u001b[49m\n\u001b[32m    955\u001b[39m \u001b[43m                \u001b[49m\u001b[33;43m\"\u001b[39;49m\u001b[33;43mtools\u001b[39;49m\u001b[33;43m\"\u001b[39;49m\u001b[43m:\u001b[49m\u001b[43m \u001b[49m\u001b[43mtools\u001b[49m\u001b[43m,\u001b[49m\n\u001b[32m    956\u001b[39m \u001b[43m                \u001b[49m\u001b[33;43m\"\u001b[39;49m\u001b[33;43mtop_logprobs\u001b[39;49m\u001b[33;43m\"\u001b[39;49m\u001b[43m:\u001b[49m\u001b[43m \u001b[49m\u001b[43mtop_logprobs\u001b[49m\u001b[43m,\u001b[49m\n\u001b[32m    957\u001b[39m \u001b[43m                \u001b[49m\u001b[33;43m\"\u001b[39;49m\u001b[33;43mtop_p\u001b[39;49m\u001b[33;43m\"\u001b[39;49m\u001b[43m:\u001b[49m\u001b[43m \u001b[49m\u001b[43mtop_p\u001b[49m\u001b[43m,\u001b[49m\n\u001b[32m    958\u001b[39m \u001b[43m                \u001b[49m\u001b[33;43m\"\u001b[39;49m\u001b[33;43muser\u001b[39;49m\u001b[33;43m\"\u001b[39;49m\u001b[43m:\u001b[49m\u001b[43m \u001b[49m\u001b[43muser\u001b[49m\u001b[43m,\u001b[49m\n\u001b[32m    959\u001b[39m \u001b[43m                \u001b[49m\u001b[33;43m\"\u001b[39;49m\u001b[33;43mweb_search_options\u001b[39;49m\u001b[33;43m\"\u001b[39;49m\u001b[43m:\u001b[49m\u001b[43m \u001b[49m\u001b[43mweb_search_options\u001b[49m\u001b[43m,\u001b[49m\n\u001b[32m    960\u001b[39m \u001b[43m            \u001b[49m\u001b[43m}\u001b[49m\u001b[43m,\u001b[49m\n\u001b[32m    961\u001b[39m \u001b[43m            \u001b[49m\u001b[43mcompletion_create_params\u001b[49m\u001b[43m.\u001b[49m\u001b[43mCompletionCreateParamsStreaming\u001b[49m\n\u001b[32m    962\u001b[39m \u001b[43m            \u001b[49m\u001b[38;5;28;43;01mif\u001b[39;49;00m\u001b[43m \u001b[49m\u001b[43mstream\u001b[49m\n\u001b[32m    963\u001b[39m \u001b[43m            \u001b[49m\u001b[38;5;28;43;01melse\u001b[39;49;00m\u001b[43m \u001b[49m\u001b[43mcompletion_create_params\u001b[49m\u001b[43m.\u001b[49m\u001b[43mCompletionCreateParamsNonStreaming\u001b[49m\u001b[43m,\u001b[49m\n\u001b[32m    964\u001b[39m \u001b[43m        \u001b[49m\u001b[43m)\u001b[49m\u001b[43m,\u001b[49m\n\u001b[32m    965\u001b[39m \u001b[43m        \u001b[49m\u001b[43moptions\u001b[49m\u001b[43m=\u001b[49m\u001b[43mmake_request_options\u001b[49m\u001b[43m(\u001b[49m\n\u001b[32m    966\u001b[39m \u001b[43m            \u001b[49m\u001b[43mextra_headers\u001b[49m\u001b[43m=\u001b[49m\u001b[43mextra_headers\u001b[49m\u001b[43m,\u001b[49m\u001b[43m \u001b[49m\u001b[43mextra_query\u001b[49m\u001b[43m=\u001b[49m\u001b[43mextra_query\u001b[49m\u001b[43m,\u001b[49m\u001b[43m \u001b[49m\u001b[43mextra_body\u001b[49m\u001b[43m=\u001b[49m\u001b[43mextra_body\u001b[49m\u001b[43m,\u001b[49m\u001b[43m \u001b[49m\u001b[43mtimeout\u001b[49m\u001b[43m=\u001b[49m\u001b[43mtimeout\u001b[49m\n\u001b[32m    967\u001b[39m \u001b[43m        \u001b[49m\u001b[43m)\u001b[49m\u001b[43m,\u001b[49m\n\u001b[32m    968\u001b[39m \u001b[43m        \u001b[49m\u001b[43mcast_to\u001b[49m\u001b[43m=\u001b[49m\u001b[43mChatCompletion\u001b[49m\u001b[43m,\u001b[49m\n\u001b[32m    969\u001b[39m \u001b[43m        \u001b[49m\u001b[43mstream\u001b[49m\u001b[43m=\u001b[49m\u001b[43mstream\u001b[49m\u001b[43m \u001b[49m\u001b[38;5;129;43;01mor\u001b[39;49;00m\u001b[43m \u001b[49m\u001b[38;5;28;43;01mFalse\u001b[39;49;00m\u001b[43m,\u001b[49m\n\u001b[32m    970\u001b[39m \u001b[43m        \u001b[49m\u001b[43mstream_cls\u001b[49m\u001b[43m=\u001b[49m\u001b[43mStream\u001b[49m\u001b[43m[\u001b[49m\u001b[43mChatCompletionChunk\u001b[49m\u001b[43m]\u001b[49m\u001b[43m,\u001b[49m\n\u001b[32m    971\u001b[39m \u001b[43m    \u001b[49m\u001b[43m)\u001b[49m\n",
      "\u001b[36mFile \u001b[39m\u001b[32mc:\\Users\\sogno\\AppData\\Local\\pypoetry\\Cache\\virtualenvs\\langchain-basic-farQSE-J-py3.12\\Lib\\site-packages\\openai\\_base_client.py:1242\u001b[39m, in \u001b[36mSyncAPIClient.post\u001b[39m\u001b[34m(self, path, cast_to, body, options, files, stream, stream_cls)\u001b[39m\n\u001b[32m   1228\u001b[39m \u001b[38;5;28;01mdef\u001b[39;00m\u001b[38;5;250m \u001b[39m\u001b[34mpost\u001b[39m(\n\u001b[32m   1229\u001b[39m     \u001b[38;5;28mself\u001b[39m,\n\u001b[32m   1230\u001b[39m     path: \u001b[38;5;28mstr\u001b[39m,\n\u001b[32m   (...)\u001b[39m\u001b[32m   1237\u001b[39m     stream_cls: \u001b[38;5;28mtype\u001b[39m[_StreamT] | \u001b[38;5;28;01mNone\u001b[39;00m = \u001b[38;5;28;01mNone\u001b[39;00m,\n\u001b[32m   1238\u001b[39m ) -> ResponseT | _StreamT:\n\u001b[32m   1239\u001b[39m     opts = FinalRequestOptions.construct(\n\u001b[32m   1240\u001b[39m         method=\u001b[33m\"\u001b[39m\u001b[33mpost\u001b[39m\u001b[33m\"\u001b[39m, url=path, json_data=body, files=to_httpx_files(files), **options\n\u001b[32m   1241\u001b[39m     )\n\u001b[32m-> \u001b[39m\u001b[32m1242\u001b[39m     \u001b[38;5;28;01mreturn\u001b[39;00m cast(ResponseT, \u001b[38;5;28;43mself\u001b[39;49m\u001b[43m.\u001b[49m\u001b[43mrequest\u001b[49m\u001b[43m(\u001b[49m\u001b[43mcast_to\u001b[49m\u001b[43m,\u001b[49m\u001b[43m \u001b[49m\u001b[43mopts\u001b[49m\u001b[43m,\u001b[49m\u001b[43m \u001b[49m\u001b[43mstream\u001b[49m\u001b[43m=\u001b[49m\u001b[43mstream\u001b[49m\u001b[43m,\u001b[49m\u001b[43m \u001b[49m\u001b[43mstream_cls\u001b[49m\u001b[43m=\u001b[49m\u001b[43mstream_cls\u001b[49m\u001b[43m)\u001b[49m)\n",
      "\u001b[36mFile \u001b[39m\u001b[32mc:\\Users\\sogno\\AppData\\Local\\pypoetry\\Cache\\virtualenvs\\langchain-basic-farQSE-J-py3.12\\Lib\\site-packages\\openai\\_base_client.py:1037\u001b[39m, in \u001b[36mSyncAPIClient.request\u001b[39m\u001b[34m(self, cast_to, options, stream, stream_cls)\u001b[39m\n\u001b[32m   1034\u001b[39m             err.response.read()\n\u001b[32m   1036\u001b[39m         log.debug(\u001b[33m\"\u001b[39m\u001b[33mRe-raising status error\u001b[39m\u001b[33m\"\u001b[39m)\n\u001b[32m-> \u001b[39m\u001b[32m1037\u001b[39m         \u001b[38;5;28;01mraise\u001b[39;00m \u001b[38;5;28mself\u001b[39m._make_status_error_from_response(err.response) \u001b[38;5;28;01mfrom\u001b[39;00m\u001b[38;5;250m \u001b[39m\u001b[38;5;28;01mNone\u001b[39;00m\n\u001b[32m   1039\u001b[39m     \u001b[38;5;28;01mbreak\u001b[39;00m\n\u001b[32m   1041\u001b[39m \u001b[38;5;28;01massert\u001b[39;00m response \u001b[38;5;129;01mis\u001b[39;00m \u001b[38;5;129;01mnot\u001b[39;00m \u001b[38;5;28;01mNone\u001b[39;00m, \u001b[33m\"\u001b[39m\u001b[33mcould not resolve response (should never happen)\u001b[39m\u001b[33m\"\u001b[39m\n",
      "\u001b[31mAuthenticationError\u001b[39m: Error code: 401 - {'error': {'message': 'Incorrect API key provided: gsk_sfJa********************************************8nq0. You can find your API key at https://platform.openai.com/account/api-keys.', 'type': 'invalid_request_error', 'param': None, 'code': 'invalid_api_key'}}"
     ]
    }
   ],
   "source": [
    "from datetime import datetime\n",
    "from langchain_core.prompts import ChatPromptTemplate\n",
    "from langchain_core.runnables import RunnableConfig, chain\n",
    "\n",
    "# 오늘 날짜 설정\n",
    "today = datetime.today().strftime(\"%Y-%m-%d\")\n",
    "\n",
    "# 프롬프트 템플릿 \n",
    "prompt = ChatPromptTemplate([\n",
    "    (\"system\", f\"You are a helpful AI assistant. Today's date is {today}.\"),\n",
    "    (\"human\", \"{user_input}\"),\n",
    "    (\"placeholder\", \"{messages}\"),\n",
    "])\n",
    "\n",
    "# ChatOpenAI 모델 초기화 \n",
    "# llm = ChatOpenAI(model=\"gpt-4o-mini\")\n",
    "\n",
    "# Tavily 검색 도구 초기화 (최대 2개의 결과 반환)\n",
    "tavily_tool = TavilySearchResults(max_results=2)\n",
    "\n",
    "# LLM에 도구를 바인딩\n",
    "llm_with_tools = llm.bind_tools(tools=[tavily_tool])\n",
    "\n",
    "# LLM 체인 생성\n",
    "llm_chain = prompt | llm_with_tools\n",
    "\n",
    "# 도구 실행 체인 정의\n",
    "# @chain 은 일반 함수를 Runnable 객체로 만들어 주는 데코레이터\n",
    "@chain\n",
    "def web_search_chain(user_input: str, config: RunnableConfig):\n",
    "    input_ = {\"user_input\": user_input}\n",
    "    ai_msg = llm_chain.invoke(input_, config=config)\n",
    "    print(\"ai_msg: \\n\", ai_msg)\n",
    "    print(\"-\"*100)\n",
    "\n",
    "    tool_msgs = tavily_tool.batch(ai_msg.tool_calls, config=config)\n",
    "    print(\"tool_msgs: \\n\", tool_msgs)\n",
    "    \n",
    "    print(\"-\"*100)\n",
    "    return llm_chain.invoke({**input_, \"messages\": [ai_msg, *tool_msgs]}, config=config)\n",
    "\n",
    "# 체인 실행\n",
    "query = \"스테이크와 어울리는 와인을 추천해주세요.\"\n",
    "response = web_search_chain.invoke(query)\n",
    "\n",
    "# 응답 출력 \n",
    "pprint(response.content)"
   ]
  },
  {
   "cell_type": "markdown",
   "id": "60f49a9f",
   "metadata": {},
   "source": [
    "### 2-2. 사용자 정의 도구\n",
    "- @tool decorator를 통해 사용자 정의 도구를 정의할 수 있음"
   ]
  },
  {
   "cell_type": "markdown",
   "id": "5c058ff5",
   "metadata": {},
   "source": [
    "`(1) 도구(tool) 정의하기`"
   ]
  },
  {
   "cell_type": "code",
   "execution_count": null,
   "id": "2647393d",
   "metadata": {},
   "outputs": [],
   "source": [
    "from langchain_community.tools import TavilySearchResults\n",
    "from langchain_core.tools import tool\n",
    "\n",
    "# Tool 정의 \n",
    "@tool\n",
    "def tavily_search_func(query: str) -> str:\n",
    "    \"\"\"Searches the internet for information that does not exist in the database or for the latest information.\"\"\"\n",
    "\n",
    "    tavily_search = TavilySearchResults(max_results=2)\n",
    "    docs = tavily_search.invoke(query)\n",
    "\n",
    "    formatted_docs = \"\\n---\\n\".join([\n",
    "        f'<Document href=\"{doc[\"url\"]}\"/>\\n{doc[\"content\"]}\\n</Document>'\n",
    "        for doc in docs\n",
    "        ])\n",
    "\n",
    "    if len(formatted_docs) > 0:\n",
    "        return formatted_docs\n",
    "    \n",
    "    return \"관련 정보를 찾을 수 없습니다.\""
   ]
  },
  {
   "cell_type": "markdown",
   "id": "7b2d5144",
   "metadata": {},
   "source": [
    "### 2-3. Runnable 객체를 도구(tool) 변환\n",
    "- 문자열이나 dict 입력을 받는 Runnable을 도구로 변환\n",
    "- as_tool 메서드를 사용\n",
    "\n",
    "- wikipedia 설치\n",
    "```\n",
    "    poetry add wikipedia\n",
    "```\n",
    "- [WikipediaLoader](https://python.langchain.com/api_reference/community/document_loaders/langchain_community.document_loaders.wikipedia.WikipediaLoader.html) 사용\n"
   ]
  },
  {
   "cell_type": "code",
   "execution_count": null,
   "id": "933f7aa5",
   "metadata": {},
   "outputs": [],
   "source": [
    "from langchain_community.document_loaders import WikipediaLoader\n",
    "from langchain_core.documents import Document\n",
    "from langchain_core.runnables import RunnableLambda\n",
    "from pydantic import BaseModel, Field\n",
    "from typing import List\n",
    "\n",
    "# WikipediaLoader를 사용하여 위키피디아 문서를 검색하는 함수 \n",
    "def search_wiki(input_data: dict) -> List[Document]:\n",
    "    \"\"\"Search Wikipedia documents based on user input (query) and return k documents\"\"\"\n",
    "    query = input_data[\"query\"]\n",
    "    k = input_data.get(\"k\", 2)  \n",
    "    wiki_loader = WikipediaLoader(query=query, load_max_docs=k, lang=\"ko\")\n",
    "    wiki_docs = wiki_loader.load()\n",
    "    return wiki_docs\n",
    "\n",
    "# 도구 호출에 사용할 입력 스키마 정의 \n",
    "class WikiSearchSchema(BaseModel):\n",
    "    \"\"\"Input schema for Wikipedia search.\"\"\"\n",
    "    query: str = Field(..., description=\"The query to search for in Wikipedia\")\n",
    "    k: int = Field(2, description=\"The number of documents to return (default is 2)\")\n",
    "\n",
    "# RunnableLambda 함수를 사용하여 위키피디아 문서 로더를 Runnable로 변환 \n",
    "runnable = RunnableLambda(search_wiki)\n",
    "wiki_search = runnable.as_tool(\n",
    "    name=\"wiki_search\",\n",
    "    description=dedent(\"\"\"\n",
    "        Use this tool when you need to search for information on Wikipedia.\n",
    "        It searches for Wikipedia articles related to the user's query and returns\n",
    "        a specified number of documents. This tool is useful when general knowledge\n",
    "        or background information is required.\n",
    "    \"\"\"),\n",
    "    args_schema=WikiSearchSchema\n",
    ")"
   ]
  },
  {
   "cell_type": "code",
   "execution_count": null,
   "id": "ff26347a",
   "metadata": {},
   "outputs": [
    {
     "name": "stdout",
     "output_type": "stream",
     "text": [
      "자료형: \n",
      "<class 'langchain_core.tools.structured.StructuredTool'>\n",
      "----------------------------------------------------------------------------------------------------\n",
      "name: \n",
      "wiki_search\n",
      "----------------------------------------------------------------------------------------------------\n",
      "description: \n",
      "('Use this tool when you need to search for information on Wikipedia.\\n'\n",
      " \"It searches for Wikipedia articles related to the user's query and returns\\n\"\n",
      " 'a specified number of documents. This tool is useful when general knowledge\\n'\n",
      " 'or background information is required.')\n",
      "----------------------------------------------------------------------------------------------------\n",
      "schema: \n",
      "{'description': 'Input schema for Wikipedia search.',\n",
      " 'properties': {'k': {'default': 2,\n",
      "                      'description': 'The number of documents to return '\n",
      "                                     '(default is 2)',\n",
      "                      'title': 'K',\n",
      "                      'type': 'integer'},\n",
      "                'query': {'description': 'The query to search for in Wikipedia',\n",
      "                          'title': 'Query',\n",
      "                          'type': 'string'}},\n",
      " 'required': ['query'],\n",
      " 'title': 'WikiSearchSchema',\n",
      " 'type': 'object'}\n",
      "----------------------------------------------------------------------------------------------------\n"
     ]
    }
   ],
   "source": [
    "# 도구 속성\n",
    "print(\"자료형: \")\n",
    "print(type(wiki_search))\n",
    "print(\"-\"*100)\n",
    "\n",
    "print(\"name: \")\n",
    "print(wiki_search.name)\n",
    "print(\"-\"*100)\n",
    "\n",
    "print(\"description: \")\n",
    "pprint(wiki_search.description)\n",
    "print(\"-\"*100)\n",
    "\n",
    "print(\"schema: \")\n",
    "pprint(wiki_search.args_schema.schema())\n",
    "print(\"-\"*100)"
   ]
  },
  {
   "cell_type": "code",
   "execution_count": null,
   "id": "ed7ff3c4",
   "metadata": {},
   "outputs": [
    {
     "name": "stdout",
     "output_type": "stream",
     "text": [
      "page_content='투움바 파스타(영어: Toowoomba pasta)는 미국의 파스타 요리이며,\n",
      "이름은 오스트레일리아의 도시인 터움바에서 유래되었다.\n",
      "\n",
      "\n",
      "== 역사 ==\n",
      "미국 아웃백 스테이크하우스의 메뉴로 만들어졌으나, 미국에서는 단종되었으며 한국과 브라질 등지에서는 메뉴로 남아 있다. 특히 한국에서 크게 인기를 얻었으며, 한국 매체나 유튜버에 의해 세계에 알려지면서 한국 요리로 소개되거나 외국의 한국 음식점에서 판매되기도 한다.\n",
      "\n",
      "\n",
      "== 만들기 ==\n",
      "페투치네 등 두꺼운 파스타에 고춧가루를 넣어 매콤한 크림 소스를 추가한 음식이다.\n",
      "\n",
      "\n",
      "== 활용 ==\n",
      "투움바 소스를 활용한 음식으로 투움바 떡볶이, 투움바 라면, 투움바 치킨 등이 있다.\n",
      "\n",
      "\n",
      "== 같이 보기 ==\n",
      "아라비아타\n",
      "\n",
      "\n",
      "== 각주 ==' metadata={'title': '투움바 파스타', 'summary': '투움바 파스타(영어: Toowoomba pasta)는 미국의 파스타 요리이며,\\n이름은 오스트레일리아의 도시인 터움바에서 유래되었다.', 'source': 'https://ko.wikipedia.org/wiki/%ED%88%AC%EC%9B%80%EB%B0%94_%ED%8C%8C%EC%8A%A4%ED%83%80'}\n",
      "----------------------------------------------------------------------------------------------------\n",
      "page_content='피치(이탈리아어: pici, 단수: picio 피초[*])는 이탈리아의 파스타이다. 손으로 말아서 만드는 굵은 파스타의 일종으로 스파게티면이 좀 더 굵어진 것으로 보면 된다. 토스카나주의 시에나 현에서 유래했으며 몬탈치노 지역에서는 pinci라고 부른다.\n",
      "반죽은 보통 밀가루나 물로만 만든다. 달걀을 첨가하는 것은 선택적이며 가정에 따라 다르다.\n",
      "밀가루 반죽을 두껍고 평평하게 밀어서 편 다음 기다란 조각으로 잘라낸다. 잘라낸 조각을 두 손바닥 사이에서 말기도 하고 테이블 위에 놓고 테이블과 손바닥 사이에서 말기도 한다. 보통 연필보다 조금 더 가는 굵기로 만든다. 스파게티나 마카로니와 달리 이 파스타는 크기가 정해진 바가 없으며 길이에 따라 그 굵기도 달라진다.\n",
      "먹는 경우는 여러 가지가 있지만 보통 다음 재료들을 육수나 주요 재료로 하여 요리로 만들어 먹는다.\n",
      "\n",
      "\n",
      "== 각주 ==' metadata={'title': '피치 (파스타)', 'summary': '피치(이탈리아어: pici, 단수: picio 피초[*])는 이탈리아의 파스타이다. 손으로 말아서 만드는 굵은 파스타의 일종으로 스파게티면이 좀 더 굵어진 것으로 보면 된다. 토스카나주의 시에나 현에서 유래했으며 몬탈치노 지역에서는 pinci라고 부른다.\\n반죽은 보통 밀가루나 물로만 만든다. 달걀을 첨가하는 것은 선택적이며 가정에 따라 다르다.\\n밀가루 반죽을 두껍고 평평하게 밀어서 편 다음 기다란 조각으로 잘라낸다. 잘라낸 조각을 두 손바닥 사이에서 말기도 하고 테이블 위에 놓고 테이블과 손바닥 사이에서 말기도 한다. 보통 연필보다 조금 더 가는 굵기로 만든다. 스파게티나 마카로니와 달리 이 파스타는 크기가 정해진 바가 없으며 길이에 따라 그 굵기도 달라진다.\\n먹는 경우는 여러 가지가 있지만 보통 다음 재료들을 육수나 주요 재료로 하여 요리로 만들어 먹는다.', 'source': 'https://ko.wikipedia.org/wiki/%ED%94%BC%EC%B9%98_(%ED%8C%8C%EC%8A%A4%ED%83%80)'}\n",
      "----------------------------------------------------------------------------------------------------\n"
     ]
    }
   ],
   "source": [
    "# 위키 검색 실행\n",
    "query = \"파스타의 유래\"\n",
    "wiki_results = wiki_search.invoke({\"query\":query})\n",
    "\n",
    "# 검색 결과 출력\n",
    "for result in wiki_results:\n",
    "    print(result)  \n",
    "    print(\"-\" * 100)  "
   ]
  },
  {
   "cell_type": "code",
   "execution_count": null,
   "id": "1b812a0a",
   "metadata": {},
   "outputs": [
    {
     "name": "stdout",
     "output_type": "stream",
     "text": [
      "AIMessage(content='', additional_kwargs={'tool_calls': [{'id': 'call_ltcFrZ7FfdvR33bjP998f9pL', 'function': {'arguments': '{\"query\": \"서울 강남 파스타 맛집\"}', 'name': 'tavily_search_func'}, 'type': 'function'}, {'id': 'call_IPqif944DodK4SvRmmcMtJg6', 'function': {'arguments': '{\"query\": \"파스타의 유래\"}', 'name': 'wiki_search'}, 'type': 'function'}], 'refusal': None}, response_metadata={'token_usage': {'completion_tokens': 58, 'prompt_tokens': 176, 'total_tokens': 234, 'completion_tokens_details': {'accepted_prediction_tokens': 0, 'audio_tokens': 0, 'reasoning_tokens': 0, 'rejected_prediction_tokens': 0}, 'prompt_tokens_details': {'audio_tokens': 0, 'cached_tokens': 0}}, 'model_name': 'gpt-4o-mini-2024-07-18', 'system_fingerprint': 'fp_34a54ae93c', 'id': 'chatcmpl-BiwRSoRRebiugoTD3ZVe50N9rQqFI', 'service_tier': 'default', 'finish_reason': 'tool_calls', 'logprobs': None}, id='run--95f2c707-66dd-42f7-8a19-9be64f3619f1-0', tool_calls=[{'name': 'tavily_search_func', 'args': {'query': '서울 강남 파스타 맛집'}, 'id': 'call_ltcFrZ7FfdvR33bjP998f9pL', 'type': 'tool_call'}, {'name': 'wiki_search', 'args': {'query': '파스타의 유래'}, 'id': 'call_IPqif944DodK4SvRmmcMtJg6', 'type': 'tool_call'}], usage_metadata={'input_tokens': 176, 'output_tokens': 58, 'total_tokens': 234, 'input_token_details': {'audio': 0, 'cache_read': 0}, 'output_token_details': {'audio': 0, 'reasoning': 0}})\n",
      "----------------------------------------------------------------------------------------------------\n",
      "''\n",
      "----------------------------------------------------------------------------------------------------\n",
      "[{'args': {'query': '서울 강남 파스타 맛집'},\n",
      "  'id': 'call_ltcFrZ7FfdvR33bjP998f9pL',\n",
      "  'name': 'tavily_search_func',\n",
      "  'type': 'tool_call'},\n",
      " {'args': {'query': '파스타의 유래'},\n",
      "  'id': 'call_IPqif944DodK4SvRmmcMtJg6',\n",
      "  'name': 'wiki_search',\n",
      "  'type': 'tool_call'}]\n",
      "----------------------------------------------------------------------------------------------------\n"
     ]
    }
   ],
   "source": [
    "# LLM에 도구를 바인딩 (2개의 도구 바인딩)\n",
    "llm_with_tools = llm.bind_tools(tools=[tavily_search_func, wiki_search])\n",
    "\n",
    "# 도구 호출이 필요한 LLM 호출을 수행\n",
    "query = \"서울 강남의 유명한 파스타 맛집은 어디인가요? 그리고 파스타의 유래를 알려주세요. \"\n",
    "ai_msg = llm_with_tools.invoke(query)\n",
    "\n",
    "# LLM의 전체 출력 결과 출력\n",
    "pprint(ai_msg)\n",
    "print(\"-\" * 100)\n",
    "\n",
    "# 메시지 content 속성 (텍스트 출력)\n",
    "pprint(ai_msg.content)\n",
    "print(\"-\" * 100)\n",
    "\n",
    "# LLM이 호출한 도구 정보 출력\n",
    "pprint(ai_msg.tool_calls)\n",
    "print(\"-\" * 100)"
   ]
  },
  {
   "cell_type": "markdown",
   "id": "db06d2ed",
   "metadata": {},
   "source": [
    "`(2) LCEL 체인`\n",
    "- 위키피디아 문서를 검색하고 내용을 요약하는 체인"
   ]
  },
  {
   "cell_type": "code",
   "execution_count": null,
   "id": "4a7ab14a",
   "metadata": {},
   "outputs": [
    {
     "name": "stdout",
     "output_type": "stream",
     "text": [
      "('투움바 파스타는 미국의 파스타 요리로, 오스트레일리아의 투움바에서 유래되었다. 미국 아웃백 스테이크하우스에서 처음 만들어졌으나 현재는 '\n",
      " '한국과 브라질에서 인기를 끌고 있다. 이 요리는 두꺼운 파스타에 매콤한 크림 소스를 추가하여 만든다. 이와 관련된 다양한 요리도 '\n",
      " '존재한다.\\n'\n",
      " '\\n'\n",
      " '이탈리아 요리는 기원전 4세기부터 발전해온 남유럽의 전통 요리로, 지역마다 특색이 다르다. 북부는 쌀과 유제품을, 남부는 올리브와 '\n",
      " '해산물을 주로 사용한다. 이탈리아 요리는 간결함과 재료의 질을 중시하며, CNN에 의해 세계 최고의 요리로 선정된 바 있다. 이 요리는 '\n",
      " '역사적으로 다양한 문화의 영향을 받아 발전해왔으며, 고대 그리스와 로마의 요리법이 포함되어 있다.')\n"
     ]
    }
   ],
   "source": [
    "from langchain_core.prompts import ChatPromptTemplate\n",
    "from langchain_core.output_parsers import StrOutputParser\n",
    "from langchain_core.runnables import RunnableLambda\n",
    "from langchain_community.document_loaders import WikipediaLoader\n",
    "\n",
    "# WikipediaLoader를 사용하여 위키피디아 문서를 검색하고 텍스트로 반환하는 함수 \n",
    "def wiki_search_and_summarize(input_data: dict):\n",
    "    wiki_loader = WikipediaLoader(query=input_data[\"query\"], load_max_docs=2, lang=\"ko\")\n",
    "    wiki_docs = wiki_loader.load()\n",
    "\n",
    "    formatted_docs =[\n",
    "        f'<Document source=\"{doc.metadata[\"source\"]}\"/>\\n{doc.page_content}\\n</Document>'\n",
    "        for doc in wiki_docs\n",
    "        ]\n",
    "    \n",
    "    return formatted_docs\n",
    "\n",
    "# 요약 프롬프트 템플릿\n",
    "summary_prompt = ChatPromptTemplate.from_template(\n",
    "    \"Summarize the following text in a concise manner:\\n\\n{context}\\n\\nSummary:\"\n",
    ")\n",
    "\n",
    "# LLM 및 요약 체인 설정\n",
    "llm = ChatOpenAI(model=\"gpt-4o-mini\", temperature=0)\n",
    "summary_chain = (\n",
    "    {\"context\": RunnableLambda(wiki_search_and_summarize)}\n",
    "    | summary_prompt | llm | StrOutputParser() \n",
    ")\n",
    "\n",
    "# 요약 테스트 \n",
    "summarized_text = summary_chain.invoke({\"query\":\"파스타의 유래\"})\n",
    "pprint(summarized_text)"
   ]
  },
  {
   "cell_type": "code",
   "execution_count": null,
   "id": "a35ac080",
   "metadata": {},
   "outputs": [
    {
     "name": "stdout",
     "output_type": "stream",
     "text": [
      "자료형: \n",
      "<class 'langchain_core.tools.structured.StructuredTool'>\n",
      "----------------------------------------------------------------------------------------------------\n",
      "name: \n",
      "wiki_summary\n",
      "----------------------------------------------------------------------------------------------------\n",
      "description: \n",
      "('Use this tool when you need to search for information on Wikipedia.\\n'\n",
      " \"It searches for Wikipedia articles related to the user's query and returns\\n\"\n",
      " 'a summarized text. This tool is useful when general knowledge\\n'\n",
      " 'or background information is required.')\n",
      "----------------------------------------------------------------------------------------------------\n",
      "schema: \n",
      "{'description': 'Input schema for Wikipedia search.',\n",
      " 'properties': {'query': {'description': 'The query to search for in Wikipedia',\n",
      "                          'title': 'Query',\n",
      "                          'type': 'string'}},\n",
      " 'required': ['query'],\n",
      " 'title': 'WikiSummarySchema',\n",
      " 'type': 'object'}\n",
      "----------------------------------------------------------------------------------------------------\n"
     ]
    }
   ],
   "source": [
    "# 도구 호출에 사용할 입력 스키마 정의 \n",
    "class WikiSummarySchema(BaseModel):\n",
    "    \"\"\"Input schema for Wikipedia search.\"\"\"\n",
    "    query: str = Field(..., description=\"The query to search for in Wikipedia\")\n",
    "\n",
    "# as_tool 메소드를 사용하여 도구 객체로 변환\n",
    "wiki_summary = summary_chain.as_tool(\n",
    "    name=\"wiki_summary\",\n",
    "    description=dedent(\"\"\"\n",
    "        Use this tool when you need to search for information on Wikipedia.\n",
    "        It searches for Wikipedia articles related to the user's query and returns\n",
    "        a summarized text. This tool is useful when general knowledge\n",
    "        or background information is required.\n",
    "    \"\"\"),\n",
    "    args_schema=WikiSummarySchema\n",
    ")\n",
    "\n",
    "# 도구 속성\n",
    "print(\"자료형: \")\n",
    "print(type(wiki_summary))\n",
    "print(\"-\"*100)\n",
    "\n",
    "print(\"name: \")\n",
    "print(wiki_summary.name)\n",
    "print(\"-\"*100)\n",
    "\n",
    "print(\"description: \")\n",
    "pprint(wiki_summary.description)\n",
    "print(\"-\"*100)\n",
    "\n",
    "print(\"schema: \")\n",
    "pprint(wiki_summary.args_schema.schema())\n",
    "print(\"-\"*100)"
   ]
  },
  {
   "cell_type": "code",
   "execution_count": null,
   "id": "78824759",
   "metadata": {},
   "outputs": [
    {
     "name": "stdout",
     "output_type": "stream",
     "text": [
      "AIMessage(content='', additional_kwargs={'tool_calls': [{'id': 'call_Pqm9U9nGCURVGiXidbW5qwdB', 'function': {'arguments': '{\"query\": \"서울 강남 파스타 맛집\"}', 'name': 'tavily_search_func'}, 'type': 'function'}, {'id': 'call_LjwvfwCR5WieqAR85VA3t1Nw', 'function': {'arguments': '{\"query\": \"파스타의 유래\"}', 'name': 'wiki_summary'}, 'type': 'function'}], 'refusal': None}, response_metadata={'token_usage': {'completion_tokens': 58, 'prompt_tokens': 152, 'total_tokens': 210, 'completion_tokens_details': {'accepted_prediction_tokens': 0, 'audio_tokens': 0, 'reasoning_tokens': 0, 'rejected_prediction_tokens': 0}, 'prompt_tokens_details': {'audio_tokens': 0, 'cached_tokens': 0}}, 'model_name': 'gpt-4o-mini-2024-07-18', 'system_fingerprint': 'fp_62a23a81ef', 'id': 'chatcmpl-BiGzNI0bcEgWNBCbZjxbfl7mgw69C', 'service_tier': 'default', 'finish_reason': 'tool_calls', 'logprobs': None}, id='run--40eb99e9-fdef-47d7-96f7-1af205a24591-0', tool_calls=[{'name': 'tavily_search_func', 'args': {'query': '서울 강남 파스타 맛집'}, 'id': 'call_Pqm9U9nGCURVGiXidbW5qwdB', 'type': 'tool_call'}, {'name': 'wiki_summary', 'args': {'query': '파스타의 유래'}, 'id': 'call_LjwvfwCR5WieqAR85VA3t1Nw', 'type': 'tool_call'}], usage_metadata={'input_tokens': 152, 'output_tokens': 58, 'total_tokens': 210, 'input_token_details': {'audio': 0, 'cache_read': 0}, 'output_token_details': {'audio': 0, 'reasoning': 0}})\n",
      "----------------------------------------------------------------------------------------------------\n",
      "''\n",
      "----------------------------------------------------------------------------------------------------\n",
      "[{'args': {'query': '서울 강남 파스타 맛집'},\n",
      "  'id': 'call_Pqm9U9nGCURVGiXidbW5qwdB',\n",
      "  'name': 'tavily_search_func',\n",
      "  'type': 'tool_call'},\n",
      " {'args': {'query': '파스타의 유래'},\n",
      "  'id': 'call_LjwvfwCR5WieqAR85VA3t1Nw',\n",
      "  'name': 'wiki_summary',\n",
      "  'type': 'tool_call'}]\n",
      "----------------------------------------------------------------------------------------------------\n"
     ]
    }
   ],
   "source": [
    "# LLM에 도구를 바인딩\n",
    "llm_with_tools = llm.bind_tools(tools=[tavily_search_func, wiki_summary])\n",
    "\n",
    "# 도구 호출이 필요한 LLM 호출을 수행\n",
    "query = \"서울 강남의 유명한 파스타 맛집은 어디인가요? 그리고 파스타의 유래를 알려주세요. \"\n",
    "ai_msg = llm_with_tools.invoke(query)\n",
    "\n",
    "# LLM의 전체 출력 결과 출력\n",
    "pprint(ai_msg)\n",
    "print(\"-\" * 100)\n",
    "\n",
    "# 메시지 content 속성 (텍스트 출력)\n",
    "pprint(ai_msg.content)\n",
    "print(\"-\" * 100)\n",
    "\n",
    "# LLM이 호출한 도구 정보 출력\n",
    "pprint(ai_msg.tool_calls)\n",
    "print(\"-\" * 100)"
   ]
  },
  {
   "cell_type": "code",
   "execution_count": null,
   "id": "c87d0b1a",
   "metadata": {},
   "outputs": [
    {
     "data": {
      "text/plain": [
       "{'name': 'wiki_search',\n",
       " 'args': {'query': '파스타의 유래'},\n",
       " 'id': 'call_IPqif944DodK4SvRmmcMtJg6',\n",
       " 'type': 'tool_call'}"
      ]
     },
     "execution_count": 40,
     "metadata": {},
     "output_type": "execute_result"
    }
   ],
   "source": [
    "ai_msg.tool_calls[1]"
   ]
  },
  {
   "cell_type": "code",
   "execution_count": null,
   "id": "12cbdd5c",
   "metadata": {},
   "outputs": [
    {
     "name": "stdout",
     "output_type": "stream",
     "text": [
      "content='투움바 파스타는 미국의 파스타 요리로, 오스트레일리아의 투움바에서 유래되었다. 미국 아웃백 스테이크하우스에서 처음 만들어졌으나 현재는 단종되었고, 한국과 브라질에서 여전히 인기 있는 메뉴로 남아 있다. 이 요리는 두꺼운 파스타에 매콤한 크림 소스를 추가하여 만든다. 오르조는 이탈리아의 파스타로, 보리 모양의 작은 형태를 가지고 있으며, 주로 수프와 함께 먹는다. 오르조는 다양한 이름으로 불리며, 터키에서는 아르파 셰흐리예로 알려져 있다.' name='wiki_summary' tool_call_id='call_IPqif944DodK4SvRmmcMtJg6'\n",
      "----------------------------------------------------------------------------------------------------\n",
      "('투움바 파스타는 미국의 파스타 요리로, 오스트레일리아의 투움바에서 유래되었다. 미국 아웃백 스테이크하우스에서 처음 만들어졌으나 현재는 '\n",
      " '단종되었고, 한국과 브라질에서 여전히 인기 있는 메뉴로 남아 있다. 이 요리는 두꺼운 파스타에 매콤한 크림 소스를 추가하여 만든다. '\n",
      " '오르조는 이탈리아의 파스타로, 보리 모양의 작은 형태를 가지고 있으며, 주로 수프와 함께 먹는다. 오르조는 다양한 이름으로 불리며, '\n",
      " '터키에서는 아르파 셰흐리예로 알려져 있다.')\n"
     ]
    }
   ],
   "source": [
    "# 도구 실행 \n",
    "tool_message = wiki_summary.invoke(ai_msg.tool_calls[1])\n",
    "\n",
    "print(tool_message)\n",
    "print(\"-\" * 100)\n",
    "pprint(tool_message.content)"
   ]
  },
  {
   "cell_type": "code",
   "execution_count": null,
   "id": "2e2de1a6",
   "metadata": {},
   "outputs": [
    {
     "name": "stdout",
     "output_type": "stream",
     "text": [
      "ai_msg: \n",
      " content='' additional_kwargs={'tool_calls': [{'id': 'call_oz3XdrweY14cUDCTurHbIfcO', 'function': {'arguments': '{\"query\":\"파스타의 유래\"}', 'name': 'wiki_summary'}, 'type': 'function'}], 'refusal': None} response_metadata={'token_usage': {'completion_tokens': 19, 'prompt_tokens': 120, 'total_tokens': 139, 'completion_tokens_details': {'accepted_prediction_tokens': 0, 'audio_tokens': 0, 'reasoning_tokens': 0, 'rejected_prediction_tokens': 0}, 'prompt_tokens_details': {'audio_tokens': 0, 'cached_tokens': 0}}, 'model_name': 'gpt-4o-mini-2024-07-18', 'system_fingerprint': 'fp_34a54ae93c', 'id': 'chatcmpl-BiwRw6qLdKr0Ggvjij7ge8eCHXN4S', 'service_tier': 'default', 'finish_reason': 'tool_calls', 'logprobs': None} id='run--72cb6e50-f3ef-4489-a281-a98947dbc779-0' tool_calls=[{'name': 'wiki_summary', 'args': {'query': '파스타의 유래'}, 'id': 'call_oz3XdrweY14cUDCTurHbIfcO', 'type': 'tool_call'}] usage_metadata={'input_tokens': 120, 'output_tokens': 19, 'total_tokens': 139, 'input_token_details': {'audio': 0, 'cache_read': 0}, 'output_token_details': {'audio': 0, 'reasoning': 0}}\n",
      "----------------------------------------------------------------------------------------------------\n",
      "tool_msgs: \n",
      " [ToolMessage(content='투움바 파스타는 미국의 파스타 요리로, 오스트레일리아의 투움바에서 유래되었다. 미국 아웃백 스테이크하우스에서 처음 만들어졌으나 현재는 한국과 브라질에서 인기를 끌고 있다. 이 요리는 두꺼운 파스타에 매콤한 크림 소스를 추가하여 만든다. 이와 관련된 다양한 요리도 존재한다.\\n\\n이탈리아 요리는 기원전 4세기부터 발전해온 남유럽의 전통 요리로, 지역마다 특색이 다르다. 북부는 쌀과 유제품을, 남부는 올리브와 해산물을 주로 사용한다. 이탈리아 요리는 간결함과 재료의 질을 중시하며, CNN에 의해 세계 최고의 요리로 선정된 바 있다. 이 요리는 역사적으로 다양한 문화의 영향을 받아 발전해왔으며, 고대 그리스와 로마의 요리법이 포함되어 있다.', name='wiki_summary', tool_call_id='call_oz3XdrweY14cUDCTurHbIfcO')]\n",
      "----------------------------------------------------------------------------------------------------\n",
      "('파스타의 유래는 이탈리아 요리와 깊은 연관이 있습니다. 이탈리아 요리는 기원전 4세기부터 발전해온 전통 요리로, 지역마다 특색이 '\n",
      " '다릅니다. 북부 이탈리아는 쌀과 유제품을 주로 사용하고, 남부는 올리브와 해산물을 많이 사용합니다. 이탈리아 요리는 간결함과 재료의 질을 '\n",
      " '중시하며, 역사적으로 다양한 문화의 영향을 받아 발전해왔습니다. 고대 그리스와 로마의 요리법도 파스타의 기원에 포함되어 있습니다.\\n'\n",
      " '\\n'\n",
      " '또한, 투움바 파스타라는 미국의 파스타 요리도 있으며, 이는 오스트레일리아의 투움바에서 유래되었습니다. 이 요리는 두꺼운 파스타에 매콤한 '\n",
      " '크림 소스를 추가하여 만들어지며, 현재는 한국과 브라질에서도 인기를 끌고 있습니다.')\n"
     ]
    }
   ],
   "source": [
    "from datetime import datetime\n",
    "from langchain_core.prompts import ChatPromptTemplate\n",
    "from langchain_core.runnables import RunnableConfig, chain\n",
    "\n",
    "# 오늘 날짜 설정\n",
    "today = datetime.today().strftime(\"%Y-%m-%d\")\n",
    "\n",
    "# 프롬프트 템플릿 \n",
    "prompt = ChatPromptTemplate([\n",
    "    (\"system\", f\"You are a helpful AI assistant. Today's date is {today}.\"),\n",
    "    (\"human\", \"{user_input}\"),\n",
    "    (\"placeholder\", \"{messages}\"),\n",
    "])\n",
    "\n",
    "# LLM에 도구를 바인딩\n",
    "llm_with_tools = llm.bind_tools(tools=[wiki_summary])\n",
    "\n",
    "# LLM 체인 생성\n",
    "llm_chain = prompt | llm_with_tools\n",
    "\n",
    "# 도구 실행 체인 정의\n",
    "@chain\n",
    "def wiki_summary_chain(user_input: str, config: RunnableConfig):\n",
    "    input_ = {\"user_input\": user_input}\n",
    "    ai_msg = llm_chain.invoke(input_, config=config)\n",
    "    print(\"ai_msg: \\n\", ai_msg)\n",
    "    print(\"-\"*100)\n",
    "\n",
    "    tool_msgs = wiki_summary.batch(ai_msg.tool_calls, config=config)\n",
    "    print(\"tool_msgs: \\n\", tool_msgs)\n",
    "    print(\"-\"*100)\n",
    "    \n",
    "    return llm_chain.invoke({**input_, \"messages\": [ai_msg, *tool_msgs]}, config=config)\n",
    "\n",
    "# 체인 실행\n",
    "response = wiki_summary_chain.invoke(\"파스타의 유래에 대해서 알려주세요.\")\n",
    "\n",
    "# 응답 출력 \n",
    "pprint(response.content)"
   ]
  },
  {
   "cell_type": "markdown",
   "id": "6f828547",
   "metadata": {},
   "source": [
    "### 2-4. 벡터저장소 검색기\n",
    "- @tool decorator 사용"
   ]
  },
  {
   "cell_type": "markdown",
   "id": "e9a9dc12",
   "metadata": {},
   "source": [
    "`(1) 문서 로드 및 인덱싱`"
   ]
  },
  {
   "cell_type": "code",
   "execution_count": null,
   "id": "a0da1d76",
   "metadata": {},
   "outputs": [
    {
     "name": "stdout",
     "output_type": "stream",
     "text": [
      "1\n"
     ]
    }
   ],
   "source": [
    "from langchain.document_loaders import TextLoader\n",
    "\n",
    "# 메뉴판 텍스트 데이터를 로드\n",
    "loader = TextLoader(\"../data/restaurant_menu.txt\", encoding=\"utf-8\")\n",
    "documents = loader.load()\n",
    "\n",
    "print(len(documents))"
   ]
  },
  {
   "cell_type": "code",
   "execution_count": null,
   "id": "5e94154e",
   "metadata": {},
   "outputs": [
    {
     "name": "stdout",
     "output_type": "stream",
     "text": [
      "총 10개의 메뉴 항목이 처리되었습니다.\n",
      "\n",
      "메뉴 번호: 1\n",
      "메뉴 이름: 시그니처 스테이크\n",
      "내용:\n",
      "1. 시그니처 스테이크\n",
      "   • 가격: ₩35,000\n",
      "   • 주요 식재료: 최상급 한우 등심, 로즈메리 감자, 그릴드 아스파라거스\n",
      "   • 설명: 셰프의 특제 시그니처 메뉴로, ...\n",
      "\n",
      "메뉴 번호: 2\n",
      "메뉴 이름: 트러플 리조또\n",
      "내용:\n",
      "2. 트러플 리조또\n",
      "   • 가격: ₩22,000\n",
      "   • 주요 식재료: 이탈리아산 아르보리오 쌀, 블랙 트러플, 파르미지아노 레지아노 치즈\n",
      "   • 설명: 크리미한 텍스처의 리조...\n"
     ]
    }
   ],
   "source": [
    "from langchain_core.documents import Document\n",
    "\n",
    "# 문서 분할 (Chunking)\n",
    "def split_menu_items(document):\n",
    "    \"\"\"\n",
    "    메뉴 항목을 분리하는 함수 \n",
    "    \"\"\"\n",
    "    # 정규표현식 정의 \n",
    "    pattern = r'(\\d+\\.\\s.*?)(?=\\n\\n\\d+\\.|$)'\n",
    "    menu_items = re.findall(pattern, document.page_content, re.DOTALL)\n",
    "    \n",
    "    # 각 메뉴 항목을 Document 객체로 변환\n",
    "    menu_documents = []\n",
    "    for i, item in enumerate(menu_items, 1):\n",
    "        # 메뉴 이름 추출\n",
    "        menu_name = item.split('\\n')[0].split('.', 1)[1].strip()\n",
    "        \n",
    "        # 새로운 Document 객체 생성\n",
    "        menu_doc = Document(\n",
    "            page_content=item.strip(),\n",
    "            metadata={\n",
    "                \"source\": document.metadata['source'],\n",
    "                \"menu_number\": i,\n",
    "                \"menu_name\": menu_name\n",
    "            }\n",
    "        )\n",
    "        menu_documents.append(menu_doc)\n",
    "    \n",
    "    return menu_documents\n",
    "\n",
    "\n",
    "# 메뉴 항목 분리 실행\n",
    "menu_documents = []\n",
    "for doc in documents:\n",
    "    menu_documents += split_menu_items(doc)\n",
    "\n",
    "# 결과 출력\n",
    "print(f\"총 {len(menu_documents)}개의 메뉴 항목이 처리되었습니다.\")\n",
    "for doc in menu_documents[:2]:\n",
    "    print(f\"\\n메뉴 번호: {doc.metadata['menu_number']}\")\n",
    "    print(f\"메뉴 이름: {doc.metadata['menu_name']}\")\n",
    "    print(f\"내용:\\n{doc.page_content[:100]}...\")"
   ]
  },
  {
   "cell_type": "markdown",
   "id": "1a09f288",
   "metadata": {},
   "source": [
    "### Embedding을 하기 위해 Ollama Qwen2.5 설치\n",
    "```\n",
    "ollama run qwen2.5:1.5b\n",
    "\n",
    "ollama ls\n",
    "```"
   ]
  },
  {
   "cell_type": "code",
   "execution_count": null,
   "id": "8552797f",
   "metadata": {},
   "outputs": [
    {
     "name": "stdout",
     "output_type": "stream",
     "text": [
      "검색 결과: 2개\n",
      "메뉴 번호: 3\n",
      "메뉴 이름: 연어 타르타르\n",
      "\n",
      "메뉴 번호: 2\n",
      "메뉴 이름: 트러플 리조또\n",
      "\n"
     ]
    }
   ],
   "source": [
    "from langchain_community.vectorstores import FAISS\n",
    "from langchain_ollama import OllamaEmbeddings\n",
    "\n",
    "embeddings_model = OllamaEmbeddings(model=\"qwen2.5:1.5b\") \n",
    "\n",
    "# FAISS 인덱스 생성\n",
    "menu_db = FAISS.from_documents(\n",
    "    documents=menu_documents, \n",
    "    embedding=embeddings_model\n",
    ")\n",
    "\n",
    "# FAISS 인덱스 저장 (선택사항)\n",
    "menu_db.save_local(\"./db/menu_db\")\n",
    "\n",
    "\n",
    "# Retriever 생성\n",
    "menu_retriever = menu_db.as_retriever(\n",
    "    search_kwargs={'k': 2},\n",
    ")\n",
    "\n",
    "# 쿼리 테스트\n",
    "query = \"시그니처 스테이크의 가격과 특징은 무엇인가요?\"\n",
    "docs = menu_retriever.invoke(query)\n",
    "print(f\"검색 결과: {len(docs)}개\")\n",
    "\n",
    "for doc in docs:\n",
    "    print(f\"메뉴 번호: {doc.metadata['menu_number']}\")\n",
    "    print(f\"메뉴 이름: {doc.metadata['menu_name']}\")\n",
    "    print()"
   ]
  },
  {
   "cell_type": "markdown",
   "id": "9cf58d36",
   "metadata": {},
   "source": [
    "- 와인 메뉴에 대해서도 같은 작업을 처리"
   ]
  },
  {
   "cell_type": "code",
   "execution_count": null,
   "id": "1dc82b06",
   "metadata": {},
   "outputs": [
    {
     "name": "stdout",
     "output_type": "stream",
     "text": [
      "총 10개의 메뉴 항목이 처리되었습니다.\n",
      "\n",
      "메뉴 번호: 1\n",
      "메뉴 이름: 샤토 마고 2015\n",
      "내용:\n",
      "1. 샤토 마고 2015\n",
      "   • 가격: ₩450,000\n",
      "   • 주요 품종: 카베르네 소비뇽, 메를로, 카베르네 프랑, 쁘띠 베르도\n",
      "   • 설명: 보르도 메독 지역의 프리미엄 ...\n",
      "\n",
      "메뉴 번호: 2\n",
      "메뉴 이름: 돔 페리뇽 2012\n",
      "내용:\n",
      "2. 돔 페리뇽 2012\n",
      "   • 가격: ₩380,000\n",
      "   • 주요 품종: 샤르도네, 피노 누아\n",
      "   • 설명: 프랑스 샴페인의 대명사로 알려진 프레스티지 큐베입니다. 시트러스...\n",
      "검색 결과: 2개\n",
      "메뉴 번호: 10\n",
      "메뉴 이름: 그랜지 2016\n",
      "\n",
      "메뉴 번호: 6\n",
      "메뉴 이름: 바롤로 몬프리바토 2017\n",
      "\n"
     ]
    }
   ],
   "source": [
    "# 와인 메뉴 텍스트 데이터를 로드\n",
    "loader = TextLoader(\"../data/restaurant_wine.txt\", encoding=\"utf-8\")\n",
    "documents = loader.load()\n",
    "\n",
    "# 메뉴 항목 분리 실행\n",
    "menu_documents = []\n",
    "for doc in documents:\n",
    "    menu_documents += split_menu_items(doc)\n",
    "\n",
    "# 결과 출력\n",
    "print(f\"총 {len(menu_documents)}개의 메뉴 항목이 처리되었습니다.\")\n",
    "for doc in menu_documents[:2]:\n",
    "    print(f\"\\n메뉴 번호: {doc.metadata['menu_number']}\")\n",
    "    print(f\"메뉴 이름: {doc.metadata['menu_name']}\")\n",
    "    print(f\"내용:\\n{doc.page_content[:100]}...\")\n",
    "\n",
    "\n",
    "# FAISS 인덱스 생성\n",
    "wine_db = FAISS.from_documents(\n",
    "    documents=menu_documents, \n",
    "    embedding=embeddings_model\n",
    ")\n",
    "\n",
    "wine_db.save_local(\"./db/wine_db\")\n",
    "\n",
    "wine_retriever = wine_db.as_retriever(\n",
    "    search_kwargs={'k': 2},\n",
    ")\n",
    "\n",
    "query = \"스테이크와 어울리는 와인을 추천해주세요.\"\n",
    "docs = wine_retriever.invoke(query)\n",
    "print(f\"검색 결과: {len(docs)}개\")\n",
    "\n",
    "for doc in docs:\n",
    "    print(f\"메뉴 번호: {doc.metadata['menu_number']}\")\n",
    "    print(f\"메뉴 이름: {doc.metadata['menu_name']}\")\n",
    "    print()"
   ]
  },
  {
   "cell_type": "markdown",
   "id": "2040915b",
   "metadata": {},
   "source": [
    "`(2) 도구(tool) 정의하기`"
   ]
  },
  {
   "cell_type": "code",
   "execution_count": null,
   "id": "93d4c3a5",
   "metadata": {},
   "outputs": [
    {
     "name": "stdout",
     "output_type": "stream",
     "text": [
      "자료형: \n",
      "<class 'langchain_core.tools.structured.StructuredTool'>\n",
      "----------------------------------------------------------------------------------------------------\n",
      "name: \n",
      "db_search_menu_func\n",
      "----------------------------------------------------------------------------------------------------\n",
      "description: \n",
      "('Securely retrieve and access authorized restaurant menu information from the '\n",
      " 'encrypted database.\\n'\n",
      " 'Use this tool only for menu-related queries to maintain data '\n",
      " 'confidentiality.')\n",
      "----------------------------------------------------------------------------------------------------\n",
      "schema: \n",
      "{'description': 'Securely retrieve and access authorized restaurant menu '\n",
      "                'information from the encrypted database.\\n'\n",
      "                'Use this tool only for menu-related queries to maintain data '\n",
      "                'confidentiality.',\n",
      " 'properties': {'query': {'title': 'Query', 'type': 'string'}},\n",
      " 'required': ['query'],\n",
      " 'title': 'db_search_menu_func',\n",
      " 'type': 'object'}\n",
      "----------------------------------------------------------------------------------------------------\n"
     ]
    }
   ],
   "source": [
    "from langchain_core.tools import tool\n",
    "from typing import List\n",
    "\n",
    "# menu db 벡터 저장소 로드\n",
    "menu_db = FAISS.load_local(\n",
    "    \"./db/menu_db\", \n",
    "    embeddings_model, \n",
    "    allow_dangerous_deserialization=True\n",
    ")\n",
    "\n",
    "@tool\n",
    "def db_search_menu_func(query: str) -> List[Document]:\n",
    "    \"\"\"\n",
    "    Securely retrieve and access authorized restaurant menu information from the encrypted database.\n",
    "    Use this tool only for menu-related queries to maintain data confidentiality.\n",
    "    \"\"\"\n",
    "    docs = menu_db.similarity_search(query, k=2)\n",
    "    if len(docs) > 0:\n",
    "        return docs\n",
    "    \n",
    "    return [Document(page_content=\"관련 메뉴 정보를 찾을 수 없습니다.\")]\n",
    "\n",
    "# 도구 속성\n",
    "print(\"자료형: \")\n",
    "print(type(db_search_menu_func))\n",
    "print(\"-\"*100)\n",
    "\n",
    "print(\"name: \")\n",
    "print(db_search_menu_func.name)\n",
    "print(\"-\"*100)\n",
    "\n",
    "print(\"description: \")\n",
    "pprint(db_search_menu_func.description)\n",
    "print(\"-\"*100)\n",
    "\n",
    "print(\"schema: \")\n",
    "pprint(db_search_menu_func.args_schema.schema())\n",
    "print(\"-\"*100)"
   ]
  },
  {
   "cell_type": "code",
   "execution_count": null,
   "id": "b8ae1341",
   "metadata": {},
   "outputs": [
    {
     "name": "stdout",
     "output_type": "stream",
     "text": [
      "자료형: \n",
      "<class 'langchain_core.tools.structured.StructuredTool'>\n",
      "----------------------------------------------------------------------------------------------------\n",
      "name: \n",
      "db_search_wine_func\n",
      "----------------------------------------------------------------------------------------------------\n",
      "description: \n",
      "('Securely retrieve and access authorized restaurant wine information from the '\n",
      " 'encrypted database.\\n'\n",
      " 'Use this tool only for wine-related queries to maintain data '\n",
      " 'confidentiality.')\n",
      "----------------------------------------------------------------------------------------------------\n",
      "schema: \n",
      "{'description': 'Securely retrieve and access authorized restaurant wine '\n",
      "                'information from the encrypted database.\\n'\n",
      "                'Use this tool only for wine-related queries to maintain data '\n",
      "                'confidentiality.',\n",
      " 'properties': {'query': {'title': 'Query', 'type': 'string'}},\n",
      " 'required': ['query'],\n",
      " 'title': 'db_search_wine_func',\n",
      " 'type': 'object'}\n",
      "----------------------------------------------------------------------------------------------------\n"
     ]
    }
   ],
   "source": [
    "from langchain_core.tools import tool\n",
    "from typing import List\n",
    "from langchain_core.documents import Document\n",
    "\n",
    "# wine db 벡터 저장소 로드\n",
    "wine_db = FAISS.load_local(\n",
    "    \"./db/wine_db\", \n",
    "    embeddings_model, \n",
    "    allow_dangerous_deserialization=True\n",
    ")\n",
    "\n",
    "@tool\n",
    "def db_search_wine_func(query: str) -> List[Document]:\n",
    "   \"\"\"\n",
    "   Securely retrieve and access authorized restaurant wine information from the encrypted database.\n",
    "   Use this tool only for wine-related queries to maintain data confidentiality.\n",
    "   \"\"\"\n",
    "   docs = wine_db.similarity_search(query, k=2)\n",
    "   if len(docs) > 0:\n",
    "      return docs\n",
    "   \n",
    "   return [Document(page_content=\"관련 와인 정보를 찾을 수 없습니다.\")]\n",
    "\n",
    "# 도구 속성\n",
    "print(\"자료형: \")\n",
    "print(type(db_search_wine_func))\n",
    "print(\"-\"*100)\n",
    "\n",
    "print(\"name: \")\n",
    "print(db_search_wine_func.name)\n",
    "print(\"-\"*100)\n",
    "\n",
    "print(\"description: \")\n",
    "pprint(db_search_wine_func.description)\n",
    "print(\"-\"*100)\n",
    "\n",
    "print(\"schema: \")\n",
    "pprint(db_search_wine_func.args_schema.schema())\n",
    "print(\"-\"*100)"
   ]
  },
  {
   "cell_type": "code",
   "execution_count": null,
   "id": "51ac56a5",
   "metadata": {},
   "outputs": [
    {
     "name": "stdout",
     "output_type": "stream",
     "text": [
      "AIMessage(content='', additional_kwargs={'tool_calls': [{'id': 'call_XnvGZbno1nzYyT4exShN1aXM', 'function': {'arguments': '{\"query\": \"시그니처 스테이크\"}', 'name': 'db_search_menu_func'}, 'type': 'function'}, {'id': 'call_LLJ7LZdIJZt4wI5BWwpcVeuw', 'function': {'arguments': '{\"query\": \"와인 추천\"}', 'name': 'db_search_wine_func'}, 'type': 'function'}], 'refusal': None}, response_metadata={'token_usage': {'completion_tokens': 57, 'prompt_tokens': 133, 'total_tokens': 190, 'completion_tokens_details': {'accepted_prediction_tokens': 0, 'audio_tokens': 0, 'reasoning_tokens': 0, 'rejected_prediction_tokens': 0}, 'prompt_tokens_details': {'audio_tokens': 0, 'cached_tokens': 0}}, 'model_name': 'gpt-4o-mini-2024-07-18', 'system_fingerprint': 'fp_62a23a81ef', 'id': 'chatcmpl-Biwi5lvUTGlrtAFdUx8isKQdWGnur', 'service_tier': 'default', 'finish_reason': 'tool_calls', 'logprobs': None}, id='run--e56a43fd-05f4-4f2e-9b1c-4770f4f41043-0', tool_calls=[{'name': 'db_search_menu_func', 'args': {'query': '시그니처 스테이크'}, 'id': 'call_XnvGZbno1nzYyT4exShN1aXM', 'type': 'tool_call'}, {'name': 'db_search_wine_func', 'args': {'query': '와인 추천'}, 'id': 'call_LLJ7LZdIJZt4wI5BWwpcVeuw', 'type': 'tool_call'}], usage_metadata={'input_tokens': 133, 'output_tokens': 57, 'total_tokens': 190, 'input_token_details': {'audio': 0, 'cache_read': 0}, 'output_token_details': {'audio': 0, 'reasoning': 0}})\n",
      "----------------------------------------------------------------------------------------------------\n",
      "''\n",
      "----------------------------------------------------------------------------------------------------\n",
      "[{'args': {'query': '시그니처 스테이크'},\n",
      "  'id': 'call_XnvGZbno1nzYyT4exShN1aXM',\n",
      "  'name': 'db_search_menu_func',\n",
      "  'type': 'tool_call'},\n",
      " {'args': {'query': '와인 추천'},\n",
      "  'id': 'call_LLJ7LZdIJZt4wI5BWwpcVeuw',\n",
      "  'name': 'db_search_wine_func',\n",
      "  'type': 'tool_call'}]\n",
      "----------------------------------------------------------------------------------------------------\n"
     ]
    }
   ],
   "source": [
    "# LLM에 도구를 바인딩 (2개의 도구 바인딩)\n",
    "llm_with_tools = llm.bind_tools(tools=[db_search_menu_func, db_search_wine_func])\n",
    "\n",
    "# 도구 호출이 필요한 LLM 호출을 수행\n",
    "query = \"시그니처 스테이크의 가격과 특징은 무엇인가요? 와인도 추천 해주세요.\"\n",
    "ai_msg = llm_with_tools.invoke(query)\n",
    "\n",
    "# LLM의 전체 출력 결과 출력\n",
    "pprint(ai_msg)\n",
    "print(\"-\" * 100)\n",
    "\n",
    "# 메시지 content 속성 (텍스트 출력)\n",
    "pprint(ai_msg.content)\n",
    "print(\"-\" * 100)\n",
    "\n",
    "# LLM이 호출한 도구 정보 출력\n",
    "pprint(ai_msg.tool_calls)\n",
    "print(\"-\" * 100)"
   ]
  },
  {
   "cell_type": "markdown",
   "id": "7f7b74a1",
   "metadata": {},
   "source": [
    "`(3) 여러 개의 도구(tool) 호출하기`"
   ]
  },
  {
   "cell_type": "code",
   "execution_count": null,
   "id": "23c3bba9",
   "metadata": {},
   "outputs": [
    {
     "name": "stdout",
     "output_type": "stream",
     "text": [
      "tavily_search_func\n",
      "wiki_summary\n",
      "db_search_menu_func\n",
      "db_search_wine_func\n"
     ]
    }
   ],
   "source": [
    "# @tool : tavily_search_func, db_search_menu_func, db_search_wine_func\n",
    "# chain.as_tool() : wiki_summary\n",
    "tools = [tavily_search_func, wiki_summary, db_search_menu_func, db_search_wine_func]\n",
    "for tool in tools:\n",
    "    print(tool.name)"
   ]
  },
  {
   "cell_type": "code",
   "execution_count": null,
   "id": "1eda10de",
   "metadata": {},
   "outputs": [
    {
     "name": "stdout",
     "output_type": "stream",
     "text": [
      "db_search_menu_func: \n",
      "{'name': 'db_search_menu_func', 'args': {'query': '시그니처 스테이크'}, 'id': 'call_MnPGlaf221crQAKDgAXQxIUz', 'type': 'tool_call'}\n",
      "----------------------------------------------------------------------------------------------------\n",
      "db_search_wine_func: \n",
      "{'name': 'db_search_wine_func', 'args': {'query': '시그니처 스테이크'}, 'id': 'call_7kTJVaqmHQqCh4CFLflbGk5F', 'type': 'tool_call'}\n",
      "----------------------------------------------------------------------------------------------------\n",
      "tool_msgs: \n",
      " [ToolMessage(content=\"[Document(id='e98025c4-f4f8-4aa9-8426-5b4e48bfd340', metadata={'source': '../data/restaurant_menu.txt', 'menu_number': 1, 'menu_name': '시그니처 스테이크'}, page_content='1. 시그니처 스테이크\\\\n   • 가격: ₩35,000\\\\n   • 주요 식재료: 최상급 한우 등심, 로즈메리 감자, 그릴드 아스파라거스\\\\n   • 설명: 셰프의 특제 시그니처 메뉴로, 21일간 건조 숙성한 최상급 한우 등심을 사용합니다. 미디엄 레어로 조리하여 육즙을 최대한 보존하며, 로즈메리 향의 감자와 아삭한 그릴드 아스파라거스가 곁들여집니다. 레드와인 소스와 함께 제공되어 풍부한 맛을 더합니다.'), Document(id='1ae85f26-c8c3-4c54-af2c-f5f840ebb890', metadata={'source': '../data/restaurant_menu.txt', 'menu_number': 2, 'menu_name': '트러플 리조또'}, page_content='2. 트러플 리조또\\\\n   • 가격: ₩22,000\\\\n   • 주요 식재료: 이탈리아산 아르보리오 쌀, 블랙 트러플, 파르미지아노 레지아노 치즈\\\\n   • 설명: 크리미한 텍스처의 리조또에 고급 블랙 트러플을 듬뿍 얹어 풍부한 향과 맛을 즐길 수 있는 메뉴입니다. 24개월 숙성된 파르미지아노 레지아노 치즈를 사용하여 깊은 맛을 더했으며, 주문 즉시 조리하여 최상의 상태로 제공됩니다.')]\", name='db_search_menu_func', tool_call_id='call_MnPGlaf221crQAKDgAXQxIUz'), ToolMessage(content=\"[Document(id='9337b6c5-4bb5-4760-a3c0-d832976c8cf4', metadata={'source': '../data/restaurant_wine.txt', 'menu_number': 10, 'menu_name': '그랜지 2016'}, page_content='10. 그랜지 2016\\\\n    • 가격: ₩950,000\\\\n    • 주요 품종: 시라\\\\n    • 설명: 호주의 대표적인 아이콘 와인입니다. 블랙베리, 자두, 블랙 올리브의 강렬한 과실향과 함께 유칼립투스, 초콜릿, 가죽의 복잡한 향이 어우러집니다. 풀바디이며 강렬한 타닌과 산도가 특징적입니다. 놀라운 집중도와 깊이, 긴 여운을 자랑하며, 수십 년의 숙성 잠재력을 가집니다.'), Document(id='8c00f435-4ab5-4db8-9e12-d35c770d00a4', metadata={'source': '../data/restaurant_wine.txt', 'menu_number': 6, 'menu_name': '바롤로 몬프리바토 2017'}, page_content='6. 바롤로 몬프리바토 2017\\\\n   • 가격: ₩280,000\\\\n   • 주요 품종: 네비올로\\\\n   • 설명: 이탈리아 피에몬테 지역의 프리미엄 레드 와인입니다. 붉은 체리, 장미, 타르의 복잡한 아로마가 특징이며, 가죽, 담배, 스파이스 노트가 더해집니다. 강렬한 타닌과 높은 산도가 인상적이며, 긴 숙성 잠재력을 가집니다. 숙성된 치즈나 트러플 요리와 잘 어울립니다.')]\", name='db_search_wine_func', tool_call_id='call_7kTJVaqmHQqCh4CFLflbGk5F')]\n",
      "db_search_menu_func\n",
      "db_search_wine_func\n",
      "----------------------------------------------------------------------------------------------------\n",
      "### 시그니처 스테이크\n",
      "- **가격**: ₩35,000\n",
      "- **특징**:\n",
      "  - **주요 재료**: 소고기 1등급, 로즈마리, 그릴드 아스파라거스\n",
      "  - **설명**: 스테이크는 프랑스의 전통 요리인 ‘퐁도’에서 영감을 얻어 만들어졌습니다. 미디엄 레어로 조리된 탱탱한 고기의 식감과 함께 아삭아삭한 아스파라거스가 더해져 훌륭한 조화를 이루고 있습니다.\n",
      "\n",
      "### 추천 와인\n",
      "1. **그라지오 2016**\n",
      "   - **가격**: ₩950,000\n",
      "   - **주요 특징**: \n",
      "     - **포도 품종**: 슬라프, 호줄, 비올라\n",
      "     - **설명**: 향취가 풍부하며, 복합적인 아로마와 함께 탁월한 균형을 이루는 성격을 가지고 있습니다. 특히, 전통적인 스테이크와의 조화가 뛰어납니다.\n",
      "\n",
      "2. **바르셀로네 말푸리토 2017**\n",
      "   - **가격**: ₩280,000\n",
      "   - **주요 특징**: \n",
      "     - **포도 품종**: 네비올로\n",
      "     - **설명**: 점차 진한 블랙 체리, 흑채, 타닌의 구조가 잘 녹아들어 있으며, 시그니처 스테이크와 완벽한 조화를 이룹니다. \n",
      "\n",
      "이 정보를 바탕으로 맛있게 식사하시길 바랍니다!\n"
     ]
    }
   ],
   "source": [
    "from datetime import datetime\n",
    "from langchain_core.prompts import ChatPromptTemplate\n",
    "from langchain_core.runnables import RunnableConfig, chain\n",
    "from pprint import pprint\n",
    "\n",
    "# 오늘 날짜 설정\n",
    "today = datetime.today().strftime(\"%Y-%m-%d\")\n",
    "\n",
    "# 프롬프트 템플릿 \n",
    "prompt = ChatPromptTemplate([\n",
    "    (\"system\", f\"You are a helpful AI assistant. Today's date is {today}.\"),\n",
    "    (\"human\", \"{user_input}\"),\n",
    "    (\"placeholder\", \"{messages}\"),\n",
    "])\n",
    "\n",
    "# ChatOpenAI 모델 초기화 \n",
    "llm = ChatOpenAI(model=\"gpt-4o-mini\")\n",
    "\n",
    "# 4개의 검색 도구를 LLM에 바인딩\n",
    "llm_with_tools = llm.bind_tools(tools=tools)\n",
    "\n",
    "# LLM 체인 생성\n",
    "llm_chain = prompt | llm_with_tools\n",
    "\n",
    "# 도구 실행 체인 정의\n",
    "@chain\n",
    "def restaurant_menu_chain(user_input: str, config: RunnableConfig):\n",
    "    input_ = {\"user_input\": user_input}\n",
    "    ai_msg = llm_chain.invoke(input_, config=config)\n",
    "\n",
    "    tool_msgs = []\n",
    "    for tool_call in ai_msg.tool_calls:\n",
    "        print(f\"{tool_call['name']}: \\n{tool_call}\")\n",
    "        print(\"-\"*100)\n",
    "\n",
    "        if tool_call[\"name\"] == \"tavily_search_func\":\n",
    "            tool_message = tavily_search_func.invoke(tool_call, config=config)\n",
    "            tool_msgs.append(tool_message)\n",
    "\n",
    "        elif tool_call[\"name\"] == \"wiki_summary\":\n",
    "            tool_message = wiki_summary.invoke(tool_call, config=config)\n",
    "            tool_msgs.append(tool_message)\n",
    "\n",
    "        elif tool_call[\"name\"] == \"db_search_menu_func\":\n",
    "            tool_message = db_search_menu_func.invoke(tool_call, config=config)\n",
    "            tool_msgs.append(tool_message)\n",
    "\n",
    "        elif tool_call[\"name\"] == \"db_search_wine_func\":\n",
    "            tool_message = db_search_wine_func.invoke(tool_call, config=config)\n",
    "            tool_msgs.append(tool_message)            \n",
    "\n",
    "    print(\"tool_msgs: \\n\", tool_msgs)\n",
    "    for tool in tool_msgs:\n",
    "        print(tool.name)\n",
    "    print(\"-\"*100)\n",
    "    return llm_chain.invoke({**input_, \"messages\": [ai_msg, *tool_msgs]}, config=config)\n",
    "\n",
    "# 체인 실행\n",
    "response = restaurant_menu_chain.invoke(\"시그니처 스테이크의 가격과 특징은 무엇인가요? 와인도 해주세요.\")\n",
    "\n",
    "# 응답 출력 \n",
    "print(response.content)"
   ]
  },
  {
   "cell_type": "code",
   "execution_count": null,
   "id": "f93b3215",
   "metadata": {},
   "outputs": [
    {
     "name": "stdout",
     "output_type": "stream",
     "text": [
      "db_search_menu_func: \n",
      "{'name': 'db_search_menu_func', 'args': {'query': '파스타'}, 'id': 'call_jvIy2VAyToYyBUFSYv4DOt0d', 'type': 'tool_call'}\n",
      "----------------------------------------------------------------------------------------------------\n",
      "wiki_summary: \n",
      "{'name': 'wiki_summary', 'args': {'query': '파스타의 역사'}, 'id': 'call_hnKMMDQZ24SWn6oi3Q74HmE7', 'type': 'tool_call'}\n",
      "----------------------------------------------------------------------------------------------------\n",
      "tool_msgs: \n",
      " [ToolMessage(content=\"[Document(id='b6865964-9504-4552-88a2-d9385c240b46', metadata={'source': './data/restaurant_menu.txt', 'menu_number': 8, 'menu_name': '안심 스테이크 샐러드'}, page_content='8. 안심 스테이크 샐러드\\\\n   • 가격: ₩26,000\\\\n   • 주요 식재료: 소고기 안심, 루꼴라, 체리 토마토, 발사믹 글레이즈\\\\n   • 설명: 부드러운 안심 스테이크를 얇게 슬라이스하여 신선한 루꼴라 위에 올린 메인 요리 샐러드입니다. 체리 토마토와 파마산 치즈 플레이크로 풍미를 더하고, 발사믹 글레이즈로 마무리하여 고기의 풍미를 한층 끌어올렸습니다.'), Document(id='e3656bb9-71b4-412e-a75f-7134d0248eaf', metadata={'source': './data/restaurant_menu.txt', 'menu_number': 6, 'menu_name': '해산물 파스타'}, page_content='6. 해산물 파스타\\\\n   • 가격: ₩24,000\\\\n   • 주요 식재료: 링귀네 파스타, 새우, 홍합, 오징어, 토마토 소스\\\\n   • 설명: 알 덴테로 삶은 링귀네 파스타에 신선한 해산물을 듬뿍 올린 메뉴입니다. 토마토 소스의 산미와 해산물의 감칠맛이 조화를 이루며, 마늘과 올리브 오일로 풍미를 더했습니다. 파슬리를 뿌려 향긋한 맛을 더합니다.')]\", name='db_search_menu_func', tool_call_id='call_jvIy2VAyToYyBUFSYv4DOt0d'), ToolMessage(content='Pasta, an Italian staple made from durum wheat semolina mixed with water or eggs, is a key food in Italy, often cooked by boiling or baking. The term \"pasta\" derives from the Italian word meaning \"dough.\" Historical references to pasta date back to ancient Greece and the Middle East, with various forms evolving over centuries. There are two main types of pasta: dried (pasta secca) and fresh (pasta fresca), each with distinct ingredients and preparation methods. Dried pasta is made from durum wheat and can be stored for long periods, while fresh pasta typically includes eggs and is made from soft wheat. Pasta comes in numerous shapes and sizes, with over 13,000 recorded names. Cooking methods vary, including serving with sauces or in soups.\\n\\nFlour, primarily made from ground wheat, is a key ingredient in many foods, especially bread. It contains starch and gluten, which contribute to the texture of baked goods. The demand for gluten-free products has risen due to health concerns related to gluten. Wheat has been cultivated for thousands of years, with significant production in countries like China. In South Korea, wheat was historically rare but became more common post-Korean War. Various types of flour exist, categorized by gluten content, including strong flour for bread and weak flour for cakes. Flour types are also classified based on their mineral content, with different standards in various countries.', name='wiki_summary', tool_call_id='call_hnKMMDQZ24SWn6oi3Q74HmE7')]\n",
      "----------------------------------------------------------------------------------------------------\n",
      "### 파스타 메뉴\n",
      "레스토랑의 메뉴에서 제공하는 파스타는 다음과 같습니다:\n",
      "\n",
      "1. **안심 스테이크 스테레드** \n",
      "   - 가격: ₩26,000\n",
      "   - 주요 재료: 소고기 안심, 루꼴라, 체리 토마토, 발사믹 비네그레트\n",
      "   - 설명: 부드러운 안심 스테이크를 새콤한 체리 토마토 소스와 신선한 루꼴라 위에 얹은 메뉴입니다.\n",
      "\n",
      "2. **해산물 파스타**\n",
      "   - 가격: ₩24,000\n",
      "   - 주요 재료: 링귀니 파스타, 새우, 조개, 오징어, 토마토 소스\n",
      "   - 설명: 쫄깃한 링귀니와 신선한 해산물을 풍부한 토마토 소스와 함께 제공하는 메뉴입니다.\n",
      "\n",
      "### 파스타의 역사\n",
      "파스타는 주로 두럼 밀 세몰리나와 물 또는 계란을 혼합하여 만든 이탈리아의 대표 음식입니다. \"파스타\"라는 용어는 이탈리아어로 \"반죽\"을 의미하며, 고대 그리스 및 중동의 역사적 문헌에서도 파스타에 대한 언급이 발견됩니다. \n",
      "\n",
      "파스타는 크게 건조 파스타(파스타 세카)와 신선한 파스타(파스타 프레스카)로 나뉘며, 각각의 재료와 준비 방법이 다릅니다. 건조 파스타는 두럼 밀로 만들어져 보관이 용이하고, 신선한 파스타는 일반적으로 계란을 포함한 연한 밀가루로 만들어집니다. 파스타의 모양과 크기는 다양하며, 13,000개 이상의 이름이 기록되어 있습니다. \n",
      "\n",
      "조리 방법도 다양하고, 소스와 함께 제공되거나 수프에 사용되기도 합니다. \n",
      "\n",
      "이러한 파스타의 기본 재료인 밀가루는 주로 곡식에서 얻어지며, 전 세계에서 중요한 식품으로 여겨집니다.\n"
     ]
    }
   ],
   "source": [
    "# 체인 실행\n",
    "response = restaurant_menu_chain.invoke(\"파스타 메뉴가 있나요? 파스타의 역사 또는 유래를 알려주세요.\")\n",
    "\n",
    "# 응답 출력 \n",
    "print(response.content)"
   ]
  },
  {
   "cell_type": "markdown",
   "id": "cc3b78e3",
   "metadata": {},
   "source": [
    "## 3. Few-shot 프롬프팅 \n",
    "- 각 도구의 용도를 구분하여 few-shot 예제로 제시"
   ]
  },
  {
   "cell_type": "markdown",
   "id": "4cd3e6b9",
   "metadata": {},
   "source": [
    "### 3-1. Few-shot 도구 호출"
   ]
  },
  {
   "cell_type": "code",
   "execution_count": null,
   "id": "5fd743c1",
   "metadata": {},
   "outputs": [],
   "source": [
    "from langchain_core.messages import AIMessage, HumanMessage, ToolMessage\n",
    "from langchain_core.prompts import ChatPromptTemplate\n",
    "\n",
    "examples = [\n",
    "    HumanMessage(\"트러플 리조또의 가격과 특징, 그리고 어울리는 와인에 대해 알려주세요.\", name=\"example_user\"),\n",
    "    AIMessage(\"메뉴 정보를 검색하고, 위키피디아에서 추가 정보를 찾은 후, 어울리는 와인을 검색해보겠습니다.\", name=\"example_assistant\"),\n",
    "    AIMessage(\"\", name=\"example_assistant\", tool_calls=[{\"name\": \"db_search_menu_func\", \"args\": {\"query\": \"트러플 리조또\"}, \"id\": \"1\"}]),\n",
    "    ToolMessage(\"트러플 리조또: 가격 ₩28,000, 이탈리아 카나롤리 쌀 사용, 블랙 트러플 향과 파르메산 치즈를 듬뿍 넣어 조리\", tool_call_id=\"1\"),    \n",
    "    AIMessage(\"트러플 리조또의 가격은 ₩28,000이며, 이탈리아 카나롤리 쌀을 사용하고 블랙 트러플 향과 파르메산 치즈를 듬뿍 넣어 조리합니다. 이제 추가 정보를 위키피디아에서 찾아보겠습니다.\", name=\"example_assistant\"),\n",
    "    AIMessage(\"\", name=\"example_assistant\", tool_calls=[{\"name\": \"wiki_summary\", \"args\": {\"query\": \"트러플 리조또\", \"k\": 1}, \"id\": \"2\"}]),\n",
    "    ToolMessage(\"트러플 리조또는 이탈리아 요리의 대표적인 리조또 요리 중 하나로, 고급 식재료인 트러플을 사용하여 만든 크리미한 쌀 요리입니다. \\\n",
    "                주로 아르보리오나 카나롤리 등의 쌀을 사용하며, 트러플 오일이나 생 트러플을 넣어 조리합니다. 리조또 특유의 크리미한 질감과 트러플의 강렬하고 독특한 향이 조화를 이루는 것이 특징입니다.\", tool_call_id=\"2\"),\n",
    "    AIMessage(\"트러플 리조또의 특징에 대해 알아보았습니다. 이제 어울리는 와인을 검색해보겠습니다.\", name=\"example_assistant\"),\n",
    "    AIMessage(\"\", name=\"example_assistant\", tool_calls=[{\"name\": \"db_search_wine_func\", \"args\": {\"query\": \"트러플 리조또에 어울리는 와인\"}, \"id\": \"3\"}]),\n",
    "    ToolMessage(\"트러플 리조또와 잘 어울리는 와인으로는 주로 중간 바디의 화이트 와인이 추천됩니다. 1. 샤르도네: 버터와 오크향이 트러플의 풍미를 보완합니다. \\\n",
    "                2. 피노 그리지오: 산뜻한 산미가 리조또의 크리미함과 균형을 이룹니다. 3. 베르나차: 이탈리아 토스카나 지방의 화이트 와인으로, 미네랄리티가 트러플과 잘 어울립니다.\", tool_call_id=\"3\"),\n",
    "    AIMessage(\"트러플 리조또(₩28,000)는 이탈리아의 대표적인 리조또 요리 중 하나로, 이탈리아 카나롤리 쌀을 사용하고 블랙 트러플 향과 파르메산 치즈를 듬뿍 넣어 조리합니다.\\\n",
    "               주요 특징으로는 크리미한 질감과 트러플의 강렬하고 독특한 향이 조화를 이루는 점입니다. 고급 식재료인 트러플을 사용해 풍부한 맛과 향을 내며, \\\n",
    "              주로 아르보리오나 카나롤리 등의 쌀을 사용합니다. 트러플 리조또와 잘 어울리는 와인으로는 중간 바디의 화이트 와인이 추천됩니다. \\\n",
    "              특히 버터와 오크향이 트러플의 풍미를 보완하는 샤르도네, 산뜻한 산미로 리조또의 크리미함과 균형을 이루는 피노 그리지오,\\\n",
    "               그리고 미네랄리티가 트러플과 잘 어울리는 이탈리아 토스카나 지방의 베르나차 등이 좋은 선택이 될 수 있습니다.\", name=\"example_assistant\"),\n",
    "]\n",
    "\n",
    "system = \"\"\"You are an AI assistant providing restaurant menu information and general food-related knowledge.\n",
    "For information about the restaurant's menu, use the search_menu tool.\n",
    "For other general information, use the wiki_summary tool.\n",
    "For wine recommendations or pairing information, use the search_wine tool.\n",
    "If additional web searches are needed or for the most up-to-date information, use the search_web tool.\n",
    "\"\"\"\n"
   ]
  },
  {
   "cell_type": "code",
   "execution_count": null,
   "id": "cda0ada8",
   "metadata": {},
   "outputs": [
    {
     "name": "stdout",
     "output_type": "stream",
     "text": [
      "{'name': 'db_search_menu_func', 'args': {'query': '스테이크'}, 'id': 'call_77KuFqh1SWzPmKZwJPk2tqg4', 'type': 'tool_call'}\n",
      "{'name': 'db_search_wine_func', 'args': {'query': '스테이크와 어울리는 와인'}, 'id': 'call_zme3gvxATMMsuIotwDr5sPUv', 'type': 'tool_call'}\n"
     ]
    }
   ],
   "source": [
    "\n",
    "few_shot_prompt = ChatPromptTemplate.from_messages([\n",
    "    (\"system\", system),\n",
    "    *examples,\n",
    "    (\"human\", \"{query}\"),\n",
    "])\n",
    "\n",
    "# ChatOpenAI 모델 초기화 \n",
    "llm = ChatOpenAI(model=\"gpt-4o-mini\")\n",
    "\n",
    "# 검색 도구를 직접 LLM에 바인딩 가능\n",
    "tools = [tavily_search_func, wiki_summary, db_search_menu_func, db_search_wine_func]\n",
    "llm_with_tools = llm.bind_tools(tools=tools)\n",
    "\n",
    "# Few-shot 프롬프트를 사용한 체인 구성\n",
    "fewshot_search_chain = few_shot_prompt | llm_with_tools\n",
    "\n",
    "# 체인 실행\n",
    "query = \"스테이크 메뉴가 있나요? 스테이크와 어울리는 와인도 추천해주세요.\"\n",
    "response = fewshot_search_chain.invoke(query)\n",
    "\n",
    "# 결과 출력\n",
    "for tool_call in response.tool_calls:\n",
    "    print(tool_call)"
   ]
  },
  {
   "cell_type": "code",
   "execution_count": null,
   "id": "c442be3f",
   "metadata": {},
   "outputs": [
    {
     "name": "stdout",
     "output_type": "stream",
     "text": [
      "{'name': 'wiki_summary', 'args': {'query': '파스타의 유래'}, 'id': 'call_oIQKzQfkPtu8QlS3oNSyXhU4', 'type': 'tool_call'}\n",
      "{'name': 'tavily_search_func', 'args': {'query': '서울 강남 파스타 맛집'}, 'id': 'call_UgqWlO41rHYJrS1uEwsNWBhk', 'type': 'tool_call'}\n"
     ]
    }
   ],
   "source": [
    "# 체인 실행\n",
    "query = \"파스타의 유래에 대해서 알고 있나요? 서울 강남의 파스타 맛집을 추천해주세요.\"\n",
    "response = fewshot_search_chain.invoke(query)\n",
    "\n",
    "# 결과 출력\n",
    "for tool_call in response.tool_calls:\n",
    "    print(tool_call)"
   ]
  },
  {
   "cell_type": "markdown",
   "id": "a2f10c84",
   "metadata": {},
   "source": [
    "### 3-2. 답변 생성 체인 "
   ]
  },
  {
   "cell_type": "code",
   "execution_count": null,
   "id": "49a4d3c7",
   "metadata": {},
   "outputs": [
    {
     "name": "stdout",
     "output_type": "stream",
     "text": [
      "db_search_menu_func: \n",
      "{'name': 'db_search_menu_func', 'args': {'query': '스테이크'}, 'id': 'call_vOMBMyf4kpzNgwUPBjJNnn8b', 'type': 'tool_call'}\n",
      "----------------------------------------------------------------------------------------------------\n",
      "db_search_wine_func: \n",
      "{'name': 'db_search_wine_func', 'args': {'query': '스테이크'}, 'id': 'call_nyQ1wH0DUzT9LlbuAUJiLd2R', 'type': 'tool_call'}\n",
      "----------------------------------------------------------------------------------------------------\n",
      "tool_msgs: \n",
      " [ToolMessage(content=\"[Document(id='2b0ebfad-94fe-440a-b893-2dd2a723c926', metadata={'source': '../data/restaurant_menu.txt', 'menu_number': 8, 'menu_name': '안심 스테이크 샐러드'}, page_content='8. 안심 스테이크 샐러드\\\\n   • 가격: ₩26,000\\\\n   • 주요 식재료: 소고기 안심, 루꼴라, 체리 토마토, 발사믹 글레이즈\\\\n   • 설명: 부드러운 안심 스테이크를 얇게 슬라이스하여 신선한 루꼴라 위에 올린 메인 요리 샐러드입니다. 체리 토마토와 파마산 치즈 플레이크로 풍미를 더하고, 발사믹 글레이즈로 마무리하여 고기의 풍미를 한층 끌어올렸습니다.'), Document(id='e98025c4-f4f8-4aa9-8426-5b4e48bfd340', metadata={'source': '../data/restaurant_menu.txt', 'menu_number': 1, 'menu_name': '시그니처 스테이크'}, page_content='1. 시그니처 스테이크\\\\n   • 가격: ₩35,000\\\\n   • 주요 식재료: 최상급 한우 등심, 로즈메리 감자, 그릴드 아스파라거스\\\\n   • 설명: 셰프의 특제 시그니처 메뉴로, 21일간 건조 숙성한 최상급 한우 등심을 사용합니다. 미디엄 레어로 조리하여 육즙을 최대한 보존하며, 로즈메리 향의 감자와 아삭한 그릴드 아스파라거스가 곁들여집니다. 레드와인 소스와 함께 제공되어 풍부한 맛을 더합니다.')]\", name='db_search_menu_func', tool_call_id='call_vOMBMyf4kpzNgwUPBjJNnn8b'), ToolMessage(content=\"[Document(id='9337b6c5-4bb5-4760-a3c0-d832976c8cf4', metadata={'source': '../data/restaurant_wine.txt', 'menu_number': 10, 'menu_name': '그랜지 2016'}, page_content='10. 그랜지 2016\\\\n    • 가격: ₩950,000\\\\n    • 주요 품종: 시라\\\\n    • 설명: 호주의 대표적인 아이콘 와인입니다. 블랙베리, 자두, 블랙 올리브의 강렬한 과실향과 함께 유칼립투스, 초콜릿, 가죽의 복잡한 향이 어우러집니다. 풀바디이며 강렬한 타닌과 산도가 특징적입니다. 놀라운 집중도와 깊이, 긴 여운을 자랑하며, 수십 년의 숙성 잠재력을 가집니다.'), Document(id='a2a353bf-fe6f-4820-887f-1489776f9ee1', metadata={'source': '../data/restaurant_wine.txt', 'menu_number': 7, 'menu_name': '풀리니 몽라쉐 1er Cru 2018'}, page_content='7. 풀리니 몽라쉐 1er Cru 2018\\\\n   • 가격: ₩320,000\\\\n   • 주요 품종: 샤르도네\\\\n   • 설명: 부르고뉴 최고의 화이트 와인 중 하나로 꼽힙니다. 레몬, 사과, 배의 과실향과 함께 헤이즐넛, 버터, 바닐라의 풍부한 향이 어우러집니다. 미네랄리티가 돋보이며, 크리미한 텍스처와 긴 여운이 특징입니다. 해산물, 닭고기, 크림 소스 파스타와 좋은 페어링을 이룹니다.')]\", name='db_search_wine_func', tool_call_id='call_nyQ1wH0DUzT9LlbuAUJiLd2R')]\n",
      "----------------------------------------------------------------------------------------------------\n",
      "('현재 메뉴에 있는 스테이크는 다음과 같습니다:\\n'\n",
      " '\\n'\n",
      " '1. **안심 스테이크**\\n'\n",
      " '   - 가격: ₩26,000\\n'\n",
      " '   - 특징: 소고기 안심, 로스트듬, 채소\\n'\n",
      " '   - 설명: 부드러운 안심 스테이크에 싱싱한 로스트듬과 함께 조리합니다.\\n'\n",
      " '\\n'\n",
      " '2. **스테이크**\\n'\n",
      " '   - 가격: ₩35,000\\n'\n",
      " '   - 특징: 최상급 한우 등심, 로즈마리, 감자\\n'\n",
      " '   - 설명: 톱품의 등심 스테이크를 사용해 조리하며 부드러운 한우 등심을 활용하여 만든 스테이크입니다. 미디엄 레어로 조리하여 육즙을 '\n",
      " '가득을 유지합니다.\\n'\n",
      " '\\n'\n",
      " '### 스테이크와 어울리는 와인 추천\\n'\n",
      " '\\n'\n",
      " '스테이크와 잘 어울리는 와인으로는 다음과 같은 종류가 있습니다:\\n'\n",
      " '\\n'\n",
      " '1. **크레모제 레드 와인 2016**\\n'\n",
      " '   - 가격: ₩950,000\\n'\n",
      " '   - 특징: 향주파의 대형 성인 최종판\\n'\n",
      " '   - 설명: 블랙커런트, 자두, 블랙 체리의 강렬한 향을 가진 와인으로, 미장을 동원한 탁월한 품질을 자랑합니다.\\n'\n",
      " '\\n'\n",
      " '2. **리치 가브리엘 1er Cru 2018**\\n'\n",
      " '   - 가격: ₩320,000\\n'\n",
      " '   - 특징: 알몬드\\n'\n",
      " '   - 설명: 부르고뉴 지역 최고의 화이트 와인으로, 꼬투리, 과실의 그늘린 풍미가 조화를 이루며, 스테이크와 같이 진한 요리와 잘 '\n",
      " '어울립니다.\\n'\n",
      " '\\n'\n",
      " '이 두 가지 스테이크와 함께 해당 와인을 즐기시면 훨씬 더 풍부한 미식을 경험하실 수 있습니다!')\n"
     ]
    }
   ],
   "source": [
    "from datetime import datetime\n",
    "from langchain_core.messages import AIMessage, HumanMessage, ToolMessage\n",
    "from langchain_core.prompts import ChatPromptTemplate\n",
    "from langchain_core.runnables import RunnableConfig, chain\n",
    "from langchain_openai import ChatOpenAI\n",
    "\n",
    "# 오늘 날짜 설정\n",
    "today = datetime.today().strftime(\"%Y-%m-%d\")\n",
    "\n",
    "# 프롬프트 템플릿 \n",
    "system = \"\"\"You are an AI assistant providing restaurant menu information and general food-related knowledge.\n",
    "For information about the restaurant's menu, use the search_menu tool.\n",
    "For other general information, use the wiki_summary tool.\n",
    "For wine recommendations or pairing information, use the search_wine tool.\n",
    "If additional web searches are needed or for the most up-to-date information, use the search_web tool.\n",
    "\"\"\"\n",
    "\n",
    "few_shot_prompt = ChatPromptTemplate.from_messages([\n",
    "    (\"system\", system + f\"Today's date is {today}.\"),\n",
    "    *examples,\n",
    "    (\"human\", \"{user_input}\"),\n",
    "    (\"placeholder\", \"{messages}\"),\n",
    "])\n",
    "\n",
    "# ChatOpenAI 모델 초기화 \n",
    "# llm = ChatOpenAI(model=\"gpt-4o-mini\")\n",
    "\n",
    "# Groq API를 사용하는 ChatOpenAI 인스턴스 생성\n",
    "llm = ChatOpenAI(\n",
    "    api_key=OPENAI_API_KEY,\n",
    "    base_url=\"https://api.groq.com/openai/v1\",  # Groq API 엔드포인트\n",
    "    model=\"meta-llama/llama-4-scout-17b-16e-instruct\",\n",
    "    temperature=0.7\n",
    ")\n",
    "\n",
    "# 검색 도구를 직접 LLM에 바인딩 가능\n",
    "llm_with_tools = llm.bind_tools(tools=tools)\n",
    "\n",
    "# Few-shot 프롬프트를 사용한 체인 구성\n",
    "fewshot_search_chain = few_shot_prompt | llm_with_tools\n",
    "\n",
    "# 도구 실행 체인 정의\n",
    "@chain\n",
    "def restaurant_menu_chain(user_input: str, config: RunnableConfig):\n",
    "    input_ = {\"user_input\": user_input}\n",
    "    ai_msg = fewshot_search_chain.invoke(input_, config=config)\n",
    "\n",
    "    tool_msgs = []\n",
    "    \n",
    "    for tool_call in ai_msg.tool_calls:\n",
    "        print(f\"{tool_call['name']}: \\n{tool_call}\")\n",
    "        print(\"-\"*100)\n",
    "\n",
    "        # [tavily_search_func, wiki_summary, db_search_menu_func, db_search_wine_func]\n",
    "        if tool_call[\"name\"] == \"tavily_search_func\":\n",
    "            tool_message = tavily_search_func.invoke(tool_call, config=config)\n",
    "            tool_msgs.append(tool_message)\n",
    "\n",
    "        elif tool_call[\"name\"] == \"wiki_summary\":\n",
    "            tool_message = wiki_summary.invoke(tool_call, config=config)\n",
    "            tool_msgs.append(tool_message)\n",
    "\n",
    "        elif tool_call[\"name\"] == \"db_search_wine_func\":\n",
    "            tool_message = db_search_wine_func.invoke(tool_call, config=config)\n",
    "            tool_msgs.append(tool_message)\n",
    "\n",
    "        elif tool_call[\"name\"] == \"db_search_menu_func\":\n",
    "            tool_message = db_search_menu_func.invoke(tool_call, config=config)\n",
    "            tool_msgs.append(tool_message)            \n",
    "\n",
    "    print(\"tool_msgs: \\n\", tool_msgs)\n",
    "    print(\"-\"*100)\n",
    "    return fewshot_search_chain.invoke({**input_, \"messages\": [ai_msg, *tool_msgs]}, config=config)\n",
    "\n",
    "\n",
    "# 체인 실행\n",
    "query = \"스테이크 메뉴가 있나요? 스테이크와 어울리는 와인을 추천해 주세요.\"\n",
    "response = restaurant_menu_chain.invoke(query)\n",
    "\n",
    "# 응답 출력 \n",
    "pprint(response.content)"
   ]
  },
  {
   "cell_type": "code",
   "execution_count": null,
   "id": "d60b9ebc",
   "metadata": {},
   "outputs": [
    {
     "name": "stdout",
     "output_type": "stream",
     "text": [
      "wiki_summary: \n",
      "{'name': 'wiki_summary', 'args': {'query': '파스타의 유래'}, 'id': 'call_2FqpHW8uaQr1i17xCUGOLMzh', 'type': 'tool_call'}\n",
      "----------------------------------------------------------------------------------------------------\n",
      "tavily_search_func: \n",
      "{'name': 'tavily_search_func', 'args': {'query': '서울 강남 파스타 맛집'}, 'id': 'call_RrfuLekfao6tSqS9kcU7zwqR', 'type': 'tool_call'}\n",
      "----------------------------------------------------------------------------------------------------\n"
     ]
    },
    {
     "name": "stderr",
     "output_type": "stream",
     "text": [
      "C:\\Users\\sogno\\AppData\\Local\\Temp\\ipykernel_20292\\3430203717.py:9: LangChainDeprecationWarning: The class `TavilySearchResults` was deprecated in LangChain 0.3.25 and will be removed in 1.0. An updated version of the class exists in the :class:`~langchain-tavily package and should be used instead. To use it run `pip install -U :class:`~langchain-tavily` and import as `from :class:`~langchain_tavily import TavilySearch``.\n",
      "  tavily_search = TavilySearchResults(max_results=2)\n"
     ]
    },
    {
     "name": "stdout",
     "output_type": "stream",
     "text": [
      "tool_msgs: \n",
      " [ToolMessage(content='투움바 파스타는 미국의 아웃백 스테이크하우스에서 유래된 요리로, 오스트레일리아의 투움바에서 이름을 따왔으며, 매콤한 크림 소스를 사용한 두꺼운 파스타이다. 한국과 브라질에서 인기를 끌고 있으며, 다양한 변형 요리도 존재한다. 피치는 이탈리아의 전통 파스타로, 손으로 만들어지는 굵은 형태로, 주로 밀가루와 물로 반죽하여 만든다. 주로 토스카나 지역에서 유래하며, 다양한 요리에 활용된다.', name='wiki_summary', tool_call_id='call_2FqpHW8uaQr1i17xCUGOLMzh'), ToolMessage(content='<Document href=\"https://todflrh06.tistory.com/3\"/>\\n서울 강남 파스타 맛집 추천 BEST 5 · 1. 라비타 (La Vita) · 2. 볼라레 (VolaRe) · 3. 더 테이블 (The Table) · 4. 오스테리아 밀라노 (Osteria Milano).\\n</Document>\\n---\\n<Document href=\"https://blog.naver.com/pronl5v2/223447446768\"/>\\n신논현역 6번 출구에서 317m만 걸어 오면 바로 보이는 강남 파스타 맛집 바비레드 BOBIRED ! \\u200b. 바비레드 강남본점. 서울특별시 강남구 봉은사로6길 39\\n</Document>', name='tavily_search_func', tool_call_id='call_RrfuLekfao6tSqS9kcU7zwqR')]\n",
      "----------------------------------------------------------------------------------------------------\n",
      "('### 파스타의 유래\\n'\n",
      " '파스타는 이탈리아의 밀가루 반죽 식품으로, 면의 종류에 따라 다양한 형태와 요리법이 있습니다. 일반적으로 이탈리아에서 유래했지만, '\n",
      " '북아프리카에서 유래된 이탈리아의 전통적인 음식이라고 볼 수 있습니다. 면은 여러 형태로 만들어지며, 그 중 단순한 형태는 특히 그리스와 '\n",
      " '로마 제국 시대부터 존재해 왔습니다. 파스타의 대표적인 종류로는 스파게티, 링귀니, 펜네 등이 있으며, 이들은 각각의 특성에 맞춘 소스와 '\n",
      " '함께 제공됩니다.\\n'\n",
      " '\\n'\n",
      " '### 서울 강남의 파스타 맛집 추천\\n'\n",
      " '서울 강남 지역의 파스타 맛집으로는 다음과 같은 곳들이 추천됩니다:\\n'\n",
      " '1. **라비타 (La Vita)** - 신선한 재료와 독창적인 소스로 유명한 이탈리안 레스토랑입니다.\\n'\n",
      " '2. **볼라레 (VolaRe)** - 특색 있는 파스타 요리를 선보이는 곳으로, 다양한 메뉴가 있습니다.\\n'\n",
      " '3. **더 테이블 (The Table)** - 아늑한 분위기에서 질 좋은 파스타를 즐길 수 있는 레스토랑입니다.\\n'\n",
      " '4. **오스테리아 밀라노 (Osteria Milano)** - 이탈리안 전통 요리를 기반으로 한 다양한 메뉴가 있는 맛집입니다.\\n'\n",
      " '\\n'\n",
      " '이 외에도 서울 강남에는 많은 맛집들이 있으니, 방문 전에 미리 확인해 보시면 좋겠습니다!')\n"
     ]
    }
   ],
   "source": [
    "# 체인 실행\n",
    "query = \"파스타의 유래에 대해서 알고 있나요? 서울 강남의 파스타 맛집을 추천해주세요.\"\n",
    "response = restaurant_menu_chain.invoke(query)\n",
    "\n",
    "# 응답 출력 \n",
    "pprint(response.content)"
   ]
  },
  {
   "cell_type": "markdown",
   "id": "11927ed4",
   "metadata": {},
   "source": [
    "## 4. LangChain Agent 사용\n",
    "- 유의사항: 프롬프트에 \"agent_scratchpad\",  \"input\" 변수를 포함"
   ]
  },
  {
   "cell_type": "code",
   "execution_count": null,
   "id": "7127af7a",
   "metadata": {},
   "outputs": [],
   "source": [
    "from langchain_core.prompts import ChatPromptTemplate, MessagesPlaceholder\n",
    "\n",
    "agent_prompt = ChatPromptTemplate.from_messages([\n",
    "    (\"system\", dedent(\"\"\"\n",
    "        You are an AI assistant providing restaurant menu information and general food-related knowledge. \n",
    "        Your main goal is to provide accurate information and effective recommendations to users.\n",
    "\n",
    "        Key guidelines:\n",
    "        1. For restaurant menu information, use the search_menu tool. This tool provides details on menu items, including prices, ingredients, and cooking methods.\n",
    "        2. For general food information, history, and cultural background, utilize the wiki_summary tool.\n",
    "        3. For wine recommendations or food and wine pairing information, use the search_wine tool.\n",
    "        4. If additional web searches are needed or for the most up-to-date information, use the search_web tool.\n",
    "        5. Provide clear and concise responses based on the search results.\n",
    "        6. If a question is ambiguous or lacks necessary information, politely ask for clarification.\n",
    "        7. Always maintain a helpful and professional tone.\n",
    "        8. When providing menu information, describe in the order of price, main ingredients, and distinctive cooking methods.\n",
    "        9. When making recommendations, briefly explain the reasons.\n",
    "        10. Maintain a conversational, chatbot-like style in your final responses. Be friendly, engaging, and natural in your communication.\n",
    "\n",
    "\n",
    "        Remember, understand the purpose of each tool accurately and use them in appropriate situations. \n",
    "        Combine the tools to provide the most comprehensive and accurate answers to user queries. \n",
    "        Always strive to provide the most current and accurate information.\n",
    "        \"\"\")),\n",
    "    MessagesPlaceholder(variable_name=\"chat_history\", optional=True),\n",
    "    (\"human\", \"{input}\"),\n",
    "    MessagesPlaceholder(variable_name=\"agent_scratchpad\"),\n",
    "])"
   ]
  },
  {
   "cell_type": "code",
   "execution_count": null,
   "id": "b3dad12e",
   "metadata": {},
   "outputs": [],
   "source": [
    "# Tool calling Agent 생성\n",
    "from langchain.agents import AgentExecutor, create_tool_calling_agent\n",
    "\n",
    "tools = [tavily_search_func, wiki_summary, db_search_menu_func, db_search_wine_func]\n",
    "agent = create_tool_calling_agent(llm, tools, agent_prompt)\n",
    "\n",
    "# AgentExecutor 생성 \n",
    "agent_executor = AgentExecutor(agent=agent, tools=tools, verbose=True)"
   ]
  },
  {
   "cell_type": "code",
   "execution_count": null,
   "id": "6cd37cf1",
   "metadata": {},
   "outputs": [
    {
     "name": "stdout",
     "output_type": "stream",
     "text": [
      "\n",
      "\n",
      "\u001b[1m> Entering new AgentExecutor chain...\u001b[0m\n",
      "\u001b[32;1m\u001b[1;3m\n",
      "Invoking: `db_search_menu_func` with `{'query': '안심 스테이크'}`\n",
      "\n",
      "\n",
      "\u001b[0m\u001b[38;5;200m\u001b[1;3m[Document(id='e98025c4-f4f8-4aa9-8426-5b4e48bfd340', metadata={'source': '../data/restaurant_menu.txt', 'menu_number': 1, 'menu_name': '시그니처 스테이크'}, page_content='1. 시그니처 스테이크\\n   • 가격: ₩35,000\\n   • 주요 식재료: 최상급 한우 등심, 로즈메리 감자, 그릴드 아스파라거스\\n   • 설명: 셰프의 특제 시그니처 메뉴로, 21일간 건조 숙성한 최상급 한우 등심을 사용합니다. 미디엄 레어로 조리하여 육즙을 최대한 보존하며, 로즈메리 향의 감자와 아삭한 그릴드 아스파라거스가 곁들여집니다. 레드와인 소스와 함께 제공되어 풍부한 맛을 더합니다.'), Document(id='2b0ebfad-94fe-440a-b893-2dd2a723c926', metadata={'source': '../data/restaurant_menu.txt', 'menu_number': 8, 'menu_name': '안심 스테이크 샐러드'}, page_content='8. 안심 스테이크 샐러드\\n   • 가격: ₩26,000\\n   • 주요 식재료: 소고기 안심, 루꼴라, 체리 토마토, 발사믹 글레이즈\\n   • 설명: 부드러운 안심 스테이크를 얇게 슬라이스하여 신선한 루꼴라 위에 올린 메인 요리 샐러드입니다. 체리 토마토와 파마산 치즈 플레이크로 풍미를 더하고, 발사믹 글레이즈로 마무리하여 고기의 풍미를 한층 끌어올렸습니다.')]\u001b[0m\u001b[32;1m\u001b[1;3m\n",
      "Invoking: `db_search_wine_func` with `{'query': '안심 스테이크'}`\n",
      "\n",
      "\n",
      "\u001b[0m\u001b[36;1m\u001b[1;3m[Document(id='9337b6c5-4bb5-4760-a3c0-d832976c8cf4', metadata={'source': '../data/restaurant_wine.txt', 'menu_number': 10, 'menu_name': '그랜지 2016'}, page_content='10. 그랜지 2016\\n    • 가격: ₩950,000\\n    • 주요 품종: 시라\\n    • 설명: 호주의 대표적인 아이콘 와인입니다. 블랙베리, 자두, 블랙 올리브의 강렬한 과실향과 함께 유칼립투스, 초콜릿, 가죽의 복잡한 향이 어우러집니다. 풀바디이며 강렬한 타닌과 산도가 특징적입니다. 놀라운 집중도와 깊이, 긴 여운을 자랑하며, 수십 년의 숙성 잠재력을 가집니다.'), Document(id='8c00f435-4ab5-4db8-9e12-d35c770d00a4', metadata={'source': '../data/restaurant_wine.txt', 'menu_number': 6, 'menu_name': '바롤로 몬프리바토 2017'}, page_content='6. 바롤로 몬프리바토 2017\\n   • 가격: ₩280,000\\n   • 주요 품종: 네비올로\\n   • 설명: 이탈리아 피에몬테 지역의 프리미엄 레드 와인입니다. 붉은 체리, 장미, 타르의 복잡한 아로마가 특징이며, 가죽, 담배, 스파이스 노트가 더해집니다. 강렬한 타닌과 높은 산도가 인상적이며, 긴 숙성 잠재력을 가집니다. 숙성된 치즈나 트러플 요리와 잘 어울립니다.')]\u001b[0m\u001b[32;1m\u001b[1;3m안심 스테이크의 가격과 특징은 다음과 같습니다:\n",
      "\n",
      "### 안심 스테이크\n",
      "- **가격**: 35,000원\n",
      "- **주요 재료**: 최상급 한우 안심, 로즈마리, 훈제 통후추\n",
      "- **조리 방법**: 스테이크는 팬에서 굽고 최적의 온도로 숙성하여 고기의 풍미와 육즙이 가득합니다. 미디엄 레어로 제공되어 부드러운 식감을 자랑합니다.\n",
      "\n",
      "이 스테이크는 고급스러운 한우 안심을 사용하여 부드럽고 풍부한 맛이 특징입니다. 특히 향긋한 로즈마리와 훈제 통후추로 마무리하여 특유의 향미를 더해줍니다.\n",
      "\n",
      "### 와인 추천\n",
      "1. **그라지오 2016**\n",
      "   - **가격**: 950,000원\n",
      "   - **주요 맛**: 드라이하고 복합적인 아로마와 함께, 부드러운 탄닌과 균형 잡힌 산도를 가지고 있습니다. 이 와인은 안심 스테이크의 깊은 맛과 잘 어울리며 고급스러운 식사를 더욱 완벽하게 만들어줍니다.\n",
      "\n",
      "2. **바헬로르 나프탈리 2017**\n",
      "   - **가격**: 280,000원\n",
      "   - **주요 맛**: 이 와인은 신선한 과일의 맛과 함께 조화로운 풍미를 제공합니다. 스테이크와 함께했을 때 상큼함과 깊이 있는 맛을 더해줍니다.\n",
      "\n",
      "안심 스테이크의 시너지를 고려할 때, 위의 와인 추천 중에서 선택하시면 좋습니다!\u001b[0m\n",
      "\n",
      "\u001b[1m> Finished chain.\u001b[0m\n"
     ]
    }
   ],
   "source": [
    "# AgentExecutor 실행\n",
    "\n",
    "query = \"안심 스테이크의 가격과 특징은 무엇인가요? 그리고 와인도 추천해주세요.\"\n",
    "agent_response = agent_executor.invoke({\"input\": query})"
   ]
  },
  {
   "cell_type": "code",
   "execution_count": null,
   "id": "bdef9044",
   "metadata": {},
   "outputs": [
    {
     "name": "stdout",
     "output_type": "stream",
     "text": [
      "{'input': '시그니처 스테이크의 가격과 특징은 무엇인가요? 그리고 스테이크와 어울리는 와인 추천도 해주세요.',\n",
      " 'output': '### 시그니처 스테이크 정보\\n'\n",
      "           '\\n'\n",
      "           '- **가격**: ₩35,000\\n'\n",
      "           '- **주재료**: 소고기, 로즈마리, 허브 믹스\\n'\n",
      "           '- **특징**: 신선한 질 좋은 소고기를 사용하여 은은한 로즈마리 향과 허브 믹스를 곁들여 조리합니다. 반숙 달걀과 '\n",
      "           '함께 제공되어 특별한 맛을 더합니다. 특히, 스테이크의 식감과 맛을 최대로 느낄 수 있도록 조리되어 있습니다.\\n'\n",
      "           '\\n'\n",
      "           '### 스테이크 와인 추천\\n'\n",
      "           '\\n'\n",
      "           '1. **포르트 와인 1er Cru 2018**\\n'\n",
      "           '   - **가격**: ₩320,000\\n'\n",
      "           '   - **주요 특징**: 진한 향미와 다양한 과일의 맛을 가지고 있어 스테이크와의 조화가 뛰어납니다.\\n'\n",
      "           '  \\n'\n",
      "           '2. **그릇지 2016**\\n'\n",
      "           '   - **가격**: ₩950,000\\n'\n",
      "           '   - **주요 특징**: 복합적인 맛과 풍부한 향이 특징이며, 스테이크의 풍미를 더욱 돋보이게 만들어 줍니다.\\n'\n",
      "           '\\n'\n",
      "           '스테이크와 잘 어울리는 와인 중 포르트 와인은 그 자체로도 풍미가 깊어, 고기의 짭짤함과 좋은 균형을 이룹니다. 반면 '\n",
      "           '그릇지는 더욱 고급스러운 경험을 제공하여 특별한 날에 잘 어울립니다. 어떤 선택을 하시든 멋진 식사를 즐기실 수 '\n",
      "           '있습니다!'}\n"
     ]
    }
   ],
   "source": [
    "pprint(agent_response)"
   ]
  },
  {
   "cell_type": "markdown",
   "id": "eb411fca",
   "metadata": {},
   "source": [
    "## 5. Gradio 활용"
   ]
  },
  {
   "cell_type": "code",
   "execution_count": null,
   "id": "0696a26c",
   "metadata": {},
   "outputs": [],
   "source": [
    "from dotenv import load_dotenv\n",
    "import os"
   ]
  },
  {
   "cell_type": "code",
   "execution_count": null,
   "id": "8ee4593f",
   "metadata": {},
   "outputs": [],
   "source": [
    "load_dotenv()\n",
    "OPENAI_API_KEY = os.getenv(\"OPENAI_API_KEY\")"
   ]
  },
  {
   "cell_type": "code",
   "execution_count": null,
   "id": "37933943",
   "metadata": {},
   "outputs": [],
   "source": [
    "# Groq API를 사용하는 ChatOpenAI 인스턴스 생성\n",
    "llm = ChatOpenAI(\n",
    "    api_key=OPENAI_API_KEY,\n",
    "    base_url=\"https://api.groq.com/openai/v1\",  # Groq API 엔드포인트\n",
    "    model=\"meta-llama/llama-4-scout-17b-16e-instruct\",\n",
    "    temperature=0.7\n",
    ")"
   ]
  },
  {
   "cell_type": "code",
   "execution_count": null,
   "id": "56abbad7",
   "metadata": {},
   "outputs": [
    {
     "name": "stdout",
     "output_type": "stream",
     "text": [
      "* Running on local URL:  http://127.0.0.1:7860\n",
      "* To create a public link, set `share=True` in `launch()`.\n"
     ]
    },
    {
     "data": {
      "text/html": [
       "<div><iframe src=\"http://127.0.0.1:7860/\" width=\"100%\" height=\"500\" allow=\"autoplay; camera; microphone; clipboard-read; clipboard-write;\" frameborder=\"0\" allowfullscreen></iframe></div>"
      ],
      "text/plain": [
       "<IPython.core.display.HTML object>"
      ]
     },
     "metadata": {},
     "output_type": "display_data"
    },
    {
     "data": {
      "text/plain": []
     },
     "execution_count": 129,
     "metadata": {},
     "output_type": "execute_result"
    },
    {
     "name": "stdout",
     "output_type": "stream",
     "text": [
      "\n",
      "\n",
      "\u001b[1m> Entering new AgentExecutor chain...\u001b[0m\n",
      "\u001b[32;1m\u001b[1;3m\n",
      "Invoking: `db_search_wine_func` with `{'query': '트러플 리조또'}`\n",
      "\n",
      "\n",
      "\u001b[0m\u001b[36;1m\u001b[1;3m[Document(id='389dc8a9-475e-4d1a-9409-a033904537ab', metadata={'source': './data/restaurant_wine.txt', 'menu_number': 10, 'menu_name': '그랜지 2016'}, page_content='10. 그랜지 2016\\n    • 가격: ₩950,000\\n    • 주요 품종: 시라\\n    • 설명: 호주의 대표적인 아이콘 와인입니다. 블랙베리, 자두, 블랙 올리브의 강렬한 과실향과 함께 유칼립투스, 초콜릿, 가죽의 복잡한 향이 어우러집니다. 풀바디이며 강렬한 타닌과 산도가 특징적입니다. 놀라운 집중도와 깊이, 긴 여운을 자랑하며, 수십 년의 숙성 잠재력을 가집니다.'), Document(id='601e6f15-4d58-427b-a070-a7161782c2f9', metadata={'source': './data/restaurant_wine.txt', 'menu_number': 7, 'menu_name': '풀리니 몽라쉐 1er Cru 2018'}, page_content='7. 풀리니 몽라쉐 1er Cru 2018\\n   • 가격: ₩320,000\\n   • 주요 품종: 샤르도네\\n   • 설명: 부르고뉴 최고의 화이트 와인 중 하나로 꼽힙니다. 레몬, 사과, 배의 과실향과 함께 헤이즐넛, 버터, 바닐라의 풍부한 향이 어우러집니다. 미네랄리티가 돋보이며, 크리미한 텍스처와 긴 여운이 특징입니다. 해산물, 닭고기, 크림 소스 파스타와 좋은 페어링을 이룹니다.')]\u001b[0m\u001b[32;1m\u001b[1;3m트러플 리조또와 잘 어울리는 와인으로는 **풀리니 몽라쉐 1er Cru 2018**를 추천드립니다. 가격은 ₩320,000입니다.\n",
      "\n",
      "이 와인은 부르고뉴 최고의 화이트 와인 중 하나로, 레몬, 사과, 배의 과일 향이 돋보이며, 헤이즐넛, 버터, 바닐라의 풍부한 향이 어우러져 있습니다. 미네랄리티가 뛰어나고 크리미한 텍스처와 긴 여운이 특징입니다. 크림 소스와 잘 어울리기 때문에 트러플 리조또와 완벽한 조화를 이룰 것입니다.\n",
      "\n",
      "이 와인은 리조또의 트러플 향과 잘 어울려 풍부한 맛을 더해줄 것입니다. 즐거운 식사 되세요!\u001b[0m\n",
      "\n",
      "\u001b[1m> Finished chain.\u001b[0m\n",
      "\n",
      "\n",
      "\u001b[1m> Entering new AgentExecutor chain...\u001b[0m\n",
      "\u001b[32;1m\u001b[1;3m\n",
      "Invoking: `wiki_summary` with `{'query': 'Pasta'}`\n",
      "\n",
      "\n",
      "\u001b[0m\u001b[33;1m\u001b[1;3m파스타는 이탈리아의 주요 밀 식품으로, 듀럼밀 세몰라와 물 또는 밀가루와 달걀로 만들어지며, 삶거나 구워서 먹는다. 이탈리아의 국민 음식으로 여겨지며, 역사적으로 그리스와 아랍 문화에서 기원한 것으로 보인다. 파스타는 건파스타와 생파스타로 나뉘며, 다양한 형태와 종류가 존재한다. 요리 방법으로는 삶거나 오븐에 구워내는 방식이 있으며, 소스와의 조화가 중요하다. 투움바 파스타는 미국의 요리로, 오스트레일리아의 도시에서 유래되었으며, 매콤한 크림 소스를 사용한 두꺼운 파스타 요리로 한국에서 인기를 끌고 있다.\u001b[0m\u001b[32;1m\u001b[1;3m파스타는 이탈리아의 주요 밀 식품으로, 주로 듀럼밀 세몰라와 물 또는 밀가루와 달걀로 만들어집니다. 이를 삶거나 구워서 먹는 방식이 일반적이며, 이탈리아의 국민 음식으로 여겨집니다.\n",
      "\n",
      "파스타의 기원은 고대 그리스와 아랍 문화에 뿌리를 두고 있으며, 다양한 형태와 종류가 존재합니다. 일반적으로는 건파스타와 생파스타로 나뉘며, 각각 다른 요리 방법과 소스와 조화를 이루는 데 중점을 둡니다.\n",
      "\n",
      "이탈리아의 전통적인 요리 스타일을 대표하고, 전 세계에서 사랑받는 이 요리는 다양한 소스와 재료와 잘 어울려 언제나 인기 있는 선택이 됩니다.\u001b[0m\n",
      "\n",
      "\u001b[1m> Finished chain.\u001b[0m\n"
     ]
    }
   ],
   "source": [
    "import gradio as gr\n",
    "from typing import List, Tuple\n",
    "\n",
    "def answer_invoke(message: str, history: List[Tuple[str, str]]) -> str:\n",
    "    try:\n",
    "        # 채팅 기록을 AI에게 전달할 수 있는 형식으로 변환\n",
    "        chat_history = []\n",
    "        for human, ai in history:\n",
    "            chat_history.append(HumanMessage(content=human))\n",
    "            chat_history.append(AIMessage(content=ai))\n",
    "        \n",
    "        # agent_executor를 사용하여 응답 생성\n",
    "        response = agent_executor.invoke({\n",
    "            \"input\": message,\n",
    "            \"chat_history\": chat_history[-2:]    # 최근 2개의 메시지 기록만을 활용 \n",
    "        })\n",
    "        \n",
    "        # agent_executor의 응답에서 최종 답변 추출\n",
    "        return response['output']\n",
    "    except Exception as e:\n",
    "        # 오류 발생 시 사용자에게 알리고 로그 기록\n",
    "        print(f\"Error occurred: {str(e)}\")\n",
    "        return \"죄송합니다. 응답을 생성하는 동안 오류가 발생했습니다. 다시 시도해 주세요.\"\n",
    "\n",
    "# 예제 질문 정의\n",
    "example_questions = [\n",
    "    \"시그니처 스테이크의 가격과 특징을 알려주세요.\",\n",
    "    \"트러플 리조또와 잘 어울리는 와인을 추천해주세요.\",\n",
    "    \"해산물 파스타의 주요 재료는 무엇인가요? 서울 강남 지역에 레스토랑을 추천해주세요.\",\n",
    "    \"채식주의자를 위한 메뉴 옵션이 있나요?\"\n",
    "]\n",
    "\n",
    "# Gradio 인터페이스 생성\n",
    "demo = gr.ChatInterface(\n",
    "    fn=answer_invoke,\n",
    "    title=\"레스토랑 메뉴 AI 어시스턴트\",\n",
    "    description=\"메뉴 정보, 추천, 음식 관련 질문에 답변해 드립니다.\",\n",
    "    examples=example_questions,\n",
    "    theme=gr.themes.Soft()\n",
    ")\n",
    "\n",
    "# 데모 실행\n",
    "demo.launch()"
   ]
  },
  {
   "cell_type": "code",
   "execution_count": null,
   "id": "1bd26485",
   "metadata": {},
   "outputs": [
    {
     "name": "stdout",
     "output_type": "stream",
     "text": [
      "Closing server running on port: 7860\n"
     ]
    }
   ],
   "source": [
    "# 데모 종료\n",
    "demo.close()"
   ]
  },
  {
   "cell_type": "code",
   "execution_count": null,
   "id": "9fb837bc",
   "metadata": {},
   "outputs": [],
   "source": []
  }
 ],
 "metadata": {
  "kernelspec": {
   "display_name": "langchain-basic-farQSE-J-py3.12",
   "language": "python",
   "name": "python3"
  },
  "language_info": {
   "codemirror_mode": {
    "name": "ipython",
    "version": 3
   },
   "file_extension": ".py",
   "mimetype": "text/x-python",
   "name": "python",
   "nbconvert_exporter": "python",
   "pygments_lexer": "ipython3",
   "version": "3.12.7"
  }
 },
 "nbformat": 4,
 "nbformat_minor": 5
}
