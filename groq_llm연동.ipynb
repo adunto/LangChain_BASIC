{
 "cells": [
  {
   "cell_type": "code",
   "execution_count": null,
   "id": "56851e98",
   "metadata": {},
   "outputs": [],
   "source": []
  }
 ],
 "metadata": {
  "kernelspec": {
   "display_name": "langchain-basic-farQSE-J-py3.12",
   "language": "python",
   "name": "python3"
  },
  "language_info": {
   "name": "python",
   "version": "3.12.7"
  }
 },
 "nbformat": 4,
 "nbformat_minor": 5
}
