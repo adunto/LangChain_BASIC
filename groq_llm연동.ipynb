{
 "cells": [
  {
   "cell_type": "code",
   "execution_count": 9,
   "id": "fe2cf216",
   "metadata": {},
   "outputs": [],
   "source": [
    "import os\n",
    "from dotenv import load_dotenv\n",
    "from langchain_core.prompts import ChatPromptTemplate\n",
    "from langchain_openai import ChatOpenAI\n",
    "\n",
    "load_dotenv()\n",
    "OPENAI_API_KEY = os.getenv(\"OPENAI_API_KEY\")"
   ]
  },
  {
   "cell_type": "code",
   "execution_count": 10,
   "id": "e80c9e85",
   "metadata": {},
   "outputs": [
    {
     "name": "stdout",
     "output_type": "stream",
     "text": [
      "input_variables=['input'] input_types={} partial_variables={} messages=[SystemMessagePromptTemplate(prompt=PromptTemplate(input_variables=[], input_types={}, partial_variables={}, template='당신은 개발자입니다.'), additional_kwargs={}), HumanMessagePromptTemplate(prompt=PromptTemplate(input_variables=['input'], input_types={}, partial_variables={}, template='{input}'), additional_kwargs={})]\n"
     ]
    }
   ],
   "source": [
    "prompt = ChatPromptTemplate.from_messages(\n",
    "    [ (\"system\", \"당신은 개발자입니다.\") , \n",
    "     (\"user\", \"{input}\")]\n",
    ")\n",
    "print(prompt)\n",
    "\n",
    "prompt_text = prompt.format(input=\"JavaScript는 무엇인가요? 자세하게 설명해주세요.\")"
   ]
  },
  {
   "cell_type": "code",
   "execution_count": 11,
   "id": "9db56cfc",
   "metadata": {},
   "outputs": [
    {
     "name": "stdout",
     "output_type": "stream",
     "text": [
      "client=<openai.resources.chat.completions.completions.Completions object at 0x000001CE2978DAC0> async_client=<openai.resources.chat.completions.completions.AsyncCompletions object at 0x000001CE2978E4E0> root_client=<openai.OpenAI object at 0x000001CE2978D9D0> root_async_client=<openai.AsyncOpenAI object at 0x000001CE2978E060> model_name='meta-llama/llama-4-scout-17b-16e-instruct' temperature=0.7 model_kwargs={} openai_api_key=SecretStr('**********') openai_api_base='https://api.groq.com/openai/v1'\n"
     ]
    }
   ],
   "source": [
    "# Groq API를 사용하는 ChatOpenAI 인스턴스 생성\n",
    "llm = ChatOpenAI(\n",
    "    api_key=OPENAI_API_KEY,\n",
    "    base_url=\"https://api.groq.com/openai/v1\",  # Groq API 엔드포인트\n",
    "    model=\"meta-llama/llama-4-scout-17b-16e-instruct\",\n",
    "    temperature=0.7\n",
    ")\n",
    "print(llm)"
   ]
  },
  {
   "cell_type": "code",
   "execution_count": 12,
   "id": "02f69c12",
   "metadata": {},
   "outputs": [
    {
     "name": "stdout",
     "output_type": "stream",
     "text": [
      "<class 'langchain_core.messages.ai.AIMessage'>\n",
      "content='JavaScript는 웹 개발에서 많이 사용되는 프로그래밍 언어입니다. 주로 클라이언트 측 스크립팅에 사용되며, 웹 페이지의 동적 동작을 구현하는 데 사용됩니다. JavaScript는 웹 브라우저에서 실행되며, 웹 페이지의 사용자 인터페이스와 상호 작용하는 데 사용됩니다.\\n\\nJavaScript의 주요 특징은 다음과 같습니다.\\n\\n1. **클라이언트 측 스크립팅**: JavaScript는 웹 브라우저에서 실행되며, 서버와 통신하지 않고도 웹 페이지의 동작을 제어할 수 있습니다.\\n2. **동적 타이핑**: JavaScript는 동적 타이핑 언어입니다. 즉, 변수의 타입을 선언하지 않아도 되며, 실행 시점에 변수의 타입이 결정됩니다.\\n3. **객체 지향 프로그래밍**: JavaScript는 객체 지향 프로그래밍(OOP) 개념을 지원합니다. 객체, 클래스, 상속, 다형성 등의 개념을 사용할 수 있습니다.\\n4. **함수형 프로그래밍**: JavaScript는 함수형 프로그래밍 개념도 지원합니다. 함수를 일급 객체로 취급하며, 함수를 다른 함수에 전달하거나 반환값으로 사용할 수 있습니다.\\n\\nJavaScript는 웹 개발에서 다음과 같은 용도로 사용됩니다.\\n\\n1. **웹 페이지의 동적 동작**: JavaScript는 웹 페이지의 동적 동작을 구현하는 데 사용됩니다. 예를 들어, 버튼 클릭 시 팝업 창이 뜨거나, 스크롤 시 특정 요소가 나타나도록 하는 등의 동작을 구현할 수 있습니다.\\n2. **사용자 인터페이스**: JavaScript는 웹 페이지의 사용자 인터페이스를 구현하는 데 사용됩니다. 예를 들어, 드롭다운 메뉴, 탭, 모달 창 등의 UI 컴포넌트를 구현할 수 있습니다.\\n3. **데이터 처리**: JavaScript는 웹 페이지에서 데이터를 처리하는 데 사용됩니다. 예를 들어, JSON 데이터를 파싱하거나, 서버와 통신하여 데이터를 가져오는 등의 작업을 수행할 수 있습니다.\\n\\nJavaScript는 다양한 라이브러리 및 프레임워크와 함께 사용됩니다. 예를 들어, React, Angular, Vue.js 등의 프레임워크는 JavaScript를 기반으로 하며, 웹 애플리케이션 개발을 위한 강력한 도구들을 제공합니다.\\n\\n또한, JavaScript는 Node.js를 통해 서버 측 개발에도 사용됩니다. Node.js는 JavaScript를 서버 측에서 실행할 수 있는 런타임 환경으로, 서버 측 개발을 위한 다양한 라이브러리 및 모듈을 제공합니다.\\n\\n요약하면, JavaScript는 웹 개발에서 많이 사용되는 프로그래밍 언어로, 클라이언트 측 스크립팅, 동적 타이핑, 객체 지향 프로그래밍, 함수형 프로그래밍 등의 특징을 가지고 있습니다. 웹 페이지의 동적 동작, 사용자 인터페이스, 데이터 처리 등의 용도로 사용되며, 다양한 라이브러리 및 프레임워크와 함께 사용됩니다.' additional_kwargs={'refusal': None} response_metadata={'token_usage': {'completion_tokens': 555, 'prompt_tokens': 31, 'total_tokens': 586, 'completion_tokens_details': None, 'prompt_tokens_details': None, 'queue_time': 0.335045865, 'prompt_time': 0.003141867, 'completion_time': 1.376748455, 'total_time': 1.379890322}, 'model_name': 'meta-llama/llama-4-scout-17b-16e-instruct', 'system_fingerprint': 'fp_79da0e0073', 'id': 'chatcmpl-96b705f6-2cf5-4da0-b426-3c87057b2cb7', 'service_tier': None, 'finish_reason': 'stop', 'logprobs': None} id='run--64f91151-0364-4326-a3c0-5a109da58da8-0' usage_metadata={'input_tokens': 31, 'output_tokens': 555, 'total_tokens': 586, 'input_token_details': {}, 'output_token_details': {}}\n",
      "응답: JavaScript는 웹 개발에서 많이 사용되는 프로그래밍 언어입니다. 주로 클라이언트 측 스크립팅에 사용되며, 웹 페이지의 동적 동작을 구현하는 데 사용됩니다. JavaScript는 웹 브라우저에서 실행되며, 웹 페이지의 사용자 인터페이스와 상호 작용하는 데 사용됩니다.\n",
      "\n",
      "JavaScript의 주요 특징은 다음과 같습니다.\n",
      "\n",
      "1. **클라이언트 측 스크립팅**: JavaScript는 웹 브라우저에서 실행되며, 서버와 통신하지 않고도 웹 페이지의 동작을 제어할 수 있습니다.\n",
      "2. **동적 타이핑**: JavaScript는 동적 타이핑 언어입니다. 즉, 변수의 타입을 선언하지 않아도 되며, 실행 시점에 변수의 타입이 결정됩니다.\n",
      "3. **객체 지향 프로그래밍**: JavaScript는 객체 지향 프로그래밍(OOP) 개념을 지원합니다. 객체, 클래스, 상속, 다형성 등의 개념을 사용할 수 있습니다.\n",
      "4. **함수형 프로그래밍**: JavaScript는 함수형 프로그래밍 개념도 지원합니다. 함수를 일급 객체로 취급하며, 함수를 다른 함수에 전달하거나 반환값으로 사용할 수 있습니다.\n",
      "\n",
      "JavaScript는 웹 개발에서 다음과 같은 용도로 사용됩니다.\n",
      "\n",
      "1. **웹 페이지의 동적 동작**: JavaScript는 웹 페이지의 동적 동작을 구현하는 데 사용됩니다. 예를 들어, 버튼 클릭 시 팝업 창이 뜨거나, 스크롤 시 특정 요소가 나타나도록 하는 등의 동작을 구현할 수 있습니다.\n",
      "2. **사용자 인터페이스**: JavaScript는 웹 페이지의 사용자 인터페이스를 구현하는 데 사용됩니다. 예를 들어, 드롭다운 메뉴, 탭, 모달 창 등의 UI 컴포넌트를 구현할 수 있습니다.\n",
      "3. **데이터 처리**: JavaScript는 웹 페이지에서 데이터를 처리하는 데 사용됩니다. 예를 들어, JSON 데이터를 파싱하거나, 서버와 통신하여 데이터를 가져오는 등의 작업을 수행할 수 있습니다.\n",
      "\n",
      "JavaScript는 다양한 라이브러리 및 프레임워크와 함께 사용됩니다. 예를 들어, React, Angular, Vue.js 등의 프레임워크는 JavaScript를 기반으로 하며, 웹 애플리케이션 개발을 위한 강력한 도구들을 제공합니다.\n",
      "\n",
      "또한, JavaScript는 Node.js를 통해 서버 측 개발에도 사용됩니다. Node.js는 JavaScript를 서버 측에서 실행할 수 있는 런타임 환경으로, 서버 측 개발을 위한 다양한 라이브러리 및 모듈을 제공합니다.\n",
      "\n",
      "요약하면, JavaScript는 웹 개발에서 많이 사용되는 프로그래밍 언어로, 클라이언트 측 스크립팅, 동적 타이핑, 객체 지향 프로그래밍, 함수형 프로그래밍 등의 특징을 가지고 있습니다. 웹 페이지의 동적 동작, 사용자 인터페이스, 데이터 처리 등의 용도로 사용되며, 다양한 라이브러리 및 프레임워크와 함께 사용됩니다.\n"
     ]
    }
   ],
   "source": [
    "try:\n",
    "    response = llm.invoke(prompt_text)\n",
    "    print(type(response))\n",
    "    print(response)\n",
    "    print(\"응답:\", response.content)\n",
    "except Exception as e:\n",
    "    print(f\"오류 발생: {e}\")"
   ]
  }
 ],
 "metadata": {
  "kernelspec": {
   "display_name": "langchain-basic-farQSE-J-py3.12",
   "language": "python",
   "name": "python3"
  },
  "language_info": {
   "codemirror_mode": {
    "name": "ipython",
    "version": 3
   },
   "file_extension": ".py",
   "mimetype": "text/x-python",
   "name": "python",
   "nbconvert_exporter": "python",
   "pygments_lexer": "ipython3",
   "version": "3.12.7"
  }
 },
 "nbformat": 4,
 "nbformat_minor": 5
}
