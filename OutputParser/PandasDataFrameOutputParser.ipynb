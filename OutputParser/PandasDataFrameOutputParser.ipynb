{
 "cells": [
  {
   "cell_type": "markdown",
   "id": "dc1b9a6d",
   "metadata": {},
   "source": [
    "## PandasDataFrameOutputParser\n",
    "* Pandas DataFrame과 LLM을 연동하여 데이터를 쉽게 조회하고 분석할 수 있도록 돕는 출력 파서\n",
    "* 조화된 데이터에 대한 자연어 질의를 수행하고, 결과를 Pandas DataFrame 형식으로 반환할 수 있습니다."
   ]
  },
  {
   "cell_type": "markdown",
   "id": "abe16595",
   "metadata": {},
   "source": [
    "### PandasDataFrameOutputParser의 장점\n",
    "\n",
    "- **자연어 기반 데이터 탐색**\n",
    "    - SQL 없이도 **자연어로 데이터 조회 가능**\n",
    "    - 데이터 분석 초보자도 쉽게 활용 가능\n",
    "- **Pandas DataFrame과의 직접적인 연동**\n",
    "    - LLM을 이용해 데이터프레임에서 필요한 정보만 **효율적으로 추출**\n",
    "    - 기존 Pandas 기능과 **유연하게 결합 가능**\n",
    "- **데이터 가공 및 분석 효율화**\n",
    "    - 반환된 DataFrame을 바로 **분석, 시각화, 모델링 등에 활용 가능**"
   ]
  },
  {
   "cell_type": "code",
   "execution_count": 8,
   "id": "a57070a2",
   "metadata": {},
   "outputs": [],
   "source": [
    "import pandas as pd\n",
    "from langchain.output_parsers import PandasDataFrameOutputParser\n",
    "from langchain_core.prompts import PromptTemplate\n",
    "from langchain_openai import ChatOpenAI\n",
    "from dotenv import load_dotenv\n",
    "import re\n",
    "import os\n",
    "\n",
    "import sys\n",
    "sys.path.append(os.path.abspath(os.path.join(os.pardir, \"public\")))\n",
    "from model import getModel"
   ]
  },
  {
   "cell_type": "code",
   "execution_count": 9,
   "id": "362dacf0",
   "metadata": {},
   "outputs": [],
   "source": [
    "load_dotenv()\n",
    "OPENAI_API_KEY = os.getenv(\"OPENAI_API_KEY\")"
   ]
  },
  {
   "cell_type": "code",
   "execution_count": 10,
   "id": "4e089738",
   "metadata": {},
   "outputs": [],
   "source": [
    "# OpenAI 모델 초기화\n",
    "# model = getModel()\n",
    "model = ChatOpenAI(temperature=0, model_name=\"gpt-4o\")"
   ]
  },
  {
   "cell_type": "code",
   "execution_count": 11,
   "id": "0da91994",
   "metadata": {},
   "outputs": [],
   "source": [
    "df = pd.read_csv(\"../csv/titanic.csv\")\n",
    "# print(df.columns)"
   ]
  },
  {
   "cell_type": "code",
   "execution_count": 12,
   "id": "5763b2bb",
   "metadata": {},
   "outputs": [],
   "source": [
    "# Pandas DataFrame Output Parser 설정\n",
    "parser = PandasDataFrameOutputParser(dataframe=df)"
   ]
  },
  {
   "cell_type": "code",
   "execution_count": 13,
   "id": "7cd8718d",
   "metadata": {},
   "outputs": [],
   "source": [
    "# 형식 지침 출력\n",
    "format_instructions = parser.get_format_instructions()\n",
    "# print(\"Format Instructions:\\n\", format_instructions)"
   ]
  },
  {
   "cell_type": "code",
   "execution_count": 14,
   "id": "e83a1efc",
   "metadata": {},
   "outputs": [
    {
     "name": "stdout",
     "output_type": "stream",
     "text": [
      "Survived, Pclass, Name, Sex, Age, Siblings/Spouses Aboard, Parents/Children Aboard, Fare\n"
     ]
    }
   ],
   "source": [
    "# 프롬프트 템플릿 설정\n",
    "prompt = PromptTemplate(\n",
    "    template=\"\"\" \n",
    "    You are a helpful assistant that interacts with a Pandas DataFrame.\n",
    "    The DataFrame contains the following columns: {columns}.\n",
    "    \n",
    "    Your task is to answer the user's query by generating a command in the following format:\n",
    "    {format_instructions}\n",
    "    \n",
    "    User Query: {query}    \n",
    "    \"\"\",\n",
    "    input_variables=[\"query\"],\n",
    "    partial_variables={\n",
    "        \"format_instructions\": format_instructions,\n",
    "        \"columns\": \", \".join(df.columns)\n",
    "    },\n",
    ")\n",
    "print(prompt.partial_variables['columns'])"
   ]
  },
  {
   "cell_type": "code",
   "execution_count": 15,
   "id": "6fdc7136",
   "metadata": {},
   "outputs": [
    {
     "name": "stdout",
     "output_type": "stream",
     "text": [
      "Name 컬럼 출력\n",
      "<class 'dict'>\n",
      "{'Name': 0                                 Mr. Owen Harris Braund\n",
      "1      Mrs. John Bradley (Florence Briggs Thayer) Cum...\n",
      "2                                  Miss. Laina Heikkinen\n",
      "3            Mrs. Jacques Heath (Lily May Peel) Futrelle\n",
      "4                                Mr. William Henry Allen\n",
      "                             ...                        \n",
      "882                                 Rev. Juozas Montvila\n",
      "883                          Miss. Margaret Edith Graham\n",
      "884                       Miss. Catherine Helen Johnston\n",
      "885                                 Mr. Karl Howell Behr\n",
      "886                                   Mr. Patrick Dooley\n",
      "Name: Name, Length: 887, dtype: object}\n",
      "첫번째 행 출력\n",
      "오류 발생: Unsupported request type '```\n",
      "row'.                         Please check the format instructions.\n",
      "For troubleshooting, visit: https://python.langchain.com/docs/troubleshooting/errors/OUTPUT_PARSING_FAILURE \n"
     ]
    }
   ],
   "source": [
    "# 체인 생성\n",
    "chain = prompt | model | parser\n",
    "\n",
    "# 모델 응답 받기\n",
    "try:\n",
    "    # **Name 열을 표시하십시오.**\n",
    "    print('Name 컬럼 출력')\n",
    "    df_query = \"Show the Name column\"\n",
    "\n",
    "    parser_output = chain.invoke({\"query\": df_query})\n",
    "    print(type(parser_output))\n",
    "    print(parser_output)\n",
    "\n",
    "    # **첫번째 행을 표시하십시오.**\n",
    "    print('첫번째 행 출력')\n",
    "    df_query2 = \"Show first row\"\n",
    "\n",
    "    parser_output2 = chain.invoke({\"query\": df_query2})\n",
    "    print(parser_output2)\n",
    "\n",
    "except Exception as e:\n",
    "    print(f\"오류 발생: {e}\")"
   ]
  },
  {
   "cell_type": "code",
   "execution_count": 16,
   "id": "e3ed2165",
   "metadata": {},
   "outputs": [],
   "source": [
    "import pandas as pd\n",
    "from langchain.output_parsers import StructuredOutputParser, ResponseSchema\n",
    "from langchain_core.prompts import PromptTemplate\n",
    "\n",
    "model = ChatOpenAI(temperature=0, model_name=\"gpt-4o\")\n",
    "\n",
    "# 응답 스키마 정의\n",
    "response_schemas = [\n",
    "    ResponseSchema(name=\"data\", description=\"A list of dictionaries representing table rows.\"),\n",
    "]\n",
    "\n",
    "# Output Parser 설정\n",
    "parser = StructuredOutputParser.from_response_schemas(response_schemas)\n",
    "\n",
    "\n",
    "# 프롬프트 템플릿 설정\n",
    "prompt = PromptTemplate(\n",
    "    template=\"\"\"\n",
    "    You are an AI assistant that generates tabular data. \n",
    "    You must return the data in JSON format that follows this schema:\n",
    "    \n",
    "    {format_instructions}\n",
    "        \n",
    "    **User Query:**\n",
    "    {query}\n",
    "    \"\"\",\n",
    "    input_variables=[\"query\"],\n",
    "    partial_variables={\"format_instructions\": parser.get_format_instructions()},\n",
    ")\n"
   ]
  },
  {
   "cell_type": "code",
   "execution_count": 17,
   "id": "03b40aea",
   "metadata": {},
   "outputs": [],
   "source": [
    "\n",
    "# 체인 생성 (프롬프트 → 모델 → OutputParser)\n",
    "chain = prompt | model | parser\n",
    "\n",
    "# 실행 함수\n",
    "def generate_dataframe(user_query):\n",
    "    try:\n",
    "        # 모델 호출\n",
    "        json_response = chain.invoke({\"query\": user_query})\n",
    "\n",
    "        # 모델이 반환한 JSON을 Pandas DataFrame으로 변환\n",
    "        df = pd.DataFrame(json_response[\"data\"])\n",
    "\n",
    "        # 결과 출력\n",
    "        print(\"\\n🔹 Generated DataFrame:\\n\")\n",
    "        return df\n",
    "\n",
    "    except Exception as e:\n",
    "        print(f\"❌ 오류 발생: {e}\")\n",
    "        return None"
   ]
  },
  {
   "cell_type": "code",
   "execution_count": 18,
   "id": "aed58257",
   "metadata": {},
   "outputs": [
    {
     "name": "stdout",
     "output_type": "stream",
     "text": [
      "2024년 하반기 서울 아파트 평균 매매 가격 데이터 생성\n",
      "\n",
      "🔹 Generated DataFrame:\n",
      "\n",
      "(8, 4)\n"
     ]
    },
    {
     "data": {
      "text/html": [
       "<div>\n",
       "<style scoped>\n",
       "    .dataframe tbody tr th:only-of-type {\n",
       "        vertical-align: middle;\n",
       "    }\n",
       "\n",
       "    .dataframe tbody tr th {\n",
       "        vertical-align: top;\n",
       "    }\n",
       "\n",
       "    .dataframe thead th {\n",
       "        text-align: right;\n",
       "    }\n",
       "</style>\n",
       "<table border=\"1\" class=\"dataframe\">\n",
       "  <thead>\n",
       "    <tr style=\"text-align: right;\">\n",
       "      <th></th>\n",
       "      <th>District</th>\n",
       "      <th>Average Price</th>\n",
       "      <th>Number of Transactions</th>\n",
       "      <th>Year-over-Year Change (%)</th>\n",
       "    </tr>\n",
       "  </thead>\n",
       "  <tbody>\n",
       "    <tr>\n",
       "      <th>0</th>\n",
       "      <td>Gangnam-gu</td>\n",
       "      <td>1500000000</td>\n",
       "      <td>1200</td>\n",
       "      <td>3.5</td>\n",
       "    </tr>\n",
       "    <tr>\n",
       "      <th>1</th>\n",
       "      <td>Jongno-gu</td>\n",
       "      <td>950000000</td>\n",
       "      <td>800</td>\n",
       "      <td>2.1</td>\n",
       "    </tr>\n",
       "    <tr>\n",
       "      <th>2</th>\n",
       "      <td>Mapo-gu</td>\n",
       "      <td>1100000000</td>\n",
       "      <td>950</td>\n",
       "      <td>4.0</td>\n",
       "    </tr>\n",
       "    <tr>\n",
       "      <th>3</th>\n",
       "      <td>Songpa-gu</td>\n",
       "      <td>1300000000</td>\n",
       "      <td>1100</td>\n",
       "      <td>3.8</td>\n",
       "    </tr>\n",
       "    <tr>\n",
       "      <th>4</th>\n",
       "      <td>Yongsan-gu</td>\n",
       "      <td>1400000000</td>\n",
       "      <td>700</td>\n",
       "      <td>2.5</td>\n",
       "    </tr>\n",
       "    <tr>\n",
       "      <th>5</th>\n",
       "      <td>Seocho-gu</td>\n",
       "      <td>1450000000</td>\n",
       "      <td>1000</td>\n",
       "      <td>3.2</td>\n",
       "    </tr>\n",
       "    <tr>\n",
       "      <th>6</th>\n",
       "      <td>Gwanak-gu</td>\n",
       "      <td>800000000</td>\n",
       "      <td>600</td>\n",
       "      <td>1.8</td>\n",
       "    </tr>\n",
       "    <tr>\n",
       "      <th>7</th>\n",
       "      <td>Seodaemun-gu</td>\n",
       "      <td>900000000</td>\n",
       "      <td>750</td>\n",
       "      <td>2.9</td>\n",
       "    </tr>\n",
       "  </tbody>\n",
       "</table>\n",
       "</div>"
      ],
      "text/plain": [
       "       District  Average Price  Number of Transactions  \\\n",
       "0    Gangnam-gu     1500000000                    1200   \n",
       "1     Jongno-gu      950000000                     800   \n",
       "2       Mapo-gu     1100000000                     950   \n",
       "3     Songpa-gu     1300000000                    1100   \n",
       "4    Yongsan-gu     1400000000                     700   \n",
       "5     Seocho-gu     1450000000                    1000   \n",
       "6     Gwanak-gu      800000000                     600   \n",
       "7  Seodaemun-gu      900000000                     750   \n",
       "\n",
       "   Year-over-Year Change (%)  \n",
       "0                        3.5  \n",
       "1                        2.1  \n",
       "2                        4.0  \n",
       "3                        3.8  \n",
       "4                        2.5  \n",
       "5                        3.2  \n",
       "6                        1.8  \n",
       "7                        2.9  "
      ]
     },
     "execution_count": 18,
     "metadata": {},
     "output_type": "execute_result"
    }
   ],
   "source": [
    "# [예제 1] 2024년 상반기 서울 아파트 평균 매매 가격 데이터 생성\n",
    "print('2024년 하반기 서울 아파트 평균 매매 가격 데이터 생성')\n",
    "df_seoul_housing = generate_dataframe(\n",
    "    \"Create a dataset of the average apartment sale prices in Seoul for the second half of 2024 with columns: District (구), Average Price (in KRW), Number of Transactions, and Year-over-Year Change (%).\"\n",
    ")\n",
    "print(df_seoul_housing.shape)\n",
    "df_seoul_housing"
   ]
  },
  {
   "cell_type": "code",
   "execution_count": 19,
   "id": "588cb2f8",
   "metadata": {},
   "outputs": [
    {
     "name": "stdout",
     "output_type": "stream",
     "text": [
      "한국 5대 편의점 브랜드별 2024년 매출 및 점포 수\n",
      "\n",
      "🔹 Generated DataFrame:\n",
      "\n"
     ]
    },
    {
     "data": {
      "text/html": [
       "<div>\n",
       "<style scoped>\n",
       "    .dataframe tbody tr th:only-of-type {\n",
       "        vertical-align: middle;\n",
       "    }\n",
       "\n",
       "    .dataframe tbody tr th {\n",
       "        vertical-align: top;\n",
       "    }\n",
       "\n",
       "    .dataframe thead th {\n",
       "        text-align: right;\n",
       "    }\n",
       "</style>\n",
       "<table border=\"1\" class=\"dataframe\">\n",
       "  <thead>\n",
       "    <tr style=\"text-align: right;\">\n",
       "      <th></th>\n",
       "      <th>Brand Name</th>\n",
       "      <th>Number of Stores</th>\n",
       "      <th>Total Revenue (in billion KRW)</th>\n",
       "      <th>Market Share (%)</th>\n",
       "    </tr>\n",
       "  </thead>\n",
       "  <tbody>\n",
       "    <tr>\n",
       "      <th>0</th>\n",
       "      <td>CU</td>\n",
       "      <td>15000</td>\n",
       "      <td>5000</td>\n",
       "      <td>35.0</td>\n",
       "    </tr>\n",
       "    <tr>\n",
       "      <th>1</th>\n",
       "      <td>GS25</td>\n",
       "      <td>14000</td>\n",
       "      <td>4800</td>\n",
       "      <td>33.5</td>\n",
       "    </tr>\n",
       "    <tr>\n",
       "      <th>2</th>\n",
       "      <td>7-Eleven</td>\n",
       "      <td>10000</td>\n",
       "      <td>3000</td>\n",
       "      <td>20.0</td>\n",
       "    </tr>\n",
       "    <tr>\n",
       "      <th>3</th>\n",
       "      <td>Emart24</td>\n",
       "      <td>5000</td>\n",
       "      <td>1500</td>\n",
       "      <td>7.5</td>\n",
       "    </tr>\n",
       "    <tr>\n",
       "      <th>4</th>\n",
       "      <td>Ministop</td>\n",
       "      <td>3000</td>\n",
       "      <td>700</td>\n",
       "      <td>4.0</td>\n",
       "    </tr>\n",
       "  </tbody>\n",
       "</table>\n",
       "</div>"
      ],
      "text/plain": [
       "  Brand Name  Number of Stores  Total Revenue (in billion KRW)  \\\n",
       "0         CU             15000                            5000   \n",
       "1       GS25             14000                            4800   \n",
       "2   7-Eleven             10000                            3000   \n",
       "3    Emart24              5000                            1500   \n",
       "4   Ministop              3000                             700   \n",
       "\n",
       "   Market Share (%)  \n",
       "0              35.0  \n",
       "1              33.5  \n",
       "2              20.0  \n",
       "3               7.5  \n",
       "4               4.0  "
      ]
     },
     "execution_count": 19,
     "metadata": {},
     "output_type": "execute_result"
    }
   ],
   "source": [
    "print('한국 5대 편의점 브랜드별 2024년 매출 및 점포 수')\n",
    "# [예제 3] 한국 5대 편의점 브랜드별 2024년 매출 및 점포 수\n",
    "df_korean_convenience_stores = generate_dataframe(\n",
    "    \"Create a dataset of the top 5 convenience store brands in Korea in 2024 with columns: Brand Name, Number of Stores, Total Revenue (in billion KRW), and Market Share (%).\"\n",
    ")\n",
    "df_korean_convenience_stores.head()"
   ]
  }
 ],
 "metadata": {
  "kernelspec": {
   "display_name": "langchain-basic-farQSE-J-py3.12",
   "language": "python",
   "name": "python3"
  },
  "language_info": {
   "codemirror_mode": {
    "name": "ipython",
    "version": 3
   },
   "file_extension": ".py",
   "mimetype": "text/x-python",
   "name": "python",
   "nbconvert_exporter": "python",
   "pygments_lexer": "ipython3",
   "version": "3.12.7"
  }
 },
 "nbformat": 4,
 "nbformat_minor": 5
}
