{
 "cells": [
  {
   "cell_type": "markdown",
   "id": "73f8810c",
   "metadata": {},
   "source": [
    "## StructuredOutputParser\n",
    "**간단한 구조화된 출력**을 위한 파서로, 스키마를 딕셔너리 형태로 정의합니다.\n",
    "\n",
    "**주요 특징:**\n",
    "\n",
    "- **간단한 설정**: ResponseSchema로 쉽게 구조 정의\n",
    "- **딕셔너리 기반 스키마**: 복잡한 클래스 정의 없이 간단히 사용\n",
    "- **빠른 프로토타이핑**: 초기 개발 단계에서 빠르게 테스트 가능\n",
    "- **유연한 필드 정의**: 설명과 함께 필드 정의\n",
    "\n",
    "**활용 사례:**\n",
    "\n",
    "- 제품 리뷰 분석 (평점, 장점, 단점 등)\n",
    "- 간단한 설문 응답 구조화\n",
    "- 빠른 프로토타입 개발\n",
    "- 단순한 정보 추출 작업"
   ]
  },
  {
   "cell_type": "code",
   "execution_count": null,
   "id": "ff62d7ca",
   "metadata": {},
   "outputs": [],
   "source": [
    "from langchain_openai import ChatOpenAI\n",
    "from langchain_core.prompts import ChatPromptTemplate\n",
    "from langchain.output_parsers import StructuredOutputParser, ResponseSchema\n",
    "\n",
    "from pprint import pprint"
   ]
  },
  {
   "cell_type": "code",
   "execution_count": 2,
   "id": "c35d1371",
   "metadata": {},
   "outputs": [],
   "source": [
    "# 출력 구조 정의 (평점, 장점, 단점, 요약)\n",
    "response_schemas = [\n",
    "    ResponseSchema(name=\"rating\", description=\"5점 만점에서 예상 평점\"),\n",
    "    ResponseSchema(name=\"pros\", description=\"리뷰에서 언급된 장점 3가지를 리스트로 출력\"),\n",
    "    ResponseSchema(name=\"cons\", description=\"리뷰에서 언급된 단점 3가지를 리스트로 출력\"),\n",
    "    ResponseSchema(name=\"summary\", description=\"리뷰를 한 문장으로 요약\")\n",
    "]"
   ]
  },
  {
   "cell_type": "code",
   "execution_count": 3,
   "id": "7458732f",
   "metadata": {},
   "outputs": [
    {
     "name": "stdout",
     "output_type": "stream",
     "text": [
      "출력 형식 지시사항:\n",
      "The output should be a markdown code snippet formatted in the following schema, including the leading and trailing \"```json\" and \"```\":\n",
      "\n",
      "```json\n",
      "{\n",
      "\t\"rating\": string  // 5점 만점에서 예상 평점\n",
      "\t\"pros\": string  // 리뷰에서 언급된 장점 3가지를 리스트로 출력\n",
      "\t\"cons\": string  // 리뷰에서 언급된 단점 3가지를 리스트로 출력\n",
      "\t\"summary\": string  // 리뷰를 한 문장으로 요약\n",
      "}\n",
      "```\n",
      "===== 분석 결과 =====\n",
      "{'cons': ['가격이 비쌈', '무게가 200g 이상임', '손이 피곤할 수 있음'],\n",
      " 'pros': ['배터리 수명이 좋음', '카메라 화질이 선명함', '야간 모드가 훌륭함'],\n",
      " 'rating': '4',\n",
      " 'summary': '스마트폰의 배터리 수명과 카메라 화질은 좋지만, 가격이 비싸고 무겁다는 리뷰입니다.'}\n"
     ]
    }
   ],
   "source": [
    "# 파서 초기화\n",
    "parser = StructuredOutputParser.from_response_schemas(response_schemas)\n",
    "format_instructions = parser.get_format_instructions()\n",
    "\n",
    "print(\"출력 형식 지시사항:\")\n",
    "print(format_instructions)\n",
    "\n",
    "# 프롬프트 템플릿\n",
    "template = \"\"\"\n",
    "다음 제품 리뷰를 분석하세요. 리뷰 내용: {review}\n",
    "\n",
    "{format_instructions}\n",
    "\"\"\"\n",
    "\n",
    "prompt = ChatPromptTemplate.from_template(template)\n",
    "prompt = prompt.partial(format_instructions=format_instructions)\n",
    "\n",
    "# 모델 초기화 (temperature=0.5로 설정해 일관성 있는 출력)\n",
    "#model = ChatOpenAI(temperature=0.7, model=\"gpt-3.5-turbo\")\n",
    "model = ChatOpenAI(\n",
    "    #api_key=OPENAI_API_KEY,\n",
    "    base_url=\"https://api.groq.com/openai/v1\",  # Groq API 엔드포인트\n",
    "    model=\"meta-llama/llama-4-scout-17b-16e-instruct\",  # Spring AI와 동일한 모델\n",
    "    temperature=0.7\n",
    ")\n",
    "\n",
    "# 테스트 리뷰 데이터\n",
    "review = \"\"\"\n",
    "이 스마트폰은 배터리 수명이 정말 좋아서 하루 종일 사용해도 충전이 필요 없었어요. \n",
    "카메라 화질도 선명하고, 특히 야간 모드가 훌륭합니다. \n",
    "다만 가격이 조금 비싸고, 무게가 200g이 넘어서 손이 피곤할 수 있어요.\n",
    "\"\"\"\n",
    "\n",
    "# 체인 실행\n",
    "chain = prompt | model | parser\n",
    "\n",
    "output = chain.invoke({\"review\": review})\n",
    "\n",
    "# 결과 출력 (Pretty Print)\n",
    "print(\"===== 분석 결과 =====\")\n",
    "pprint(output)"
   ]
  }
 ],
 "metadata": {
  "kernelspec": {
   "display_name": "langchain-basic-farQSE-J-py3.12",
   "language": "python",
   "name": "python3"
  },
  "language_info": {
   "codemirror_mode": {
    "name": "ipython",
    "version": 3
   },
   "file_extension": ".py",
   "mimetype": "text/x-python",
   "name": "python",
   "nbconvert_exporter": "python",
   "pygments_lexer": "ipython3",
   "version": "3.12.7"
  }
 },
 "nbformat": 4,
 "nbformat_minor": 5
}
