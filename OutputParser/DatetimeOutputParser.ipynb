{
 "cells": [
  {
   "cell_type": "markdown",
   "id": "aa10d45c",
   "metadata": {},
   "source": [
    "## DatetimeOutputParser\n",
    "**날짜와 시간 정보를 파싱**하는 전용 파서입니다.\n",
    "\n",
    "**주요 특징:**\n",
    "\n",
    "- **다양한 날짜 형식 지원**: 여러 언어와 형식의 날짜 인식\n",
    "- **자동 형식 감지**: 입력 형식을 자동으로 판단\n",
    "- **datetime 객체 변환**: Python datetime 객체로 직접 변환\n",
    "- **시간대 처리**: 타임존 정보 포함 처리 가능\n",
    "\n",
    "**활용 사례:**\n",
    "\n",
    "- 이벤트 일정 추출\n",
    "- 문서에서 날짜 정보 파싱\n",
    "- 로그 파일 시간 분석\n",
    "- 일정 관리 시스템"
   ]
  },
  {
   "cell_type": "code",
   "execution_count": 2,
   "id": "53cea6e4",
   "metadata": {},
   "outputs": [
    {
     "name": "stdout",
     "output_type": "stream",
     "text": [
      "2025-06-11 14:35:59.132287\n"
     ]
    }
   ],
   "source": [
    "from langchain_openai import ChatOpenAI\n",
    "from langchain_core.prompts import ChatPromptTemplate\n",
    "from langchain.output_parsers import DatetimeOutputParser\n",
    "from datetime import datetime, timedelta\n",
    "\n",
    "print(datetime.today())"
   ]
  },
  {
   "cell_type": "code",
   "execution_count": 4,
   "id": "1e5556c1",
   "metadata": {},
   "outputs": [
    {
     "name": "stdout",
     "output_type": "stream",
     "text": [
      "날짜 출력 형식 지시사항:\n",
      "Write a datetime string that matches the following pattern: '%Y-%m-%dT%H:%M:%S.%fZ'.\n",
      "\n",
      "Examples: 1206-07-12T20:06:29.682137Z, 1412-08-11T00:26:06.176552Z, 1213-07-24T00:07:25.859283Z\n",
      "\n",
      "Return ONLY this string, no other words!\n",
      "input_variables=['text'] input_types={} partial_variables={'format_instructions': \"Write a datetime string that matches the following pattern: '%Y-%m-%dT%H:%M:%S.%fZ'.\\n\\nExamples: 1206-07-12T20:06:29.682137Z, 1412-08-11T00:26:06.176552Z, 1213-07-24T00:07:25.859283Z\\n\\nReturn ONLY this string, no other words!\"} messages=[HumanMessagePromptTemplate(prompt=PromptTemplate(input_variables=['format_instructions', 'text'], input_types={}, partial_variables={}, template=\"\\n현재 날짜: 2025-06-11\\n다음 텍스트에서 날짜/시간 정보를 추출하세요. 상대적 표현(예: '다음 주 금요일')은 현재 날짜를 기준으로 계산합니다.\\n텍스트: {text}\\n\\n{format_instructions}\\n\"), additional_kwargs={})]\n"
     ]
    }
   ],
   "source": [
    "# 출력 파서 초기화 (시간대 포함 가능)\n",
    "datetime_parser = DatetimeOutputParser()\n",
    "format_instructions = datetime_parser.get_format_instructions()\n",
    "\n",
    "print(\"날짜 출력 형식 지시사항:\")\n",
    "print(format_instructions)\n",
    "\n",
    "# 프롬프트 템플릿\n",
    "# 현재 날짜를 명시적으로 프롬프트에 주입\n",
    "current_date = datetime.now().strftime(\"%Y-%m-%d\")\n",
    "template = f\"\"\"\n",
    "현재 날짜: {current_date}\n",
    "다음 텍스트에서 날짜/시간 정보를 추출하세요. 상대적 표현(예: '다음 주 금요일')은 현재 날짜를 기준으로 계산합니다.\n",
    "텍스트: {{text}}\n",
    "\n",
    "{{format_instructions}}\n",
    "\"\"\"\n",
    "\n",
    "prompt = ChatPromptTemplate.from_template(template)\n",
    "prompt = prompt.partial(format_instructions=format_instructions)\n",
    "print(prompt)"
   ]
  },
  {
   "cell_type": "code",
   "execution_count": 5,
   "id": "16ff0517",
   "metadata": {},
   "outputs": [
    {
     "name": "stdout",
     "output_type": "stream",
     "text": [
      "\n",
      "원본 텍스트: 회의는 2025년 6월 15일 오후 2시에 예정되어 있습니다.\n",
      "추출된 날짜: 2025-06-15 14:00:00 \n",
      "\n",
      "원본 텍스트: 프로젝트 마감일은 다음 주 금요일입니다.\n",
      "추출된 날짜: 2025-06-20 00:00:00 \n",
      "\n",
      "원본 텍스트: 행사 시작: 7/25/2025 18:00 KST\n",
      "추출된 날짜: 2025-07-25 18:00:00 \n",
      "\n",
      "원본 텍스트: 3일 후에 시스템 점검이 진행됩니다.\n",
      "추출된 날짜: 2025-06-14 00:00:00 \n",
      "이 텍스트에서 이벤트 날짜/시간 추출:\n",
      "\n",
      "- 이벤트명: 크리스마스 마켓\n",
      "- 날짜: 2025-12-10 00:00:00\n",
      "\n",
      "- 이벤트명: 크리스마스 이브 파티\n",
      "- 날짜: 2025-12-24 00:00:00\n",
      "\n",
      "- 이벤트명: 새해 카운트다운\n",
      "- 날짜: 2025-01-01 00:00:00\n"
     ]
    }
   ],
   "source": [
    "# 모델 초기화 (temperature=0.1로 설정해 정확한 날짜 출력 강조)\n",
    "#model = ChatOpenAI(model=\"gpt-3.5-turbo\", temperature=0.1)\n",
    "model = ChatOpenAI(\n",
    "    #api_key=OPENAI_API_KEY,\n",
    "    base_url=\"https://api.groq.com/openai/v1\",  # Groq API 엔드포인트\n",
    "    model=\"meta-llama/llama-4-scout-17b-16e-instruct\",  # Spring AI와 동일한 모델\n",
    "    temperature=0.1\n",
    ")\n",
    "\n",
    "# 테스트 데이터 (다양한 날짜 형식 포함)\n",
    "texts = [\n",
    "    \"회의는 2025년 6월 15일 오후 2시에 예정되어 있습니다.\",\n",
    "    \"프로젝트 마감일은 다음 주 금요일입니다.\",\n",
    "    \"행사 시작: 7/25/2025 18:00 KST\",\n",
    "    \"3일 후에 시스템 점검이 진행됩니다.\"\n",
    "]\n",
    "\n",
    "# 체인 실행 및 결과 출력\n",
    "chain = prompt | model | datetime_parser\n",
    "\n",
    "for text in texts:\n",
    "    print(f\"\\n원본 텍스트: {text}\")\n",
    "    output = chain.invoke({\"text\": text})\n",
    "    print(f\"추출된 날짜: {output.strftime('%Y-%m-%d %H:%M:%S %Z')}\")\n",
    "\n",
    "    \n",
    "# 이벤트 추출용 프롬프트\n",
    "current_date = datetime.now().strftime(\"%Y-%m-%d\")\n",
    "\n",
    "event_template = \"\"\"\n",
    "현재 날짜: {current_date}\n",
    "다음 텍스트에서 모든 이벤트의 날짜/시간을 추출하세요. 각 이벤트는 이름과 날짜를 포함해야 합니다.\n",
    "텍스트: {text}\n",
    "\n",
    "출력 형식:\n",
    "- 이벤트명: [이름]\n",
    "- 날짜: [YYYY-MM-DD HH:MM:SS]\n",
    "\"\"\"\n",
    "\n",
    "event_prompt = ChatPromptTemplate.from_template(event_template)\n",
    "event_chain = event_prompt | model\n",
    "\n",
    "# 예시 텍스트 (여러 이벤트 포함)\n",
    "event_text = \"\"\"\n",
    "12월 10일에 크리스마스 마켓이 열리고, 12월 24일에는 크리스마스 이브 파티가 있습니다.\n",
    "또한 1월 1일 00:00에 새해 카운트다운이 진행될 예정입니다.\n",
    "\"\"\"\n",
    "\n",
    "print(event_chain.invoke({\"current_date\":current_date, \"text\": event_text}).content)"
   ]
  }
 ],
 "metadata": {
  "kernelspec": {
   "display_name": "langchain-basic-farQSE-J-py3.12",
   "language": "python",
   "name": "python3"
  },
  "language_info": {
   "codemirror_mode": {
    "name": "ipython",
    "version": 3
   },
   "file_extension": ".py",
   "mimetype": "text/x-python",
   "name": "python",
   "nbconvert_exporter": "python",
   "pygments_lexer": "ipython3",
   "version": "3.12.7"
  }
 },
 "nbformat": 4,
 "nbformat_minor": 5
}
