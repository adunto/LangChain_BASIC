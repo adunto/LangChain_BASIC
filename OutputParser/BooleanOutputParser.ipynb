{
 "cells": [
  {
   "cell_type": "markdown",
   "id": "5a915e45",
   "metadata": {},
   "source": [
    "## BooleanOutputParser\n",
    "**Yes/No, True/False 형태의 이진 응답**을 처리하는 파서입니다.\n",
    "\n",
    "**주요 특징:**\n",
    "\n",
    "- **이진 분류에 최적**: 단순한 예/아니오 판단\n",
    "- **다양한 표현 인식**: \"네\", \"Yes\", \"True\" 등 다양한 형태 인식\n",
    "- **Boolean 타입 반환**: Python boolean 값으로 직접 반환\n",
    "- **간단하고 확실**: 가장 단순하면서도 명확한 결과\n",
    "\n",
    "**활용 사례:**\n",
    "\n",
    "- 스팸 메일 판별\n",
    "- 사실 확인 (Fact Check)\n",
    "- 승인/거부 결정\n",
    "- 조건 만족 여부 확인"
   ]
  },
  {
   "cell_type": "code",
   "execution_count": 1,
   "id": "9d7903d6",
   "metadata": {},
   "outputs": [],
   "source": [
    "from langchain_openai import ChatOpenAI\n",
    "from langchain_core.prompts import ChatPromptTemplate\n",
    "from langchain.output_parsers import BooleanOutputParser\n",
    "from langchain_core.output_parsers import StrOutputParser"
   ]
  },
  {
   "cell_type": "code",
   "execution_count": 2,
   "id": "6f5b03aa",
   "metadata": {},
   "outputs": [
    {
     "name": "stdout",
     "output_type": "stream",
     "text": [
      "input_variables=['applicant_details', 'min_age', 'min_credit_score', 'min_income'] input_types={} partial_variables={'format_instructions': '\\n출력은 반드시 다음 중 하나여야 합니다:\\n- `True`: 모든 조건 충족 시\\n- `False`: 하나라도 조건 불충족 시\\n\\n예시:\\nTrue  # 모든 조건 만족\\nFalse # 조건 불만족\\n'} messages=[HumanMessagePromptTemplate(prompt=PromptTemplate(input_variables=['applicant_details', 'format_instructions', 'min_age', 'min_credit_score', 'min_income'], input_types={}, partial_variables={}, template='\\n다음 대출 신청자를 평가하세요. 조건을 모두 충족하면 `True`, 아니면 `False`를 출력하세요.\\n\\n### 조건:\\n1. 나이 >= {min_age}세\\n2. 신용 점수 >= {min_credit_score}\\n3. 월 수입 >= ${min_income}\\n\\n### 신청자 정보:\\n{applicant_details}\\n\\n{format_instructions}\\n'), additional_kwargs={})]\n"
     ]
    }
   ],
   "source": [
    "# Boolean 파서 초기화\n",
    "parser = BooleanOutputParser()\n",
    "\n",
    "# 수동으로 포맷 지시사항 정의 (LangChain 버전 이슈 회피)\n",
    "format_instructions = \"\"\"\n",
    "출력은 반드시 다음 중 하나여야 합니다:\n",
    "- `True`: 모든 조건 충족 시\n",
    "- `False`: 하나라도 조건 불충족 시\n",
    "\n",
    "예시:\n",
    "True  # 모든 조건 만족\n",
    "False # 조건 불만족\n",
    "\"\"\"\n",
    "\n",
    "# 승인/거부 결정 프롬프트 템플릿\n",
    "template = \"\"\"\n",
    "다음 대출 신청자를 평가하세요. 조건을 모두 충족하면 `True`, 아니면 `False`를 출력하세요.\n",
    "\n",
    "### 조건:\n",
    "1. 나이 >= {min_age}세\n",
    "2. 신용 점수 >= {min_credit_score}\n",
    "3. 월 수입 >= ${min_income}\n",
    "\n",
    "### 신청자 정보:\n",
    "{applicant_details}\n",
    "\n",
    "{format_instructions}\n",
    "\"\"\"\n",
    "\n",
    "prompt = ChatPromptTemplate.from_template(template)\n",
    "prompt = prompt.partial(format_instructions=format_instructions)\n",
    "print(prompt)"
   ]
  },
  {
   "cell_type": "code",
   "execution_count": 4,
   "id": "c43a0288",
   "metadata": {},
   "outputs": [
    {
     "name": "stdout",
     "output_type": "stream",
     "text": [
      "\n",
      "결과: 승인\n",
      "사유: 모든 조건을 충족했습니다.\n"
     ]
    }
   ],
   "source": [
    "\n",
    "model = ChatOpenAI(\n",
    "    #api_key=OPENAI_API_KEY,\n",
    "    base_url=\"https://api.groq.com/openai/v1\",  # Groq API 엔드포인트\n",
    "    model=\"meta-llama/llama-4-scout-17b-16e-instruct\",\n",
    "    temperature=0.1\n",
    ")\n",
    "\n",
    "# 테스트 케이스\n",
    "test_cases = [\n",
    "    {\n",
    "        \"min_age\": 18,\n",
    "        \"min_credit_score\": 700,\n",
    "        \"min_income\": 3000,\n",
    "        \"applicant_details\": \"\"\"\n",
    "        - 이름: 김철수\n",
    "        - 나이: 25세\n",
    "        - 신용 점수: 750\n",
    "        - 월 수입: $3,500\n",
    "        \"\"\"\n",
    "    },\n",
    "    {\n",
    "        \"min_age\": 18,\n",
    "        \"min_credit_score\": 700,\n",
    "        \"min_income\": 3000,\n",
    "        \"applicant_details\": \"\"\"\n",
    "        - 이름: 이영희\n",
    "        - 나이: 17세\n",
    "        - 신용 점수: 680\n",
    "        - 월 수입: $2,800\n",
    "        \"\"\"\n",
    "    }\n",
    "]\n",
    "\n",
    "# 거부 사유 생성 프롬프트 (출력 형식 명시적으로 지정)\n",
    "reason_template = \"\"\"\n",
    "다음 대출 신청 거부 사유를 1문장으로 설명하세요. 반드시 다음 형식으로 답변해야 합니다:\n",
    "\n",
    "[거부 사유]: [사유 내용]\n",
    "\n",
    "### 신청자 정보:\n",
    "{applicant_details}\n",
    "\n",
    "### 조건:\n",
    "- 최소 나이: {min_age}세\n",
    "- 최소 신용 점수: {min_credit_score}\n",
    "- 최소 월 수입: ${min_income}\n",
    "\"\"\"\n",
    "reason_prompt = ChatPromptTemplate.from_template(reason_template)\n",
    "reason_chain = reason_prompt | model | StrOutputParser()\n",
    "\n",
    "chain = prompt | model | StrOutputParser()\n",
    "\n",
    "# 체인 확장 (Boolean 파서와 분리)\n",
    "def get_decision_with_reason(input_dict):\n",
    "    # 1. 먼저 Boolean 결정\n",
    "    decision = chain.invoke(input_dict)\n",
    "    \n",
    "    # 2. 거부 시에만 사유 생성\n",
    "    if not decision:\n",
    "        try:\n",
    "            reason = reason_chain.invoke({\n",
    "                \"applicant_details\": input_dict[\"applicant_details\"],\n",
    "                \"min_age\": input_dict[\"min_age\"],\n",
    "                \"min_credit_score\": input_dict[\"min_credit_score\"],\n",
    "                \"min_income\": input_dict[\"min_income\"]\n",
    "            })\n",
    "            return decision, reason\n",
    "        except Exception as e:\n",
    "            return decision, f\"거부 사유 생성 실패: {str(e)}\"\n",
    "    return decision, \"모든 조건을 충족했습니다.\"\n",
    "\n",
    "# 테스트 (안전한 실행)\n",
    "try:\n",
    "    decision, reason = get_decision_with_reason(test_cases[0])\n",
    "    print(f\"\\n결과: {'승인' if decision else '거부'}\")\n",
    "    print(f\"사유: {reason}\")\n",
    "except Exception as e:\n",
    "    print(f\"오류 발생: {str(e)}\")"
   ]
  }
 ],
 "metadata": {
  "kernelspec": {
   "display_name": "langchain-basic-farQSE-J-py3.12",
   "language": "python",
   "name": "python3"
  },
  "language_info": {
   "codemirror_mode": {
    "name": "ipython",
    "version": 3
   },
   "file_extension": ".py",
   "mimetype": "text/x-python",
   "name": "python",
   "nbconvert_exporter": "python",
   "pygments_lexer": "ipython3",
   "version": "3.12.7"
  }
 },
 "nbformat": 4,
 "nbformat_minor": 5
}
