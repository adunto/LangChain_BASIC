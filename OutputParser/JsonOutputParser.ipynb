{
 "cells": [
  {
   "cell_type": "markdown",
   "id": "684e045b",
   "metadata": {},
   "source": [
    "## JsonOutputParser\n",
    "* LLM의 응답을 JSON 형식으로 정리하는 데 유용한 출력 파서\n",
    "* 구조화된 데이터를 생성하고, API 응답이나 데이터 분석을 보다 쉽게 처리할 수 있습니다."
   ]
  },
  {
   "cell_type": "markdown",
   "id": "6d1fb199",
   "metadata": {},
   "source": [
    "### JsonOutputParser 장점\n",
    "\n",
    "- **정형화된 JSON 출력 제공**\n",
    "    - LLM의 출력을 JSON 형태로 강제하여, **일관된 데이터 형식 유지**\n",
    "    - API 응답, 데이터 저장, 데이터 처리 자동화 등에 활용\n",
    "- **데이터 분석 및 활용 용이**\n",
    "    - JSON 형태이므로 프로그램에서 쉽게 **파싱(Parsing)** 가능\n",
    "    - 다른 시스템과 연동할 때 **구조화된 데이터 활용 가능**\n",
    "- **스키마 강제 적용 가능**\n",
    "    - 특정 필드를 필수적으로 포함하도록 설정 가능\n",
    "    - **예측 가능한 데이터 구조 생성**"
   ]
  },
  {
   "cell_type": "code",
   "execution_count": 6,
   "id": "2c677a88",
   "metadata": {},
   "outputs": [],
   "source": [
    "from langchain_core.prompts import ChatPromptTemplate\n",
    "from langchain_core.output_parsers import JsonOutputParser\n",
    "from langchain_openai import ChatOpenAI\n",
    "import json\n",
    "from dotenv import load_dotenv\n",
    "import os\n",
    "\n",
    "import sys\n",
    "sys.path.append(os.path.abspath(os.path.join(os.pardir, \"public\")))\n",
    "from model import getModel"
   ]
  },
  {
   "cell_type": "code",
   "execution_count": 7,
   "id": "2e2f617b",
   "metadata": {},
   "outputs": [],
   "source": [
    "load_dotenv()\n",
    "OPENAI_API_KEY = os.getenv(\"OPENAI_API_KEY\")"
   ]
  },
  {
   "cell_type": "code",
   "execution_count": 8,
   "id": "a4cc90b8",
   "metadata": {},
   "outputs": [],
   "source": [
    "# OpenAI 모델 초기화\n",
    "model = getModel()"
   ]
  },
  {
   "cell_type": "code",
   "execution_count": 9,
   "id": "8d427676",
   "metadata": {},
   "outputs": [],
   "source": [
    "# JSON 출력 파서 초기화\n",
    "parser = JsonOutputParser()"
   ]
  },
  {
   "cell_type": "code",
   "execution_count": 10,
   "id": "7b732315",
   "metadata": {},
   "outputs": [],
   "source": [
    "# 프롬프트 템플릿을 설정합니다.\n",
    "prompt = ChatPromptTemplate.from_messages(\n",
    "    [\n",
    "        (\"system\", \"당신은 과학 분야 전문가 AI입니다. 질문에 대해 체계적이고 간결한 답변을 JSON 형식으로 제공하세요.\"),\n",
    "        (\"user\", \"#Format: {format_instructions}\\n\\n#Question: {question}\"),\n",
    "    ]\n",
    ")"
   ]
  },
  {
   "cell_type": "code",
   "execution_count": 11,
   "id": "d4c3c16b",
   "metadata": {},
   "outputs": [],
   "source": [
    "# JSON 출력 형식 지침을 프롬프트에 적용\n",
    "prompt = prompt.partial(format_instructions=parser.get_format_instructions())"
   ]
  },
  {
   "cell_type": "code",
   "execution_count": 12,
   "id": "9d1efdfd",
   "metadata": {},
   "outputs": [],
   "source": [
    "# 프롬프트, 모델, 출력 파서를 연결하는 체인 생성\n",
    "chain = prompt | model | parser"
   ]
  },
  {
   "cell_type": "code",
   "execution_count": 13,
   "id": "3cd1f55b",
   "metadata": {},
   "outputs": [],
   "source": [
    "# 질문 설정 (우주 탐사 관련 질문)\n",
    "question = \"최근 10년간 진행된 주요 우주 탐사 미션 3가지를 알려주세요. \\\n",
    "각 미션의 이름은 `mission_name`에, 목표는 `goal`에, 주관 기관은 `agency`에 담아 주세요.\"\n",
    "\n",
    "# 체인 실행 및 JSON 응답 받기\n",
    "response = chain.invoke({\"question\": question})"
   ]
  },
  {
   "cell_type": "code",
   "execution_count": 14,
   "id": "5aec27cb",
   "metadata": {},
   "outputs": [
    {
     "name": "stdout",
     "output_type": "stream",
     "text": [
      "[\n",
      "    {\n",
      "        \"mission_name\": \"뉴호라이즌스(New Horizons)\",\n",
      "        \"goal\": \"명왕성 탐사\",\n",
      "        \"agency\": \"NASA\"\n",
      "    },\n",
      "    {\n",
      "        \"mission_name\": \"로제타(Rosetta)\",\n",
      "        \"goal\": \"혜성 탐사\",\n",
      "        \"agency\": \"ESA\"\n",
      "    },\n",
      "    {\n",
      "        \"mission_name\": \"커큐리티(Curiosity)\",\n",
      "        \"goal\": \"화성 탐사\",\n",
      "        \"agency\": \"NASA\"\n",
      "    }\n",
      "]\n"
     ]
    }
   ],
   "source": [
    "# JSON 데이터 출력\n",
    "print(json.dumps(response, indent=4, ensure_ascii=False))"
   ]
  }
 ],
 "metadata": {
  "kernelspec": {
   "display_name": "langchain-basic-farQSE-J-py3.12",
   "language": "python",
   "name": "python3"
  },
  "language_info": {
   "codemirror_mode": {
    "name": "ipython",
    "version": 3
   },
   "file_extension": ".py",
   "mimetype": "text/x-python",
   "name": "python",
   "nbconvert_exporter": "python",
   "pygments_lexer": "ipython3",
   "version": "3.12.7"
  }
 },
 "nbformat": 4,
 "nbformat_minor": 5
}
