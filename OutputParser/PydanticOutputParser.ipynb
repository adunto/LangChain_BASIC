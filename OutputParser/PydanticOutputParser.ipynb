{
 "cells": [
  {
   "cell_type": "markdown",
   "id": "a33db786",
   "metadata": {},
   "source": [
    "## PydanticOutputParser\n",
    "**강력하고 유연한 OutputParser**로, Pydantic 모델을 사용하여 복잡한 구조화된 데이터를 파싱합니다.\n",
    "\n",
    "**주요 특징:**\n",
    "\n",
    "- **타입 검증 자동화**: 각 필드의 데이터 타입을 자동으로 검증\n",
    "- **중첩된 객체 구조 지원**: 복잡한 계층 구조의 데이터 처리 가능\n",
    "- **자동 스키마 생성**: Pydantic 모델에서 자동으로 JSON 스키마 생성\n",
    "- **에러 처리 내장**: 잘못된 형식에 대한 상세한 에러 메시지 제공\n",
    "\n",
    "**활용 사례:**\n",
    "\n",
    "- API 응답 구조화\n",
    "- 복잡한 설문조사 결과 파싱\n",
    "- 제품 정보, 사용자 프로필 등 다중 필드 데이터 처리\n",
    "- 데이터베이스 스키마와 연동되는 구조화된 정보 추출"
   ]
  },
  {
   "cell_type": "code",
   "execution_count": 5,
   "id": "efe61d18",
   "metadata": {},
   "outputs": [],
   "source": [
    "from langchain.output_parsers import PydanticOutputParser\n",
    "from langchain_core.prompts import ChatPromptTemplate\n",
    "from langchain_openai import ChatOpenAI\n",
    "\n",
    "from pydantic import BaseModel, Field\n",
    "from typing import List"
   ]
  },
  {
   "cell_type": "code",
   "execution_count": 6,
   "id": "7af134bd",
   "metadata": {},
   "outputs": [],
   "source": [
    "# 출력 구조를 정의하는 Pydantic 모델\n",
    "class MovieRecommendation(BaseModel):\n",
    "    movie_title: str = Field(description=\"추천 영화 제목\")\n",
    "    reason: str = Field(description=\"추천 이유\")\n",
    "    genre: List[str] = Field(description=\"영화 장르\")\n",
    "    estimated_rating: float = Field(description=\"10점 만점에서 예상 평점\")"
   ]
  },
  {
   "cell_type": "code",
   "execution_count": 7,
   "id": "0608189d",
   "metadata": {},
   "outputs": [],
   "source": [
    "# Pydantic 출력 파서 초기화\n",
    "parser = PydanticOutputParser(pydantic_object=MovieRecommendation)"
   ]
  },
  {
   "cell_type": "code",
   "execution_count": 8,
   "id": "a235dbd4",
   "metadata": {},
   "outputs": [],
   "source": [
    "# 프롬프트 템플릿 설정\n",
    "template = \"\"\"\n",
    "다음 사용자 요청에 따라 영화를 추천해주세요.\n",
    "요청: {query}\n",
    "\n",
    "{format_instructions}\n",
    "\"\"\""
   ]
  },
  {
   "cell_type": "code",
   "execution_count": 9,
   "id": "05be2a7a",
   "metadata": {},
   "outputs": [],
   "source": [
    "prompt = ChatPromptTemplate.from_template(template)\n",
    "\n",
    "# 파서의 지시사항을 프롬프트에 주입\n",
    "prompt = prompt.partial(\n",
    "    format_instructions=parser.get_format_instructions()\n",
    ")"
   ]
  },
  {
   "cell_type": "code",
   "execution_count": 10,
   "id": "0f39bb6a",
   "metadata": {},
   "outputs": [
    {
     "name": "stdout",
     "output_type": "stream",
     "text": [
      "추천 영화: The Silence of the Lambs\n",
      "추천 이유: 1990년대 클래식한 느낌의 공포 영화로, 긴장감과 스릴러 요소가 가득한 작품입니다.\n",
      "장르: 공포, 스릴러, 미스터리\n",
      "예상 평점: 9.5/10\n"
     ]
    }
   ],
   "source": [
    "# ChatOpenAI 모델 초기화\n",
    "#model = ChatOpenAI(temperature=0.7, model=\"gpt-3.5-turbo\")\n",
    "model = ChatOpenAI(\n",
    "    #api_key=OPENAI_API_KEY,\n",
    "    base_url=\"https://api.groq.com/openai/v1\",  # Groq API 엔드포인트\n",
    "    model=\"meta-llama/llama-4-scout-17b-16e-instruct\",  # Spring AI와 동일한 모델\n",
    "    temperature=0.7\n",
    ")\n",
    "\n",
    "# 체인 구성 및 실행\n",
    "query = \"1990년대 클래식한 느낌의 공포 영화 추천해줘\"\n",
    "chain = prompt | model | parser\n",
    "output = chain.invoke({\"query\": query})\n",
    "\n",
    "# 결과 출력\n",
    "print(f\"추천 영화: {output.movie_title}\")\n",
    "print(f\"추천 이유: {output.reason}\")\n",
    "print(f\"장르: {', '.join(output.genre)}\")\n",
    "print(f\"예상 평점: {output.estimated_rating}/10\")"
   ]
  }
 ],
 "metadata": {
  "kernelspec": {
   "display_name": "langchain-basic-farQSE-J-py3.12",
   "language": "python",
   "name": "python3"
  },
  "language_info": {
   "codemirror_mode": {
    "name": "ipython",
    "version": 3
   },
   "file_extension": ".py",
   "mimetype": "text/x-python",
   "name": "python",
   "nbconvert_exporter": "python",
   "pygments_lexer": "ipython3",
   "version": "3.12.7"
  }
 },
 "nbformat": 4,
 "nbformat_minor": 5
}
