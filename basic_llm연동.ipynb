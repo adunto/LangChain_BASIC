{
 "cells": [
  {
   "cell_type": "code",
   "execution_count": 2,
   "id": "3317a132",
   "metadata": {},
   "outputs": [
    {
     "name": "stdout",
     "output_type": "stream",
     "text": [
      "Hello LangChain\n"
     ]
    }
   ],
   "source": [
    "print('Hello LangChain')"
   ]
  },
  {
   "cell_type": "code",
   "execution_count": null,
   "id": "fe2cf216",
   "metadata": {},
   "outputs": [],
   "source": [
    "import os\n",
    "from dotenv import load_dotenv\n",
    "from langchain_core.prompts import ChatPromptTemplate\n",
    "from langchain_openai import ChatOpenAI\n",
    "\n",
    "load_dotenv()\n",
    "OPENAI_API_KEY = os.getenv(\"OPENAI_API_KEY\")"
   ]
  },
  {
   "cell_type": "code",
   "execution_count": null,
   "id": "e80c9e85",
   "metadata": {},
   "outputs": [
    {
     "name": "stdout",
     "output_type": "stream",
     "text": [
      "input_variables=['input'] input_types={} partial_variables={} messages=[SystemMessagePromptTemplate(prompt=PromptTemplate(input_variables=[], input_types={}, partial_variables={}, template='당신은 개발자입니다.'), additional_kwargs={}), HumanMessagePromptTemplate(prompt=PromptTemplate(input_variables=['input'], input_types={}, partial_variables={}, template='{input}'), additional_kwargs={})]\n"
     ]
    }
   ],
   "source": [
    "prompt = ChatPromptTemplate.from_messages(\n",
    "    [ (\"system\", \"당신은 개발자입니다.\") , \n",
    "     (\"user\", \"{input}\")]\n",
    ")\n",
    "print(prompt)\n",
    "\n",
    "prompt_text = prompt.format(input=\"파이썬은 무엇인가요? 자세하게 설명해주세요.\")"
   ]
  },
  {
   "cell_type": "code",
   "execution_count": 6,
   "id": "9db56cfc",
   "metadata": {},
   "outputs": [
    {
     "name": "stdout",
     "output_type": "stream",
     "text": [
      "client=<openai.resources.chat.completions.completions.Completions object at 0x000001CE290C8770> async_client=<openai.resources.chat.completions.completions.AsyncCompletions object at 0x000001CE294D7FE0> root_client=<openai.OpenAI object at 0x000001CE28F41130> root_async_client=<openai.AsyncOpenAI object at 0x000001CE28F4A300> model_name='meta-llama/llama-4-scout-17b-16e-instruct' temperature=0.7 model_kwargs={} openai_api_key=SecretStr('**********') openai_api_base='https://api.groq.com/openai/v1'\n"
     ]
    }
   ],
   "source": [
    "# Groq API를 사용하는 ChatOpenAI 인스턴스 생성\n",
    "llm = ChatOpenAI(\n",
    "    api_key=OPENAI_API_KEY,\n",
    "    base_url=\"https://api.groq.com/openai/v1\",  # Groq API 엔드포인트\n",
    "    model=\"meta-llama/llama-4-scout-17b-16e-instruct\",\n",
    "    temperature=0.7\n",
    ")\n",
    "print(llm)"
   ]
  },
  {
   "cell_type": "code",
   "execution_count": 8,
   "id": "02f69c12",
   "metadata": {},
   "outputs": [
    {
     "name": "stdout",
     "output_type": "stream",
     "text": [
      "<class 'langchain_core.messages.ai.AIMessage'>\n",
      "content='파이썬! 프로그래밍 언어 중에서 가장 인기 있고 사랑받는 언어 중 하나입니다. 저는 개발자로서 파이썬에 대해 자세히 설명해 드리겠습니다.\\n\\n**파이썬이란?**\\n\\n파이썬은 1991년에 네덜란드 국립 연구소의 Guido van Rossum에 의해 개발된 고수준 프로그래밍 언어입니다. 파이썬은 간단하고 읽기 쉬운 문법, 다양한 라이브러리 및 프레임워크, 그리고 대용량 데이터 처리 능력으로 유명합니다.\\n\\n**파이썬의 특징**\\n\\n1. **쉬운 문법**: 파이썬은 매우 간단하고 직관적인 문법을 가지고 있습니다. 이는 개발자가 빠르게 코드를 작성하고 테스트할 수 있도록 도와줍니다.\\n2. **객체 지향 언어**: 파이썬은 객체 지향 언어입니다. 이는 개발자가 모듈화되고 재사용 가능한 코드를 작성할 수 있도록 도와줍니다.\\n3. **동적 타이핑**: 파이썬은 동적 타이핑 언어입니다. 이는 변수의 타입을 선언할 필요가 없으며, 실행 시간에 변수의 타입이 결정된다는 것을 의미합니다.\\n4. **대용량 데이터 처리**: 파이썬은 대용량 데이터를 처리할 수 있는 다양한 라이브러리와 프레임워크를 제공합니다. 예를 들어, NumPy, pandas, 그리고 scikit-learn 등이 있습니다.\\n5. **크로스 플랫폼**: 파이썬은 다양한 운영 체제에서 실행할 수 있습니다. 예를 들어, Windows, macOS, Linux, 그리고 모바일 장치 등에서 실행할 수 있습니다.\\n\\n**파이썬의 사용 사례**\\n\\n1. **웹 개발**: 파이썬은 웹 개발에 널리 사용됩니다. 예를 들어, Django, Flask, 그리고 Pyramid 등의 프레임워크를 사용하여 웹 애플리케이션을 개발할 수 있습니다.\\n2. **데이터 과학**: 파이썬은 데이터 과학에 널리 사용됩니다. 예를 들어, 데이터 분석, 머신 러닝, 그리고 데이터 시각화 등에 사용됩니다.\\n3. **스크립팅**: 파이썬은 스크립팅에 널리 사용됩니다. 예를 들어, 자동화, 백업, 그리고 시스템 관리 등에 사용됩니다.\\n4. **교육**: 파이썬은 교육에 널리 사용됩니다. 예를 들어, 프로그래밍 입문, 데이터 과학, 그리고 인공지능 등에 사용됩니다.\\n\\n**파이썬의 인기**\\n\\n파이썬은 현재 가장 인기 있는 프로그래밍 언어 중 하나입니다. 예를 들어:\\n\\n* 2022년 TIOBE 인덱스에서 파이썬은 3위를 차지했습니다.\\n* 2022년 Stack Overflow 설문조사에서 파이썬은 가장 인기 있는 프로그래밍 언어 중 하나로 선정되었습니다.\\n* 파이썬은 현재 GitHub에서 가장 많이 사용되는 프로그래밍 언어 중 하나입니다.\\n\\n결론적으로, 파이썬은 쉽고 강력한 프로그래밍 언어입니다. 파이썬은 다양한 분야에서 널리 사용되며, 개발자들이 선호하는 언어 중 하나입니다. 저는 개발자로서 파이썬을 매우 좋아하며, 파이썬을 사용하여 다양한 프로젝트를 진행해 왔습니다.' additional_kwargs={'refusal': None} response_metadata={'token_usage': {'completion_tokens': 614, 'prompt_tokens': 32, 'total_tokens': 646, 'completion_tokens_details': None, 'prompt_tokens_details': None, 'queue_time': 0.25781707800000003, 'prompt_time': 0.00302567, 'completion_time': 1.469631713, 'total_time': 1.472657383}, 'model_name': 'meta-llama/llama-4-scout-17b-16e-instruct', 'system_fingerprint': 'fp_37da608fc1', 'id': 'chatcmpl-5038cb66-ecb9-46f1-905d-aa2f0286533a', 'service_tier': None, 'finish_reason': 'stop', 'logprobs': None} id='run--017de264-9f47-47d3-bc67-d270e7fc2ae4-0' usage_metadata={'input_tokens': 32, 'output_tokens': 614, 'total_tokens': 646, 'input_token_details': {}, 'output_token_details': {}}\n",
      "응답: 파이썬! 프로그래밍 언어 중에서 가장 인기 있고 사랑받는 언어 중 하나입니다. 저는 개발자로서 파이썬에 대해 자세히 설명해 드리겠습니다.\n",
      "\n",
      "**파이썬이란?**\n",
      "\n",
      "파이썬은 1991년에 네덜란드 국립 연구소의 Guido van Rossum에 의해 개발된 고수준 프로그래밍 언어입니다. 파이썬은 간단하고 읽기 쉬운 문법, 다양한 라이브러리 및 프레임워크, 그리고 대용량 데이터 처리 능력으로 유명합니다.\n",
      "\n",
      "**파이썬의 특징**\n",
      "\n",
      "1. **쉬운 문법**: 파이썬은 매우 간단하고 직관적인 문법을 가지고 있습니다. 이는 개발자가 빠르게 코드를 작성하고 테스트할 수 있도록 도와줍니다.\n",
      "2. **객체 지향 언어**: 파이썬은 객체 지향 언어입니다. 이는 개발자가 모듈화되고 재사용 가능한 코드를 작성할 수 있도록 도와줍니다.\n",
      "3. **동적 타이핑**: 파이썬은 동적 타이핑 언어입니다. 이는 변수의 타입을 선언할 필요가 없으며, 실행 시간에 변수의 타입이 결정된다는 것을 의미합니다.\n",
      "4. **대용량 데이터 처리**: 파이썬은 대용량 데이터를 처리할 수 있는 다양한 라이브러리와 프레임워크를 제공합니다. 예를 들어, NumPy, pandas, 그리고 scikit-learn 등이 있습니다.\n",
      "5. **크로스 플랫폼**: 파이썬은 다양한 운영 체제에서 실행할 수 있습니다. 예를 들어, Windows, macOS, Linux, 그리고 모바일 장치 등에서 실행할 수 있습니다.\n",
      "\n",
      "**파이썬의 사용 사례**\n",
      "\n",
      "1. **웹 개발**: 파이썬은 웹 개발에 널리 사용됩니다. 예를 들어, Django, Flask, 그리고 Pyramid 등의 프레임워크를 사용하여 웹 애플리케이션을 개발할 수 있습니다.\n",
      "2. **데이터 과학**: 파이썬은 데이터 과학에 널리 사용됩니다. 예를 들어, 데이터 분석, 머신 러닝, 그리고 데이터 시각화 등에 사용됩니다.\n",
      "3. **스크립팅**: 파이썬은 스크립팅에 널리 사용됩니다. 예를 들어, 자동화, 백업, 그리고 시스템 관리 등에 사용됩니다.\n",
      "4. **교육**: 파이썬은 교육에 널리 사용됩니다. 예를 들어, 프로그래밍 입문, 데이터 과학, 그리고 인공지능 등에 사용됩니다.\n",
      "\n",
      "**파이썬의 인기**\n",
      "\n",
      "파이썬은 현재 가장 인기 있는 프로그래밍 언어 중 하나입니다. 예를 들어:\n",
      "\n",
      "* 2022년 TIOBE 인덱스에서 파이썬은 3위를 차지했습니다.\n",
      "* 2022년 Stack Overflow 설문조사에서 파이썬은 가장 인기 있는 프로그래밍 언어 중 하나로 선정되었습니다.\n",
      "* 파이썬은 현재 GitHub에서 가장 많이 사용되는 프로그래밍 언어 중 하나입니다.\n",
      "\n",
      "결론적으로, 파이썬은 쉽고 강력한 프로그래밍 언어입니다. 파이썬은 다양한 분야에서 널리 사용되며, 개발자들이 선호하는 언어 중 하나입니다. 저는 개발자로서 파이썬을 매우 좋아하며, 파이썬을 사용하여 다양한 프로젝트를 진행해 왔습니다.\n"
     ]
    }
   ],
   "source": [
    "try:\n",
    "    response = llm.invoke(prompt_text)\n",
    "    print(type(response))\n",
    "    print(response)\n",
    "    print(\"응답:\", response.content)\n",
    "except Exception as e:\n",
    "    print(f\"오류 발생: {e}\")"
   ]
  }
 ],
 "metadata": {
  "kernelspec": {
   "display_name": "langchain-basic-farQSE-J-py3.12",
   "language": "python",
   "name": "python3"
  },
  "language_info": {
   "codemirror_mode": {
    "name": "ipython",
    "version": 3
   },
   "file_extension": ".py",
   "mimetype": "text/x-python",
   "name": "python",
   "nbconvert_exporter": "python",
   "pygments_lexer": "ipython3",
   "version": "3.12.7"
  }
 },
 "nbformat": 4,
 "nbformat_minor": 5
}
