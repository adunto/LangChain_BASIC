{
 "cells": [
  {
   "cell_type": "code",
   "execution_count": null,
   "id": "6230706a",
   "metadata": {},
   "outputs": [],
   "source": [
    "from langchain_community.vectorstores import FAISS\n",
    "from langchain_ollama  import OllamaEmbeddings\n",
    "from langchain_core.tools import tool\n",
    "from langchain_google_genai import ChatGoogleGenerativeAI\n",
    "from langgraph.graph import StateGraph, START, END, MessagesState\n",
    "from langchain_core.documents import Document\n",
    "import re\n",
    "from langchain_core.messages import HumanMessage, AIMessage, SystemMessage, BaseMessage\n",
    "from langchain.document_loaders import TextLoader"
   ]
  },
  {
   "cell_type": "code",
   "execution_count": 49,
   "id": "302c8f66",
   "metadata": {},
   "outputs": [],
   "source": [
    "llm = ChatGoogleGenerativeAI(\n",
    "    model=\"gemini-2.0-flash\",\n",
    ")"
   ]
  },
  {
   "cell_type": "code",
   "execution_count": 50,
   "id": "7e8c7dc0",
   "metadata": {},
   "outputs": [],
   "source": [
    "# 메뉴판 텍스트 데이터를 로드\n",
    "loader = TextLoader(\"../data/cafe_menu_data.txt\", encoding=\"utf-8\")\n",
    "documents = loader.load()"
   ]
  },
  {
   "cell_type": "code",
   "execution_count": 51,
   "id": "98a2c75b",
   "metadata": {},
   "outputs": [
    {
     "name": "stdout",
     "output_type": "stream",
     "text": [
      "총 10개의 메뉴 항목이 처리되었습니다.\n",
      "\n",
      "메뉴 번호: 1\n",
      "메뉴 이름: 아메리카노\n",
      "내용:\n",
      "1. 아메리카노\n",
      "   • 가격: ₩4,500\n",
      "   • 주요 원료: 에스프레소, 뜨거운 물\n",
      "   • 설명: 진한 에스프레소에 뜨거운 물을 더해 만든 클래식한 블랙 커피입니다. 원두 ...\n",
      "\n",
      "메뉴 번호: 2\n",
      "메뉴 이름: 카페라떼\n",
      "내용:\n",
      "2. 카페라떼\n",
      "   • 가격: ₩5,500\n",
      "   • 주요 원료: 에스프레소, 스팀 밀크\n",
      "   • 설명: 진한 에스프레소에 부드럽게 스팀한 우유를 넣어 만든 대표적인 밀크 커피입니다...\n"
     ]
    }
   ],
   "source": [
    "# Text Split (문서 분할)\n",
    "def split_cafe_menu(document):\n",
    "    pattern = r'(\\d+\\.\\s.*?)(?=\\n\\n\\d+\\.|$)'\n",
    "    menu_items = re.findall(pattern, document.page_content, re.DOTALL)\n",
    "    \n",
    "    # 각 메뉴 항목을 Document 객체로 변환\n",
    "    menu_documents = []\n",
    "    for i, item in enumerate(menu_items, 1):\n",
    "        # 메뉴 이름 추출\n",
    "        menu_name = item.split('\\n')[0].split('.', 1)[1].strip()\n",
    "        \n",
    "        price_match = re.search(r\"• 가격:\\s*₩([\\d,]+)\", item)\n",
    "        price = int(price_match.group(1).replace(\",\", \"\")) if price_match else 0\n",
    "        \n",
    "        # 새로운 Document 객체 생성\n",
    "        menu_doc = Document(\n",
    "            page_content=item.strip(),\n",
    "            metadata={\n",
    "                \"source\": document.metadata['source'],\n",
    "                \"menu_number\": i,\n",
    "                \"menu_name\": menu_name,\n",
    "                \"price\": price, # 가격 메타데이터 추가\n",
    "            }\n",
    "        )\n",
    "        menu_documents.append(menu_doc)\n",
    "    \n",
    "    return menu_documents\n",
    "\n",
    "menu_documents=[]\n",
    "for doc in documents:\n",
    "    menu_documents += split_cafe_menu(doc)\n",
    "    \n",
    "# 결과 출력\n",
    "print(f\"총 {len(menu_documents)}개의 메뉴 항목이 처리되었습니다.\")\n",
    "for doc in menu_documents[:2]:\n",
    "    print(f\"\\n메뉴 번호: {doc.metadata['menu_number']}\")\n",
    "    print(f\"메뉴 이름: {doc.metadata['menu_name']}\")\n",
    "    print(f\"내용:\\n{doc.page_content[:100]}...\")"
   ]
  },
  {
   "cell_type": "code",
   "execution_count": 52,
   "id": "d37a0b6d",
   "metadata": {},
   "outputs": [],
   "source": [
    "embeddings_model = OllamaEmbeddings(model=\"bge-m3:latest\") \n",
    "\n",
    "# FAISS 인덱스 생성\n",
    "cafe_db = FAISS.from_documents(\n",
    "    documents=menu_documents, \n",
    "    embedding=embeddings_model\n",
    ")\n",
    "\n",
    "# FAISS 인덱스 저장\n",
    "cafe_db.save_local(\"./db/cafe_db\")"
   ]
  },
  {
   "cell_type": "code",
   "execution_count": 53,
   "id": "36f7cb29",
   "metadata": {},
   "outputs": [
    {
     "name": "stdout",
     "output_type": "stream",
     "text": [
      "[Document(id='f499c735-0eb8-4e56-ae06-38d1f0c1f1ff', metadata={'source': '../data/cafe_menu_data.txt', 'menu_number': 1, 'menu_name': '아메리카노', 'price': 4500}, page_content='1. 아메리카노\\n   • 가격: ₩4,500\\n   • 주요 원료: 에스프레소, 뜨거운 물\\n   • 설명: 진한 에스프레소에 뜨거운 물을 더해 만든 클래식한 블랙 커피입니다. 원두 본연의 맛을 가장 잘 느낄 수 있으며, 깔끔하고 깊은 풍미가 특징입니다. 설탕이나 시럽 추가 가능합니다.'), Document(id='20339a8c-94d4-46a6-b2ec-38a778f9a416', metadata={'source': '../data/cafe_menu_data.txt', 'menu_number': 9, 'menu_name': '아이스 아메리카노', 'price': 4500}, page_content='9. 아이스 아메리카노\\n   • 가격: ₩4,500\\n   • 주요 원료: 에스프레소, 차가운 물, 얼음\\n   • 설명: 진한 에스프레소에 차가운 물과 얼음을 넣어 만든 시원한 아이스 커피입니다. 깔끔하고 시원한 맛이 특징이며, 원두 본연의 풍미를 느낄 수 있습니다. 더운 날씨에 인기가 높습니다.'), Document(id='a9ff3ce5-179f-4064-9aa2-b61fcb5a6624', metadata={'source': '../data/cafe_menu_data.txt', 'menu_number': 3, 'menu_name': '카푸치노', 'price': 5000}, page_content='3. 카푸치노\\n   • 가격: ₩5,000\\n   • 주요 원료: 에스프레소, 스팀 밀크, 우유 거품\\n   • 설명: 에스프레소, 스팀 밀크, 우유 거품이 1:1:1 비율로 구성된 이탈리아 전통 커피입니다. 진한 커피 맛과 부드러운 우유 거품의 조화가 일품이며, 계피 파우더를 뿌려 제공합니다.')]\n"
     ]
    }
   ],
   "source": [
    "cafe_db = FAISS.load_local(\n",
    "    \"./db/cafe_db\", \n",
    "    embeddings_model,\n",
    "    allow_dangerous_deserialization=True\n",
    ")\n",
    "\n",
    "print(cafe_db.similarity_search(\"아메리카노\", k=3))"
   ]
  },
  {
   "cell_type": "code",
   "execution_count": 54,
   "id": "c3f744c9",
   "metadata": {},
   "outputs": [],
   "source": [
    "# Tool 정의 \n",
    "@tool\n",
    "def search_cafe_menu(query: str) -> str:\n",
    "    \"\"\"\n",
    "    카페 메뉴 정보(이름, 설명, 가격, 카테고리 등)를 검색합니다.\n",
    "    사용자가 특정 음료, 디저트 또는 메뉴 특징에 대해 질문하면 이 도구를 사용하세요.\n",
    "    예: '아메리카노 가격', '달콤한 디저트 추천', '라떼 종류'\n",
    "    \"\"\"\n",
    "    print(f\"\\n--- Calling search_cafe_menu tool with query: '{query}' ---\")\n",
    "    docs = cafe_db.similarity_search(query, k=3) # Retrieve top 3 relevant documents\n",
    "    if not docs:\n",
    "        return \"죄송합니다, 관련된 메뉴 정보를 찾을 수 없습니다.\"\n",
    "    \n",
    "    result_str = \"검색된 메뉴 정보:\\n\"\n",
    "    for doc in docs:\n",
    "        result_str += f\"\\n---\\n{doc.page_content}\\n---\\n\"\n",
    "    print(f\"Tool Result: {result_str}\")\n",
    "    return result_str"
   ]
  },
  {
   "cell_type": "code",
   "execution_count": 55,
   "id": "647f0f7a",
   "metadata": {},
   "outputs": [
    {
     "name": "stdout",
     "output_type": "stream",
     "text": [
      "bound=ChatGoogleGenerativeAI(model='models/gemini-2.0-flash', google_api_key=SecretStr('**********'), client=<google.ai.generativelanguage_v1beta.services.generative_service.client.GenerativeServiceClient object at 0x000001BF6218F1A0>, default_metadata=(), model_kwargs={}) kwargs={'tools': [{'type': 'function', 'function': {'name': 'search_cafe_menu', 'description': \"카페 메뉴 정보(이름, 설명, 가격, 카테고리 등)를 검색합니다.\\n사용자가 특정 음료, 디저트 또는 메뉴 특징에 대해 질문하면 이 도구를 사용하세요.\\n예: '아메리카노 가격', '달콤한 디저트 추천', '라떼 종류'\", 'parameters': {'properties': {'query': {'type': 'string'}}, 'required': ['query'], 'type': 'object'}}}]} config={} config_factories=[]\n"
     ]
    }
   ],
   "source": [
    "# 도구 목록\n",
    "tools = [search_cafe_menu]\n",
    "\n",
    "# 모델에 도구를 바인딩\n",
    "llm_with_tools = llm.bind_tools(tools=tools)\n",
    "print(llm_with_tools)"
   ]
  },
  {
   "cell_type": "code",
   "execution_count": 56,
   "id": "a60188a1",
   "metadata": {},
   "outputs": [],
   "source": [
    "class AgentState(MessagesState):\n",
    "    pass"
   ]
  },
  {
   "cell_type": "code",
   "execution_count": 57,
   "id": "6bd618fb",
   "metadata": {},
   "outputs": [],
   "source": [
    "def agent_node(state: AgentState):\n",
    "    \"\"\"\n",
    "    Agent 노드: LLM을 호출하여 응답을 생성하거나 도구를 호출합니다.\n",
    "    \"\"\"\n",
    "    print(\"\\n--- Agent Node Running ---\")\n",
    "    current_messages = state['messages']\n",
    "    \n",
    "    if len(current_messages) == 1 and isinstance(current_messages[0], HumanMessage):\n",
    "        system_prompt = HumanMessage(\n",
    "            content=(\n",
    "                \"당신은 친절한 카페 직원입니다. \"\n",
    "                \"고객의 질문에 답변하고, 메뉴 정보가 필요하면 'search_cafe_menu' 도구를 사용하세요. \"\n",
    "                \"도구 사용 후에는 도구 결과를 바탕으로 최종 답변을 생성해주세요.\"\n",
    "            )\n",
    "        )\n",
    "        pass\n",
    "    \n",
    "    response_message = llm_with_tools.invoke(current_messages)\n",
    "    \n",
    "    print(f\"결과: {response_message.pretty_repr()}\")\n",
    "    \n",
    "    return {\"messages\": [response_message]}"
   ]
  },
  {
   "cell_type": "code",
   "execution_count": 58,
   "id": "5b60f32c",
   "metadata": {},
   "outputs": [],
   "source": [
    "from langgraph.prebuilt import ToolNode, tools_condition\n",
    "\n",
    "tool_node = ToolNode(tools=[search_cafe_menu])\n",
    "builder = StateGraph(AgentState)\n",
    "\n",
    "builder.add_node(\"agent\", agent_node)\n",
    "builder.add_node(\"tools\", tool_node)\n",
    "builder.set_entry_point(\"agent\")\n",
    "\n",
    "builder.add_conditional_edges(\n",
    "    \"agent\", \n",
    "    tools_condition,\n",
    "    {\n",
    "        \"tools\": \"tools\",\n",
    "        END: END\n",
    "    }\n",
    ")\n",
    "\n",
    "builder.add_edge(\"tools\", \"agent\")\n",
    "\n",
    "graph = builder.compile()"
   ]
  },
  {
   "cell_type": "code",
   "execution_count": 59,
   "id": "0ccbb2d6",
   "metadata": {},
   "outputs": [],
   "source": [
    "test_queries = [\n",
    "    \"아메리카노와 아이스 아메리카노의 차이점과 가격을 알려주세요.\",\n",
    "    \"라떼 종류에는 어떤 메뉴들이 있고 각각의 특징은 무엇인가요?\",\n",
    "    \"디저트 메뉴 중에서 티라미수에 대해 자세히 설명해주세요.\"\n",
    "]"
   ]
  },
  {
   "cell_type": "code",
   "execution_count": 60,
   "id": "9c7e7b01",
   "metadata": {},
   "outputs": [
    {
     "name": "stdout",
     "output_type": "stream",
     "text": [
      "\n",
      "질문: 아메리카노와 아이스 아메리카노의 차이점과 가격을 알려주세요.\n",
      "\n",
      "--- Agent Node Running ---\n",
      "결과: ================================== Ai Message ==================================\n",
      "\n",
      "아메리카노와 아이스 아메리카노는 둘 다 에스프레소에 물을 넣어 만드는 음료입니다. 가장 큰 차이점은 아메리카노는 따뜻하게 제공되고, 아이스 아메리카노는 차갑게 제공된다는 점입니다.\n",
      "\n",
      "가격은 카페마다 다를 수 있습니다. 어떤 카페의 아메리카노와 아이스 아메리카노 가격이 궁금하신가요? 특정 카페를 알려주시면 메뉴 정보를 검색해 알려드릴 수 있습니다.\n",
      "content='아메리카노와 아이스 아메리카노의 차이점과 가격을 알려주세요.' additional_kwargs={} response_metadata={} id='8065eb51-3364-491a-ab0b-8f910dd80c69'\n",
      "content='아메리카노와 아이스 아메리카노는 둘 다 에스프레소에 물을 넣어 만드는 음료입니다. 가장 큰 차이점은 아메리카노는 따뜻하게 제공되고, 아이스 아메리카노는 차갑게 제공된다는 점입니다.\\n\\n가격은 카페마다 다를 수 있습니다. 어떤 카페의 아메리카노와 아이스 아메리카노 가격이 궁금하신가요? 특정 카페를 알려주시면 메뉴 정보를 검색해 알려드릴 수 있습니다.' additional_kwargs={} response_metadata={'prompt_feedback': {'block_reason': 0, 'safety_ratings': []}, 'finish_reason': 'STOP', 'model_name': 'gemini-2.0-flash', 'safety_ratings': []} id='run--4176efa1-df87-4e62-83b2-195c2021a149-0' usage_metadata={'input_tokens': 116, 'output_tokens': 137, 'total_tokens': 253, 'input_token_details': {'cache_read': 0}}\n",
      "\n",
      "질문: 라떼 종류에는 어떤 메뉴들이 있고 각각의 특징은 무엇인가요?\n",
      "\n",
      "--- Agent Node Running ---\n",
      "결과: ================================== Ai Message ==================================\n",
      "Tool Calls:\n",
      "  search_cafe_menu (64b64fb4-3620-4fda-9b70-3f808572838e)\n",
      " Call ID: 64b64fb4-3620-4fda-9b70-3f808572838e\n",
      "  Args:\n",
      "    query: 라떼 종류\n",
      "\n",
      "--- Calling search_cafe_menu tool with query: '라떼 종류' ---\n",
      "Tool Result: 검색된 메뉴 정보:\n",
      "\n",
      "---\n",
      "4. 바닐라 라떼\n",
      "   • 가격: ₩6,000\n",
      "   • 주요 원료: 에스프레소, 스팀 밀크, 바닐라 시럽\n",
      "   • 설명: 카페라떼에 달콤한 바닐라 시럽을 더한 인기 메뉴입니다. 바닐라의 달콤함과 커피의 쌉싸름함이 조화롭게 어우러지며, 휘핑크림 토핑으로 더욱 풍성한 맛을 즐길 수 있습니다.\n",
      "---\n",
      "\n",
      "---\n",
      "2. 카페라떼\n",
      "   • 가격: ₩5,500\n",
      "   • 주요 원료: 에스프레소, 스팀 밀크\n",
      "   • 설명: 진한 에스프레소에 부드럽게 스팀한 우유를 넣어 만든 대표적인 밀크 커피입니다. 크리미한 질감과 부드러운 맛이 특징이며, 다양한 시럽과 토핑 추가가 가능합니다. 라떼 아트로 시각적 즐거움도 제공합니다.\n",
      "---\n",
      "\n",
      "---\n",
      "8. 녹차 라떼\n",
      "   • 가격: ₩5,800\n",
      "   • 주요 원료: 말차 파우더, 스팀 밀크, 설탕\n",
      "   • 설명: 고급 말차 파우더와 부드러운 스팀 밀크로 만든 건강한 음료입니다. 녹차의 은은한 쓴맛과 우유의 부드러움이 조화를 이루며, 항산화 성분이 풍부합니다. 달콤함 조절이 가능합니다.\n",
      "---\n",
      "\n",
      "\n",
      "--- Agent Node Running ---\n",
      "결과: ================================== Ai Message ==================================\n",
      "\n",
      "현재 카페에서 판매하는 라떼 종류는 다음과 같습니다:\n",
      "\n",
      "1.  **바닐라 라떼**: 가격은 ₩6,000이며, 에스프레소, 스팀 밀크, 바닐라 시럽이 주요 원료입니다. 달콤한 바닐라 시럽과 커피의 쌉싸름함이 조화로우며, 휘핑크림 토핑으로 더욱 풍성한 맛을 즐길 수 있습니다.\n",
      "2.  **카페라떼**: 가격은 ₩5,500이며, 에스프레소와 스팀 밀크로 만들어집니다. 크리미한 질감과 부드러운 맛이 특징이며, 다양한 시럽과 토핑 추가가 가능합니다. 라떼 아트로 시각적 즐거움도 제공합니다.\n",
      "3.  **녹차 라떼**: 가격은 ₩5,800이며, 말차 파우더, 스팀 밀크, 설탕이 주요 원료입니다. 녹차의 은은한 쓴맛과 우유의 부드러움이 조화를 이루며, 항산화 성분이 풍부합니다. 달콤함 조절이 가능합니다.\n",
      "content='라떼 종류에는 어떤 메뉴들이 있고 각각의 특징은 무엇인가요?' additional_kwargs={} response_metadata={} id='d76972ab-8530-461a-bfd3-eebc261dba30'\n",
      "content='' additional_kwargs={'function_call': {'name': 'search_cafe_menu', 'arguments': '{\"query\": \"\\\\ub77c\\\\ub5bc \\\\uc885\\\\ub958\"}'}} response_metadata={'prompt_feedback': {'block_reason': 0, 'safety_ratings': []}, 'finish_reason': 'STOP', 'model_name': 'gemini-2.0-flash', 'safety_ratings': []} id='run--d8509c99-4f80-449c-8fd7-24cf09227137-0' tool_calls=[{'name': 'search_cafe_menu', 'args': {'query': '라떼 종류'}, 'id': '64b64fb4-3620-4fda-9b70-3f808572838e', 'type': 'tool_call'}] usage_metadata={'input_tokens': 114, 'output_tokens': 10, 'total_tokens': 124, 'input_token_details': {'cache_read': 0}}\n",
      "content='검색된 메뉴 정보:\\n\\n---\\n4. 바닐라 라떼\\n   • 가격: ₩6,000\\n   • 주요 원료: 에스프레소, 스팀 밀크, 바닐라 시럽\\n   • 설명: 카페라떼에 달콤한 바닐라 시럽을 더한 인기 메뉴입니다. 바닐라의 달콤함과 커피의 쌉싸름함이 조화롭게 어우러지며, 휘핑크림 토핑으로 더욱 풍성한 맛을 즐길 수 있습니다.\\n---\\n\\n---\\n2. 카페라떼\\n   • 가격: ₩5,500\\n   • 주요 원료: 에스프레소, 스팀 밀크\\n   • 설명: 진한 에스프레소에 부드럽게 스팀한 우유를 넣어 만든 대표적인 밀크 커피입니다. 크리미한 질감과 부드러운 맛이 특징이며, 다양한 시럽과 토핑 추가가 가능합니다. 라떼 아트로 시각적 즐거움도 제공합니다.\\n---\\n\\n---\\n8. 녹차 라떼\\n   • 가격: ₩5,800\\n   • 주요 원료: 말차 파우더, 스팀 밀크, 설탕\\n   • 설명: 고급 말차 파우더와 부드러운 스팀 밀크로 만든 건강한 음료입니다. 녹차의 은은한 쓴맛과 우유의 부드러움이 조화를 이루며, 항산화 성분이 풍부합니다. 달콤함 조절이 가능합니다.\\n---\\n' name='search_cafe_menu' id='9a483ac4-3a11-4a3d-a463-005299b36e25' tool_call_id='64b64fb4-3620-4fda-9b70-3f808572838e'\n",
      "content='현재 카페에서 판매하는 라떼 종류는 다음과 같습니다:\\n\\n1.  **바닐라 라떼**: 가격은 ₩6,000이며, 에스프레소, 스팀 밀크, 바닐라 시럽이 주요 원료입니다. 달콤한 바닐라 시럽과 커피의 쌉싸름함이 조화로우며, 휘핑크림 토핑으로 더욱 풍성한 맛을 즐길 수 있습니다.\\n2.  **카페라떼**: 가격은 ₩5,500이며, 에스프레소와 스팀 밀크로 만들어집니다. 크리미한 질감과 부드러운 맛이 특징이며, 다양한 시럽과 토핑 추가가 가능합니다. 라떼 아트로 시각적 즐거움도 제공합니다.\\n3.  **녹차 라떼**: 가격은 ₩5,800이며, 말차 파우더, 스팀 밀크, 설탕이 주요 원료입니다. 녹차의 은은한 쓴맛과 우유의 부드러움이 조화를 이루며, 항산화 성분이 풍부합니다. 달콤함 조절이 가능합니다.' additional_kwargs={} response_metadata={'prompt_feedback': {'block_reason': 0, 'safety_ratings': []}, 'finish_reason': 'STOP', 'model_name': 'gemini-2.0-flash', 'safety_ratings': []} id='run--25805f18-acf6-4235-9b00-630d68de7ee9-0' usage_metadata={'input_tokens': 515, 'output_tokens': 284, 'total_tokens': 799, 'input_token_details': {'cache_read': 0}}\n",
      "\n",
      "질문: 디저트 메뉴 중에서 티라미수에 대해 자세히 설명해주세요.\n",
      "\n",
      "--- Agent Node Running ---\n",
      "결과: ================================== Ai Message ==================================\n",
      "Tool Calls:\n",
      "  search_cafe_menu (7e4243e5-13e0-43fb-a05c-1a1a2be4eabb)\n",
      " Call ID: 7e4243e5-13e0-43fb-a05c-1a1a2be4eabb\n",
      "  Args:\n",
      "    query: 티라미수\n",
      "\n",
      "--- Calling search_cafe_menu tool with query: '티라미수' ---\n",
      "Tool Result: 검색된 메뉴 정보:\n",
      "\n",
      "---\n",
      "10. 티라미수\n",
      "    • 가격: ₩7,500\n",
      "    • 주요 원료: 마스카포네 치즈, 에스프레소, 레이디핑거, 코코아 파우더\n",
      "    • 설명: 이탈리아 전통 디저트로 마스카포네 치즈와 에스프레소에 적신 레이디핑거를 층층이 쌓아 만들었습니다. 부드럽고 달콤한 맛이 특징이며, 코코아 파우더로 마무리하여 깊은 풍미를 자랑합니다.\n",
      "---\n",
      "\n",
      "---\n",
      "5. 카라멜 마키아토\n",
      "   • 가격: ₩6,500\n",
      "   • 주요 원료: 에스프레소, 스팀 밀크, 카라멜 시럽, 휘핑크림\n",
      "   • 설명: 스팀 밀크 위에 에스프레소를 부어 만든 후 카라멜 시럽과 휘핑크림으로 마무리한 달콤한 커피입니다. 카라멜의 진한 단맛과 커피의 깊은 맛이 조화를 이루며, 시각적으로도 아름다운 층을 형성합니다.\n",
      "---\n",
      "\n",
      "---\n",
      "9. 아이스 아메리카노\n",
      "   • 가격: ₩4,500\n",
      "   • 주요 원료: 에스프레소, 차가운 물, 얼음\n",
      "   • 설명: 진한 에스프레소에 차가운 물과 얼음을 넣어 만든 시원한 아이스 커피입니다. 깔끔하고 시원한 맛이 특징이며, 원두 본연의 풍미를 느낄 수 있습니다. 더운 날씨에 인기가 높습니다.\n",
      "---\n",
      "\n",
      "\n",
      "--- Agent Node Running ---\n",
      "결과: ================================== Ai Message ==================================\n",
      "\n",
      "티라미수는 ₩7,500이며, 주요 원료는 마스카포네 치즈, 에스프레소, 레이디핑거, 코코아 파우더입니다. 이탈리아 전통 디저트로 마스카포네 치즈와 에스프레소에 적신 레이디핑거를 층층이 쌓아 만들었습니다. 부드럽고 달콤한 맛이 특징이며, 코코아 파우더로 마무리하여 깊은 풍미를 자랑합니다.\n",
      "content='디저트 메뉴 중에서 티라미수에 대해 자세히 설명해주세요.' additional_kwargs={} response_metadata={} id='84378090-399b-4723-a211-c6607923a43e'\n",
      "content='' additional_kwargs={'function_call': {'name': 'search_cafe_menu', 'arguments': '{\"query\": \"\\\\ud2f0\\\\ub77c\\\\ubbf8\\\\uc218\"}'}} response_metadata={'prompt_feedback': {'block_reason': 0, 'safety_ratings': []}, 'finish_reason': 'STOP', 'model_name': 'gemini-2.0-flash', 'safety_ratings': []} id='run--2a7a4f8b-375e-47c1-bc92-98bf1ece51e1-0' tool_calls=[{'name': 'search_cafe_menu', 'args': {'query': '티라미수'}, 'id': '7e4243e5-13e0-43fb-a05c-1a1a2be4eabb', 'type': 'tool_call'}] usage_metadata={'input_tokens': 111, 'output_tokens': 10, 'total_tokens': 121, 'input_token_details': {'cache_read': 0}}\n",
      "content='검색된 메뉴 정보:\\n\\n---\\n10. 티라미수\\n    • 가격: ₩7,500\\n    • 주요 원료: 마스카포네 치즈, 에스프레소, 레이디핑거, 코코아 파우더\\n    • 설명: 이탈리아 전통 디저트로 마스카포네 치즈와 에스프레소에 적신 레이디핑거를 층층이 쌓아 만들었습니다. 부드럽고 달콤한 맛이 특징이며, 코코아 파우더로 마무리하여 깊은 풍미를 자랑합니다.\\n---\\n\\n---\\n5. 카라멜 마키아토\\n   • 가격: ₩6,500\\n   • 주요 원료: 에스프레소, 스팀 밀크, 카라멜 시럽, 휘핑크림\\n   • 설명: 스팀 밀크 위에 에스프레소를 부어 만든 후 카라멜 시럽과 휘핑크림으로 마무리한 달콤한 커피입니다. 카라멜의 진한 단맛과 커피의 깊은 맛이 조화를 이루며, 시각적으로도 아름다운 층을 형성합니다.\\n---\\n\\n---\\n9. 아이스 아메리카노\\n   • 가격: ₩4,500\\n   • 주요 원료: 에스프레소, 차가운 물, 얼음\\n   • 설명: 진한 에스프레소에 차가운 물과 얼음을 넣어 만든 시원한 아이스 커피입니다. 깔끔하고 시원한 맛이 특징이며, 원두 본연의 풍미를 느낄 수 있습니다. 더운 날씨에 인기가 높습니다.\\n---\\n' name='search_cafe_menu' id='bfd94990-c91d-42ca-ad74-9aeae7b992e6' tool_call_id='7e4243e5-13e0-43fb-a05c-1a1a2be4eabb'\n",
      "content='티라미수는 ₩7,500이며, 주요 원료는 마스카포네 치즈, 에스프레소, 레이디핑거, 코코아 파우더입니다. 이탈리아 전통 디저트로 마스카포네 치즈와 에스프레소에 적신 레이디핑거를 층층이 쌓아 만들었습니다. 부드럽고 달콤한 맛이 특징이며, 코코아 파우더로 마무리하여 깊은 풍미를 자랑합니다.' additional_kwargs={} response_metadata={'prompt_feedback': {'block_reason': 0, 'safety_ratings': []}, 'finish_reason': 'STOP', 'model_name': 'gemini-2.0-flash', 'safety_ratings': []} id='run--e8aeb6f0-6beb-4b85-bfb0-987d8f90859e-0' usage_metadata={'input_tokens': 538, 'output_tokens': 122, 'total_tokens': 660, 'input_token_details': {'cache_read': 0}}\n"
     ]
    }
   ],
   "source": [
    "# 각 질문에 대해 그래프 실행\n",
    "for query in test_queries:\n",
    "    print(f\"\\n질문: {query}\")\n",
    "    inputs = {\"messages\": [HumanMessage(content=query)]}\n",
    "    messages = graph.invoke(inputs)\n",
    "    for m in messages['messages']:\n",
    "        print(m)"
   ]
  }
 ],
 "metadata": {
  "kernelspec": {
   "display_name": "langchain-basic-farQSE-J-py3.12",
   "language": "python",
   "name": "python3"
  },
  "language_info": {
   "codemirror_mode": {
    "name": "ipython",
    "version": 3
   },
   "file_extension": ".py",
   "mimetype": "text/x-python",
   "name": "python",
   "nbconvert_exporter": "python",
   "pygments_lexer": "ipython3",
   "version": "3.12.7"
  }
 },
 "nbformat": 4,
 "nbformat_minor": 5
}
