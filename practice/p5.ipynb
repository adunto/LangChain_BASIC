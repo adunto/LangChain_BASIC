{
 "cells": [
  {
   "cell_type": "markdown",
   "id": "a8202fde",
   "metadata": {},
   "source": [
    "### 문제 5-1 : 카페 메뉴 도구(Tool) 호출 체인 구현\n",
    "> 이 문제는 LangChain의 Tool Calling 기능을 학습하기 위한 기초 단계입니다. 카페 메뉴 정보를 제공하는 AI 어시스턴트를 구현하면서 다양한 데이터 소스(로컬 DB, 웹, 위키피디아)에서 정보를 검색하는 방법을 익힙니다.\n",
    "\n",
    "준비사항:\n",
    "- cafe_menu.txt 파일을 ./data/ 폴더에 저장\n",
    "- 필요한 라이브러리 설치: pip install langchain langchain-openai langchain-community langchain-ollama faiss-cpu\n",
    "- Ollama 설치 및 bge-m3 모델 다운로드\n",
    "- ollama pull bge-m3\n",
    "- 환경변수 설정 (OpenAI API 키, Tavily API 키)\n",
    "- 코드 실행하여 벡터 DB 생성 및 테스트\n",
    "\n",
    "세부사항:\n",
    "- Tool 정의 방법 이해: @tool 데코레이터를 사용한 사용자 정의 도구 생성\n",
    "- 벡터 DB 구축: 텍스트 데이터를 임베딩하여 검색 가능한 형태로 저장\n",
    "- 다중 도구 활용: 서로 다른 용도의 도구들을 하나의 LLM에 연결\n",
    "- 기본 체인 구성: 도구 호출 결과를 처리하는 간단한 워크플로우 구현"
   ]
  },
  {
   "cell_type": "code",
   "execution_count": 4,
   "id": "d52cb425",
   "metadata": {},
   "outputs": [
    {
     "data": {
      "text/plain": [
       "True"
      ]
     },
     "execution_count": 4,
     "metadata": {},
     "output_type": "execute_result"
    }
   ],
   "source": [
    "from dotenv import load_dotenv\n",
    "load_dotenv()"
   ]
  },
  {
   "cell_type": "code",
   "execution_count": 1,
   "id": "264c2385",
   "metadata": {},
   "outputs": [],
   "source": [
    "from langchain.document_loaders import TextLoader"
   ]
  },
  {
   "cell_type": "code",
   "execution_count": null,
   "id": "4c78ec96",
   "metadata": {},
   "outputs": [],
   "source": [
    "# 메뉴판 텍스트 데이터를 로드\n",
    "loader = TextLoader(\"../data/cafe_menu_data.txt\", encoding=\"utf-8\")\n",
    "documents = loader.load()"
   ]
  },
  {
   "cell_type": "code",
   "execution_count": null,
   "id": "067bad4e",
   "metadata": {},
   "outputs": [],
   "source": [
    "# Text Split\n"
   ]
  },
  {
   "cell_type": "code",
   "execution_count": 2,
   "id": "adbd64a0",
   "metadata": {},
   "outputs": [],
   "source": [
    "# Embedding"
   ]
  },
  {
   "cell_type": "code",
   "execution_count": 3,
   "id": "2c386994",
   "metadata": {},
   "outputs": [],
   "source": [
    "# Vector Store"
   ]
  },
  {
   "cell_type": "code",
   "execution_count": null,
   "id": "27df414c",
   "metadata": {},
   "outputs": [],
   "source": [
    "# "
   ]
  }
 ],
 "metadata": {
  "kernelspec": {
   "display_name": "langchain-basic-farQSE-J-py3.12",
   "language": "python",
   "name": "python3"
  },
  "language_info": {
   "codemirror_mode": {
    "name": "ipython",
    "version": 3
   },
   "file_extension": ".py",
   "mimetype": "text/x-python",
   "name": "python",
   "nbconvert_exporter": "python",
   "pygments_lexer": "ipython3",
   "version": "3.12.7"
  }
 },
 "nbformat": 4,
 "nbformat_minor": 5
}
