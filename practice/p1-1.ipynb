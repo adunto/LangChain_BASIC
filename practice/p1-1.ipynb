{
 "cells": [
  {
   "cell_type": "code",
   "execution_count": 4,
   "id": "3c76bd96",
   "metadata": {},
   "outputs": [],
   "source": [
    "import os\n",
    "from dotenv import load_dotenv\n",
    "from langchain_core.prompts import PromptTemplate\n",
    "from langchain_openai import ChatOpenAI\n",
    "\n",
    "load_dotenv()\n",
    "OPENAI_API_KEY = os.getenv(\"OPENAI_API_KEY\")"
   ]
  },
  {
   "cell_type": "code",
   "execution_count": 5,
   "id": "69629d73",
   "metadata": {},
   "outputs": [
    {
     "data": {
      "text/plain": [
       "PromptTemplate(input_variables=['input'], input_types={}, partial_variables={}, template='당신은 사용자가 입력한 재료들로 만들 수 있는 요리를 추천해주는 전문가입니다. <Question>: {input}으로 만들 수 있는 요리를 추천해주세요.')"
      ]
     },
     "execution_count": 5,
     "metadata": {},
     "output_type": "execute_result"
    }
   ],
   "source": [
    "# 1. PromptTemplate을 사용하여 프롬프트 작성\n",
    "prompt = PromptTemplate.from_template(\n",
    "    \"당신은 사용자가 입력한 재료들로 만들 수 있는 요리를 추천해주는 전문가입니다. <Question>: {input}으로 만들 수 있는 요리를 추천해주세요.\"\n",
    ")\n",
    "prompt"
   ]
  },
  {
   "cell_type": "code",
   "execution_count": 7,
   "id": "3646e72b",
   "metadata": {},
   "outputs": [
    {
     "data": {
      "text/plain": [
       "'목살, 아스파라거스, 순두부, 시금치'"
      ]
     },
     "execution_count": 7,
     "metadata": {},
     "output_type": "execute_result"
    }
   ],
   "source": [
    "# 2. 사용자가 입력한 재료를 받아서 요리 추천\n",
    "inputs = []\n",
    "\n",
    "while(1):\n",
    "    m = input(\"재료를 입력하세요(end => 종료): \")\n",
    "    if(m == \"end\"):\n",
    "        break\n",
    "    else:\n",
    "        inputs.append(m)\n",
    "        \n",
    "user_input = \", \".join(inputs)\n",
    "user_input"
   ]
  },
  {
   "cell_type": "code",
   "execution_count": 8,
   "id": "d9026f3d",
   "metadata": {},
   "outputs": [
    {
     "name": "stdout",
     "output_type": "stream",
     "text": [
      "client=<openai.resources.chat.completions.completions.Completions object at 0x000002938B465820> async_client=<openai.resources.chat.completions.completions.AsyncCompletions object at 0x000002938B903890> root_client=<openai.OpenAI object at 0x000002938B4659D0> root_async_client=<openai.AsyncOpenAI object at 0x000002938B4EEC30> model_name='meta-llama/llama-4-scout-17b-16e-instruct' temperature=0.7 model_kwargs={} openai_api_key=SecretStr('**********') openai_api_base='https://api.groq.com/openai/v1'\n"
     ]
    }
   ],
   "source": [
    "# 3. ChatOpenAI 모델 사용\n",
    "llm = ChatOpenAI(\n",
    "    api_key=OPENAI_API_KEY,\n",
    "    base_url=\"https://api.groq.com/openai/v1\",  # Groq API 엔드포인트\n",
    "    model=\"meta-llama/llama-4-scout-17b-16e-instruct\",\n",
    "    temperature=0.7\n",
    ")\n",
    "print(llm)"
   ]
  },
  {
   "cell_type": "code",
   "execution_count": 9,
   "id": "1a845800",
   "metadata": {},
   "outputs": [],
   "source": [
    "from langchain_core.output_parsers import StrOutputParser\n",
    "\n",
    "# 4. StrOutputParser로 결과를 문자열로 출력\n",
    "output_parser = StrOutputParser()"
   ]
  },
  {
   "cell_type": "code",
   "execution_count": 10,
   "id": "af94faeb",
   "metadata": {},
   "outputs": [],
   "source": [
    "# 5. LCEL(|) 문법을 사용하여 체인 연결\n",
    "chain = prompt | llm | output_parser"
   ]
  },
  {
   "cell_type": "code",
   "execution_count": 11,
   "id": "4a9b4b52",
   "metadata": {},
   "outputs": [
    {
     "name": "stdout",
     "output_type": "stream",
     "text": [
      "사용자가 입력한 재료는 목살, 아스파라거스, 순두부, 시금치입니다. \n",
      "\n",
      "이 재료를 가지고 **목살 순두부찌개**, **아스파라거스 볶음**, **시금치 무침** 등을 만들 수 있습니다.\n",
      "\n",
      "**목살 순두부찌개**\n",
      "\n",
      "*   재료: 목살, 순두부, 시금치, 고춧가루, 고추장, 콩나물, 청양고추, 대파, \n",
      "*   만드는 법: \n",
      "\n",
      "    1.  콩나물을 깨끗이 씻고, 대파와 청양고추를 썰어주세요.\n",
      "    2.  순두부를 으깨주세요.\n",
      "    3.  시금치를 깨끗이 씻고, 목살을 썰어주세요.\n",
      "    4.  냄비에 기름을 두르고, 썰어 놓은 목살을 넣어 볶다가 양념을 넣어 간을 맞춰주세요.\n",
      "    5.  이어서 콩나물과 물을 넣고 끓여주세요.\n",
      "    6.  국물이 끓으면 으깬 순두부를 넣고, 청양고추와 파를 넣어 마무리로 시금치를 넣어주세요.\n",
      "\n",
      "**아스파라거스 볶음**\n",
      "\n",
      "*   재료: 아스파라거스, 참기름, 간장, 다진 마늘, 소금, 후추\n",
      "*   만드는 법: \n",
      "\n",
      "    1.  아스파라거스를 깨끗이 씻고, 밑 부분을 칼로削어주세요.\n",
      "    2.  팬에 기름을 두르고, 다진 마늘을 넣어 볶다가 아스파라거스를 넣어 볶아주세요.\n",
      "    3.  간장, 소금, 후추로 간을 맞춰주세요.\n",
      "\n",
      "**시금치 무침**\n",
      "\n",
      "*   재료: 시금치, 참기름, 간장, 다진 마늘, 소금, 후추\n",
      "*   만드는 법:\n",
      "\n",
      "    1.  시금치를 깨끗이 씻고, 데쳐주세요.\n",
      "    2.  데친 시금치를 물에 헹궈내고, 짠 다음에 썰어주세요.\n",
      "    3.  썰어 놓은 시금치에 참기름, 간장, 다진 마늘, 소금, 후추를 넣어 무쳐주세요.\n",
      "\n",
      "이상으로 사용자가 입력한 재료로 만들 수 있는 요리를 추천해 드렸습니다.\n"
     ]
    }
   ],
   "source": [
    "result = chain.invoke({\"input\": user_input})\n",
    "print(result)"
   ]
  }
 ],
 "metadata": {
  "kernelspec": {
   "display_name": "langchain-basic-farQSE-J-py3.12",
   "language": "python",
   "name": "python3"
  },
  "language_info": {
   "codemirror_mode": {
    "name": "ipython",
    "version": 3
   },
   "file_extension": ".py",
   "mimetype": "text/x-python",
   "name": "python",
   "nbconvert_exporter": "python",
   "pygments_lexer": "ipython3",
   "version": "3.12.7"
  }
 },
 "nbformat": 4,
 "nbformat_minor": 5
}
