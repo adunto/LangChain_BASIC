{
 "cells": [
  {
   "cell_type": "markdown",
   "id": "ae22dc3f",
   "metadata": {},
   "source": [
    "## Vector Store Retriever\n",
    "\n",
    "### Vector Store Retriever 개요\n",
    "\n",
    "**Vector Store Retriever**는 벡터 저장소(Vector Store)를 활용하여 사용자의 쿼리에 대한 **가장 유사한 문서를 검색**하는 도구입니다.\n",
    "\n",
    "- 벡터 임베딩을 기반으로 코사인 유사도(Cosine Similarity), 유클리드 거리(Euclidean Distance) 등을 이용해 검색합니다.\n",
    "- 단일 쿼리를 입력하면 해당 쿼리와 가장 유사한 벡터를 빠르게 찾아 연관된 문서를 반환합니다.\n",
    "- **장점**: 빠른 검색 속도와 간결한 구현\n",
    "- **단점**: 단일 쿼리만을 사용하므로 **다양한 관점에서의 검색이 어려울 수 있음**"
   ]
  },
  {
   "cell_type": "code",
   "execution_count": null,
   "id": "ebf9b02c",
   "metadata": {},
   "outputs": [],
   "source": [
    "from langchain.vectorstores import FAISS\n",
    "from langchain.embeddings import OpenAIEmbeddings\n",
    "from langchain.schema import Document\n",
    "\n",
    "# 문서 리스트 생성\n",
    "documents = [\n",
    "    Document(page_content=\"LangChain은 LLM 기반 애플리케이션을 쉽게 구축할 수 있도록 지원합니다.\"),\n",
    "    Document(page_content=\"벡터 저장소는 문서를 벡터화하여 빠른 검색을 가능하게 합니다.\"),\n",
    "    Document(page_content=\"멀티 쿼리 검색은 한 가지 질문을 여러 방식으로 변형하여 검색 효율을 높입니다.\"),\n",
    "    Document(page_content=\"LangChain은 해리슨 체이스(Harrison Chase)가 2022년 10월에 개발되었습니다.\"),\n",
    "    Document(page_content=\"LangChain의 주요 기능 중 하나는 다양한 LLM 모델과의 연동입니다.\"),\n",
    "    Document(page_content=\"LangChain Core 라이브러리는 기본 추상화 및 LangChain 표현 언어\"),\n",
    "    Document(page_content=\"LangChain Community 라이브러리는 서드파티 통합\"),\n",
    "]\n",
    "\n",
    "# 임베딩 모델 설정\n",
    "embedding_model = OpenAIEmbeddings()\n",
    "\n",
    "# FAISS 기반 벡터 저장소 생성\n",
    "vector_store = FAISS.from_documents(documents, embedding_model)\n",
    "\n",
    "# search_kwargs의 기본값은 {\"k\": 4} 기본적으로 최대 4개의 문서를 검색\n",
    "# 필요에 따라 k 값을 조정하여 검색 문서 개수를 변경할 수 있음\n",
    "retriever = vector_store.as_retriever(search_kwargs={\"k\": 3})\n",
    "\n",
    "# 검색 실행\n",
    "query = \"LangChain 이란?\"\n",
    "retrieved_docs = retriever.invoke(query)\n",
    "\n",
    "# 검색된 문서 출력\n",
    "for doc in retrieved_docs:\n",
    "    print(doc.page_content)"
   ]
  }
 ],
 "metadata": {
  "language_info": {
   "name": "python"
  }
 },
 "nbformat": 4,
 "nbformat_minor": 5
}
